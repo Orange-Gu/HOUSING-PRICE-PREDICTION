{
 "cells": [
  {
   "cell_type": "code",
   "metadata": {
    "tags": [],
    "cell_id": "f35ef1c7-448a-4d74-aa8f-31ee45b2ac70",
    "deepnote_to_be_reexecuted": false,
    "source_hash": "f6e180ab",
    "execution_start": 1646968483746,
    "execution_millis": 2108,
    "deepnote_cell_type": "code",
    "deepnote_cell_height": 153
   },
   "source": "# Start writing code here...\nimport numpy as np\nimport pandas as pd\nimport seaborn as sns\nimport matplotlib.pyplot as plt",
   "outputs": [],
   "execution_count": null
  },
  {
   "cell_type": "code",
   "metadata": {
    "cell_id": "d177210b-f3bf-4a11-b971-1f36207bec6d",
    "tags": [],
    "deepnote_to_be_reexecuted": false,
    "source_hash": "d2d66c02",
    "execution_start": 1646968485860,
    "execution_millis": 312,
    "deepnote_cell_type": "code",
    "deepnote_cell_height": 632.65625
   },
   "source": "perth = pd.read_csv(\"all_perth_310121.csv\",parse_dates=['DATE_SOLD'])\nperth",
   "outputs": [
    {
     "output_type": "execute_result",
     "execution_count": 2,
     "data": {
      "application/vnd.deepnote.dataframe.v3+json": {
       "column_count": 19,
       "row_count": 33656,
       "columns": [
        {
         "name": "ADDRESS",
         "dtype": "object",
         "stats": {
          "unique_count": 33566,
          "nan_count": 0,
          "categories": [
           {
            "name": "123 Fairway",
            "count": 3
           },
           {
            "name": "1 Gray Road",
            "count": 2
           },
           {
            "name": "33564 others",
            "count": 33651
           }
          ]
         }
        },
        {
         "name": "SUBURB",
         "dtype": "object",
         "stats": {
          "unique_count": 321,
          "nan_count": 0,
          "categories": [
           {
            "name": "Bertram",
            "count": 231
           },
           {
            "name": "Iluka",
            "count": 212
           },
           {
            "name": "319 others",
            "count": 33213
           }
          ]
         }
        },
        {
         "name": "PRICE",
         "dtype": "int64"
        },
        {
         "name": "BEDROOMS",
         "dtype": "int64"
        },
        {
         "name": "BATHROOMS",
         "dtype": "int64"
        },
        {
         "name": "GARAGE",
         "dtype": "float64"
        },
        {
         "name": "LAND_AREA",
         "dtype": "int64"
        },
        {
         "name": "FLOOR_AREA",
         "dtype": "int64"
        },
        {
         "name": "BUILD_YEAR",
         "dtype": "float64"
        },
        {
         "name": "CBD_DIST",
         "dtype": "int64"
        },
        {
         "name": "NEAREST_STN",
         "dtype": "object"
        },
        {
         "name": "NEAREST_STN_DIST",
         "dtype": "int64"
        },
        {
         "name": "DATE_SOLD",
         "dtype": "datetime64[ns]"
        },
        {
         "name": "POSTCODE",
         "dtype": "int64"
        },
        {
         "name": "LATITUDE",
         "dtype": "float64"
        },
        {
         "name": "LONGITUDE",
         "dtype": "float64"
        },
        {
         "name": "NEAREST_SCH",
         "dtype": "object"
        },
        {
         "name": "NEAREST_SCH_DIST",
         "dtype": "float64"
        },
        {
         "name": "NEAREST_SCH_RANK",
         "dtype": "float64"
        },
        {
         "name": "_deepnote_index_column",
         "dtype": "int64"
        }
       ],
       "rows": [
        {
         "ADDRESS": "1 Acorn Place",
         "SUBURB": "South Lake",
         "PRICE": 565000,
         "BEDROOMS": 4,
         "BATHROOMS": 2,
         "GARAGE": 2,
         "LAND_AREA": 600,
         "FLOOR_AREA": 160,
         "BUILD_YEAR": 2003,
         "CBD_DIST": 18300,
         "NEAREST_STN": "Cockburn Central Station",
         "NEAREST_STN_DIST": 1800,
         "DATE_SOLD": "2018-09-01T00:00:00.000000",
         "POSTCODE": 6164,
         "LATITUDE": -32.1159,
         "LONGITUDE": 115.84245,
         "NEAREST_SCH": "LAKELAND SENIOR HIGH SCHOOL",
         "NEAREST_SCH_DIST": 0.8283385518162787,
         "NEAREST_SCH_RANK": "nan",
         "_deepnote_index_column": 0
        },
        {
         "ADDRESS": "1 Addis Way",
         "SUBURB": "Wandi",
         "PRICE": 365000,
         "BEDROOMS": 3,
         "BATHROOMS": 2,
         "GARAGE": 2,
         "LAND_AREA": 351,
         "FLOOR_AREA": 139,
         "BUILD_YEAR": 2013,
         "CBD_DIST": 26900,
         "NEAREST_STN": "Kwinana Station",
         "NEAREST_STN_DIST": 4900,
         "DATE_SOLD": "2019-02-01T00:00:00.000000",
         "POSTCODE": 6167,
         "LATITUDE": -32.19347028,
         "LONGITUDE": 115.8595535,
         "NEAREST_SCH": "ATWELL COLLEGE",
         "NEAREST_SCH_DIST": 5.524324354371822,
         "NEAREST_SCH_RANK": 129,
         "_deepnote_index_column": 1
        },
        {
         "ADDRESS": "1 Ainsley Court",
         "SUBURB": "Camillo",
         "PRICE": 287000,
         "BEDROOMS": 3,
         "BATHROOMS": 1,
         "GARAGE": 1,
         "LAND_AREA": 719,
         "FLOOR_AREA": 86,
         "BUILD_YEAR": 1979,
         "CBD_DIST": 22600,
         "NEAREST_STN": "Challis Station",
         "NEAREST_STN_DIST": 1900,
         "DATE_SOLD": "2015-06-01T00:00:00.000000",
         "POSTCODE": 6111,
         "LATITUDE": -32.12057813,
         "LONGITUDE": 115.993579,
         "NEAREST_SCH": "KELMSCOTT SENIOR HIGH SCHOOL",
         "NEAREST_SCH_DIST": 1.649178183366986,
         "NEAREST_SCH_RANK": 113,
         "_deepnote_index_column": 2
        },
        {
         "ADDRESS": "1 Albert Street",
         "SUBURB": "Bellevue",
         "PRICE": 255000,
         "BEDROOMS": 2,
         "BATHROOMS": 1,
         "GARAGE": 2,
         "LAND_AREA": 651,
         "FLOOR_AREA": 59,
         "BUILD_YEAR": 1953,
         "CBD_DIST": 17900,
         "NEAREST_STN": "Midland Station",
         "NEAREST_STN_DIST": 3600,
         "DATE_SOLD": "2018-07-01T00:00:00.000000",
         "POSTCODE": 6056,
         "LATITUDE": -31.90054675,
         "LONGITUDE": 116.0380088,
         "NEAREST_SCH": "SWAN VIEW SENIOR HIGH SCHOOL",
         "NEAREST_SCH_DIST": 1.5714009366124688,
         "NEAREST_SCH_RANK": "nan",
         "_deepnote_index_column": 3
        },
        {
         "ADDRESS": "1 Aman Place",
         "SUBURB": "Lockridge",
         "PRICE": 325000,
         "BEDROOMS": 4,
         "BATHROOMS": 1,
         "GARAGE": 2,
         "LAND_AREA": 466,
         "FLOOR_AREA": 131,
         "BUILD_YEAR": 1998,
         "CBD_DIST": 11200,
         "NEAREST_STN": "Bassendean Station",
         "NEAREST_STN_DIST": 2000,
         "DATE_SOLD": "2016-11-01T00:00:00.000000",
         "POSTCODE": 6054,
         "LATITUDE": -31.88579,
         "LONGITUDE": 115.94778,
         "NEAREST_SCH": "KIARA COLLEGE",
         "NEAREST_SCH_DIST": 1.5149216294528034,
         "NEAREST_SCH_RANK": "nan",
         "_deepnote_index_column": 4
        },
        {
         "ADDRESS": "1 Amethyst Crescent",
         "SUBURB": "Mount Richon",
         "PRICE": 409000,
         "BEDROOMS": 4,
         "BATHROOMS": 2,
         "GARAGE": 1,
         "LAND_AREA": 759,
         "FLOOR_AREA": 118,
         "BUILD_YEAR": 1991,
         "CBD_DIST": 27300,
         "NEAREST_STN": "Armadale Station",
         "NEAREST_STN_DIST": 1000,
         "DATE_SOLD": "2013-03-01T00:00:00.000000",
         "POSTCODE": 6112,
         "LATITUDE": -32.1538014,
         "LONGITUDE": 116.0236578,
         "NEAREST_SCH": "ARMADALE SENIOR HIGH SCHOOL",
         "NEAREST_SCH_DIST": 1.227219194399204,
         "NEAREST_SCH_RANK": "nan",
         "_deepnote_index_column": 5
        },
        {
         "ADDRESS": "1 Ardara Lane",
         "SUBURB": "Hilbert",
         "PRICE": 400000,
         "BEDROOMS": 3,
         "BATHROOMS": 2,
         "GARAGE": 2,
         "LAND_AREA": 386,
         "FLOOR_AREA": 132,
         "BUILD_YEAR": 2014,
         "CBD_DIST": 28200,
         "NEAREST_STN": "Armadale Station",
         "NEAREST_STN_DIST": 3700,
         "DATE_SOLD": "2016-05-01T00:00:00.000000",
         "POSTCODE": 6112,
         "LATITUDE": -32.17997786,
         "LONGITUDE": 115.9886473,
         "NEAREST_SCH": "DALE CHRISTIAN SCHOOL",
         "NEAREST_SCH_DIST": 2.485730857063224,
         "NEAREST_SCH_RANK": "nan",
         "_deepnote_index_column": 6
        },
        {
         "ADDRESS": "1 Arnside Bend",
         "SUBURB": "Waikiki",
         "PRICE": 370000,
         "BEDROOMS": 4,
         "BATHROOMS": 2,
         "GARAGE": 2,
         "LAND_AREA": 468,
         "FLOOR_AREA": 158,
         "BUILD_YEAR": 2013,
         "CBD_DIST": 41700,
         "NEAREST_STN": "Warnbro Station",
         "NEAREST_STN_DIST": 1100,
         "DATE_SOLD": "2019-03-01T00:00:00.000000",
         "POSTCODE": 6169,
         "LATITUDE": -32.31766224,
         "LONGITUDE": 115.7619682,
         "NEAREST_SCH": "SOUTH COAST BAPTIST COLLEGE",
         "NEAREST_SCH_DIST": 0.4915731383363828,
         "NEAREST_SCH_RANK": "nan",
         "_deepnote_index_column": 7
        },
        {
         "ADDRESS": "1 Arrochar Court",
         "SUBURB": "Hamersley",
         "PRICE": 565000,
         "BEDROOMS": 4,
         "BATHROOMS": 2,
         "GARAGE": 3,
         "LAND_AREA": 875,
         "FLOOR_AREA": 168,
         "BUILD_YEAR": 1983,
         "CBD_DIST": 12100,
         "NEAREST_STN": "Warwick Station",
         "NEAREST_STN_DIST": 2500,
         "DATE_SOLD": "2020-06-01T00:00:00.000000",
         "POSTCODE": 6022,
         "LATITUDE": -31.84775987,
         "LONGITUDE": 115.8227005,
         "NEAREST_SCH": "WARWICK SENIOR HIGH SCHOOL",
         "NEAREST_SCH_DIST": 1.2219275931111655,
         "NEAREST_SCH_RANK": "nan",
         "_deepnote_index_column": 8
        },
        {
         "ADDRESS": "1 Arundel Street",
         "SUBURB": "Bayswater",
         "PRICE": 685000,
         "BEDROOMS": 3,
         "BATHROOMS": 2,
         "GARAGE": 8,
         "LAND_AREA": 552,
         "FLOOR_AREA": 126,
         "BUILD_YEAR": 1999,
         "CBD_DIST": 5900,
         "NEAREST_STN": "Bayswater Station",
         "NEAREST_STN_DIST": 508,
         "DATE_SOLD": "2019-10-01T00:00:00.000000",
         "POSTCODE": 6053,
         "LATITUDE": -31.91788,
         "LONGITUDE": 115.90705,
         "NEAREST_SCH": "CHISHOLM CATHOLIC COLLEGE",
         "NEAREST_SCH_DIST": 0.936243264888652,
         "NEAREST_SCH_RANK": 29,
         "_deepnote_index_column": 9
        }
       ]
      },
      "text/plain": "                  ADDRESS           SUBURB    PRICE  BEDROOMS  BATHROOMS  \\\n0           1 Acorn Place       South Lake   565000         4          2   \n1             1 Addis Way            Wandi   365000         3          2   \n2         1 Ainsley Court          Camillo   287000         3          1   \n3         1 Albert Street         Bellevue   255000         2          1   \n4            1 Aman Place        Lockridge   325000         4          1   \n...                   ...              ...      ...       ...        ...   \n33651      9C Gold Street  South Fremantle  1040000         4          3   \n33652      9C Pycombe Way      Westminster   410000         3          2   \n33653      9D Pycombe Way      Westminster   427000         3          2   \n33654     9D Shalford Way       Girrawheen   295000         3          1   \n33655  9E Margaret Street          Midland   295000         3          1   \n\n       GARAGE  LAND_AREA  FLOOR_AREA  BUILD_YEAR  CBD_DIST  \\\n0         2.0        600         160      2003.0     18300   \n1         2.0        351         139      2013.0     26900   \n2         1.0        719          86      1979.0     22600   \n3         2.0        651          59      1953.0     17900   \n4         2.0        466         131      1998.0     11200   \n...       ...        ...         ...         ...       ...   \n33651     2.0        292         245      2013.0     16100   \n33652     2.0        228         114         NaN      9600   \n33653     2.0        261         112         NaN      9600   \n33654     2.0        457          85      1974.0     12600   \n33655     2.0        296          95         NaN     16700   \n\n                    NEAREST_STN  NEAREST_STN_DIST  DATE_SOLD  POSTCODE  \\\n0      Cockburn Central Station              1800 2018-09-01      6164   \n1               Kwinana Station              4900 2019-02-01      6167   \n2               Challis Station              1900 2015-06-01      6111   \n3               Midland Station              3600 2018-07-01      6056   \n4            Bassendean Station              2000 2016-11-01      6054   \n...                         ...               ...        ...       ...   \n33651         Fremantle Station              1500 2016-03-01      6162   \n33652          Stirling Station              4600 2017-02-01      6061   \n33653          Stirling Station              4600 2017-02-01      6061   \n33654           Warwick Station              4400 2016-10-01      6064   \n33655           Midland Station              1700 2016-05-01      6056   \n\n        LATITUDE   LONGITUDE                                  NEAREST_SCH  \\\n0     -32.115900  115.842450                  LAKELAND SENIOR HIGH SCHOOL   \n1     -32.193470  115.859554                               ATWELL COLLEGE   \n2     -32.120578  115.993579                 KELMSCOTT SENIOR HIGH SCHOOL   \n3     -31.900547  116.038009                 SWAN VIEW SENIOR HIGH SCHOOL   \n4     -31.885790  115.947780                                KIARA COLLEGE   \n...          ...         ...                                          ...   \n33651 -32.064580  115.751820                  CHRISTIAN BROTHERS' COLLEGE   \n33652 -31.867055  115.841403  JOHN SEPTIMUS ROE ANGLICAN COMMUNITY SCHOOL   \n33653 -31.866890  115.841418  JOHN SEPTIMUS ROE ANGLICAN COMMUNITY SCHOOL   \n33654 -31.839680  115.842410                GIRRAWHEEN SENIOR HIGH SCHOOL   \n33655 -31.882163  116.014755                             LA SALLE COLLEGE   \n\n       NEAREST_SCH_DIST  NEAREST_SCH_RANK  \n0              0.828339               NaN  \n1              5.524324             129.0  \n2              1.649178             113.0  \n3              1.571401               NaN  \n4              1.514922               NaN  \n...                 ...               ...  \n33651          1.430350              49.0  \n33652          1.679644              35.0  \n33653          1.669159              35.0  \n33654          0.358494               NaN  \n33655          1.055564              53.0  \n\n[33656 rows x 19 columns]",
      "text/html": "<div>\n<style scoped>\n    .dataframe tbody tr th:only-of-type {\n        vertical-align: middle;\n    }\n\n    .dataframe tbody tr th {\n        vertical-align: top;\n    }\n\n    .dataframe thead th {\n        text-align: right;\n    }\n</style>\n<table border=\"1\" class=\"dataframe\">\n  <thead>\n    <tr style=\"text-align: right;\">\n      <th></th>\n      <th>ADDRESS</th>\n      <th>SUBURB</th>\n      <th>PRICE</th>\n      <th>BEDROOMS</th>\n      <th>BATHROOMS</th>\n      <th>GARAGE</th>\n      <th>LAND_AREA</th>\n      <th>FLOOR_AREA</th>\n      <th>BUILD_YEAR</th>\n      <th>CBD_DIST</th>\n      <th>NEAREST_STN</th>\n      <th>NEAREST_STN_DIST</th>\n      <th>DATE_SOLD</th>\n      <th>POSTCODE</th>\n      <th>LATITUDE</th>\n      <th>LONGITUDE</th>\n      <th>NEAREST_SCH</th>\n      <th>NEAREST_SCH_DIST</th>\n      <th>NEAREST_SCH_RANK</th>\n    </tr>\n  </thead>\n  <tbody>\n    <tr>\n      <th>0</th>\n      <td>1 Acorn Place</td>\n      <td>South Lake</td>\n      <td>565000</td>\n      <td>4</td>\n      <td>2</td>\n      <td>2.0</td>\n      <td>600</td>\n      <td>160</td>\n      <td>2003.0</td>\n      <td>18300</td>\n      <td>Cockburn Central Station</td>\n      <td>1800</td>\n      <td>2018-09-01</td>\n      <td>6164</td>\n      <td>-32.115900</td>\n      <td>115.842450</td>\n      <td>LAKELAND SENIOR HIGH SCHOOL</td>\n      <td>0.828339</td>\n      <td>NaN</td>\n    </tr>\n    <tr>\n      <th>1</th>\n      <td>1 Addis Way</td>\n      <td>Wandi</td>\n      <td>365000</td>\n      <td>3</td>\n      <td>2</td>\n      <td>2.0</td>\n      <td>351</td>\n      <td>139</td>\n      <td>2013.0</td>\n      <td>26900</td>\n      <td>Kwinana Station</td>\n      <td>4900</td>\n      <td>2019-02-01</td>\n      <td>6167</td>\n      <td>-32.193470</td>\n      <td>115.859554</td>\n      <td>ATWELL COLLEGE</td>\n      <td>5.524324</td>\n      <td>129.0</td>\n    </tr>\n    <tr>\n      <th>2</th>\n      <td>1 Ainsley Court</td>\n      <td>Camillo</td>\n      <td>287000</td>\n      <td>3</td>\n      <td>1</td>\n      <td>1.0</td>\n      <td>719</td>\n      <td>86</td>\n      <td>1979.0</td>\n      <td>22600</td>\n      <td>Challis Station</td>\n      <td>1900</td>\n      <td>2015-06-01</td>\n      <td>6111</td>\n      <td>-32.120578</td>\n      <td>115.993579</td>\n      <td>KELMSCOTT SENIOR HIGH SCHOOL</td>\n      <td>1.649178</td>\n      <td>113.0</td>\n    </tr>\n    <tr>\n      <th>3</th>\n      <td>1 Albert Street</td>\n      <td>Bellevue</td>\n      <td>255000</td>\n      <td>2</td>\n      <td>1</td>\n      <td>2.0</td>\n      <td>651</td>\n      <td>59</td>\n      <td>1953.0</td>\n      <td>17900</td>\n      <td>Midland Station</td>\n      <td>3600</td>\n      <td>2018-07-01</td>\n      <td>6056</td>\n      <td>-31.900547</td>\n      <td>116.038009</td>\n      <td>SWAN VIEW SENIOR HIGH SCHOOL</td>\n      <td>1.571401</td>\n      <td>NaN</td>\n    </tr>\n    <tr>\n      <th>4</th>\n      <td>1 Aman Place</td>\n      <td>Lockridge</td>\n      <td>325000</td>\n      <td>4</td>\n      <td>1</td>\n      <td>2.0</td>\n      <td>466</td>\n      <td>131</td>\n      <td>1998.0</td>\n      <td>11200</td>\n      <td>Bassendean Station</td>\n      <td>2000</td>\n      <td>2016-11-01</td>\n      <td>6054</td>\n      <td>-31.885790</td>\n      <td>115.947780</td>\n      <td>KIARA COLLEGE</td>\n      <td>1.514922</td>\n      <td>NaN</td>\n    </tr>\n    <tr>\n      <th>...</th>\n      <td>...</td>\n      <td>...</td>\n      <td>...</td>\n      <td>...</td>\n      <td>...</td>\n      <td>...</td>\n      <td>...</td>\n      <td>...</td>\n      <td>...</td>\n      <td>...</td>\n      <td>...</td>\n      <td>...</td>\n      <td>...</td>\n      <td>...</td>\n      <td>...</td>\n      <td>...</td>\n      <td>...</td>\n      <td>...</td>\n      <td>...</td>\n    </tr>\n    <tr>\n      <th>33651</th>\n      <td>9C Gold Street</td>\n      <td>South Fremantle</td>\n      <td>1040000</td>\n      <td>4</td>\n      <td>3</td>\n      <td>2.0</td>\n      <td>292</td>\n      <td>245</td>\n      <td>2013.0</td>\n      <td>16100</td>\n      <td>Fremantle Station</td>\n      <td>1500</td>\n      <td>2016-03-01</td>\n      <td>6162</td>\n      <td>-32.064580</td>\n      <td>115.751820</td>\n      <td>CHRISTIAN BROTHERS' COLLEGE</td>\n      <td>1.430350</td>\n      <td>49.0</td>\n    </tr>\n    <tr>\n      <th>33652</th>\n      <td>9C Pycombe Way</td>\n      <td>Westminster</td>\n      <td>410000</td>\n      <td>3</td>\n      <td>2</td>\n      <td>2.0</td>\n      <td>228</td>\n      <td>114</td>\n      <td>NaN</td>\n      <td>9600</td>\n      <td>Stirling Station</td>\n      <td>4600</td>\n      <td>2017-02-01</td>\n      <td>6061</td>\n      <td>-31.867055</td>\n      <td>115.841403</td>\n      <td>JOHN SEPTIMUS ROE ANGLICAN COMMUNITY SCHOOL</td>\n      <td>1.679644</td>\n      <td>35.0</td>\n    </tr>\n    <tr>\n      <th>33653</th>\n      <td>9D Pycombe Way</td>\n      <td>Westminster</td>\n      <td>427000</td>\n      <td>3</td>\n      <td>2</td>\n      <td>2.0</td>\n      <td>261</td>\n      <td>112</td>\n      <td>NaN</td>\n      <td>9600</td>\n      <td>Stirling Station</td>\n      <td>4600</td>\n      <td>2017-02-01</td>\n      <td>6061</td>\n      <td>-31.866890</td>\n      <td>115.841418</td>\n      <td>JOHN SEPTIMUS ROE ANGLICAN COMMUNITY SCHOOL</td>\n      <td>1.669159</td>\n      <td>35.0</td>\n    </tr>\n    <tr>\n      <th>33654</th>\n      <td>9D Shalford Way</td>\n      <td>Girrawheen</td>\n      <td>295000</td>\n      <td>3</td>\n      <td>1</td>\n      <td>2.0</td>\n      <td>457</td>\n      <td>85</td>\n      <td>1974.0</td>\n      <td>12600</td>\n      <td>Warwick Station</td>\n      <td>4400</td>\n      <td>2016-10-01</td>\n      <td>6064</td>\n      <td>-31.839680</td>\n      <td>115.842410</td>\n      <td>GIRRAWHEEN SENIOR HIGH SCHOOL</td>\n      <td>0.358494</td>\n      <td>NaN</td>\n    </tr>\n    <tr>\n      <th>33655</th>\n      <td>9E Margaret Street</td>\n      <td>Midland</td>\n      <td>295000</td>\n      <td>3</td>\n      <td>1</td>\n      <td>2.0</td>\n      <td>296</td>\n      <td>95</td>\n      <td>NaN</td>\n      <td>16700</td>\n      <td>Midland Station</td>\n      <td>1700</td>\n      <td>2016-05-01</td>\n      <td>6056</td>\n      <td>-31.882163</td>\n      <td>116.014755</td>\n      <td>LA SALLE COLLEGE</td>\n      <td>1.055564</td>\n      <td>53.0</td>\n    </tr>\n  </tbody>\n</table>\n<p>33656 rows × 19 columns</p>\n</div>"
     },
     "metadata": {}
    }
   ],
   "execution_count": null
  },
  {
   "cell_type": "code",
   "metadata": {
    "cell_id": "3e8aeeef-04ce-4177-bb84-cbab3381026a",
    "tags": [],
    "deepnote_to_be_reexecuted": false,
    "source_hash": "2aec2bb2",
    "execution_start": 1646968486272,
    "execution_millis": 270,
    "deepnote_cell_type": "code",
    "deepnote_cell_height": 409.65625
   },
   "source": "perth.head()",
   "outputs": [
    {
     "output_type": "execute_result",
     "execution_count": 3,
     "data": {
      "application/vnd.deepnote.dataframe.v3+json": {
       "column_count": 19,
       "row_count": 5,
       "columns": [
        {
         "name": "ADDRESS",
         "dtype": "object",
         "stats": {
          "unique_count": 5,
          "nan_count": 0,
          "categories": [
           {
            "name": "1 Acorn Place",
            "count": 1
           },
           {
            "name": "1 Addis Way",
            "count": 1
           },
           {
            "name": "3 others",
            "count": 3
           }
          ]
         }
        },
        {
         "name": "SUBURB",
         "dtype": "object",
         "stats": {
          "unique_count": 5,
          "nan_count": 0,
          "categories": [
           {
            "name": "South Lake",
            "count": 1
           },
           {
            "name": "Wandi",
            "count": 1
           },
           {
            "name": "3 others",
            "count": 3
           }
          ]
         }
        },
        {
         "name": "PRICE",
         "dtype": "int64",
         "stats": {
          "unique_count": 5,
          "nan_count": 0,
          "min": "255000",
          "max": "565000",
          "histogram": [
           {
            "bin_start": 255000,
            "bin_end": 286000,
            "count": 1
           },
           {
            "bin_start": 286000,
            "bin_end": 317000,
            "count": 1
           },
           {
            "bin_start": 317000,
            "bin_end": 348000,
            "count": 1
           },
           {
            "bin_start": 348000,
            "bin_end": 379000,
            "count": 1
           },
           {
            "bin_start": 379000,
            "bin_end": 410000,
            "count": 0
           },
           {
            "bin_start": 410000,
            "bin_end": 441000,
            "count": 0
           },
           {
            "bin_start": 441000,
            "bin_end": 472000,
            "count": 0
           },
           {
            "bin_start": 472000,
            "bin_end": 503000,
            "count": 0
           },
           {
            "bin_start": 503000,
            "bin_end": 534000,
            "count": 0
           },
           {
            "bin_start": 534000,
            "bin_end": 565000,
            "count": 1
           }
          ]
         }
        },
        {
         "name": "BEDROOMS",
         "dtype": "int64",
         "stats": {
          "unique_count": 3,
          "nan_count": 0,
          "min": "2",
          "max": "4",
          "histogram": [
           {
            "bin_start": 2,
            "bin_end": 2.2,
            "count": 1
           },
           {
            "bin_start": 2.2,
            "bin_end": 2.4,
            "count": 0
           },
           {
            "bin_start": 2.4,
            "bin_end": 2.6,
            "count": 0
           },
           {
            "bin_start": 2.6,
            "bin_end": 2.8,
            "count": 0
           },
           {
            "bin_start": 2.8,
            "bin_end": 3,
            "count": 0
           },
           {
            "bin_start": 3,
            "bin_end": 3.2,
            "count": 2
           },
           {
            "bin_start": 3.2,
            "bin_end": 3.4000000000000004,
            "count": 0
           },
           {
            "bin_start": 3.4000000000000004,
            "bin_end": 3.6,
            "count": 0
           },
           {
            "bin_start": 3.6,
            "bin_end": 3.8,
            "count": 0
           },
           {
            "bin_start": 3.8,
            "bin_end": 4,
            "count": 2
           }
          ]
         }
        },
        {
         "name": "BATHROOMS",
         "dtype": "int64",
         "stats": {
          "unique_count": 2,
          "nan_count": 0,
          "min": "1",
          "max": "2",
          "histogram": [
           {
            "bin_start": 1,
            "bin_end": 1.1,
            "count": 3
           },
           {
            "bin_start": 1.1,
            "bin_end": 1.2,
            "count": 0
           },
           {
            "bin_start": 1.2,
            "bin_end": 1.3,
            "count": 0
           },
           {
            "bin_start": 1.3,
            "bin_end": 1.4,
            "count": 0
           },
           {
            "bin_start": 1.4,
            "bin_end": 1.5,
            "count": 0
           },
           {
            "bin_start": 1.5,
            "bin_end": 1.6,
            "count": 0
           },
           {
            "bin_start": 1.6,
            "bin_end": 1.7000000000000002,
            "count": 0
           },
           {
            "bin_start": 1.7000000000000002,
            "bin_end": 1.8,
            "count": 0
           },
           {
            "bin_start": 1.8,
            "bin_end": 1.9,
            "count": 0
           },
           {
            "bin_start": 1.9,
            "bin_end": 2,
            "count": 2
           }
          ]
         }
        },
        {
         "name": "GARAGE",
         "dtype": "float64",
         "stats": {
          "unique_count": 2,
          "nan_count": 0,
          "min": "1.0",
          "max": "2.0",
          "histogram": [
           {
            "bin_start": 1,
            "bin_end": 1.1,
            "count": 1
           },
           {
            "bin_start": 1.1,
            "bin_end": 1.2,
            "count": 0
           },
           {
            "bin_start": 1.2,
            "bin_end": 1.3,
            "count": 0
           },
           {
            "bin_start": 1.3,
            "bin_end": 1.4,
            "count": 0
           },
           {
            "bin_start": 1.4,
            "bin_end": 1.5,
            "count": 0
           },
           {
            "bin_start": 1.5,
            "bin_end": 1.6,
            "count": 0
           },
           {
            "bin_start": 1.6,
            "bin_end": 1.7000000000000002,
            "count": 0
           },
           {
            "bin_start": 1.7000000000000002,
            "bin_end": 1.8,
            "count": 0
           },
           {
            "bin_start": 1.8,
            "bin_end": 1.9,
            "count": 0
           },
           {
            "bin_start": 1.9,
            "bin_end": 2,
            "count": 4
           }
          ]
         }
        },
        {
         "name": "LAND_AREA",
         "dtype": "int64",
         "stats": {
          "unique_count": 5,
          "nan_count": 0,
          "min": "351",
          "max": "719",
          "histogram": [
           {
            "bin_start": 351,
            "bin_end": 387.8,
            "count": 1
           },
           {
            "bin_start": 387.8,
            "bin_end": 424.6,
            "count": 0
           },
           {
            "bin_start": 424.6,
            "bin_end": 461.4,
            "count": 0
           },
           {
            "bin_start": 461.4,
            "bin_end": 498.2,
            "count": 1
           },
           {
            "bin_start": 498.2,
            "bin_end": 535,
            "count": 0
           },
           {
            "bin_start": 535,
            "bin_end": 571.8,
            "count": 0
           },
           {
            "bin_start": 571.8,
            "bin_end": 608.5999999999999,
            "count": 1
           },
           {
            "bin_start": 608.5999999999999,
            "bin_end": 645.4,
            "count": 0
           },
           {
            "bin_start": 645.4,
            "bin_end": 682.2,
            "count": 1
           },
           {
            "bin_start": 682.2,
            "bin_end": 719,
            "count": 1
           }
          ]
         }
        },
        {
         "name": "FLOOR_AREA",
         "dtype": "int64",
         "stats": {
          "unique_count": 5,
          "nan_count": 0,
          "min": "59",
          "max": "160",
          "histogram": [
           {
            "bin_start": 59,
            "bin_end": 69.1,
            "count": 1
           },
           {
            "bin_start": 69.1,
            "bin_end": 79.2,
            "count": 0
           },
           {
            "bin_start": 79.2,
            "bin_end": 89.3,
            "count": 1
           },
           {
            "bin_start": 89.3,
            "bin_end": 99.4,
            "count": 0
           },
           {
            "bin_start": 99.4,
            "bin_end": 109.5,
            "count": 0
           },
           {
            "bin_start": 109.5,
            "bin_end": 119.6,
            "count": 0
           },
           {
            "bin_start": 119.6,
            "bin_end": 129.7,
            "count": 0
           },
           {
            "bin_start": 129.7,
            "bin_end": 139.8,
            "count": 2
           },
           {
            "bin_start": 139.8,
            "bin_end": 149.89999999999998,
            "count": 0
           },
           {
            "bin_start": 149.89999999999998,
            "bin_end": 160,
            "count": 1
           }
          ]
         }
        },
        {
         "name": "BUILD_YEAR",
         "dtype": "float64",
         "stats": {
          "unique_count": 5,
          "nan_count": 0,
          "min": "1953.0",
          "max": "2013.0",
          "histogram": [
           {
            "bin_start": 1953,
            "bin_end": 1959,
            "count": 1
           },
           {
            "bin_start": 1959,
            "bin_end": 1965,
            "count": 0
           },
           {
            "bin_start": 1965,
            "bin_end": 1971,
            "count": 0
           },
           {
            "bin_start": 1971,
            "bin_end": 1977,
            "count": 0
           },
           {
            "bin_start": 1977,
            "bin_end": 1983,
            "count": 1
           },
           {
            "bin_start": 1983,
            "bin_end": 1989,
            "count": 0
           },
           {
            "bin_start": 1989,
            "bin_end": 1995,
            "count": 0
           },
           {
            "bin_start": 1995,
            "bin_end": 2001,
            "count": 1
           },
           {
            "bin_start": 2001,
            "bin_end": 2007,
            "count": 1
           },
           {
            "bin_start": 2007,
            "bin_end": 2013,
            "count": 1
           }
          ]
         }
        },
        {
         "name": "CBD_DIST",
         "dtype": "int64",
         "stats": {
          "unique_count": 5,
          "nan_count": 0,
          "min": "11200",
          "max": "26900",
          "histogram": [
           {
            "bin_start": 11200,
            "bin_end": 12770,
            "count": 1
           },
           {
            "bin_start": 12770,
            "bin_end": 14340,
            "count": 0
           },
           {
            "bin_start": 14340,
            "bin_end": 15910,
            "count": 0
           },
           {
            "bin_start": 15910,
            "bin_end": 17480,
            "count": 0
           },
           {
            "bin_start": 17480,
            "bin_end": 19050,
            "count": 2
           },
           {
            "bin_start": 19050,
            "bin_end": 20620,
            "count": 0
           },
           {
            "bin_start": 20620,
            "bin_end": 22190,
            "count": 0
           },
           {
            "bin_start": 22190,
            "bin_end": 23760,
            "count": 1
           },
           {
            "bin_start": 23760,
            "bin_end": 25330,
            "count": 0
           },
           {
            "bin_start": 25330,
            "bin_end": 26900,
            "count": 1
           }
          ]
         }
        },
        {
         "name": "NEAREST_STN",
         "dtype": "object",
         "stats": {
          "unique_count": 5,
          "nan_count": 0,
          "categories": [
           {
            "name": "Cockburn Central Station",
            "count": 1
           },
           {
            "name": "Kwinana Station",
            "count": 1
           },
           {
            "name": "3 others",
            "count": 3
           }
          ]
         }
        },
        {
         "name": "NEAREST_STN_DIST",
         "dtype": "int64",
         "stats": {
          "unique_count": 5,
          "nan_count": 0,
          "min": "1800",
          "max": "4900",
          "histogram": [
           {
            "bin_start": 1800,
            "bin_end": 2110,
            "count": 3
           },
           {
            "bin_start": 2110,
            "bin_end": 2420,
            "count": 0
           },
           {
            "bin_start": 2420,
            "bin_end": 2730,
            "count": 0
           },
           {
            "bin_start": 2730,
            "bin_end": 3040,
            "count": 0
           },
           {
            "bin_start": 3040,
            "bin_end": 3350,
            "count": 0
           },
           {
            "bin_start": 3350,
            "bin_end": 3660,
            "count": 1
           },
           {
            "bin_start": 3660,
            "bin_end": 3970,
            "count": 0
           },
           {
            "bin_start": 3970,
            "bin_end": 4280,
            "count": 0
           },
           {
            "bin_start": 4280,
            "bin_end": 4590,
            "count": 0
           },
           {
            "bin_start": 4590,
            "bin_end": 4900,
            "count": 1
           }
          ]
         }
        },
        {
         "name": "DATE_SOLD",
         "dtype": "datetime64[ns]",
         "stats": {
          "unique_count": 5,
          "nan_count": 0,
          "min": "2015-06-01 00:00:00",
          "max": "2019-02-01 00:00:00",
          "histogram": [
           {
            "bin_start": 1433116800000000000,
            "bin_end": 1444703040000000000,
            "count": 1
           },
           {
            "bin_start": 1444703040000000000,
            "bin_end": 1456289280000000000,
            "count": 0
           },
           {
            "bin_start": 1456289280000000000,
            "bin_end": 1467875520000000000,
            "count": 0
           },
           {
            "bin_start": 1467875520000000000,
            "bin_end": 1479461760000000000,
            "count": 1
           },
           {
            "bin_start": 1479461760000000000,
            "bin_end": 1491048000000000000,
            "count": 0
           },
           {
            "bin_start": 1491048000000000000,
            "bin_end": 1502634240000000000,
            "count": 0
           },
           {
            "bin_start": 1502634240000000000,
            "bin_end": 1514220480000000000,
            "count": 0
           },
           {
            "bin_start": 1514220480000000000,
            "bin_end": 1525806720000000000,
            "count": 0
           },
           {
            "bin_start": 1525806720000000000,
            "bin_end": 1537392960000000000,
            "count": 2
           },
           {
            "bin_start": 1537392960000000000,
            "bin_end": 1548979200000000000,
            "count": 1
           }
          ]
         }
        },
        {
         "name": "POSTCODE",
         "dtype": "int64",
         "stats": {
          "unique_count": 5,
          "nan_count": 0,
          "min": "6054",
          "max": "6167",
          "histogram": [
           {
            "bin_start": 6054,
            "bin_end": 6065.3,
            "count": 2
           },
           {
            "bin_start": 6065.3,
            "bin_end": 6076.6,
            "count": 0
           },
           {
            "bin_start": 6076.6,
            "bin_end": 6087.9,
            "count": 0
           },
           {
            "bin_start": 6087.9,
            "bin_end": 6099.2,
            "count": 0
           },
           {
            "bin_start": 6099.2,
            "bin_end": 6110.5,
            "count": 0
           },
           {
            "bin_start": 6110.5,
            "bin_end": 6121.8,
            "count": 1
           },
           {
            "bin_start": 6121.8,
            "bin_end": 6133.1,
            "count": 0
           },
           {
            "bin_start": 6133.1,
            "bin_end": 6144.4,
            "count": 0
           },
           {
            "bin_start": 6144.4,
            "bin_end": 6155.7,
            "count": 0
           },
           {
            "bin_start": 6155.7,
            "bin_end": 6167,
            "count": 2
           }
          ]
         }
        },
        {
         "name": "LATITUDE",
         "dtype": "float64",
         "stats": {
          "unique_count": 5,
          "nan_count": 0,
          "min": "-32.19347028",
          "max": "-31.88579",
          "histogram": [
           {
            "bin_start": -32.19347028,
            "bin_end": -32.162702252,
            "count": 1
           },
           {
            "bin_start": -32.162702252,
            "bin_end": -32.131934224,
            "count": 0
           },
           {
            "bin_start": -32.131934224,
            "bin_end": -32.101166196,
            "count": 2
           },
           {
            "bin_start": -32.101166196,
            "bin_end": -32.070398168,
            "count": 0
           },
           {
            "bin_start": -32.070398168,
            "bin_end": -32.03963014,
            "count": 0
           },
           {
            "bin_start": -32.03963014,
            "bin_end": -32.008862112,
            "count": 0
           },
           {
            "bin_start": -32.008862112,
            "bin_end": -31.978094084,
            "count": 0
           },
           {
            "bin_start": -31.978094084,
            "bin_end": -31.947326056,
            "count": 0
           },
           {
            "bin_start": -31.947326056,
            "bin_end": -31.916558028,
            "count": 0
           },
           {
            "bin_start": -31.916558028,
            "bin_end": -31.88579,
            "count": 2
           }
          ]
         }
        },
        {
         "name": "LONGITUDE",
         "dtype": "float64",
         "stats": {
          "unique_count": 5,
          "nan_count": 0,
          "min": "115.84245",
          "max": "116.0380088",
          "histogram": [
           {
            "bin_start": 115.84245,
            "bin_end": 115.86200588,
            "count": 2
           },
           {
            "bin_start": 115.86200588,
            "bin_end": 115.88156176,
            "count": 0
           },
           {
            "bin_start": 115.88156176,
            "bin_end": 115.90111764,
            "count": 0
           },
           {
            "bin_start": 115.90111764,
            "bin_end": 115.92067352,
            "count": 0
           },
           {
            "bin_start": 115.92067352,
            "bin_end": 115.94022939999999,
            "count": 0
           },
           {
            "bin_start": 115.94022939999999,
            "bin_end": 115.95978528,
            "count": 1
           },
           {
            "bin_start": 115.95978528,
            "bin_end": 115.97934116,
            "count": 0
           },
           {
            "bin_start": 115.97934116,
            "bin_end": 115.99889704,
            "count": 1
           },
           {
            "bin_start": 115.99889704,
            "bin_end": 116.01845292,
            "count": 0
           },
           {
            "bin_start": 116.01845292,
            "bin_end": 116.0380088,
            "count": 1
           }
          ]
         }
        },
        {
         "name": "NEAREST_SCH",
         "dtype": "object",
         "stats": {
          "unique_count": 5,
          "nan_count": 0,
          "categories": [
           {
            "name": "LAKELAND SENIOR HIGH SCHOOL",
            "count": 1
           },
           {
            "name": "ATWELL COLLEGE",
            "count": 1
           },
           {
            "name": "3 others",
            "count": 3
           }
          ]
         }
        },
        {
         "name": "NEAREST_SCH_DIST",
         "dtype": "float64",
         "stats": {
          "unique_count": 5,
          "nan_count": 0,
          "min": "0.8283385518162787",
          "max": "5.524324354371822",
          "histogram": [
           {
            "bin_start": 0.8283385518162787,
            "bin_end": 1.2979371320718331,
            "count": 1
           },
           {
            "bin_start": 1.2979371320718331,
            "bin_end": 1.7675357123273874,
            "count": 3
           },
           {
            "bin_start": 1.7675357123273874,
            "bin_end": 2.237134292582942,
            "count": 0
           },
           {
            "bin_start": 2.237134292582942,
            "bin_end": 2.7067328728384963,
            "count": 0
           },
           {
            "bin_start": 2.7067328728384963,
            "bin_end": 3.1763314530940505,
            "count": 0
           },
           {
            "bin_start": 3.1763314530940505,
            "bin_end": 3.6459300333496047,
            "count": 0
           },
           {
            "bin_start": 3.6459300333496047,
            "bin_end": 4.115528613605159,
            "count": 0
           },
           {
            "bin_start": 4.115528613605159,
            "bin_end": 4.585127193860713,
            "count": 0
           },
           {
            "bin_start": 4.585127193860713,
            "bin_end": 5.0547257741162674,
            "count": 0
           },
           {
            "bin_start": 5.0547257741162674,
            "bin_end": 5.524324354371822,
            "count": 1
           }
          ]
         }
        },
        {
         "name": "NEAREST_SCH_RANK",
         "dtype": "float64",
         "stats": {
          "unique_count": 2,
          "nan_count": 3,
          "min": "113.0",
          "max": "129.0",
          "histogram": [
           {
            "bin_start": 113,
            "bin_end": 114.6,
            "count": 1
           },
           {
            "bin_start": 114.6,
            "bin_end": 116.2,
            "count": 0
           },
           {
            "bin_start": 116.2,
            "bin_end": 117.8,
            "count": 0
           },
           {
            "bin_start": 117.8,
            "bin_end": 119.4,
            "count": 0
           },
           {
            "bin_start": 119.4,
            "bin_end": 121,
            "count": 0
           },
           {
            "bin_start": 121,
            "bin_end": 122.6,
            "count": 0
           },
           {
            "bin_start": 122.6,
            "bin_end": 124.2,
            "count": 0
           },
           {
            "bin_start": 124.2,
            "bin_end": 125.8,
            "count": 0
           },
           {
            "bin_start": 125.8,
            "bin_end": 127.4,
            "count": 0
           },
           {
            "bin_start": 127.4,
            "bin_end": 129,
            "count": 1
           }
          ]
         }
        },
        {
         "name": "_deepnote_index_column",
         "dtype": "int64"
        }
       ],
       "rows": [
        {
         "ADDRESS": "1 Acorn Place",
         "SUBURB": "South Lake",
         "PRICE": 565000,
         "BEDROOMS": 4,
         "BATHROOMS": 2,
         "GARAGE": 2,
         "LAND_AREA": 600,
         "FLOOR_AREA": 160,
         "BUILD_YEAR": 2003,
         "CBD_DIST": 18300,
         "NEAREST_STN": "Cockburn Central Station",
         "NEAREST_STN_DIST": 1800,
         "DATE_SOLD": "2018-09-01T00:00:00.000000",
         "POSTCODE": 6164,
         "LATITUDE": -32.1159,
         "LONGITUDE": 115.84245,
         "NEAREST_SCH": "LAKELAND SENIOR HIGH SCHOOL",
         "NEAREST_SCH_DIST": 0.8283385518162787,
         "NEAREST_SCH_RANK": "nan",
         "_deepnote_index_column": 0
        },
        {
         "ADDRESS": "1 Addis Way",
         "SUBURB": "Wandi",
         "PRICE": 365000,
         "BEDROOMS": 3,
         "BATHROOMS": 2,
         "GARAGE": 2,
         "LAND_AREA": 351,
         "FLOOR_AREA": 139,
         "BUILD_YEAR": 2013,
         "CBD_DIST": 26900,
         "NEAREST_STN": "Kwinana Station",
         "NEAREST_STN_DIST": 4900,
         "DATE_SOLD": "2019-02-01T00:00:00.000000",
         "POSTCODE": 6167,
         "LATITUDE": -32.19347028,
         "LONGITUDE": 115.8595535,
         "NEAREST_SCH": "ATWELL COLLEGE",
         "NEAREST_SCH_DIST": 5.524324354371822,
         "NEAREST_SCH_RANK": 129,
         "_deepnote_index_column": 1
        },
        {
         "ADDRESS": "1 Ainsley Court",
         "SUBURB": "Camillo",
         "PRICE": 287000,
         "BEDROOMS": 3,
         "BATHROOMS": 1,
         "GARAGE": 1,
         "LAND_AREA": 719,
         "FLOOR_AREA": 86,
         "BUILD_YEAR": 1979,
         "CBD_DIST": 22600,
         "NEAREST_STN": "Challis Station",
         "NEAREST_STN_DIST": 1900,
         "DATE_SOLD": "2015-06-01T00:00:00.000000",
         "POSTCODE": 6111,
         "LATITUDE": -32.12057813,
         "LONGITUDE": 115.993579,
         "NEAREST_SCH": "KELMSCOTT SENIOR HIGH SCHOOL",
         "NEAREST_SCH_DIST": 1.649178183366986,
         "NEAREST_SCH_RANK": 113,
         "_deepnote_index_column": 2
        },
        {
         "ADDRESS": "1 Albert Street",
         "SUBURB": "Bellevue",
         "PRICE": 255000,
         "BEDROOMS": 2,
         "BATHROOMS": 1,
         "GARAGE": 2,
         "LAND_AREA": 651,
         "FLOOR_AREA": 59,
         "BUILD_YEAR": 1953,
         "CBD_DIST": 17900,
         "NEAREST_STN": "Midland Station",
         "NEAREST_STN_DIST": 3600,
         "DATE_SOLD": "2018-07-01T00:00:00.000000",
         "POSTCODE": 6056,
         "LATITUDE": -31.90054675,
         "LONGITUDE": 116.0380088,
         "NEAREST_SCH": "SWAN VIEW SENIOR HIGH SCHOOL",
         "NEAREST_SCH_DIST": 1.5714009366124688,
         "NEAREST_SCH_RANK": "nan",
         "_deepnote_index_column": 3
        },
        {
         "ADDRESS": "1 Aman Place",
         "SUBURB": "Lockridge",
         "PRICE": 325000,
         "BEDROOMS": 4,
         "BATHROOMS": 1,
         "GARAGE": 2,
         "LAND_AREA": 466,
         "FLOOR_AREA": 131,
         "BUILD_YEAR": 1998,
         "CBD_DIST": 11200,
         "NEAREST_STN": "Bassendean Station",
         "NEAREST_STN_DIST": 2000,
         "DATE_SOLD": "2016-11-01T00:00:00.000000",
         "POSTCODE": 6054,
         "LATITUDE": -31.88579,
         "LONGITUDE": 115.94778,
         "NEAREST_SCH": "KIARA COLLEGE",
         "NEAREST_SCH_DIST": 1.5149216294528034,
         "NEAREST_SCH_RANK": "nan",
         "_deepnote_index_column": 4
        }
       ]
      },
      "text/plain": "           ADDRESS      SUBURB   PRICE  BEDROOMS  BATHROOMS  GARAGE  \\\n0    1 Acorn Place  South Lake  565000         4          2     2.0   \n1      1 Addis Way       Wandi  365000         3          2     2.0   \n2  1 Ainsley Court     Camillo  287000         3          1     1.0   \n3  1 Albert Street    Bellevue  255000         2          1     2.0   \n4     1 Aman Place   Lockridge  325000         4          1     2.0   \n\n   LAND_AREA  FLOOR_AREA  BUILD_YEAR  CBD_DIST               NEAREST_STN  \\\n0        600         160      2003.0     18300  Cockburn Central Station   \n1        351         139      2013.0     26900           Kwinana Station   \n2        719          86      1979.0     22600           Challis Station   \n3        651          59      1953.0     17900           Midland Station   \n4        466         131      1998.0     11200        Bassendean Station   \n\n   NEAREST_STN_DIST  DATE_SOLD  POSTCODE   LATITUDE   LONGITUDE  \\\n0              1800 2018-09-01      6164 -32.115900  115.842450   \n1              4900 2019-02-01      6167 -32.193470  115.859554   \n2              1900 2015-06-01      6111 -32.120578  115.993579   \n3              3600 2018-07-01      6056 -31.900547  116.038009   \n4              2000 2016-11-01      6054 -31.885790  115.947780   \n\n                    NEAREST_SCH  NEAREST_SCH_DIST  NEAREST_SCH_RANK  \n0   LAKELAND SENIOR HIGH SCHOOL          0.828339               NaN  \n1                ATWELL COLLEGE          5.524324             129.0  \n2  KELMSCOTT SENIOR HIGH SCHOOL          1.649178             113.0  \n3  SWAN VIEW SENIOR HIGH SCHOOL          1.571401               NaN  \n4                 KIARA COLLEGE          1.514922               NaN  ",
      "text/html": "<div>\n<style scoped>\n    .dataframe tbody tr th:only-of-type {\n        vertical-align: middle;\n    }\n\n    .dataframe tbody tr th {\n        vertical-align: top;\n    }\n\n    .dataframe thead th {\n        text-align: right;\n    }\n</style>\n<table border=\"1\" class=\"dataframe\">\n  <thead>\n    <tr style=\"text-align: right;\">\n      <th></th>\n      <th>ADDRESS</th>\n      <th>SUBURB</th>\n      <th>PRICE</th>\n      <th>BEDROOMS</th>\n      <th>BATHROOMS</th>\n      <th>GARAGE</th>\n      <th>LAND_AREA</th>\n      <th>FLOOR_AREA</th>\n      <th>BUILD_YEAR</th>\n      <th>CBD_DIST</th>\n      <th>NEAREST_STN</th>\n      <th>NEAREST_STN_DIST</th>\n      <th>DATE_SOLD</th>\n      <th>POSTCODE</th>\n      <th>LATITUDE</th>\n      <th>LONGITUDE</th>\n      <th>NEAREST_SCH</th>\n      <th>NEAREST_SCH_DIST</th>\n      <th>NEAREST_SCH_RANK</th>\n    </tr>\n  </thead>\n  <tbody>\n    <tr>\n      <th>0</th>\n      <td>1 Acorn Place</td>\n      <td>South Lake</td>\n      <td>565000</td>\n      <td>4</td>\n      <td>2</td>\n      <td>2.0</td>\n      <td>600</td>\n      <td>160</td>\n      <td>2003.0</td>\n      <td>18300</td>\n      <td>Cockburn Central Station</td>\n      <td>1800</td>\n      <td>2018-09-01</td>\n      <td>6164</td>\n      <td>-32.115900</td>\n      <td>115.842450</td>\n      <td>LAKELAND SENIOR HIGH SCHOOL</td>\n      <td>0.828339</td>\n      <td>NaN</td>\n    </tr>\n    <tr>\n      <th>1</th>\n      <td>1 Addis Way</td>\n      <td>Wandi</td>\n      <td>365000</td>\n      <td>3</td>\n      <td>2</td>\n      <td>2.0</td>\n      <td>351</td>\n      <td>139</td>\n      <td>2013.0</td>\n      <td>26900</td>\n      <td>Kwinana Station</td>\n      <td>4900</td>\n      <td>2019-02-01</td>\n      <td>6167</td>\n      <td>-32.193470</td>\n      <td>115.859554</td>\n      <td>ATWELL COLLEGE</td>\n      <td>5.524324</td>\n      <td>129.0</td>\n    </tr>\n    <tr>\n      <th>2</th>\n      <td>1 Ainsley Court</td>\n      <td>Camillo</td>\n      <td>287000</td>\n      <td>3</td>\n      <td>1</td>\n      <td>1.0</td>\n      <td>719</td>\n      <td>86</td>\n      <td>1979.0</td>\n      <td>22600</td>\n      <td>Challis Station</td>\n      <td>1900</td>\n      <td>2015-06-01</td>\n      <td>6111</td>\n      <td>-32.120578</td>\n      <td>115.993579</td>\n      <td>KELMSCOTT SENIOR HIGH SCHOOL</td>\n      <td>1.649178</td>\n      <td>113.0</td>\n    </tr>\n    <tr>\n      <th>3</th>\n      <td>1 Albert Street</td>\n      <td>Bellevue</td>\n      <td>255000</td>\n      <td>2</td>\n      <td>1</td>\n      <td>2.0</td>\n      <td>651</td>\n      <td>59</td>\n      <td>1953.0</td>\n      <td>17900</td>\n      <td>Midland Station</td>\n      <td>3600</td>\n      <td>2018-07-01</td>\n      <td>6056</td>\n      <td>-31.900547</td>\n      <td>116.038009</td>\n      <td>SWAN VIEW SENIOR HIGH SCHOOL</td>\n      <td>1.571401</td>\n      <td>NaN</td>\n    </tr>\n    <tr>\n      <th>4</th>\n      <td>1 Aman Place</td>\n      <td>Lockridge</td>\n      <td>325000</td>\n      <td>4</td>\n      <td>1</td>\n      <td>2.0</td>\n      <td>466</td>\n      <td>131</td>\n      <td>1998.0</td>\n      <td>11200</td>\n      <td>Bassendean Station</td>\n      <td>2000</td>\n      <td>2016-11-01</td>\n      <td>6054</td>\n      <td>-31.885790</td>\n      <td>115.947780</td>\n      <td>KIARA COLLEGE</td>\n      <td>1.514922</td>\n      <td>NaN</td>\n    </tr>\n  </tbody>\n</table>\n</div>"
     },
     "metadata": {}
    }
   ],
   "execution_count": null
  },
  {
   "cell_type": "code",
   "metadata": {
    "cell_id": "14a8a329-a67d-422c-99e7-6ff2be7fa433",
    "tags": [],
    "deepnote_to_be_reexecuted": false,
    "source_hash": "ab90a3e",
    "execution_start": 1646968486592,
    "execution_millis": 84,
    "deepnote_table_state": {
     "pageSize": 10,
     "pageIndex": 1263,
     "filters": [],
     "sortBy": []
    },
    "deepnote_table_loading": false,
    "deepnote_cell_type": "code",
    "deepnote_cell_height": 740.65625
   },
   "source": "# create the 2018-2020 dataset\ncut_perth = perth.copy()\ncut_perth.sort_values(by='DATE_SOLD', inplace=True)\n\ncut_perth = cut_perth[17489:]\ncut_perth\n# 2018 17489\n",
   "outputs": [
    {
     "output_type": "execute_result",
     "execution_count": 4,
     "data": {
      "application/vnd.deepnote.dataframe.v3+json": {
       "column_count": 19,
       "row_count": 16167,
       "columns": [
        {
         "name": "ADDRESS",
         "dtype": "object",
         "stats": {
          "unique_count": 16150,
          "nan_count": 0,
          "categories": [
           {
            "name": "123 Fairway",
            "count": 3
           },
           {
            "name": "20 Bernard Street",
            "count": 2
           },
           {
            "name": "16148 others",
            "count": 16162
           }
          ]
         }
        },
        {
         "name": "SUBURB",
         "dtype": "object",
         "stats": {
          "unique_count": 307,
          "nan_count": 0,
          "categories": [
           {
            "name": "Butler",
            "count": 207
           },
           {
            "name": "Mindarie",
            "count": 198
           },
           {
            "name": "305 others",
            "count": 15762
           }
          ]
         }
        },
        {
         "name": "PRICE",
         "dtype": "int64",
         "stats": {
          "unique_count": 1560,
          "nan_count": 0,
          "min": "53000",
          "max": "2440000",
          "histogram": [
           {
            "bin_start": 53000,
            "bin_end": 291700,
            "count": 1069
           },
           {
            "bin_start": 291700,
            "bin_end": 530400,
            "count": 6910
           },
           {
            "bin_start": 530400,
            "bin_end": 769100,
            "count": 4430
           },
           {
            "bin_start": 769100,
            "bin_end": 1007800,
            "count": 1910
           },
           {
            "bin_start": 1007800,
            "bin_end": 1246500,
            "count": 753
           },
           {
            "bin_start": 1246500,
            "bin_end": 1485200,
            "count": 506
           },
           {
            "bin_start": 1485200,
            "bin_end": 1723900,
            "count": 270
           },
           {
            "bin_start": 1723900,
            "bin_end": 1962600,
            "count": 172
           },
           {
            "bin_start": 1962600,
            "bin_end": 2201300,
            "count": 95
           },
           {
            "bin_start": 2201300,
            "bin_end": 2440000,
            "count": 52
           }
          ]
         }
        },
        {
         "name": "BEDROOMS",
         "dtype": "int64",
         "stats": {
          "unique_count": 9,
          "nan_count": 0,
          "min": "1",
          "max": "9",
          "histogram": [
           {
            "bin_start": 1,
            "bin_end": 1.8,
            "count": 42
           },
           {
            "bin_start": 1.8,
            "bin_end": 2.6,
            "count": 654
           },
           {
            "bin_start": 2.6,
            "bin_end": 3.4000000000000004,
            "count": 5425
           },
           {
            "bin_start": 3.4000000000000004,
            "bin_end": 4.2,
            "count": 8825
           },
           {
            "bin_start": 4.2,
            "bin_end": 5,
            "count": 0
           },
           {
            "bin_start": 5,
            "bin_end": 5.800000000000001,
            "count": 1085
           },
           {
            "bin_start": 5.800000000000001,
            "bin_end": 6.6000000000000005,
            "count": 114
           },
           {
            "bin_start": 6.6000000000000005,
            "bin_end": 7.4,
            "count": 16
           },
           {
            "bin_start": 7.4,
            "bin_end": 8.2,
            "count": 4
           },
           {
            "bin_start": 8.2,
            "bin_end": 9,
            "count": 2
           }
          ]
         }
        },
        {
         "name": "BATHROOMS",
         "dtype": "int64",
         "stats": {
          "unique_count": 7,
          "nan_count": 0,
          "min": "1",
          "max": "7",
          "histogram": [
           {
            "bin_start": 1,
            "bin_end": 1.6,
            "count": 3715
           },
           {
            "bin_start": 1.6,
            "bin_end": 2.2,
            "count": 11332
           },
           {
            "bin_start": 2.2,
            "bin_end": 2.8,
            "count": 0
           },
           {
            "bin_start": 2.8,
            "bin_end": 3.4,
            "count": 1022
           },
           {
            "bin_start": 3.4,
            "bin_end": 4,
            "count": 0
           },
           {
            "bin_start": 4,
            "bin_end": 4.6,
            "count": 90
           },
           {
            "bin_start": 4.6,
            "bin_end": 5.2,
            "count": 4
           },
           {
            "bin_start": 5.2,
            "bin_end": 5.8,
            "count": 0
           },
           {
            "bin_start": 5.8,
            "bin_end": 6.3999999999999995,
            "count": 3
           },
           {
            "bin_start": 6.3999999999999995,
            "bin_end": 7,
            "count": 1
           }
          ]
         }
        },
        {
         "name": "GARAGE",
         "dtype": "float64",
         "stats": {
          "unique_count": 19,
          "nan_count": 1272,
          "min": "1.0",
          "max": "50.0",
          "histogram": [
           {
            "bin_start": 1,
            "bin_end": 5.9,
            "count": 14568
           },
           {
            "bin_start": 5.9,
            "bin_end": 10.8,
            "count": 304
           },
           {
            "bin_start": 10.8,
            "bin_end": 15.700000000000001,
            "count": 16
           },
           {
            "bin_start": 15.700000000000001,
            "bin_end": 20.6,
            "count": 5
           },
           {
            "bin_start": 20.6,
            "bin_end": 25.5,
            "count": 1
           },
           {
            "bin_start": 25.5,
            "bin_end": 30.400000000000002,
            "count": 0
           },
           {
            "bin_start": 30.400000000000002,
            "bin_end": 35.300000000000004,
            "count": 0
           },
           {
            "bin_start": 35.300000000000004,
            "bin_end": 40.2,
            "count": 0
           },
           {
            "bin_start": 40.2,
            "bin_end": 45.1,
            "count": 0
           },
           {
            "bin_start": 45.1,
            "bin_end": 50,
            "count": 1
           }
          ]
         }
        },
        {
         "name": "LAND_AREA",
         "dtype": "int64"
        },
        {
         "name": "FLOOR_AREA",
         "dtype": "int64"
        },
        {
         "name": "BUILD_YEAR",
         "dtype": "float64"
        },
        {
         "name": "CBD_DIST",
         "dtype": "int64"
        },
        {
         "name": "NEAREST_STN",
         "dtype": "object"
        },
        {
         "name": "NEAREST_STN_DIST",
         "dtype": "int64"
        },
        {
         "name": "DATE_SOLD",
         "dtype": "datetime64[ns]"
        },
        {
         "name": "POSTCODE",
         "dtype": "int64"
        },
        {
         "name": "LATITUDE",
         "dtype": "float64"
        },
        {
         "name": "LONGITUDE",
         "dtype": "float64"
        },
        {
         "name": "NEAREST_SCH",
         "dtype": "object"
        },
        {
         "name": "NEAREST_SCH_DIST",
         "dtype": "float64"
        },
        {
         "name": "NEAREST_SCH_RANK",
         "dtype": "float64"
        },
        {
         "name": "_deepnote_index_column",
         "dtype": "int64"
        }
       ],
       "rows": [
        {
         "ADDRESS": "657a Karrinyup Road",
         "SUBURB": "Stirling",
         "PRICE": 510000,
         "BEDROOMS": 2,
         "BATHROOMS": 1,
         "GARAGE": 1,
         "LAND_AREA": 1001,
         "FLOOR_AREA": 69,
         "BUILD_YEAR": 1978,
         "CBD_DIST": 8200,
         "NEAREST_STN": "Stirling Station",
         "NEAREST_STN_DIST": 1100,
         "DATE_SOLD": "2020-05-01T00:00:00.000000",
         "POSTCODE": 6021,
         "LATITUDE": -31.88894,
         "LONGITUDE": 115.81411,
         "NEAREST_SCH": "BALCATTA SENIOR HIGH SCHOOL",
         "NEAREST_SCH_DIST": 1.5033981839210764,
         "NEAREST_SCH_RANK": 135,
         "_deepnote_index_column": 28256
        },
        {
         "ADDRESS": "201 Rosebery Street",
         "SUBURB": "Bedford",
         "PRICE": 610000,
         "BEDROOMS": 4,
         "BATHROOMS": 2,
         "GARAGE": "nan",
         "LAND_AREA": 457,
         "FLOOR_AREA": 136,
         "BUILD_YEAR": 1951,
         "CBD_DIST": 5400,
         "NEAREST_STN": "Mount Lawley Station",
         "NEAREST_STN_DIST": 2900,
         "DATE_SOLD": "2020-05-01T00:00:00.000000",
         "POSTCODE": 6052,
         "LATITUDE": -31.90840202,
         "LONGITUDE": 115.8827692,
         "NEAREST_SCH": "CHISHOLM CATHOLIC COLLEGE",
         "NEAREST_SCH_DIST": 1.7155115346844692,
         "NEAREST_SCH_RANK": 29,
         "_deepnote_index_column": 11446
        },
        {
         "ADDRESS": "9 Beaumonde Grange",
         "SUBURB": "Aveley",
         "PRICE": 340000,
         "BEDROOMS": 3,
         "BATHROOMS": 2,
         "GARAGE": 2,
         "LAND_AREA": 412,
         "FLOOR_AREA": 126,
         "BUILD_YEAR": 2014,
         "CBD_DIST": 23200,
         "NEAREST_STN": "Woodbridge Station",
         "NEAREST_STN_DIST": 12900,
         "DATE_SOLD": "2020-05-01T00:00:00.000000",
         "POSTCODE": 6069,
         "LATITUDE": -31.77550571,
         "LONGITUDE": 115.988219,
         "NEAREST_SCH": "HOLY CROSS COLLEGE",
         "NEAREST_SCH_DIST": 1.38656133182243,
         "NEAREST_SCH_RANK": 98,
         "_deepnote_index_column": 32289
        },
        {
         "ADDRESS": "12 Kentia Loop",
         "SUBURB": "Wanneroo",
         "PRICE": 1115000,
         "BEDROOMS": 4,
         "BATHROOMS": 2,
         "GARAGE": 6,
         "LAND_AREA": 4003,
         "FLOOR_AREA": 211,
         "BUILD_YEAR": 1989,
         "CBD_DIST": 20800,
         "NEAREST_STN": "Edgewater Station",
         "NEAREST_STN_DIST": 3000,
         "DATE_SOLD": "2020-05-01T00:00:00.000000",
         "POSTCODE": 6065,
         "LATITUDE": -31.76953,
         "LONGITUDE": 115.80992,
         "NEAREST_SCH": "WANNEROO SECONDARY COLLEGE",
         "NEAREST_SCH_DIST": 1.3868033289310775,
         "NEAREST_SCH_RANK": 131,
         "_deepnote_index_column": 3687
        },
        {
         "ADDRESS": "23 Bruce Street",
         "SUBURB": "North Fremantle",
         "PRICE": 1170000,
         "BEDROOMS": 3,
         "BATHROOMS": 3,
         "GARAGE": 2,
         "LAND_AREA": 359,
         "FLOOR_AREA": 234,
         "BUILD_YEAR": 1999,
         "CBD_DIST": 13500,
         "NEAREST_STN": "North Fremantle Station",
         "NEAREST_STN_DIST": 1100,
         "DATE_SOLD": "2020-05-01T00:00:00.000000",
         "POSTCODE": 6159,
         "LATITUDE": -32.03813,
         "LONGITUDE": 115.75736,
         "NEAREST_SCH": "JOHN CURTIN COLLEGE OF THE ARTS",
         "NEAREST_SCH_DIST": 1.1731247583491773,
         "NEAREST_SCH_RANK": 25,
         "_deepnote_index_column": 12868
        },
        {
         "ADDRESS": "32D Blackwall Reach Parade",
         "SUBURB": "Bicton",
         "PRICE": 1737500,
         "BEDROOMS": 3,
         "BATHROOMS": 2,
         "GARAGE": 2,
         "LAND_AREA": 2103,
         "FLOOR_AREA": 193,
         "BUILD_YEAR": 1987,
         "CBD_DIST": 10900,
         "NEAREST_STN": "North Fremantle Station",
         "NEAREST_STN_DIST": 2800,
         "DATE_SOLD": "2020-06-01T00:00:00.000000",
         "POSTCODE": 6157,
         "LATITUDE": -32.02444642,
         "LONGITUDE": 115.7811547,
         "NEAREST_SCH": "SANTA MARIA COLLEGE",
         "NEAREST_SCH_DIST": 1.527877328828545,
         "NEAREST_SCH_RANK": 10,
         "_deepnote_index_column": 18429
        },
        {
         "ADDRESS": "20 Cinnabar Bend",
         "SUBURB": "Aveley",
         "PRICE": 432500,
         "BEDROOMS": 4,
         "BATHROOMS": 2,
         "GARAGE": 2,
         "LAND_AREA": 450,
         "FLOOR_AREA": 199,
         "BUILD_YEAR": 2012,
         "CBD_DIST": 23400,
         "NEAREST_STN": "Woodbridge Station",
         "NEAREST_STN_DIST": 13400,
         "DATE_SOLD": "2020-06-01T00:00:00.000000",
         "POSTCODE": 6069,
         "LATITUDE": -31.77153197,
         "LONGITUDE": 115.986219,
         "NEAREST_SCH": "HOLY CROSS COLLEGE",
         "NEAREST_SCH_DIST": 1.184200842794778,
         "NEAREST_SCH_RANK": 98,
         "_deepnote_index_column": 11031
        },
        {
         "ADDRESS": "53 Fairmount Boulevard",
         "SUBURB": "Brabham",
         "PRICE": 340000,
         "BEDROOMS": 3,
         "BATHROOMS": 2,
         "GARAGE": 2,
         "LAND_AREA": 210,
         "FLOOR_AREA": 107,
         "BUILD_YEAR": 2013,
         "CBD_DIST": 18100,
         "NEAREST_STN": "Guildford Station",
         "NEAREST_STN_DIST": 9000,
         "DATE_SOLD": "2020-06-01T00:00:00.000000",
         "POSTCODE": 6055,
         "LATITUDE": -31.8177611,
         "LONGITUDE": 115.9657783,
         "NEAREST_SCH": "SWAN VALLEY ANGLICAN COMMUNITY SCHOOL",
         "NEAREST_SCH_DIST": 3.200348126057684,
         "NEAREST_SCH_RANK": 53,
         "_deepnote_index_column": 25426
        },
        {
         "ADDRESS": "7 Curven Road",
         "SUBURB": "Hamilton Hill",
         "PRICE": 405000,
         "BEDROOMS": 4,
         "BATHROOMS": 1,
         "GARAGE": "nan",
         "LAND_AREA": 952,
         "FLOOR_AREA": 129,
         "BUILD_YEAR": 1960,
         "CBD_DIST": 15200,
         "NEAREST_STN": "Murdoch Station",
         "NEAREST_STN_DIST": 5700,
         "DATE_SOLD": "2020-06-01T00:00:00.000000",
         "POSTCODE": 6163,
         "LATITUDE": -32.07649,
         "LONGITUDE": 115.79158,
         "NEAREST_SCH": "SETON CATHOLIC COLLEGE",
         "NEAREST_SCH_DIST": 0.4545778975424793,
         "NEAREST_SCH_RANK": 91,
         "_deepnote_index_column": 28909
        },
        {
         "ADDRESS": "1/63 SAW AVENUE",
         "SUBURB": "Rockingham",
         "PRICE": 342000,
         "BEDROOMS": 4,
         "BATHROOMS": 2,
         "GARAGE": 1,
         "LAND_AREA": 1754,
         "FLOOR_AREA": 117,
         "BUILD_YEAR": "nan",
         "CBD_DIST": 38900,
         "NEAREST_STN": "Rockingham Station",
         "NEAREST_STN_DIST": 4100,
         "DATE_SOLD": "2020-06-01T00:00:00.000000",
         "POSTCODE": 6168,
         "LATITUDE": -32.28116,
         "LONGITUDE": 115.71855,
         "NEAREST_SCH": "ROCKINGHAM SENIOR HIGH SCHOOL",
         "NEAREST_SCH_DIST": 1.6506103893896118,
         "NEAREST_SCH_RANK": "nan",
         "_deepnote_index_column": 740
        }
       ]
      },
      "text/plain": "                   ADDRESS           SUBURB    PRICE  BEDROOMS  BATHROOMS  \\\n25278       52 Graham Road  Gooseberry Hill   855000         3          2   \n2958    111 Willmott Drive       Cooloongup   270000         3          1   \n3799        12 Moreto Turn        Caversham   502500         4          2   \n26804      6 Finchley Rise  Mount Claremont  1780000         4          2   \n18415      32a Talbot Road        Swan View   428000         3          2   \n...                    ...              ...      ...       ...        ...   \n8077      17 Hawkes Street       Coolbellup   500000         3          1   \n2274     11 Eddington Road          Warwick   695000         4          2   \n5789    14/314 Wright Road     Piara Waters   360000         3          2   \n8127       17 Kalli Street       Golden Bay   315000         3          2   \n6558   15 Pine Valley Pass         Connolly   995000         4          1   \n\n       GARAGE  LAND_AREA  FLOOR_AREA  BUILD_YEAR  CBD_DIST  \\\n25278     2.0       2148         192      1976.0     18300   \n2958      1.0        681          90      1988.0     40100   \n3799      2.0        474         189         NaN     14300   \n26804     2.0        916         263      1991.0      7500   \n18415     NaN        850         152      2010.0     19900   \n...       ...        ...         ...         ...       ...   \n8077      NaN        728         112      1964.0     15200   \n2274      2.0        509         174      2000.0     13300   \n5789      2.0        161         113      2013.0     19900   \n8127      2.0        299         132      2012.0     53100   \n6558      NaN        630         264         NaN     25300   \n\n                    NEAREST_STN  NEAREST_STN_DIST  DATE_SOLD  POSTCODE  \\\n25278           Midland Station              7400 2018-01-01      6076   \n2958         Rockingham Station              1300 2018-01-01      6168   \n3799          Guildford Station              3800 2018-01-01      6055   \n26804         Claremont Station              1900 2018-01-01      6010   \n18415           Midland Station              5000 2018-01-01      6056   \n...                         ...               ...        ...       ...   \n8077            Murdoch Station              5100 2020-12-01      6163   \n2274            Warwick Station              1400 2020-12-01      6024   \n5789   Cockburn Central Station              6400 2020-12-01      6112   \n8127            Warnbro Station             10600 2020-12-01      6174   \n6558          Joondalup Station              1800 2020-12-01      6027   \n\n        LATITUDE   LONGITUDE                           NEAREST_SCH  \\\n25278 -31.942012  116.051851            TREETOPS MONTESSORI SCHOOL   \n2958  -32.301900  115.757760           SOUTH COAST BAPTIST COLLEGE   \n3799  -31.864014  115.969749  GOVERNOR STIRLING SENIOR HIGH SCHOOL   \n26804 -31.963740  115.780730                    JOHN XXIII COLLEGE   \n18415 -31.882912  116.053054          SWAN VIEW SENIOR HIGH SCHOOL   \n...          ...         ...                                   ...   \n8077  -32.078860  115.798370                SETON CATHOLIC COLLEGE   \n2274  -31.839880  115.810180            WARWICK SENIOR HIGH SCHOOL   \n5789  -32.123387  115.924370                 CAREY BAPTIST COLLEGE   \n8127  -32.421870  115.759530                     COMET BAY COLLEGE   \n6558  -31.745540  115.748710          PRENDIVILLE CATHOLIC COLLEGE   \n\n       NEAREST_SCH_DIST  NEAREST_SCH_RANK  \n25278          3.231840               NaN  \n2958           1.497308               NaN  \n3799           3.305409             130.0  \n26804          0.572773               8.0  \n18415          0.967736               NaN  \n...                 ...               ...  \n8077           0.831985              91.0  \n2274           0.513788               NaN  \n5789           1.681970              62.0  \n8127           0.749121              35.0  \n6558           1.327831              60.0  \n\n[16167 rows x 19 columns]",
      "text/html": "<div>\n<style scoped>\n    .dataframe tbody tr th:only-of-type {\n        vertical-align: middle;\n    }\n\n    .dataframe tbody tr th {\n        vertical-align: top;\n    }\n\n    .dataframe thead th {\n        text-align: right;\n    }\n</style>\n<table border=\"1\" class=\"dataframe\">\n  <thead>\n    <tr style=\"text-align: right;\">\n      <th></th>\n      <th>ADDRESS</th>\n      <th>SUBURB</th>\n      <th>PRICE</th>\n      <th>BEDROOMS</th>\n      <th>BATHROOMS</th>\n      <th>GARAGE</th>\n      <th>LAND_AREA</th>\n      <th>FLOOR_AREA</th>\n      <th>BUILD_YEAR</th>\n      <th>CBD_DIST</th>\n      <th>NEAREST_STN</th>\n      <th>NEAREST_STN_DIST</th>\n      <th>DATE_SOLD</th>\n      <th>POSTCODE</th>\n      <th>LATITUDE</th>\n      <th>LONGITUDE</th>\n      <th>NEAREST_SCH</th>\n      <th>NEAREST_SCH_DIST</th>\n      <th>NEAREST_SCH_RANK</th>\n    </tr>\n  </thead>\n  <tbody>\n    <tr>\n      <th>25278</th>\n      <td>52 Graham Road</td>\n      <td>Gooseberry Hill</td>\n      <td>855000</td>\n      <td>3</td>\n      <td>2</td>\n      <td>2.0</td>\n      <td>2148</td>\n      <td>192</td>\n      <td>1976.0</td>\n      <td>18300</td>\n      <td>Midland Station</td>\n      <td>7400</td>\n      <td>2018-01-01</td>\n      <td>6076</td>\n      <td>-31.942012</td>\n      <td>116.051851</td>\n      <td>TREETOPS MONTESSORI SCHOOL</td>\n      <td>3.231840</td>\n      <td>NaN</td>\n    </tr>\n    <tr>\n      <th>2958</th>\n      <td>111 Willmott Drive</td>\n      <td>Cooloongup</td>\n      <td>270000</td>\n      <td>3</td>\n      <td>1</td>\n      <td>1.0</td>\n      <td>681</td>\n      <td>90</td>\n      <td>1988.0</td>\n      <td>40100</td>\n      <td>Rockingham Station</td>\n      <td>1300</td>\n      <td>2018-01-01</td>\n      <td>6168</td>\n      <td>-32.301900</td>\n      <td>115.757760</td>\n      <td>SOUTH COAST BAPTIST COLLEGE</td>\n      <td>1.497308</td>\n      <td>NaN</td>\n    </tr>\n    <tr>\n      <th>3799</th>\n      <td>12 Moreto Turn</td>\n      <td>Caversham</td>\n      <td>502500</td>\n      <td>4</td>\n      <td>2</td>\n      <td>2.0</td>\n      <td>474</td>\n      <td>189</td>\n      <td>NaN</td>\n      <td>14300</td>\n      <td>Guildford Station</td>\n      <td>3800</td>\n      <td>2018-01-01</td>\n      <td>6055</td>\n      <td>-31.864014</td>\n      <td>115.969749</td>\n      <td>GOVERNOR STIRLING SENIOR HIGH SCHOOL</td>\n      <td>3.305409</td>\n      <td>130.0</td>\n    </tr>\n    <tr>\n      <th>26804</th>\n      <td>6 Finchley Rise</td>\n      <td>Mount Claremont</td>\n      <td>1780000</td>\n      <td>4</td>\n      <td>2</td>\n      <td>2.0</td>\n      <td>916</td>\n      <td>263</td>\n      <td>1991.0</td>\n      <td>7500</td>\n      <td>Claremont Station</td>\n      <td>1900</td>\n      <td>2018-01-01</td>\n      <td>6010</td>\n      <td>-31.963740</td>\n      <td>115.780730</td>\n      <td>JOHN XXIII COLLEGE</td>\n      <td>0.572773</td>\n      <td>8.0</td>\n    </tr>\n    <tr>\n      <th>18415</th>\n      <td>32a Talbot Road</td>\n      <td>Swan View</td>\n      <td>428000</td>\n      <td>3</td>\n      <td>2</td>\n      <td>NaN</td>\n      <td>850</td>\n      <td>152</td>\n      <td>2010.0</td>\n      <td>19900</td>\n      <td>Midland Station</td>\n      <td>5000</td>\n      <td>2018-01-01</td>\n      <td>6056</td>\n      <td>-31.882912</td>\n      <td>116.053054</td>\n      <td>SWAN VIEW SENIOR HIGH SCHOOL</td>\n      <td>0.967736</td>\n      <td>NaN</td>\n    </tr>\n    <tr>\n      <th>...</th>\n      <td>...</td>\n      <td>...</td>\n      <td>...</td>\n      <td>...</td>\n      <td>...</td>\n      <td>...</td>\n      <td>...</td>\n      <td>...</td>\n      <td>...</td>\n      <td>...</td>\n      <td>...</td>\n      <td>...</td>\n      <td>...</td>\n      <td>...</td>\n      <td>...</td>\n      <td>...</td>\n      <td>...</td>\n      <td>...</td>\n      <td>...</td>\n    </tr>\n    <tr>\n      <th>8077</th>\n      <td>17 Hawkes Street</td>\n      <td>Coolbellup</td>\n      <td>500000</td>\n      <td>3</td>\n      <td>1</td>\n      <td>NaN</td>\n      <td>728</td>\n      <td>112</td>\n      <td>1964.0</td>\n      <td>15200</td>\n      <td>Murdoch Station</td>\n      <td>5100</td>\n      <td>2020-12-01</td>\n      <td>6163</td>\n      <td>-32.078860</td>\n      <td>115.798370</td>\n      <td>SETON CATHOLIC COLLEGE</td>\n      <td>0.831985</td>\n      <td>91.0</td>\n    </tr>\n    <tr>\n      <th>2274</th>\n      <td>11 Eddington Road</td>\n      <td>Warwick</td>\n      <td>695000</td>\n      <td>4</td>\n      <td>2</td>\n      <td>2.0</td>\n      <td>509</td>\n      <td>174</td>\n      <td>2000.0</td>\n      <td>13300</td>\n      <td>Warwick Station</td>\n      <td>1400</td>\n      <td>2020-12-01</td>\n      <td>6024</td>\n      <td>-31.839880</td>\n      <td>115.810180</td>\n      <td>WARWICK SENIOR HIGH SCHOOL</td>\n      <td>0.513788</td>\n      <td>NaN</td>\n    </tr>\n    <tr>\n      <th>5789</th>\n      <td>14/314 Wright Road</td>\n      <td>Piara Waters</td>\n      <td>360000</td>\n      <td>3</td>\n      <td>2</td>\n      <td>2.0</td>\n      <td>161</td>\n      <td>113</td>\n      <td>2013.0</td>\n      <td>19900</td>\n      <td>Cockburn Central Station</td>\n      <td>6400</td>\n      <td>2020-12-01</td>\n      <td>6112</td>\n      <td>-32.123387</td>\n      <td>115.924370</td>\n      <td>CAREY BAPTIST COLLEGE</td>\n      <td>1.681970</td>\n      <td>62.0</td>\n    </tr>\n    <tr>\n      <th>8127</th>\n      <td>17 Kalli Street</td>\n      <td>Golden Bay</td>\n      <td>315000</td>\n      <td>3</td>\n      <td>2</td>\n      <td>2.0</td>\n      <td>299</td>\n      <td>132</td>\n      <td>2012.0</td>\n      <td>53100</td>\n      <td>Warnbro Station</td>\n      <td>10600</td>\n      <td>2020-12-01</td>\n      <td>6174</td>\n      <td>-32.421870</td>\n      <td>115.759530</td>\n      <td>COMET BAY COLLEGE</td>\n      <td>0.749121</td>\n      <td>35.0</td>\n    </tr>\n    <tr>\n      <th>6558</th>\n      <td>15 Pine Valley Pass</td>\n      <td>Connolly</td>\n      <td>995000</td>\n      <td>4</td>\n      <td>1</td>\n      <td>NaN</td>\n      <td>630</td>\n      <td>264</td>\n      <td>NaN</td>\n      <td>25300</td>\n      <td>Joondalup Station</td>\n      <td>1800</td>\n      <td>2020-12-01</td>\n      <td>6027</td>\n      <td>-31.745540</td>\n      <td>115.748710</td>\n      <td>PRENDIVILLE CATHOLIC COLLEGE</td>\n      <td>1.327831</td>\n      <td>60.0</td>\n    </tr>\n  </tbody>\n</table>\n<p>16167 rows × 19 columns</p>\n</div>"
     },
     "metadata": {}
    }
   ],
   "execution_count": null
  },
  {
   "cell_type": "code",
   "metadata": {
    "cell_id": "466e2d30-f6bd-4c89-b2da-cad66950a631",
    "tags": [],
    "deepnote_to_be_reexecuted": false,
    "source_hash": "4953758b",
    "execution_start": 1646968486680,
    "execution_millis": 6,
    "deepnote_cell_type": "code",
    "deepnote_cell_height": 118.1875,
    "deepnote_output_heights": [
     21.1875
    ]
   },
   "source": "len(cut_perth)",
   "outputs": [
    {
     "output_type": "execute_result",
     "execution_count": 5,
     "data": {
      "text/plain": "16167"
     },
     "metadata": {}
    }
   ],
   "execution_count": null
  },
  {
   "cell_type": "code",
   "metadata": {
    "cell_id": "8c2078ea-2f9d-42b1-9406-0f657e0d64ab",
    "tags": [],
    "deepnote_to_be_reexecuted": false,
    "source_hash": "d51f247f",
    "execution_start": 1646968486733,
    "execution_millis": 45,
    "deepnote_cell_type": "code",
    "deepnote_cell_height": 445.65625
   },
   "source": "# reset index\ncut_perth = cut_perth.reset_index()\ncut_perth.head()",
   "outputs": [
    {
     "output_type": "execute_result",
     "execution_count": 6,
     "data": {
      "application/vnd.deepnote.dataframe.v3+json": {
       "column_count": 20,
       "row_count": 5,
       "columns": [
        {
         "name": "index",
         "dtype": "int64",
         "stats": {
          "unique_count": 5,
          "nan_count": 0,
          "min": "2958",
          "max": "26804",
          "histogram": [
           {
            "bin_start": 2958,
            "bin_end": 5342.6,
            "count": 2
           },
           {
            "bin_start": 5342.6,
            "bin_end": 7727.2,
            "count": 0
           },
           {
            "bin_start": 7727.2,
            "bin_end": 10111.8,
            "count": 0
           },
           {
            "bin_start": 10111.8,
            "bin_end": 12496.4,
            "count": 0
           },
           {
            "bin_start": 12496.4,
            "bin_end": 14881,
            "count": 0
           },
           {
            "bin_start": 14881,
            "bin_end": 17265.6,
            "count": 0
           },
           {
            "bin_start": 17265.6,
            "bin_end": 19650.2,
            "count": 1
           },
           {
            "bin_start": 19650.2,
            "bin_end": 22034.8,
            "count": 0
           },
           {
            "bin_start": 22034.8,
            "bin_end": 24419.399999999998,
            "count": 0
           },
           {
            "bin_start": 24419.399999999998,
            "bin_end": 26804,
            "count": 2
           }
          ]
         }
        },
        {
         "name": "ADDRESS",
         "dtype": "object",
         "stats": {
          "unique_count": 5,
          "nan_count": 0,
          "categories": [
           {
            "name": "52 Graham Road",
            "count": 1
           },
           {
            "name": "111 Willmott Drive",
            "count": 1
           },
           {
            "name": "3 others",
            "count": 3
           }
          ]
         }
        },
        {
         "name": "SUBURB",
         "dtype": "object",
         "stats": {
          "unique_count": 5,
          "nan_count": 0,
          "categories": [
           {
            "name": "Gooseberry Hill",
            "count": 1
           },
           {
            "name": "Cooloongup",
            "count": 1
           },
           {
            "name": "3 others",
            "count": 3
           }
          ]
         }
        },
        {
         "name": "PRICE",
         "dtype": "int64",
         "stats": {
          "unique_count": 5,
          "nan_count": 0,
          "min": "270000",
          "max": "1780000",
          "histogram": [
           {
            "bin_start": 270000,
            "bin_end": 421000,
            "count": 1
           },
           {
            "bin_start": 421000,
            "bin_end": 572000,
            "count": 2
           },
           {
            "bin_start": 572000,
            "bin_end": 723000,
            "count": 0
           },
           {
            "bin_start": 723000,
            "bin_end": 874000,
            "count": 1
           },
           {
            "bin_start": 874000,
            "bin_end": 1025000,
            "count": 0
           },
           {
            "bin_start": 1025000,
            "bin_end": 1176000,
            "count": 0
           },
           {
            "bin_start": 1176000,
            "bin_end": 1327000,
            "count": 0
           },
           {
            "bin_start": 1327000,
            "bin_end": 1478000,
            "count": 0
           },
           {
            "bin_start": 1478000,
            "bin_end": 1629000,
            "count": 0
           },
           {
            "bin_start": 1629000,
            "bin_end": 1780000,
            "count": 1
           }
          ]
         }
        },
        {
         "name": "BEDROOMS",
         "dtype": "int64",
         "stats": {
          "unique_count": 2,
          "nan_count": 0,
          "min": "3",
          "max": "4",
          "histogram": [
           {
            "bin_start": 3,
            "bin_end": 3.1,
            "count": 3
           },
           {
            "bin_start": 3.1,
            "bin_end": 3.2,
            "count": 0
           },
           {
            "bin_start": 3.2,
            "bin_end": 3.3,
            "count": 0
           },
           {
            "bin_start": 3.3,
            "bin_end": 3.4,
            "count": 0
           },
           {
            "bin_start": 3.4,
            "bin_end": 3.5,
            "count": 0
           },
           {
            "bin_start": 3.5,
            "bin_end": 3.6,
            "count": 0
           },
           {
            "bin_start": 3.6,
            "bin_end": 3.7,
            "count": 0
           },
           {
            "bin_start": 3.7,
            "bin_end": 3.8,
            "count": 0
           },
           {
            "bin_start": 3.8,
            "bin_end": 3.9,
            "count": 0
           },
           {
            "bin_start": 3.9,
            "bin_end": 4,
            "count": 2
           }
          ]
         }
        },
        {
         "name": "BATHROOMS",
         "dtype": "int64",
         "stats": {
          "unique_count": 2,
          "nan_count": 0,
          "min": "1",
          "max": "2",
          "histogram": [
           {
            "bin_start": 1,
            "bin_end": 1.1,
            "count": 1
           },
           {
            "bin_start": 1.1,
            "bin_end": 1.2,
            "count": 0
           },
           {
            "bin_start": 1.2,
            "bin_end": 1.3,
            "count": 0
           },
           {
            "bin_start": 1.3,
            "bin_end": 1.4,
            "count": 0
           },
           {
            "bin_start": 1.4,
            "bin_end": 1.5,
            "count": 0
           },
           {
            "bin_start": 1.5,
            "bin_end": 1.6,
            "count": 0
           },
           {
            "bin_start": 1.6,
            "bin_end": 1.7000000000000002,
            "count": 0
           },
           {
            "bin_start": 1.7000000000000002,
            "bin_end": 1.8,
            "count": 0
           },
           {
            "bin_start": 1.8,
            "bin_end": 1.9,
            "count": 0
           },
           {
            "bin_start": 1.9,
            "bin_end": 2,
            "count": 4
           }
          ]
         }
        },
        {
         "name": "GARAGE",
         "dtype": "float64",
         "stats": {
          "unique_count": 2,
          "nan_count": 1,
          "min": "1.0",
          "max": "2.0",
          "histogram": [
           {
            "bin_start": 1,
            "bin_end": 1.1,
            "count": 1
           },
           {
            "bin_start": 1.1,
            "bin_end": 1.2,
            "count": 0
           },
           {
            "bin_start": 1.2,
            "bin_end": 1.3,
            "count": 0
           },
           {
            "bin_start": 1.3,
            "bin_end": 1.4,
            "count": 0
           },
           {
            "bin_start": 1.4,
            "bin_end": 1.5,
            "count": 0
           },
           {
            "bin_start": 1.5,
            "bin_end": 1.6,
            "count": 0
           },
           {
            "bin_start": 1.6,
            "bin_end": 1.7000000000000002,
            "count": 0
           },
           {
            "bin_start": 1.7000000000000002,
            "bin_end": 1.8,
            "count": 0
           },
           {
            "bin_start": 1.8,
            "bin_end": 1.9,
            "count": 0
           },
           {
            "bin_start": 1.9,
            "bin_end": 2,
            "count": 3
           }
          ]
         }
        },
        {
         "name": "LAND_AREA",
         "dtype": "int64",
         "stats": {
          "unique_count": 5,
          "nan_count": 0,
          "min": "474",
          "max": "2148",
          "histogram": [
           {
            "bin_start": 474,
            "bin_end": 641.4,
            "count": 1
           },
           {
            "bin_start": 641.4,
            "bin_end": 808.8,
            "count": 1
           },
           {
            "bin_start": 808.8,
            "bin_end": 976.2,
            "count": 2
           },
           {
            "bin_start": 976.2,
            "bin_end": 1143.6,
            "count": 0
           },
           {
            "bin_start": 1143.6,
            "bin_end": 1311,
            "count": 0
           },
           {
            "bin_start": 1311,
            "bin_end": 1478.4,
            "count": 0
           },
           {
            "bin_start": 1478.4,
            "bin_end": 1645.8,
            "count": 0
           },
           {
            "bin_start": 1645.8,
            "bin_end": 1813.2,
            "count": 0
           },
           {
            "bin_start": 1813.2,
            "bin_end": 1980.6000000000001,
            "count": 0
           },
           {
            "bin_start": 1980.6000000000001,
            "bin_end": 2148,
            "count": 1
           }
          ]
         }
        },
        {
         "name": "FLOOR_AREA",
         "dtype": "int64",
         "stats": {
          "unique_count": 5,
          "nan_count": 0,
          "min": "90",
          "max": "263",
          "histogram": [
           {
            "bin_start": 90,
            "bin_end": 107.3,
            "count": 1
           },
           {
            "bin_start": 107.3,
            "bin_end": 124.6,
            "count": 0
           },
           {
            "bin_start": 124.6,
            "bin_end": 141.9,
            "count": 0
           },
           {
            "bin_start": 141.9,
            "bin_end": 159.2,
            "count": 1
           },
           {
            "bin_start": 159.2,
            "bin_end": 176.5,
            "count": 0
           },
           {
            "bin_start": 176.5,
            "bin_end": 193.8,
            "count": 2
           },
           {
            "bin_start": 193.8,
            "bin_end": 211.10000000000002,
            "count": 0
           },
           {
            "bin_start": 211.10000000000002,
            "bin_end": 228.4,
            "count": 0
           },
           {
            "bin_start": 228.4,
            "bin_end": 245.70000000000002,
            "count": 0
           },
           {
            "bin_start": 245.70000000000002,
            "bin_end": 263,
            "count": 1
           }
          ]
         }
        },
        {
         "name": "BUILD_YEAR",
         "dtype": "float64",
         "stats": {
          "unique_count": 4,
          "nan_count": 1,
          "min": "1976.0",
          "max": "2010.0",
          "histogram": [
           {
            "bin_start": 1976,
            "bin_end": 1979.4,
            "count": 1
           },
           {
            "bin_start": 1979.4,
            "bin_end": 1982.8,
            "count": 0
           },
           {
            "bin_start": 1982.8,
            "bin_end": 1986.2,
            "count": 0
           },
           {
            "bin_start": 1986.2,
            "bin_end": 1989.6,
            "count": 1
           },
           {
            "bin_start": 1989.6,
            "bin_end": 1993,
            "count": 1
           },
           {
            "bin_start": 1993,
            "bin_end": 1996.4,
            "count": 0
           },
           {
            "bin_start": 1996.4,
            "bin_end": 1999.8,
            "count": 0
           },
           {
            "bin_start": 1999.8,
            "bin_end": 2003.2,
            "count": 0
           },
           {
            "bin_start": 2003.2,
            "bin_end": 2006.6,
            "count": 0
           },
           {
            "bin_start": 2006.6,
            "bin_end": 2010,
            "count": 1
           }
          ]
         }
        },
        {
         "name": "CBD_DIST",
         "dtype": "int64",
         "stats": {
          "unique_count": 5,
          "nan_count": 0,
          "min": "7500",
          "max": "40100",
          "histogram": [
           {
            "bin_start": 7500,
            "bin_end": 10760,
            "count": 1
           },
           {
            "bin_start": 10760,
            "bin_end": 14020,
            "count": 0
           },
           {
            "bin_start": 14020,
            "bin_end": 17280,
            "count": 1
           },
           {
            "bin_start": 17280,
            "bin_end": 20540,
            "count": 2
           },
           {
            "bin_start": 20540,
            "bin_end": 23800,
            "count": 0
           },
           {
            "bin_start": 23800,
            "bin_end": 27060,
            "count": 0
           },
           {
            "bin_start": 27060,
            "bin_end": 30320,
            "count": 0
           },
           {
            "bin_start": 30320,
            "bin_end": 33580,
            "count": 0
           },
           {
            "bin_start": 33580,
            "bin_end": 36840,
            "count": 0
           },
           {
            "bin_start": 36840,
            "bin_end": 40100,
            "count": 1
           }
          ]
         }
        },
        {
         "name": "NEAREST_STN",
         "dtype": "object",
         "stats": {
          "unique_count": 4,
          "nan_count": 0,
          "categories": [
           {
            "name": "Midland Station",
            "count": 2
           },
           {
            "name": "Rockingham Station",
            "count": 1
           },
           {
            "name": "2 others",
            "count": 2
           }
          ]
         }
        },
        {
         "name": "NEAREST_STN_DIST",
         "dtype": "int64",
         "stats": {
          "unique_count": 5,
          "nan_count": 0,
          "min": "1300",
          "max": "7400",
          "histogram": [
           {
            "bin_start": 1300,
            "bin_end": 1910,
            "count": 2
           },
           {
            "bin_start": 1910,
            "bin_end": 2520,
            "count": 0
           },
           {
            "bin_start": 2520,
            "bin_end": 3130,
            "count": 0
           },
           {
            "bin_start": 3130,
            "bin_end": 3740,
            "count": 0
           },
           {
            "bin_start": 3740,
            "bin_end": 4350,
            "count": 1
           },
           {
            "bin_start": 4350,
            "bin_end": 4960,
            "count": 0
           },
           {
            "bin_start": 4960,
            "bin_end": 5570,
            "count": 1
           },
           {
            "bin_start": 5570,
            "bin_end": 6180,
            "count": 0
           },
           {
            "bin_start": 6180,
            "bin_end": 6790,
            "count": 0
           },
           {
            "bin_start": 6790,
            "bin_end": 7400,
            "count": 1
           }
          ]
         }
        },
        {
         "name": "DATE_SOLD",
         "dtype": "datetime64[ns]",
         "stats": {
          "unique_count": 1,
          "nan_count": 0,
          "min": "2018-01-01 00:00:00",
          "max": "2018-01-01 00:00:00",
          "histogram": null
         }
        },
        {
         "name": "POSTCODE",
         "dtype": "int64",
         "stats": {
          "unique_count": 5,
          "nan_count": 0,
          "min": "6010",
          "max": "6168",
          "histogram": [
           {
            "bin_start": 6010,
            "bin_end": 6025.8,
            "count": 1
           },
           {
            "bin_start": 6025.8,
            "bin_end": 6041.6,
            "count": 0
           },
           {
            "bin_start": 6041.6,
            "bin_end": 6057.4,
            "count": 2
           },
           {
            "bin_start": 6057.4,
            "bin_end": 6073.2,
            "count": 0
           },
           {
            "bin_start": 6073.2,
            "bin_end": 6089,
            "count": 1
           },
           {
            "bin_start": 6089,
            "bin_end": 6104.8,
            "count": 0
           },
           {
            "bin_start": 6104.8,
            "bin_end": 6120.6,
            "count": 0
           },
           {
            "bin_start": 6120.6,
            "bin_end": 6136.4,
            "count": 0
           },
           {
            "bin_start": 6136.4,
            "bin_end": 6152.2,
            "count": 0
           },
           {
            "bin_start": 6152.2,
            "bin_end": 6168,
            "count": 1
           }
          ]
         }
        },
        {
         "name": "LATITUDE",
         "dtype": "float64",
         "stats": {
          "unique_count": 5,
          "nan_count": 0,
          "min": "-32.3019",
          "max": "-31.86401386",
          "histogram": [
           {
            "bin_start": -32.3019,
            "bin_end": -32.258111386,
            "count": 1
           },
           {
            "bin_start": -32.258111386,
            "bin_end": -32.214322772,
            "count": 0
           },
           {
            "bin_start": -32.214322772,
            "bin_end": -32.170534158,
            "count": 0
           },
           {
            "bin_start": -32.170534158,
            "bin_end": -32.126745544,
            "count": 0
           },
           {
            "bin_start": -32.126745544,
            "bin_end": -32.08295693,
            "count": 0
           },
           {
            "bin_start": -32.08295693,
            "bin_end": -32.039168316,
            "count": 0
           },
           {
            "bin_start": -32.039168316,
            "bin_end": -31.995379702,
            "count": 0
           },
           {
            "bin_start": -31.995379702,
            "bin_end": -31.951591088,
            "count": 1
           },
           {
            "bin_start": -31.951591088,
            "bin_end": -31.907802474,
            "count": 1
           },
           {
            "bin_start": -31.907802474,
            "bin_end": -31.86401386,
            "count": 2
           }
          ]
         }
        },
        {
         "name": "LONGITUDE",
         "dtype": "float64",
         "stats": {
          "unique_count": 5,
          "nan_count": 0,
          "min": "115.75776",
          "max": "116.0530543",
          "histogram": [
           {
            "bin_start": 115.75776,
            "bin_end": 115.78728943,
            "count": 2
           },
           {
            "bin_start": 115.78728943,
            "bin_end": 115.81681886,
            "count": 0
           },
           {
            "bin_start": 115.81681886,
            "bin_end": 115.84634829000001,
            "count": 0
           },
           {
            "bin_start": 115.84634829000001,
            "bin_end": 115.87587772,
            "count": 0
           },
           {
            "bin_start": 115.87587772,
            "bin_end": 115.90540715,
            "count": 0
           },
           {
            "bin_start": 115.90540715,
            "bin_end": 115.93493658,
            "count": 0
           },
           {
            "bin_start": 115.93493658,
            "bin_end": 115.96446601,
            "count": 0
           },
           {
            "bin_start": 115.96446601,
            "bin_end": 115.99399544,
            "count": 1
           },
           {
            "bin_start": 115.99399544,
            "bin_end": 116.02352487,
            "count": 0
           },
           {
            "bin_start": 116.02352487,
            "bin_end": 116.0530543,
            "count": 2
           }
          ]
         }
        },
        {
         "name": "NEAREST_SCH",
         "dtype": "object",
         "stats": {
          "unique_count": 5,
          "nan_count": 0,
          "categories": [
           {
            "name": "TREETOPS MONTESSORI SCHOOL",
            "count": 1
           },
           {
            "name": "SOUTH COAST BAPTIST COLLEGE",
            "count": 1
           },
           {
            "name": "3 others",
            "count": 3
           }
          ]
         }
        },
        {
         "name": "NEAREST_SCH_DIST",
         "dtype": "float64",
         "stats": {
          "unique_count": 5,
          "nan_count": 0,
          "min": "0.5727734654777153",
          "max": "3.3054094426960896",
          "histogram": [
           {
            "bin_start": 0.5727734654777153,
            "bin_end": 0.8460370631995529,
            "count": 1
           },
           {
            "bin_start": 0.8460370631995529,
            "bin_end": 1.1193006609213902,
            "count": 1
           },
           {
            "bin_start": 1.1193006609213902,
            "bin_end": 1.3925642586432279,
            "count": 0
           },
           {
            "bin_start": 1.3925642586432279,
            "bin_end": 1.6658278563650653,
            "count": 1
           },
           {
            "bin_start": 1.6658278563650653,
            "bin_end": 1.9390914540869026,
            "count": 0
           },
           {
            "bin_start": 1.9390914540869026,
            "bin_end": 2.21235505180874,
            "count": 0
           },
           {
            "bin_start": 2.21235505180874,
            "bin_end": 2.4856186495305774,
            "count": 0
           },
           {
            "bin_start": 2.4856186495305774,
            "bin_end": 2.758882247252415,
            "count": 0
           },
           {
            "bin_start": 2.758882247252415,
            "bin_end": 3.032145844974252,
            "count": 0
           },
           {
            "bin_start": 3.032145844974252,
            "bin_end": 3.3054094426960896,
            "count": 2
           }
          ]
         }
        },
        {
         "name": "NEAREST_SCH_RANK",
         "dtype": "float64",
         "stats": {
          "unique_count": 2,
          "nan_count": 3,
          "min": "8.0",
          "max": "130.0",
          "histogram": [
           {
            "bin_start": 8,
            "bin_end": 20.2,
            "count": 1
           },
           {
            "bin_start": 20.2,
            "bin_end": 32.4,
            "count": 0
           },
           {
            "bin_start": 32.4,
            "bin_end": 44.599999999999994,
            "count": 0
           },
           {
            "bin_start": 44.599999999999994,
            "bin_end": 56.8,
            "count": 0
           },
           {
            "bin_start": 56.8,
            "bin_end": 69,
            "count": 0
           },
           {
            "bin_start": 69,
            "bin_end": 81.19999999999999,
            "count": 0
           },
           {
            "bin_start": 81.19999999999999,
            "bin_end": 93.39999999999999,
            "count": 0
           },
           {
            "bin_start": 93.39999999999999,
            "bin_end": 105.6,
            "count": 0
           },
           {
            "bin_start": 105.6,
            "bin_end": 117.8,
            "count": 0
           },
           {
            "bin_start": 117.8,
            "bin_end": 130,
            "count": 1
           }
          ]
         }
        },
        {
         "name": "_deepnote_index_column",
         "dtype": "int64"
        }
       ],
       "rows": [
        {
         "index": 25278,
         "ADDRESS": "52 Graham Road",
         "SUBURB": "Gooseberry Hill",
         "PRICE": 855000,
         "BEDROOMS": 3,
         "BATHROOMS": 2,
         "GARAGE": 2,
         "LAND_AREA": 2148,
         "FLOOR_AREA": 192,
         "BUILD_YEAR": 1976,
         "CBD_DIST": 18300,
         "NEAREST_STN": "Midland Station",
         "NEAREST_STN_DIST": 7400,
         "DATE_SOLD": "2018-01-01T00:00:00.000000",
         "POSTCODE": 6076,
         "LATITUDE": -31.9420119,
         "LONGITUDE": 116.0518514,
         "NEAREST_SCH": "TREETOPS MONTESSORI SCHOOL",
         "NEAREST_SCH_DIST": 3.2318402154123724,
         "NEAREST_SCH_RANK": "nan",
         "_deepnote_index_column": 0
        },
        {
         "index": 2958,
         "ADDRESS": "111 Willmott Drive",
         "SUBURB": "Cooloongup",
         "PRICE": 270000,
         "BEDROOMS": 3,
         "BATHROOMS": 1,
         "GARAGE": 1,
         "LAND_AREA": 681,
         "FLOOR_AREA": 90,
         "BUILD_YEAR": 1988,
         "CBD_DIST": 40100,
         "NEAREST_STN": "Rockingham Station",
         "NEAREST_STN_DIST": 1300,
         "DATE_SOLD": "2018-01-01T00:00:00.000000",
         "POSTCODE": 6168,
         "LATITUDE": -32.3019,
         "LONGITUDE": 115.75776,
         "NEAREST_SCH": "SOUTH COAST BAPTIST COLLEGE",
         "NEAREST_SCH_DIST": 1.4973082247652618,
         "NEAREST_SCH_RANK": "nan",
         "_deepnote_index_column": 1
        },
        {
         "index": 3799,
         "ADDRESS": "12 Moreto Turn",
         "SUBURB": "Caversham",
         "PRICE": 502500,
         "BEDROOMS": 4,
         "BATHROOMS": 2,
         "GARAGE": 2,
         "LAND_AREA": 474,
         "FLOOR_AREA": 189,
         "BUILD_YEAR": "nan",
         "CBD_DIST": 14300,
         "NEAREST_STN": "Guildford Station",
         "NEAREST_STN_DIST": 3800,
         "DATE_SOLD": "2018-01-01T00:00:00.000000",
         "POSTCODE": 6055,
         "LATITUDE": -31.86401386,
         "LONGITUDE": 115.9697493,
         "NEAREST_SCH": "GOVERNOR STIRLING SENIOR HIGH SCHOOL",
         "NEAREST_SCH_DIST": 3.3054094426960896,
         "NEAREST_SCH_RANK": 130,
         "_deepnote_index_column": 2
        },
        {
         "index": 26804,
         "ADDRESS": "6 Finchley Rise",
         "SUBURB": "Mount Claremont",
         "PRICE": 1780000,
         "BEDROOMS": 4,
         "BATHROOMS": 2,
         "GARAGE": 2,
         "LAND_AREA": 916,
         "FLOOR_AREA": 263,
         "BUILD_YEAR": 1991,
         "CBD_DIST": 7500,
         "NEAREST_STN": "Claremont Station",
         "NEAREST_STN_DIST": 1900,
         "DATE_SOLD": "2018-01-01T00:00:00.000000",
         "POSTCODE": 6010,
         "LATITUDE": -31.96374,
         "LONGITUDE": 115.78073,
         "NEAREST_SCH": "JOHN XXIII COLLEGE",
         "NEAREST_SCH_DIST": 0.5727734654777153,
         "NEAREST_SCH_RANK": 8,
         "_deepnote_index_column": 3
        },
        {
         "index": 18415,
         "ADDRESS": "32a Talbot Road",
         "SUBURB": "Swan View",
         "PRICE": 428000,
         "BEDROOMS": 3,
         "BATHROOMS": 2,
         "GARAGE": "nan",
         "LAND_AREA": 850,
         "FLOOR_AREA": 152,
         "BUILD_YEAR": 2010,
         "CBD_DIST": 19900,
         "NEAREST_STN": "Midland Station",
         "NEAREST_STN_DIST": 5000,
         "DATE_SOLD": "2018-01-01T00:00:00.000000",
         "POSTCODE": 6056,
         "LATITUDE": -31.88291153,
         "LONGITUDE": 116.0530543,
         "NEAREST_SCH": "SWAN VIEW SENIOR HIGH SCHOOL",
         "NEAREST_SCH_DIST": 0.9677361932259728,
         "NEAREST_SCH_RANK": "nan",
         "_deepnote_index_column": 4
        }
       ]
      },
      "text/plain": "   index             ADDRESS           SUBURB    PRICE  BEDROOMS  BATHROOMS  \\\n0  25278      52 Graham Road  Gooseberry Hill   855000         3          2   \n1   2958  111 Willmott Drive       Cooloongup   270000         3          1   \n2   3799      12 Moreto Turn        Caversham   502500         4          2   \n3  26804     6 Finchley Rise  Mount Claremont  1780000         4          2   \n4  18415     32a Talbot Road        Swan View   428000         3          2   \n\n   GARAGE  LAND_AREA  FLOOR_AREA  BUILD_YEAR  CBD_DIST         NEAREST_STN  \\\n0     2.0       2148         192      1976.0     18300     Midland Station   \n1     1.0        681          90      1988.0     40100  Rockingham Station   \n2     2.0        474         189         NaN     14300   Guildford Station   \n3     2.0        916         263      1991.0      7500   Claremont Station   \n4     NaN        850         152      2010.0     19900     Midland Station   \n\n   NEAREST_STN_DIST  DATE_SOLD  POSTCODE   LATITUDE   LONGITUDE  \\\n0              7400 2018-01-01      6076 -31.942012  116.051851   \n1              1300 2018-01-01      6168 -32.301900  115.757760   \n2              3800 2018-01-01      6055 -31.864014  115.969749   \n3              1900 2018-01-01      6010 -31.963740  115.780730   \n4              5000 2018-01-01      6056 -31.882912  116.053054   \n\n                            NEAREST_SCH  NEAREST_SCH_DIST  NEAREST_SCH_RANK  \n0            TREETOPS MONTESSORI SCHOOL          3.231840               NaN  \n1           SOUTH COAST BAPTIST COLLEGE          1.497308               NaN  \n2  GOVERNOR STIRLING SENIOR HIGH SCHOOL          3.305409             130.0  \n3                    JOHN XXIII COLLEGE          0.572773               8.0  \n4          SWAN VIEW SENIOR HIGH SCHOOL          0.967736               NaN  ",
      "text/html": "<div>\n<style scoped>\n    .dataframe tbody tr th:only-of-type {\n        vertical-align: middle;\n    }\n\n    .dataframe tbody tr th {\n        vertical-align: top;\n    }\n\n    .dataframe thead th {\n        text-align: right;\n    }\n</style>\n<table border=\"1\" class=\"dataframe\">\n  <thead>\n    <tr style=\"text-align: right;\">\n      <th></th>\n      <th>index</th>\n      <th>ADDRESS</th>\n      <th>SUBURB</th>\n      <th>PRICE</th>\n      <th>BEDROOMS</th>\n      <th>BATHROOMS</th>\n      <th>GARAGE</th>\n      <th>LAND_AREA</th>\n      <th>FLOOR_AREA</th>\n      <th>BUILD_YEAR</th>\n      <th>CBD_DIST</th>\n      <th>NEAREST_STN</th>\n      <th>NEAREST_STN_DIST</th>\n      <th>DATE_SOLD</th>\n      <th>POSTCODE</th>\n      <th>LATITUDE</th>\n      <th>LONGITUDE</th>\n      <th>NEAREST_SCH</th>\n      <th>NEAREST_SCH_DIST</th>\n      <th>NEAREST_SCH_RANK</th>\n    </tr>\n  </thead>\n  <tbody>\n    <tr>\n      <th>0</th>\n      <td>25278</td>\n      <td>52 Graham Road</td>\n      <td>Gooseberry Hill</td>\n      <td>855000</td>\n      <td>3</td>\n      <td>2</td>\n      <td>2.0</td>\n      <td>2148</td>\n      <td>192</td>\n      <td>1976.0</td>\n      <td>18300</td>\n      <td>Midland Station</td>\n      <td>7400</td>\n      <td>2018-01-01</td>\n      <td>6076</td>\n      <td>-31.942012</td>\n      <td>116.051851</td>\n      <td>TREETOPS MONTESSORI SCHOOL</td>\n      <td>3.231840</td>\n      <td>NaN</td>\n    </tr>\n    <tr>\n      <th>1</th>\n      <td>2958</td>\n      <td>111 Willmott Drive</td>\n      <td>Cooloongup</td>\n      <td>270000</td>\n      <td>3</td>\n      <td>1</td>\n      <td>1.0</td>\n      <td>681</td>\n      <td>90</td>\n      <td>1988.0</td>\n      <td>40100</td>\n      <td>Rockingham Station</td>\n      <td>1300</td>\n      <td>2018-01-01</td>\n      <td>6168</td>\n      <td>-32.301900</td>\n      <td>115.757760</td>\n      <td>SOUTH COAST BAPTIST COLLEGE</td>\n      <td>1.497308</td>\n      <td>NaN</td>\n    </tr>\n    <tr>\n      <th>2</th>\n      <td>3799</td>\n      <td>12 Moreto Turn</td>\n      <td>Caversham</td>\n      <td>502500</td>\n      <td>4</td>\n      <td>2</td>\n      <td>2.0</td>\n      <td>474</td>\n      <td>189</td>\n      <td>NaN</td>\n      <td>14300</td>\n      <td>Guildford Station</td>\n      <td>3800</td>\n      <td>2018-01-01</td>\n      <td>6055</td>\n      <td>-31.864014</td>\n      <td>115.969749</td>\n      <td>GOVERNOR STIRLING SENIOR HIGH SCHOOL</td>\n      <td>3.305409</td>\n      <td>130.0</td>\n    </tr>\n    <tr>\n      <th>3</th>\n      <td>26804</td>\n      <td>6 Finchley Rise</td>\n      <td>Mount Claremont</td>\n      <td>1780000</td>\n      <td>4</td>\n      <td>2</td>\n      <td>2.0</td>\n      <td>916</td>\n      <td>263</td>\n      <td>1991.0</td>\n      <td>7500</td>\n      <td>Claremont Station</td>\n      <td>1900</td>\n      <td>2018-01-01</td>\n      <td>6010</td>\n      <td>-31.963740</td>\n      <td>115.780730</td>\n      <td>JOHN XXIII COLLEGE</td>\n      <td>0.572773</td>\n      <td>8.0</td>\n    </tr>\n    <tr>\n      <th>4</th>\n      <td>18415</td>\n      <td>32a Talbot Road</td>\n      <td>Swan View</td>\n      <td>428000</td>\n      <td>3</td>\n      <td>2</td>\n      <td>NaN</td>\n      <td>850</td>\n      <td>152</td>\n      <td>2010.0</td>\n      <td>19900</td>\n      <td>Midland Station</td>\n      <td>5000</td>\n      <td>2018-01-01</td>\n      <td>6056</td>\n      <td>-31.882912</td>\n      <td>116.053054</td>\n      <td>SWAN VIEW SENIOR HIGH SCHOOL</td>\n      <td>0.967736</td>\n      <td>NaN</td>\n    </tr>\n  </tbody>\n</table>\n</div>"
     },
     "metadata": {}
    }
   ],
   "execution_count": null
  },
  {
   "cell_type": "code",
   "metadata": {
    "cell_id": "e196e52e-7a76-4bef-876e-079664412b0c",
    "tags": [],
    "deepnote_to_be_reexecuted": false,
    "source_hash": "e929ed79",
    "execution_start": 1646968486787,
    "execution_millis": 3,
    "deepnote_cell_type": "code",
    "deepnote_cell_height": 154.1875,
    "deepnote_output_heights": [
     21.1875
    ]
   },
   "source": "# find nan\nindex=np.where(np.isnan(cut_perth['NEAREST_SCH_RANK']))\nlen(index[0])",
   "outputs": [
    {
     "output_type": "execute_result",
     "execution_count": 7,
     "data": {
      "text/plain": "4716"
     },
     "metadata": {}
    }
   ],
   "execution_count": null
  },
  {
   "cell_type": "code",
   "metadata": {
    "cell_id": "c699735c-a2f8-46aa-8740-243336a83ba5",
    "tags": [],
    "deepnote_to_be_reexecuted": false,
    "source_hash": "bf0e9adf",
    "execution_start": 1646968486795,
    "execution_millis": 5,
    "deepnote_cell_type": "code",
    "deepnote_cell_height": 172.1875,
    "deepnote_output_heights": [
     21.1875
    ]
   },
   "source": "# manually search for missing school rank,and obtain additional 16 school rank\ndata = [['SWAN VIEW SENIOR HIGH SCHOOL',149],['HERITAGE COLLEGE PERTH',92],['SOWILO COMMUNITY HIGH SCHOOL',75],['LAKELAND SENIOR HIGH SCHOOL',141],['ARMADALE SENIOR HIGH SCHOOL',166],['SOUTH COAST BAPTIST COLLEGE',54],['WARWICK SENIOR HIGH SCHOOL',138],['CARMEL ADVENTIST COLLEGE',72],['REHOBOTH CHRISTIAN COLLEGE',112],['WARNBRO COMMUNITY HIGH SCHOOL',133],['SOUTHERN HILLS CHRISTIAN COLLEGE',149],['GIRRAWHEEN SENIOR HIGH SCHOOL',149],['ROCKINGHAM SENIOR HIGH SCHOOL',147],['CLARKSON COMMUNITY HIGH SCHOOL',132],['DIANELLA SECONDARY COLLEGE',143],[\"ST ANDREW'S GRAMMAR\",117]]\ndf = pd.DataFrame(data,columns=['school','rank']) \nlen(data)",
   "outputs": [
    {
     "output_type": "execute_result",
     "execution_count": 8,
     "data": {
      "text/plain": "16"
     },
     "metadata": {}
    }
   ],
   "execution_count": null
  },
  {
   "cell_type": "code",
   "metadata": {
    "cell_id": "00a40578-315a-4519-8842-04cc2ca2c3a2",
    "tags": [],
    "deepnote_to_be_reexecuted": false,
    "source_hash": "2df6a16c",
    "execution_start": 1646968486848,
    "execution_millis": 65938,
    "deepnote_cell_type": "code",
    "deepnote_cell_height": 153
   },
   "source": "# assign the school rank\nfor j in range(len(data)):\n    for i in range(len(cut_perth)):\n        if cut_perth.iloc[i]['NEAREST_SCH']==data[j][0]:\n            cut_perth.loc[i,'NEAREST_SCH_RANK']=data[j][1]",
   "outputs": [],
   "execution_count": null
  },
  {
   "cell_type": "code",
   "metadata": {
    "cell_id": "f6e67c61-bcc3-4407-9cb8-fd4a2d9b0c08",
    "tags": [],
    "deepnote_to_be_reexecuted": false,
    "source_hash": "d3f5817f",
    "execution_start": 1646968552833,
    "execution_millis": 917,
    "deepnote_cell_type": "code",
    "deepnote_cell_height": 135
   },
   "source": "# For still missing school ranks, we assign 200 as rank\nindex=np.where(np.isnan(cut_perth['NEAREST_SCH_RANK']))\nfor i in index[0]:\n    cut_perth.loc[i,'NEAREST_SCH_RANK']=200",
   "outputs": [],
   "execution_count": null
  },
  {
   "cell_type": "code",
   "metadata": {
    "cell_id": "3542dc96-ea1e-4256-abba-b6c9fce37427",
    "tags": [],
    "deepnote_to_be_reexecuted": false,
    "source_hash": "8a0722b2",
    "execution_start": 1646968553771,
    "execution_millis": 142,
    "deepnote_cell_type": "code",
    "deepnote_cell_height": 632.65625
   },
   "source": "cut_perth.reset_index()\n",
   "outputs": [
    {
     "output_type": "execute_result",
     "execution_count": 11,
     "data": {
      "application/vnd.deepnote.dataframe.v3+json": {
       "column_count": 21,
       "row_count": 16167,
       "columns": [
        {
         "name": "level_0",
         "dtype": "int64",
         "stats": {
          "unique_count": 16167,
          "nan_count": 0,
          "min": "0",
          "max": "16166",
          "histogram": [
           {
            "bin_start": 0,
            "bin_end": 1616.6,
            "count": 1617
           },
           {
            "bin_start": 1616.6,
            "bin_end": 3233.2,
            "count": 1617
           },
           {
            "bin_start": 3233.2,
            "bin_end": 4849.799999999999,
            "count": 1616
           },
           {
            "bin_start": 4849.799999999999,
            "bin_end": 6466.4,
            "count": 1617
           },
           {
            "bin_start": 6466.4,
            "bin_end": 8083,
            "count": 1616
           },
           {
            "bin_start": 8083,
            "bin_end": 9699.599999999999,
            "count": 1617
           },
           {
            "bin_start": 9699.599999999999,
            "bin_end": 11316.199999999999,
            "count": 1617
           },
           {
            "bin_start": 11316.199999999999,
            "bin_end": 12932.8,
            "count": 1616
           },
           {
            "bin_start": 12932.8,
            "bin_end": 14549.4,
            "count": 1617
           },
           {
            "bin_start": 14549.4,
            "bin_end": 16166,
            "count": 1617
           }
          ]
         }
        },
        {
         "name": "index",
         "dtype": "int64",
         "stats": {
          "unique_count": 16167,
          "nan_count": 0,
          "min": "0",
          "max": "33650",
          "histogram": [
           {
            "bin_start": 0,
            "bin_end": 3365,
            "count": 1640
           },
           {
            "bin_start": 3365,
            "bin_end": 6730,
            "count": 1615
           },
           {
            "bin_start": 6730,
            "bin_end": 10095,
            "count": 1642
           },
           {
            "bin_start": 10095,
            "bin_end": 13460,
            "count": 1615
           },
           {
            "bin_start": 13460,
            "bin_end": 16825,
            "count": 1589
           },
           {
            "bin_start": 16825,
            "bin_end": 20190,
            "count": 1636
           },
           {
            "bin_start": 20190,
            "bin_end": 23555,
            "count": 1629
           },
           {
            "bin_start": 23555,
            "bin_end": 26920,
            "count": 1613
           },
           {
            "bin_start": 26920,
            "bin_end": 30285,
            "count": 1605
           },
           {
            "bin_start": 30285,
            "bin_end": 33650,
            "count": 1583
           }
          ]
         }
        },
        {
         "name": "ADDRESS",
         "dtype": "object",
         "stats": {
          "unique_count": 16150,
          "nan_count": 0,
          "categories": [
           {
            "name": "123 Fairway",
            "count": 3
           },
           {
            "name": "20 Bernard Street",
            "count": 2
           },
           {
            "name": "16148 others",
            "count": 16162
           }
          ]
         }
        },
        {
         "name": "SUBURB",
         "dtype": "object",
         "stats": {
          "unique_count": 307,
          "nan_count": 0,
          "categories": [
           {
            "name": "Butler",
            "count": 207
           },
           {
            "name": "Mindarie",
            "count": 198
           },
           {
            "name": "305 others",
            "count": 15762
           }
          ]
         }
        },
        {
         "name": "PRICE",
         "dtype": "int64",
         "stats": {
          "unique_count": 1560,
          "nan_count": 0,
          "min": "53000",
          "max": "2440000",
          "histogram": [
           {
            "bin_start": 53000,
            "bin_end": 291700,
            "count": 1069
           },
           {
            "bin_start": 291700,
            "bin_end": 530400,
            "count": 6910
           },
           {
            "bin_start": 530400,
            "bin_end": 769100,
            "count": 4430
           },
           {
            "bin_start": 769100,
            "bin_end": 1007800,
            "count": 1910
           },
           {
            "bin_start": 1007800,
            "bin_end": 1246500,
            "count": 753
           },
           {
            "bin_start": 1246500,
            "bin_end": 1485200,
            "count": 506
           },
           {
            "bin_start": 1485200,
            "bin_end": 1723900,
            "count": 270
           },
           {
            "bin_start": 1723900,
            "bin_end": 1962600,
            "count": 172
           },
           {
            "bin_start": 1962600,
            "bin_end": 2201300,
            "count": 95
           },
           {
            "bin_start": 2201300,
            "bin_end": 2440000,
            "count": 52
           }
          ]
         }
        },
        {
         "name": "BEDROOMS",
         "dtype": "int64",
         "stats": {
          "unique_count": 9,
          "nan_count": 0,
          "min": "1",
          "max": "9",
          "histogram": [
           {
            "bin_start": 1,
            "bin_end": 1.8,
            "count": 42
           },
           {
            "bin_start": 1.8,
            "bin_end": 2.6,
            "count": 654
           },
           {
            "bin_start": 2.6,
            "bin_end": 3.4000000000000004,
            "count": 5425
           },
           {
            "bin_start": 3.4000000000000004,
            "bin_end": 4.2,
            "count": 8825
           },
           {
            "bin_start": 4.2,
            "bin_end": 5,
            "count": 0
           },
           {
            "bin_start": 5,
            "bin_end": 5.800000000000001,
            "count": 1085
           },
           {
            "bin_start": 5.800000000000001,
            "bin_end": 6.6000000000000005,
            "count": 114
           },
           {
            "bin_start": 6.6000000000000005,
            "bin_end": 7.4,
            "count": 16
           },
           {
            "bin_start": 7.4,
            "bin_end": 8.2,
            "count": 4
           },
           {
            "bin_start": 8.2,
            "bin_end": 9,
            "count": 2
           }
          ]
         }
        },
        {
         "name": "BATHROOMS",
         "dtype": "int64"
        },
        {
         "name": "GARAGE",
         "dtype": "float64"
        },
        {
         "name": "LAND_AREA",
         "dtype": "int64"
        },
        {
         "name": "FLOOR_AREA",
         "dtype": "int64"
        },
        {
         "name": "BUILD_YEAR",
         "dtype": "float64"
        },
        {
         "name": "CBD_DIST",
         "dtype": "int64"
        },
        {
         "name": "NEAREST_STN",
         "dtype": "object"
        },
        {
         "name": "NEAREST_STN_DIST",
         "dtype": "int64"
        },
        {
         "name": "DATE_SOLD",
         "dtype": "datetime64[ns]"
        },
        {
         "name": "POSTCODE",
         "dtype": "int64"
        },
        {
         "name": "LATITUDE",
         "dtype": "float64"
        },
        {
         "name": "LONGITUDE",
         "dtype": "float64"
        },
        {
         "name": "NEAREST_SCH",
         "dtype": "object"
        },
        {
         "name": "NEAREST_SCH_DIST",
         "dtype": "float64"
        },
        {
         "name": "NEAREST_SCH_RANK",
         "dtype": "float64"
        },
        {
         "name": "_deepnote_index_column",
         "dtype": "int64"
        }
       ],
       "rows": [
        {
         "level_0": 0,
         "index": 25278,
         "ADDRESS": "52 Graham Road",
         "SUBURB": "Gooseberry Hill",
         "PRICE": 855000,
         "BEDROOMS": 3,
         "BATHROOMS": 2,
         "GARAGE": 2,
         "LAND_AREA": 2148,
         "FLOOR_AREA": 192,
         "BUILD_YEAR": 1976,
         "CBD_DIST": 18300,
         "NEAREST_STN": "Midland Station",
         "NEAREST_STN_DIST": 7400,
         "DATE_SOLD": "2018-01-01T00:00:00.000000",
         "POSTCODE": 6076,
         "LATITUDE": -31.9420119,
         "LONGITUDE": 116.0518514,
         "NEAREST_SCH": "TREETOPS MONTESSORI SCHOOL",
         "NEAREST_SCH_DIST": 3.2318402154123724,
         "NEAREST_SCH_RANK": 200,
         "_deepnote_index_column": 0
        },
        {
         "level_0": 1,
         "index": 2958,
         "ADDRESS": "111 Willmott Drive",
         "SUBURB": "Cooloongup",
         "PRICE": 270000,
         "BEDROOMS": 3,
         "BATHROOMS": 1,
         "GARAGE": 1,
         "LAND_AREA": 681,
         "FLOOR_AREA": 90,
         "BUILD_YEAR": 1988,
         "CBD_DIST": 40100,
         "NEAREST_STN": "Rockingham Station",
         "NEAREST_STN_DIST": 1300,
         "DATE_SOLD": "2018-01-01T00:00:00.000000",
         "POSTCODE": 6168,
         "LATITUDE": -32.3019,
         "LONGITUDE": 115.75776,
         "NEAREST_SCH": "SOUTH COAST BAPTIST COLLEGE",
         "NEAREST_SCH_DIST": 1.4973082247652618,
         "NEAREST_SCH_RANK": 54,
         "_deepnote_index_column": 1
        },
        {
         "level_0": 2,
         "index": 3799,
         "ADDRESS": "12 Moreto Turn",
         "SUBURB": "Caversham",
         "PRICE": 502500,
         "BEDROOMS": 4,
         "BATHROOMS": 2,
         "GARAGE": 2,
         "LAND_AREA": 474,
         "FLOOR_AREA": 189,
         "BUILD_YEAR": "nan",
         "CBD_DIST": 14300,
         "NEAREST_STN": "Guildford Station",
         "NEAREST_STN_DIST": 3800,
         "DATE_SOLD": "2018-01-01T00:00:00.000000",
         "POSTCODE": 6055,
         "LATITUDE": -31.86401386,
         "LONGITUDE": 115.9697493,
         "NEAREST_SCH": "GOVERNOR STIRLING SENIOR HIGH SCHOOL",
         "NEAREST_SCH_DIST": 3.3054094426960896,
         "NEAREST_SCH_RANK": 130,
         "_deepnote_index_column": 2
        },
        {
         "level_0": 3,
         "index": 26804,
         "ADDRESS": "6 Finchley Rise",
         "SUBURB": "Mount Claremont",
         "PRICE": 1780000,
         "BEDROOMS": 4,
         "BATHROOMS": 2,
         "GARAGE": 2,
         "LAND_AREA": 916,
         "FLOOR_AREA": 263,
         "BUILD_YEAR": 1991,
         "CBD_DIST": 7500,
         "NEAREST_STN": "Claremont Station",
         "NEAREST_STN_DIST": 1900,
         "DATE_SOLD": "2018-01-01T00:00:00.000000",
         "POSTCODE": 6010,
         "LATITUDE": -31.96374,
         "LONGITUDE": 115.78073,
         "NEAREST_SCH": "JOHN XXIII COLLEGE",
         "NEAREST_SCH_DIST": 0.5727734654777153,
         "NEAREST_SCH_RANK": 8,
         "_deepnote_index_column": 3
        },
        {
         "level_0": 4,
         "index": 18415,
         "ADDRESS": "32a Talbot Road",
         "SUBURB": "Swan View",
         "PRICE": 428000,
         "BEDROOMS": 3,
         "BATHROOMS": 2,
         "GARAGE": "nan",
         "LAND_AREA": 850,
         "FLOOR_AREA": 152,
         "BUILD_YEAR": 2010,
         "CBD_DIST": 19900,
         "NEAREST_STN": "Midland Station",
         "NEAREST_STN_DIST": 5000,
         "DATE_SOLD": "2018-01-01T00:00:00.000000",
         "POSTCODE": 6056,
         "LATITUDE": -31.88291153,
         "LONGITUDE": 116.0530543,
         "NEAREST_SCH": "SWAN VIEW SENIOR HIGH SCHOOL",
         "NEAREST_SCH_DIST": 0.9677361932259728,
         "NEAREST_SCH_RANK": 149,
         "_deepnote_index_column": 4
        },
        {
         "level_0": 5,
         "index": 24541,
         "ADDRESS": "5 Raby Court",
         "SUBURB": "Cooloongup",
         "PRICE": 240000,
         "BEDROOMS": 3,
         "BATHROOMS": 1,
         "GARAGE": 1,
         "LAND_AREA": 688,
         "FLOOR_AREA": 127,
         "BUILD_YEAR": 1980,
         "CBD_DIST": 40300,
         "NEAREST_STN": "Rockingham Station",
         "NEAREST_STN_DIST": 1600,
         "DATE_SOLD": "2018-01-01T00:00:00.000000",
         "POSTCODE": 6168,
         "LATITUDE": -32.30278,
         "LONGITUDE": 115.75244,
         "NEAREST_SCH": "SAFETY BAY SENIOR HIGH SCHOOL",
         "NEAREST_SCH_DIST": 1.080376409281136,
         "NEAREST_SCH_RANK": 136,
         "_deepnote_index_column": 5
        },
        {
         "level_0": 6,
         "index": 151,
         "ADDRESS": "1 Elvire Street",
         "SUBURB": "Midland",
         "PRICE": 349000,
         "BEDROOMS": 2,
         "BATHROOMS": 1,
         "GARAGE": "nan",
         "LAND_AREA": 927,
         "FLOOR_AREA": 106,
         "BUILD_YEAR": 1930,
         "CBD_DIST": 15300,
         "NEAREST_STN": "Midland Station",
         "NEAREST_STN_DIST": 633,
         "DATE_SOLD": "2018-01-01T00:00:00.000000",
         "POSTCODE": 6056,
         "LATITUDE": -31.88588,
         "LONGITUDE": 116.00078,
         "NEAREST_SCH": "LA SALLE COLLEGE",
         "NEAREST_SCH_DIST": 0.8824765111293752,
         "NEAREST_SCH_RANK": 53,
         "_deepnote_index_column": 6
        },
        {
         "level_0": 7,
         "index": 17797,
         "ADDRESS": "31 Ellesmere Road",
         "SUBURB": "Swan View",
         "PRICE": 347000,
         "BEDROOMS": 3,
         "BATHROOMS": 1,
         "GARAGE": 1,
         "LAND_AREA": 696,
         "FLOOR_AREA": 110,
         "BUILD_YEAR": 1975,
         "CBD_DIST": 19200,
         "NEAREST_STN": "Midland Station",
         "NEAREST_STN_DIST": 4300,
         "DATE_SOLD": "2018-01-01T00:00:00.000000",
         "POSTCODE": 6056,
         "LATITUDE": -31.88456,
         "LONGITUDE": 116.04559,
         "NEAREST_SCH": "SWAN VIEW SENIOR HIGH SCHOOL",
         "NEAREST_SCH_DIST": 0.3457474874680662,
         "NEAREST_SCH_RANK": 149,
         "_deepnote_index_column": 7
        },
        {
         "level_0": 8,
         "index": 23391,
         "ADDRESS": "479b Bickley Road",
         "SUBURB": "Kenwick",
         "PRICE": 340000,
         "BEDROOMS": 4,
         "BATHROOMS": 2,
         "GARAGE": 2,
         "LAND_AREA": 367,
         "FLOOR_AREA": 132,
         "BUILD_YEAR": 2011,
         "CBD_DIST": 15400,
         "NEAREST_STN": "Madding",
         "NEAREST_STN_DIST": 2200,
         "DATE_SOLD": "2018-01-01T00:00:00.000000",
         "POSTCODE": 6107,
         "LATITUDE": -32.03181886,
         "LONGITUDE": 115.9927158,
         "NEAREST_SCH": "REHOBOTH CHRISTIAN COLLEGE",
         "NEAREST_SCH_DIST": 1.3949786484338875,
         "NEAREST_SCH_RANK": 112,
         "_deepnote_index_column": 8
        },
        {
         "level_0": 9,
         "index": 6773,
         "ADDRESS": "151 Harpenden Street",
         "SUBURB": "Huntingdale",
         "PRICE": 490000,
         "BEDROOMS": 4,
         "BATHROOMS": 2,
         "GARAGE": 2,
         "LAND_AREA": 590,
         "FLOOR_AREA": 250,
         "BUILD_YEAR": 2006,
         "CBD_DIST": 17400,
         "NEAREST_STN": "Thornlie Station",
         "NEAREST_STN_DIST": 4100,
         "DATE_SOLD": "2018-01-01T00:00:00.000000",
         "POSTCODE": 6110,
         "LATITUDE": -32.083909,
         "LONGITUDE": 115.957877,
         "NEAREST_SCH": "THORNLIE SENIOR HIGH SCHOOL",
         "NEAREST_SCH_DIST": 1.968325274956543,
         "NEAREST_SCH_RANK": 125,
         "_deepnote_index_column": 9
        }
       ]
      },
      "text/plain": "       level_0  index              ADDRESS           SUBURB    PRICE  \\\n0            0  25278       52 Graham Road  Gooseberry Hill   855000   \n1            1   2958   111 Willmott Drive       Cooloongup   270000   \n2            2   3799       12 Moreto Turn        Caversham   502500   \n3            3  26804      6 Finchley Rise  Mount Claremont  1780000   \n4            4  18415      32a Talbot Road        Swan View   428000   \n...        ...    ...                  ...              ...      ...   \n16162    16162   8077     17 Hawkes Street       Coolbellup   500000   \n16163    16163   2274    11 Eddington Road          Warwick   695000   \n16164    16164   5789   14/314 Wright Road     Piara Waters   360000   \n16165    16165   8127      17 Kalli Street       Golden Bay   315000   \n16166    16166   6558  15 Pine Valley Pass         Connolly   995000   \n\n       BEDROOMS  BATHROOMS  GARAGE  LAND_AREA  FLOOR_AREA  ...  CBD_DIST  \\\n0             3          2     2.0       2148         192  ...     18300   \n1             3          1     1.0        681          90  ...     40100   \n2             4          2     2.0        474         189  ...     14300   \n3             4          2     2.0        916         263  ...      7500   \n4             3          2     NaN        850         152  ...     19900   \n...         ...        ...     ...        ...         ...  ...       ...   \n16162         3          1     NaN        728         112  ...     15200   \n16163         4          2     2.0        509         174  ...     13300   \n16164         3          2     2.0        161         113  ...     19900   \n16165         3          2     2.0        299         132  ...     53100   \n16166         4          1     NaN        630         264  ...     25300   \n\n                    NEAREST_STN NEAREST_STN_DIST  DATE_SOLD POSTCODE  \\\n0               Midland Station             7400 2018-01-01     6076   \n1            Rockingham Station             1300 2018-01-01     6168   \n2             Guildford Station             3800 2018-01-01     6055   \n3             Claremont Station             1900 2018-01-01     6010   \n4               Midland Station             5000 2018-01-01     6056   \n...                         ...              ...        ...      ...   \n16162           Murdoch Station             5100 2020-12-01     6163   \n16163           Warwick Station             1400 2020-12-01     6024   \n16164  Cockburn Central Station             6400 2020-12-01     6112   \n16165           Warnbro Station            10600 2020-12-01     6174   \n16166         Joondalup Station             1800 2020-12-01     6027   \n\n        LATITUDE   LONGITUDE                           NEAREST_SCH  \\\n0     -31.942012  116.051851            TREETOPS MONTESSORI SCHOOL   \n1     -32.301900  115.757760           SOUTH COAST BAPTIST COLLEGE   \n2     -31.864014  115.969749  GOVERNOR STIRLING SENIOR HIGH SCHOOL   \n3     -31.963740  115.780730                    JOHN XXIII COLLEGE   \n4     -31.882912  116.053054          SWAN VIEW SENIOR HIGH SCHOOL   \n...          ...         ...                                   ...   \n16162 -32.078860  115.798370                SETON CATHOLIC COLLEGE   \n16163 -31.839880  115.810180            WARWICK SENIOR HIGH SCHOOL   \n16164 -32.123387  115.924370                 CAREY BAPTIST COLLEGE   \n16165 -32.421870  115.759530                     COMET BAY COLLEGE   \n16166 -31.745540  115.748710          PRENDIVILLE CATHOLIC COLLEGE   \n\n      NEAREST_SCH_DIST  NEAREST_SCH_RANK  \n0             3.231840             200.0  \n1             1.497308              54.0  \n2             3.305409             130.0  \n3             0.572773               8.0  \n4             0.967736             149.0  \n...                ...               ...  \n16162         0.831985              91.0  \n16163         0.513788             138.0  \n16164         1.681970              62.0  \n16165         0.749121              35.0  \n16166         1.327831              60.0  \n\n[16167 rows x 21 columns]",
      "text/html": "<div>\n<style scoped>\n    .dataframe tbody tr th:only-of-type {\n        vertical-align: middle;\n    }\n\n    .dataframe tbody tr th {\n        vertical-align: top;\n    }\n\n    .dataframe thead th {\n        text-align: right;\n    }\n</style>\n<table border=\"1\" class=\"dataframe\">\n  <thead>\n    <tr style=\"text-align: right;\">\n      <th></th>\n      <th>level_0</th>\n      <th>index</th>\n      <th>ADDRESS</th>\n      <th>SUBURB</th>\n      <th>PRICE</th>\n      <th>BEDROOMS</th>\n      <th>BATHROOMS</th>\n      <th>GARAGE</th>\n      <th>LAND_AREA</th>\n      <th>FLOOR_AREA</th>\n      <th>...</th>\n      <th>CBD_DIST</th>\n      <th>NEAREST_STN</th>\n      <th>NEAREST_STN_DIST</th>\n      <th>DATE_SOLD</th>\n      <th>POSTCODE</th>\n      <th>LATITUDE</th>\n      <th>LONGITUDE</th>\n      <th>NEAREST_SCH</th>\n      <th>NEAREST_SCH_DIST</th>\n      <th>NEAREST_SCH_RANK</th>\n    </tr>\n  </thead>\n  <tbody>\n    <tr>\n      <th>0</th>\n      <td>0</td>\n      <td>25278</td>\n      <td>52 Graham Road</td>\n      <td>Gooseberry Hill</td>\n      <td>855000</td>\n      <td>3</td>\n      <td>2</td>\n      <td>2.0</td>\n      <td>2148</td>\n      <td>192</td>\n      <td>...</td>\n      <td>18300</td>\n      <td>Midland Station</td>\n      <td>7400</td>\n      <td>2018-01-01</td>\n      <td>6076</td>\n      <td>-31.942012</td>\n      <td>116.051851</td>\n      <td>TREETOPS MONTESSORI SCHOOL</td>\n      <td>3.231840</td>\n      <td>200.0</td>\n    </tr>\n    <tr>\n      <th>1</th>\n      <td>1</td>\n      <td>2958</td>\n      <td>111 Willmott Drive</td>\n      <td>Cooloongup</td>\n      <td>270000</td>\n      <td>3</td>\n      <td>1</td>\n      <td>1.0</td>\n      <td>681</td>\n      <td>90</td>\n      <td>...</td>\n      <td>40100</td>\n      <td>Rockingham Station</td>\n      <td>1300</td>\n      <td>2018-01-01</td>\n      <td>6168</td>\n      <td>-32.301900</td>\n      <td>115.757760</td>\n      <td>SOUTH COAST BAPTIST COLLEGE</td>\n      <td>1.497308</td>\n      <td>54.0</td>\n    </tr>\n    <tr>\n      <th>2</th>\n      <td>2</td>\n      <td>3799</td>\n      <td>12 Moreto Turn</td>\n      <td>Caversham</td>\n      <td>502500</td>\n      <td>4</td>\n      <td>2</td>\n      <td>2.0</td>\n      <td>474</td>\n      <td>189</td>\n      <td>...</td>\n      <td>14300</td>\n      <td>Guildford Station</td>\n      <td>3800</td>\n      <td>2018-01-01</td>\n      <td>6055</td>\n      <td>-31.864014</td>\n      <td>115.969749</td>\n      <td>GOVERNOR STIRLING SENIOR HIGH SCHOOL</td>\n      <td>3.305409</td>\n      <td>130.0</td>\n    </tr>\n    <tr>\n      <th>3</th>\n      <td>3</td>\n      <td>26804</td>\n      <td>6 Finchley Rise</td>\n      <td>Mount Claremont</td>\n      <td>1780000</td>\n      <td>4</td>\n      <td>2</td>\n      <td>2.0</td>\n      <td>916</td>\n      <td>263</td>\n      <td>...</td>\n      <td>7500</td>\n      <td>Claremont Station</td>\n      <td>1900</td>\n      <td>2018-01-01</td>\n      <td>6010</td>\n      <td>-31.963740</td>\n      <td>115.780730</td>\n      <td>JOHN XXIII COLLEGE</td>\n      <td>0.572773</td>\n      <td>8.0</td>\n    </tr>\n    <tr>\n      <th>4</th>\n      <td>4</td>\n      <td>18415</td>\n      <td>32a Talbot Road</td>\n      <td>Swan View</td>\n      <td>428000</td>\n      <td>3</td>\n      <td>2</td>\n      <td>NaN</td>\n      <td>850</td>\n      <td>152</td>\n      <td>...</td>\n      <td>19900</td>\n      <td>Midland Station</td>\n      <td>5000</td>\n      <td>2018-01-01</td>\n      <td>6056</td>\n      <td>-31.882912</td>\n      <td>116.053054</td>\n      <td>SWAN VIEW SENIOR HIGH SCHOOL</td>\n      <td>0.967736</td>\n      <td>149.0</td>\n    </tr>\n    <tr>\n      <th>...</th>\n      <td>...</td>\n      <td>...</td>\n      <td>...</td>\n      <td>...</td>\n      <td>...</td>\n      <td>...</td>\n      <td>...</td>\n      <td>...</td>\n      <td>...</td>\n      <td>...</td>\n      <td>...</td>\n      <td>...</td>\n      <td>...</td>\n      <td>...</td>\n      <td>...</td>\n      <td>...</td>\n      <td>...</td>\n      <td>...</td>\n      <td>...</td>\n      <td>...</td>\n      <td>...</td>\n    </tr>\n    <tr>\n      <th>16162</th>\n      <td>16162</td>\n      <td>8077</td>\n      <td>17 Hawkes Street</td>\n      <td>Coolbellup</td>\n      <td>500000</td>\n      <td>3</td>\n      <td>1</td>\n      <td>NaN</td>\n      <td>728</td>\n      <td>112</td>\n      <td>...</td>\n      <td>15200</td>\n      <td>Murdoch Station</td>\n      <td>5100</td>\n      <td>2020-12-01</td>\n      <td>6163</td>\n      <td>-32.078860</td>\n      <td>115.798370</td>\n      <td>SETON CATHOLIC COLLEGE</td>\n      <td>0.831985</td>\n      <td>91.0</td>\n    </tr>\n    <tr>\n      <th>16163</th>\n      <td>16163</td>\n      <td>2274</td>\n      <td>11 Eddington Road</td>\n      <td>Warwick</td>\n      <td>695000</td>\n      <td>4</td>\n      <td>2</td>\n      <td>2.0</td>\n      <td>509</td>\n      <td>174</td>\n      <td>...</td>\n      <td>13300</td>\n      <td>Warwick Station</td>\n      <td>1400</td>\n      <td>2020-12-01</td>\n      <td>6024</td>\n      <td>-31.839880</td>\n      <td>115.810180</td>\n      <td>WARWICK SENIOR HIGH SCHOOL</td>\n      <td>0.513788</td>\n      <td>138.0</td>\n    </tr>\n    <tr>\n      <th>16164</th>\n      <td>16164</td>\n      <td>5789</td>\n      <td>14/314 Wright Road</td>\n      <td>Piara Waters</td>\n      <td>360000</td>\n      <td>3</td>\n      <td>2</td>\n      <td>2.0</td>\n      <td>161</td>\n      <td>113</td>\n      <td>...</td>\n      <td>19900</td>\n      <td>Cockburn Central Station</td>\n      <td>6400</td>\n      <td>2020-12-01</td>\n      <td>6112</td>\n      <td>-32.123387</td>\n      <td>115.924370</td>\n      <td>CAREY BAPTIST COLLEGE</td>\n      <td>1.681970</td>\n      <td>62.0</td>\n    </tr>\n    <tr>\n      <th>16165</th>\n      <td>16165</td>\n      <td>8127</td>\n      <td>17 Kalli Street</td>\n      <td>Golden Bay</td>\n      <td>315000</td>\n      <td>3</td>\n      <td>2</td>\n      <td>2.0</td>\n      <td>299</td>\n      <td>132</td>\n      <td>...</td>\n      <td>53100</td>\n      <td>Warnbro Station</td>\n      <td>10600</td>\n      <td>2020-12-01</td>\n      <td>6174</td>\n      <td>-32.421870</td>\n      <td>115.759530</td>\n      <td>COMET BAY COLLEGE</td>\n      <td>0.749121</td>\n      <td>35.0</td>\n    </tr>\n    <tr>\n      <th>16166</th>\n      <td>16166</td>\n      <td>6558</td>\n      <td>15 Pine Valley Pass</td>\n      <td>Connolly</td>\n      <td>995000</td>\n      <td>4</td>\n      <td>1</td>\n      <td>NaN</td>\n      <td>630</td>\n      <td>264</td>\n      <td>...</td>\n      <td>25300</td>\n      <td>Joondalup Station</td>\n      <td>1800</td>\n      <td>2020-12-01</td>\n      <td>6027</td>\n      <td>-31.745540</td>\n      <td>115.748710</td>\n      <td>PRENDIVILLE CATHOLIC COLLEGE</td>\n      <td>1.327831</td>\n      <td>60.0</td>\n    </tr>\n  </tbody>\n</table>\n<p>16167 rows × 21 columns</p>\n</div>"
     },
     "metadata": {}
    }
   ],
   "execution_count": null
  },
  {
   "cell_type": "code",
   "metadata": {
    "cell_id": "d721efe2-fcf4-47ce-8c8f-c275837d18b5",
    "tags": [],
    "deepnote_to_be_reexecuted": false,
    "source_hash": "c65633c7",
    "execution_start": 1646968553916,
    "execution_millis": 0,
    "deepnote_cell_type": "code",
    "deepnote_cell_height": 81
   },
   "source": "cut_perth = cut_perth.drop(['index'], axis=1)",
   "outputs": [],
   "execution_count": null
  },
  {
   "cell_type": "code",
   "metadata": {
    "cell_id": "99deeabf-a8f5-476b-be9d-4b0160103795",
    "tags": [],
    "deepnote_to_be_reexecuted": false,
    "source_hash": "8e1ef17b",
    "execution_start": 1646968553949,
    "execution_millis": 76,
    "deepnote_cell_type": "code",
    "deepnote_cell_height": 409.65625
   },
   "source": "cut_perth.head()",
   "outputs": [
    {
     "output_type": "execute_result",
     "execution_count": 13,
     "data": {
      "application/vnd.deepnote.dataframe.v3+json": {
       "column_count": 19,
       "row_count": 5,
       "columns": [
        {
         "name": "ADDRESS",
         "dtype": "object",
         "stats": {
          "unique_count": 5,
          "nan_count": 0,
          "categories": [
           {
            "name": "52 Graham Road",
            "count": 1
           },
           {
            "name": "111 Willmott Drive",
            "count": 1
           },
           {
            "name": "3 others",
            "count": 3
           }
          ]
         }
        },
        {
         "name": "SUBURB",
         "dtype": "object",
         "stats": {
          "unique_count": 5,
          "nan_count": 0,
          "categories": [
           {
            "name": "Gooseberry Hill",
            "count": 1
           },
           {
            "name": "Cooloongup",
            "count": 1
           },
           {
            "name": "3 others",
            "count": 3
           }
          ]
         }
        },
        {
         "name": "PRICE",
         "dtype": "int64",
         "stats": {
          "unique_count": 5,
          "nan_count": 0,
          "min": "270000",
          "max": "1780000",
          "histogram": [
           {
            "bin_start": 270000,
            "bin_end": 421000,
            "count": 1
           },
           {
            "bin_start": 421000,
            "bin_end": 572000,
            "count": 2
           },
           {
            "bin_start": 572000,
            "bin_end": 723000,
            "count": 0
           },
           {
            "bin_start": 723000,
            "bin_end": 874000,
            "count": 1
           },
           {
            "bin_start": 874000,
            "bin_end": 1025000,
            "count": 0
           },
           {
            "bin_start": 1025000,
            "bin_end": 1176000,
            "count": 0
           },
           {
            "bin_start": 1176000,
            "bin_end": 1327000,
            "count": 0
           },
           {
            "bin_start": 1327000,
            "bin_end": 1478000,
            "count": 0
           },
           {
            "bin_start": 1478000,
            "bin_end": 1629000,
            "count": 0
           },
           {
            "bin_start": 1629000,
            "bin_end": 1780000,
            "count": 1
           }
          ]
         }
        },
        {
         "name": "BEDROOMS",
         "dtype": "int64",
         "stats": {
          "unique_count": 2,
          "nan_count": 0,
          "min": "3",
          "max": "4",
          "histogram": [
           {
            "bin_start": 3,
            "bin_end": 3.1,
            "count": 3
           },
           {
            "bin_start": 3.1,
            "bin_end": 3.2,
            "count": 0
           },
           {
            "bin_start": 3.2,
            "bin_end": 3.3,
            "count": 0
           },
           {
            "bin_start": 3.3,
            "bin_end": 3.4,
            "count": 0
           },
           {
            "bin_start": 3.4,
            "bin_end": 3.5,
            "count": 0
           },
           {
            "bin_start": 3.5,
            "bin_end": 3.6,
            "count": 0
           },
           {
            "bin_start": 3.6,
            "bin_end": 3.7,
            "count": 0
           },
           {
            "bin_start": 3.7,
            "bin_end": 3.8,
            "count": 0
           },
           {
            "bin_start": 3.8,
            "bin_end": 3.9,
            "count": 0
           },
           {
            "bin_start": 3.9,
            "bin_end": 4,
            "count": 2
           }
          ]
         }
        },
        {
         "name": "BATHROOMS",
         "dtype": "int64",
         "stats": {
          "unique_count": 2,
          "nan_count": 0,
          "min": "1",
          "max": "2",
          "histogram": [
           {
            "bin_start": 1,
            "bin_end": 1.1,
            "count": 1
           },
           {
            "bin_start": 1.1,
            "bin_end": 1.2,
            "count": 0
           },
           {
            "bin_start": 1.2,
            "bin_end": 1.3,
            "count": 0
           },
           {
            "bin_start": 1.3,
            "bin_end": 1.4,
            "count": 0
           },
           {
            "bin_start": 1.4,
            "bin_end": 1.5,
            "count": 0
           },
           {
            "bin_start": 1.5,
            "bin_end": 1.6,
            "count": 0
           },
           {
            "bin_start": 1.6,
            "bin_end": 1.7000000000000002,
            "count": 0
           },
           {
            "bin_start": 1.7000000000000002,
            "bin_end": 1.8,
            "count": 0
           },
           {
            "bin_start": 1.8,
            "bin_end": 1.9,
            "count": 0
           },
           {
            "bin_start": 1.9,
            "bin_end": 2,
            "count": 4
           }
          ]
         }
        },
        {
         "name": "GARAGE",
         "dtype": "float64",
         "stats": {
          "unique_count": 2,
          "nan_count": 1,
          "min": "1.0",
          "max": "2.0",
          "histogram": [
           {
            "bin_start": 1,
            "bin_end": 1.1,
            "count": 1
           },
           {
            "bin_start": 1.1,
            "bin_end": 1.2,
            "count": 0
           },
           {
            "bin_start": 1.2,
            "bin_end": 1.3,
            "count": 0
           },
           {
            "bin_start": 1.3,
            "bin_end": 1.4,
            "count": 0
           },
           {
            "bin_start": 1.4,
            "bin_end": 1.5,
            "count": 0
           },
           {
            "bin_start": 1.5,
            "bin_end": 1.6,
            "count": 0
           },
           {
            "bin_start": 1.6,
            "bin_end": 1.7000000000000002,
            "count": 0
           },
           {
            "bin_start": 1.7000000000000002,
            "bin_end": 1.8,
            "count": 0
           },
           {
            "bin_start": 1.8,
            "bin_end": 1.9,
            "count": 0
           },
           {
            "bin_start": 1.9,
            "bin_end": 2,
            "count": 3
           }
          ]
         }
        },
        {
         "name": "LAND_AREA",
         "dtype": "int64",
         "stats": {
          "unique_count": 5,
          "nan_count": 0,
          "min": "474",
          "max": "2148",
          "histogram": [
           {
            "bin_start": 474,
            "bin_end": 641.4,
            "count": 1
           },
           {
            "bin_start": 641.4,
            "bin_end": 808.8,
            "count": 1
           },
           {
            "bin_start": 808.8,
            "bin_end": 976.2,
            "count": 2
           },
           {
            "bin_start": 976.2,
            "bin_end": 1143.6,
            "count": 0
           },
           {
            "bin_start": 1143.6,
            "bin_end": 1311,
            "count": 0
           },
           {
            "bin_start": 1311,
            "bin_end": 1478.4,
            "count": 0
           },
           {
            "bin_start": 1478.4,
            "bin_end": 1645.8,
            "count": 0
           },
           {
            "bin_start": 1645.8,
            "bin_end": 1813.2,
            "count": 0
           },
           {
            "bin_start": 1813.2,
            "bin_end": 1980.6000000000001,
            "count": 0
           },
           {
            "bin_start": 1980.6000000000001,
            "bin_end": 2148,
            "count": 1
           }
          ]
         }
        },
        {
         "name": "FLOOR_AREA",
         "dtype": "int64",
         "stats": {
          "unique_count": 5,
          "nan_count": 0,
          "min": "90",
          "max": "263",
          "histogram": [
           {
            "bin_start": 90,
            "bin_end": 107.3,
            "count": 1
           },
           {
            "bin_start": 107.3,
            "bin_end": 124.6,
            "count": 0
           },
           {
            "bin_start": 124.6,
            "bin_end": 141.9,
            "count": 0
           },
           {
            "bin_start": 141.9,
            "bin_end": 159.2,
            "count": 1
           },
           {
            "bin_start": 159.2,
            "bin_end": 176.5,
            "count": 0
           },
           {
            "bin_start": 176.5,
            "bin_end": 193.8,
            "count": 2
           },
           {
            "bin_start": 193.8,
            "bin_end": 211.10000000000002,
            "count": 0
           },
           {
            "bin_start": 211.10000000000002,
            "bin_end": 228.4,
            "count": 0
           },
           {
            "bin_start": 228.4,
            "bin_end": 245.70000000000002,
            "count": 0
           },
           {
            "bin_start": 245.70000000000002,
            "bin_end": 263,
            "count": 1
           }
          ]
         }
        },
        {
         "name": "BUILD_YEAR",
         "dtype": "float64",
         "stats": {
          "unique_count": 4,
          "nan_count": 1,
          "min": "1976.0",
          "max": "2010.0",
          "histogram": [
           {
            "bin_start": 1976,
            "bin_end": 1979.4,
            "count": 1
           },
           {
            "bin_start": 1979.4,
            "bin_end": 1982.8,
            "count": 0
           },
           {
            "bin_start": 1982.8,
            "bin_end": 1986.2,
            "count": 0
           },
           {
            "bin_start": 1986.2,
            "bin_end": 1989.6,
            "count": 1
           },
           {
            "bin_start": 1989.6,
            "bin_end": 1993,
            "count": 1
           },
           {
            "bin_start": 1993,
            "bin_end": 1996.4,
            "count": 0
           },
           {
            "bin_start": 1996.4,
            "bin_end": 1999.8,
            "count": 0
           },
           {
            "bin_start": 1999.8,
            "bin_end": 2003.2,
            "count": 0
           },
           {
            "bin_start": 2003.2,
            "bin_end": 2006.6,
            "count": 0
           },
           {
            "bin_start": 2006.6,
            "bin_end": 2010,
            "count": 1
           }
          ]
         }
        },
        {
         "name": "CBD_DIST",
         "dtype": "int64",
         "stats": {
          "unique_count": 5,
          "nan_count": 0,
          "min": "7500",
          "max": "40100",
          "histogram": [
           {
            "bin_start": 7500,
            "bin_end": 10760,
            "count": 1
           },
           {
            "bin_start": 10760,
            "bin_end": 14020,
            "count": 0
           },
           {
            "bin_start": 14020,
            "bin_end": 17280,
            "count": 1
           },
           {
            "bin_start": 17280,
            "bin_end": 20540,
            "count": 2
           },
           {
            "bin_start": 20540,
            "bin_end": 23800,
            "count": 0
           },
           {
            "bin_start": 23800,
            "bin_end": 27060,
            "count": 0
           },
           {
            "bin_start": 27060,
            "bin_end": 30320,
            "count": 0
           },
           {
            "bin_start": 30320,
            "bin_end": 33580,
            "count": 0
           },
           {
            "bin_start": 33580,
            "bin_end": 36840,
            "count": 0
           },
           {
            "bin_start": 36840,
            "bin_end": 40100,
            "count": 1
           }
          ]
         }
        },
        {
         "name": "NEAREST_STN",
         "dtype": "object",
         "stats": {
          "unique_count": 4,
          "nan_count": 0,
          "categories": [
           {
            "name": "Midland Station",
            "count": 2
           },
           {
            "name": "Rockingham Station",
            "count": 1
           },
           {
            "name": "2 others",
            "count": 2
           }
          ]
         }
        },
        {
         "name": "NEAREST_STN_DIST",
         "dtype": "int64",
         "stats": {
          "unique_count": 5,
          "nan_count": 0,
          "min": "1300",
          "max": "7400",
          "histogram": [
           {
            "bin_start": 1300,
            "bin_end": 1910,
            "count": 2
           },
           {
            "bin_start": 1910,
            "bin_end": 2520,
            "count": 0
           },
           {
            "bin_start": 2520,
            "bin_end": 3130,
            "count": 0
           },
           {
            "bin_start": 3130,
            "bin_end": 3740,
            "count": 0
           },
           {
            "bin_start": 3740,
            "bin_end": 4350,
            "count": 1
           },
           {
            "bin_start": 4350,
            "bin_end": 4960,
            "count": 0
           },
           {
            "bin_start": 4960,
            "bin_end": 5570,
            "count": 1
           },
           {
            "bin_start": 5570,
            "bin_end": 6180,
            "count": 0
           },
           {
            "bin_start": 6180,
            "bin_end": 6790,
            "count": 0
           },
           {
            "bin_start": 6790,
            "bin_end": 7400,
            "count": 1
           }
          ]
         }
        },
        {
         "name": "DATE_SOLD",
         "dtype": "datetime64[ns]",
         "stats": {
          "unique_count": 1,
          "nan_count": 0,
          "min": "2018-01-01 00:00:00",
          "max": "2018-01-01 00:00:00",
          "histogram": null
         }
        },
        {
         "name": "POSTCODE",
         "dtype": "int64",
         "stats": {
          "unique_count": 5,
          "nan_count": 0,
          "min": "6010",
          "max": "6168",
          "histogram": [
           {
            "bin_start": 6010,
            "bin_end": 6025.8,
            "count": 1
           },
           {
            "bin_start": 6025.8,
            "bin_end": 6041.6,
            "count": 0
           },
           {
            "bin_start": 6041.6,
            "bin_end": 6057.4,
            "count": 2
           },
           {
            "bin_start": 6057.4,
            "bin_end": 6073.2,
            "count": 0
           },
           {
            "bin_start": 6073.2,
            "bin_end": 6089,
            "count": 1
           },
           {
            "bin_start": 6089,
            "bin_end": 6104.8,
            "count": 0
           },
           {
            "bin_start": 6104.8,
            "bin_end": 6120.6,
            "count": 0
           },
           {
            "bin_start": 6120.6,
            "bin_end": 6136.4,
            "count": 0
           },
           {
            "bin_start": 6136.4,
            "bin_end": 6152.2,
            "count": 0
           },
           {
            "bin_start": 6152.2,
            "bin_end": 6168,
            "count": 1
           }
          ]
         }
        },
        {
         "name": "LATITUDE",
         "dtype": "float64",
         "stats": {
          "unique_count": 5,
          "nan_count": 0,
          "min": "-32.3019",
          "max": "-31.86401386",
          "histogram": [
           {
            "bin_start": -32.3019,
            "bin_end": -32.258111386,
            "count": 1
           },
           {
            "bin_start": -32.258111386,
            "bin_end": -32.214322772,
            "count": 0
           },
           {
            "bin_start": -32.214322772,
            "bin_end": -32.170534158,
            "count": 0
           },
           {
            "bin_start": -32.170534158,
            "bin_end": -32.126745544,
            "count": 0
           },
           {
            "bin_start": -32.126745544,
            "bin_end": -32.08295693,
            "count": 0
           },
           {
            "bin_start": -32.08295693,
            "bin_end": -32.039168316,
            "count": 0
           },
           {
            "bin_start": -32.039168316,
            "bin_end": -31.995379702,
            "count": 0
           },
           {
            "bin_start": -31.995379702,
            "bin_end": -31.951591088,
            "count": 1
           },
           {
            "bin_start": -31.951591088,
            "bin_end": -31.907802474,
            "count": 1
           },
           {
            "bin_start": -31.907802474,
            "bin_end": -31.86401386,
            "count": 2
           }
          ]
         }
        },
        {
         "name": "LONGITUDE",
         "dtype": "float64",
         "stats": {
          "unique_count": 5,
          "nan_count": 0,
          "min": "115.75776",
          "max": "116.0530543",
          "histogram": [
           {
            "bin_start": 115.75776,
            "bin_end": 115.78728943,
            "count": 2
           },
           {
            "bin_start": 115.78728943,
            "bin_end": 115.81681886,
            "count": 0
           },
           {
            "bin_start": 115.81681886,
            "bin_end": 115.84634829000001,
            "count": 0
           },
           {
            "bin_start": 115.84634829000001,
            "bin_end": 115.87587772,
            "count": 0
           },
           {
            "bin_start": 115.87587772,
            "bin_end": 115.90540715,
            "count": 0
           },
           {
            "bin_start": 115.90540715,
            "bin_end": 115.93493658,
            "count": 0
           },
           {
            "bin_start": 115.93493658,
            "bin_end": 115.96446601,
            "count": 0
           },
           {
            "bin_start": 115.96446601,
            "bin_end": 115.99399544,
            "count": 1
           },
           {
            "bin_start": 115.99399544,
            "bin_end": 116.02352487,
            "count": 0
           },
           {
            "bin_start": 116.02352487,
            "bin_end": 116.0530543,
            "count": 2
           }
          ]
         }
        },
        {
         "name": "NEAREST_SCH",
         "dtype": "object",
         "stats": {
          "unique_count": 5,
          "nan_count": 0,
          "categories": [
           {
            "name": "TREETOPS MONTESSORI SCHOOL",
            "count": 1
           },
           {
            "name": "SOUTH COAST BAPTIST COLLEGE",
            "count": 1
           },
           {
            "name": "3 others",
            "count": 3
           }
          ]
         }
        },
        {
         "name": "NEAREST_SCH_DIST",
         "dtype": "float64",
         "stats": {
          "unique_count": 5,
          "nan_count": 0,
          "min": "0.5727734654777153",
          "max": "3.3054094426960896",
          "histogram": [
           {
            "bin_start": 0.5727734654777153,
            "bin_end": 0.8460370631995529,
            "count": 1
           },
           {
            "bin_start": 0.8460370631995529,
            "bin_end": 1.1193006609213902,
            "count": 1
           },
           {
            "bin_start": 1.1193006609213902,
            "bin_end": 1.3925642586432279,
            "count": 0
           },
           {
            "bin_start": 1.3925642586432279,
            "bin_end": 1.6658278563650653,
            "count": 1
           },
           {
            "bin_start": 1.6658278563650653,
            "bin_end": 1.9390914540869026,
            "count": 0
           },
           {
            "bin_start": 1.9390914540869026,
            "bin_end": 2.21235505180874,
            "count": 0
           },
           {
            "bin_start": 2.21235505180874,
            "bin_end": 2.4856186495305774,
            "count": 0
           },
           {
            "bin_start": 2.4856186495305774,
            "bin_end": 2.758882247252415,
            "count": 0
           },
           {
            "bin_start": 2.758882247252415,
            "bin_end": 3.032145844974252,
            "count": 0
           },
           {
            "bin_start": 3.032145844974252,
            "bin_end": 3.3054094426960896,
            "count": 2
           }
          ]
         }
        },
        {
         "name": "NEAREST_SCH_RANK",
         "dtype": "float64",
         "stats": {
          "unique_count": 5,
          "nan_count": 0,
          "min": "8.0",
          "max": "200.0",
          "histogram": [
           {
            "bin_start": 8,
            "bin_end": 27.2,
            "count": 1
           },
           {
            "bin_start": 27.2,
            "bin_end": 46.4,
            "count": 0
           },
           {
            "bin_start": 46.4,
            "bin_end": 65.6,
            "count": 1
           },
           {
            "bin_start": 65.6,
            "bin_end": 84.8,
            "count": 0
           },
           {
            "bin_start": 84.8,
            "bin_end": 104,
            "count": 0
           },
           {
            "bin_start": 104,
            "bin_end": 123.19999999999999,
            "count": 0
           },
           {
            "bin_start": 123.19999999999999,
            "bin_end": 142.4,
            "count": 1
           },
           {
            "bin_start": 142.4,
            "bin_end": 161.6,
            "count": 1
           },
           {
            "bin_start": 161.6,
            "bin_end": 180.79999999999998,
            "count": 0
           },
           {
            "bin_start": 180.79999999999998,
            "bin_end": 200,
            "count": 1
           }
          ]
         }
        },
        {
         "name": "_deepnote_index_column",
         "dtype": "int64"
        }
       ],
       "rows": [
        {
         "ADDRESS": "52 Graham Road",
         "SUBURB": "Gooseberry Hill",
         "PRICE": 855000,
         "BEDROOMS": 3,
         "BATHROOMS": 2,
         "GARAGE": 2,
         "LAND_AREA": 2148,
         "FLOOR_AREA": 192,
         "BUILD_YEAR": 1976,
         "CBD_DIST": 18300,
         "NEAREST_STN": "Midland Station",
         "NEAREST_STN_DIST": 7400,
         "DATE_SOLD": "2018-01-01T00:00:00.000000",
         "POSTCODE": 6076,
         "LATITUDE": -31.9420119,
         "LONGITUDE": 116.0518514,
         "NEAREST_SCH": "TREETOPS MONTESSORI SCHOOL",
         "NEAREST_SCH_DIST": 3.2318402154123724,
         "NEAREST_SCH_RANK": 200,
         "_deepnote_index_column": 0
        },
        {
         "ADDRESS": "111 Willmott Drive",
         "SUBURB": "Cooloongup",
         "PRICE": 270000,
         "BEDROOMS": 3,
         "BATHROOMS": 1,
         "GARAGE": 1,
         "LAND_AREA": 681,
         "FLOOR_AREA": 90,
         "BUILD_YEAR": 1988,
         "CBD_DIST": 40100,
         "NEAREST_STN": "Rockingham Station",
         "NEAREST_STN_DIST": 1300,
         "DATE_SOLD": "2018-01-01T00:00:00.000000",
         "POSTCODE": 6168,
         "LATITUDE": -32.3019,
         "LONGITUDE": 115.75776,
         "NEAREST_SCH": "SOUTH COAST BAPTIST COLLEGE",
         "NEAREST_SCH_DIST": 1.4973082247652618,
         "NEAREST_SCH_RANK": 54,
         "_deepnote_index_column": 1
        },
        {
         "ADDRESS": "12 Moreto Turn",
         "SUBURB": "Caversham",
         "PRICE": 502500,
         "BEDROOMS": 4,
         "BATHROOMS": 2,
         "GARAGE": 2,
         "LAND_AREA": 474,
         "FLOOR_AREA": 189,
         "BUILD_YEAR": "nan",
         "CBD_DIST": 14300,
         "NEAREST_STN": "Guildford Station",
         "NEAREST_STN_DIST": 3800,
         "DATE_SOLD": "2018-01-01T00:00:00.000000",
         "POSTCODE": 6055,
         "LATITUDE": -31.86401386,
         "LONGITUDE": 115.9697493,
         "NEAREST_SCH": "GOVERNOR STIRLING SENIOR HIGH SCHOOL",
         "NEAREST_SCH_DIST": 3.3054094426960896,
         "NEAREST_SCH_RANK": 130,
         "_deepnote_index_column": 2
        },
        {
         "ADDRESS": "6 Finchley Rise",
         "SUBURB": "Mount Claremont",
         "PRICE": 1780000,
         "BEDROOMS": 4,
         "BATHROOMS": 2,
         "GARAGE": 2,
         "LAND_AREA": 916,
         "FLOOR_AREA": 263,
         "BUILD_YEAR": 1991,
         "CBD_DIST": 7500,
         "NEAREST_STN": "Claremont Station",
         "NEAREST_STN_DIST": 1900,
         "DATE_SOLD": "2018-01-01T00:00:00.000000",
         "POSTCODE": 6010,
         "LATITUDE": -31.96374,
         "LONGITUDE": 115.78073,
         "NEAREST_SCH": "JOHN XXIII COLLEGE",
         "NEAREST_SCH_DIST": 0.5727734654777153,
         "NEAREST_SCH_RANK": 8,
         "_deepnote_index_column": 3
        },
        {
         "ADDRESS": "32a Talbot Road",
         "SUBURB": "Swan View",
         "PRICE": 428000,
         "BEDROOMS": 3,
         "BATHROOMS": 2,
         "GARAGE": "nan",
         "LAND_AREA": 850,
         "FLOOR_AREA": 152,
         "BUILD_YEAR": 2010,
         "CBD_DIST": 19900,
         "NEAREST_STN": "Midland Station",
         "NEAREST_STN_DIST": 5000,
         "DATE_SOLD": "2018-01-01T00:00:00.000000",
         "POSTCODE": 6056,
         "LATITUDE": -31.88291153,
         "LONGITUDE": 116.0530543,
         "NEAREST_SCH": "SWAN VIEW SENIOR HIGH SCHOOL",
         "NEAREST_SCH_DIST": 0.9677361932259728,
         "NEAREST_SCH_RANK": 149,
         "_deepnote_index_column": 4
        }
       ]
      },
      "text/plain": "              ADDRESS           SUBURB    PRICE  BEDROOMS  BATHROOMS  GARAGE  \\\n0      52 Graham Road  Gooseberry Hill   855000         3          2     2.0   \n1  111 Willmott Drive       Cooloongup   270000         3          1     1.0   \n2      12 Moreto Turn        Caversham   502500         4          2     2.0   \n3     6 Finchley Rise  Mount Claremont  1780000         4          2     2.0   \n4     32a Talbot Road        Swan View   428000         3          2     NaN   \n\n   LAND_AREA  FLOOR_AREA  BUILD_YEAR  CBD_DIST         NEAREST_STN  \\\n0       2148         192      1976.0     18300     Midland Station   \n1        681          90      1988.0     40100  Rockingham Station   \n2        474         189         NaN     14300   Guildford Station   \n3        916         263      1991.0      7500   Claremont Station   \n4        850         152      2010.0     19900     Midland Station   \n\n   NEAREST_STN_DIST  DATE_SOLD  POSTCODE   LATITUDE   LONGITUDE  \\\n0              7400 2018-01-01      6076 -31.942012  116.051851   \n1              1300 2018-01-01      6168 -32.301900  115.757760   \n2              3800 2018-01-01      6055 -31.864014  115.969749   \n3              1900 2018-01-01      6010 -31.963740  115.780730   \n4              5000 2018-01-01      6056 -31.882912  116.053054   \n\n                            NEAREST_SCH  NEAREST_SCH_DIST  NEAREST_SCH_RANK  \n0            TREETOPS MONTESSORI SCHOOL          3.231840             200.0  \n1           SOUTH COAST BAPTIST COLLEGE          1.497308              54.0  \n2  GOVERNOR STIRLING SENIOR HIGH SCHOOL          3.305409             130.0  \n3                    JOHN XXIII COLLEGE          0.572773               8.0  \n4          SWAN VIEW SENIOR HIGH SCHOOL          0.967736             149.0  ",
      "text/html": "<div>\n<style scoped>\n    .dataframe tbody tr th:only-of-type {\n        vertical-align: middle;\n    }\n\n    .dataframe tbody tr th {\n        vertical-align: top;\n    }\n\n    .dataframe thead th {\n        text-align: right;\n    }\n</style>\n<table border=\"1\" class=\"dataframe\">\n  <thead>\n    <tr style=\"text-align: right;\">\n      <th></th>\n      <th>ADDRESS</th>\n      <th>SUBURB</th>\n      <th>PRICE</th>\n      <th>BEDROOMS</th>\n      <th>BATHROOMS</th>\n      <th>GARAGE</th>\n      <th>LAND_AREA</th>\n      <th>FLOOR_AREA</th>\n      <th>BUILD_YEAR</th>\n      <th>CBD_DIST</th>\n      <th>NEAREST_STN</th>\n      <th>NEAREST_STN_DIST</th>\n      <th>DATE_SOLD</th>\n      <th>POSTCODE</th>\n      <th>LATITUDE</th>\n      <th>LONGITUDE</th>\n      <th>NEAREST_SCH</th>\n      <th>NEAREST_SCH_DIST</th>\n      <th>NEAREST_SCH_RANK</th>\n    </tr>\n  </thead>\n  <tbody>\n    <tr>\n      <th>0</th>\n      <td>52 Graham Road</td>\n      <td>Gooseberry Hill</td>\n      <td>855000</td>\n      <td>3</td>\n      <td>2</td>\n      <td>2.0</td>\n      <td>2148</td>\n      <td>192</td>\n      <td>1976.0</td>\n      <td>18300</td>\n      <td>Midland Station</td>\n      <td>7400</td>\n      <td>2018-01-01</td>\n      <td>6076</td>\n      <td>-31.942012</td>\n      <td>116.051851</td>\n      <td>TREETOPS MONTESSORI SCHOOL</td>\n      <td>3.231840</td>\n      <td>200.0</td>\n    </tr>\n    <tr>\n      <th>1</th>\n      <td>111 Willmott Drive</td>\n      <td>Cooloongup</td>\n      <td>270000</td>\n      <td>3</td>\n      <td>1</td>\n      <td>1.0</td>\n      <td>681</td>\n      <td>90</td>\n      <td>1988.0</td>\n      <td>40100</td>\n      <td>Rockingham Station</td>\n      <td>1300</td>\n      <td>2018-01-01</td>\n      <td>6168</td>\n      <td>-32.301900</td>\n      <td>115.757760</td>\n      <td>SOUTH COAST BAPTIST COLLEGE</td>\n      <td>1.497308</td>\n      <td>54.0</td>\n    </tr>\n    <tr>\n      <th>2</th>\n      <td>12 Moreto Turn</td>\n      <td>Caversham</td>\n      <td>502500</td>\n      <td>4</td>\n      <td>2</td>\n      <td>2.0</td>\n      <td>474</td>\n      <td>189</td>\n      <td>NaN</td>\n      <td>14300</td>\n      <td>Guildford Station</td>\n      <td>3800</td>\n      <td>2018-01-01</td>\n      <td>6055</td>\n      <td>-31.864014</td>\n      <td>115.969749</td>\n      <td>GOVERNOR STIRLING SENIOR HIGH SCHOOL</td>\n      <td>3.305409</td>\n      <td>130.0</td>\n    </tr>\n    <tr>\n      <th>3</th>\n      <td>6 Finchley Rise</td>\n      <td>Mount Claremont</td>\n      <td>1780000</td>\n      <td>4</td>\n      <td>2</td>\n      <td>2.0</td>\n      <td>916</td>\n      <td>263</td>\n      <td>1991.0</td>\n      <td>7500</td>\n      <td>Claremont Station</td>\n      <td>1900</td>\n      <td>2018-01-01</td>\n      <td>6010</td>\n      <td>-31.963740</td>\n      <td>115.780730</td>\n      <td>JOHN XXIII COLLEGE</td>\n      <td>0.572773</td>\n      <td>8.0</td>\n    </tr>\n    <tr>\n      <th>4</th>\n      <td>32a Talbot Road</td>\n      <td>Swan View</td>\n      <td>428000</td>\n      <td>3</td>\n      <td>2</td>\n      <td>NaN</td>\n      <td>850</td>\n      <td>152</td>\n      <td>2010.0</td>\n      <td>19900</td>\n      <td>Midland Station</td>\n      <td>5000</td>\n      <td>2018-01-01</td>\n      <td>6056</td>\n      <td>-31.882912</td>\n      <td>116.053054</td>\n      <td>SWAN VIEW SENIOR HIGH SCHOOL</td>\n      <td>0.967736</td>\n      <td>149.0</td>\n    </tr>\n  </tbody>\n</table>\n</div>"
     },
     "metadata": {}
    }
   ],
   "execution_count": null
  },
  {
   "cell_type": "code",
   "metadata": {
    "cell_id": "fbb22c2b-5418-4273-8c5d-b3b3938b8ea0",
    "tags": [],
    "deepnote_to_be_reexecuted": false,
    "source_hash": "655f8fca",
    "execution_start": 1646968554027,
    "execution_millis": 12507,
    "deepnote_cell_type": "code",
    "deepnote_cell_height": 353.03125
   },
   "source": " # instal numba\n !pip install numba==0.55.1",
   "outputs": [
    {
     "name": "stdout",
     "text": "Collecting numba==0.55.1\n  Downloading numba-0.55.1-1-cp37-cp37m-manylinux2014_x86_64.manylinux_2_17_x86_64.whl (3.3 MB)\n\u001b[K     |████████████████████████████████| 3.3 MB 17.8 MB/s \n\u001b[?25hRequirement already satisfied: numpy<1.22,>=1.18 in /shared-libs/python3.7/py-core/lib/python3.7/site-packages (from numba==0.55.1) (1.21.5)\nRequirement already satisfied: setuptools in /root/venv/lib/python3.7/site-packages (from numba==0.55.1) (47.1.0)\nCollecting llvmlite<0.39,>=0.38.0rc1\n  Downloading llvmlite-0.38.0-cp37-cp37m-manylinux_2_17_x86_64.manylinux2014_x86_64.whl (34.5 MB)\n\u001b[K     |████████████████████████████████| 34.5 MB 39.7 MB/s \n\u001b[?25hInstalling collected packages: llvmlite, numba\nSuccessfully installed llvmlite-0.38.0 numba-0.55.1\n\u001b[33mWARNING: You are using pip version 20.1.1; however, version 22.0.4 is available.\nYou should consider upgrading via the '/root/venv/bin/python -m pip install --upgrade pip' command.\u001b[0m\n",
     "output_type": "stream"
    }
   ],
   "execution_count": null
  },
  {
   "cell_type": "code",
   "metadata": {
    "cell_id": "65488050-c33c-4129-a6d9-e760ffcd6537",
    "tags": [],
    "deepnote_to_be_reexecuted": false,
    "source_hash": "60d70d88",
    "execution_start": 1646968566542,
    "execution_millis": 776,
    "deepnote_cell_type": "code",
    "deepnote_cell_height": 172.1875,
    "deepnote_output_heights": [
     21.1875
    ]
   },
   "source": "import numba as nb\nbus = pd.read_csv(\"bus.csv\")\nbus.head()\nlen(bus)",
   "outputs": [
    {
     "output_type": "execute_result",
     "execution_count": 15,
     "data": {
      "text/plain": "16243"
     },
     "metadata": {}
    }
   ],
   "execution_count": null
  },
  {
   "cell_type": "code",
   "metadata": {
    "cell_id": "6d0da490-96ac-48cb-a55a-64c67bc42a26",
    "tags": [],
    "deepnote_to_be_reexecuted": false,
    "source_hash": "58d61de5",
    "execution_start": 1646968567325,
    "execution_millis": 128,
    "deepnote_cell_type": "code",
    "deepnote_cell_height": 172.1875,
    "deepnote_output_heights": [
     21.1875
    ]
   },
   "source": "orin = cut_perth.copy()\ncut_perth_numpy = cut_perth.to_numpy().T\nbus = bus.to_numpy().T\nlen(bus)",
   "outputs": [
    {
     "output_type": "execute_result",
     "execution_count": 16,
     "data": {
      "text/plain": "33"
     },
     "metadata": {}
    }
   ],
   "execution_count": null
  },
  {
   "cell_type": "code",
   "metadata": {
    "cell_id": "66966218-3605-48fd-858d-b8083f6fc4ae",
    "tags": [],
    "deepnote_to_be_reexecuted": false,
    "source_hash": "d8a12db8",
    "execution_start": 1646968567460,
    "execution_millis": 20108,
    "deepnote_cell_type": "code",
    "deepnote_cell_height": 549
   },
   "source": "# find the number of the stations are in the +_ 0.005 latitude and longtitude of the house\n# numba not receive numpy, using list here\nfrom numba import njit\nfrom numba.typed import List\nstation_sum = np.zeros((len(cut_perth_numpy.T),1))\nstation_sum = List(station_sum)\nstation_sum\nlatitude_perth = List(cut_perth_numpy[14])\nlatitude_bus = List(bus[0])\nlongtitude_perth = List(cut_perth_numpy[15])\nlongtitude_bus = List(bus[1])\nlongtitude_perth[1]\nstation_sum\nres = List()\n\n@nb.jit()\ndef cal_sta_sum (latitude_perth,latitude_bus,longtitude_perth,longtitude_bus,station_sum):\n    for i in range(16167):\n        for j in range(16243):\n            if (abs(latitude_perth[i] - latitude_bus[j]) < 0.005) and (abs(longtitude_perth[i] - longtitude_bus[j]) < 0.005):\n                station_sum[i] += 1\n            else:\n                station_sum[i] += 0 \n    return station_sum\n\nres = cal_sta_sum(latitude_perth,latitude_bus,longtitude_perth,longtitude_bus,station_sum)\n",
   "outputs": [],
   "execution_count": null
  },
  {
   "cell_type": "code",
   "metadata": {
    "cell_id": "5a9acae3-d3e2-4bf8-add2-776f1d81e82d",
    "tags": [],
    "deepnote_to_be_reexecuted": false,
    "source_hash": "bfa4fc94",
    "execution_start": 1646968587582,
    "execution_millis": 400,
    "deepnote_cell_type": "code",
    "deepnote_cell_height": 81
   },
   "source": "res = np.array(res).T",
   "outputs": [],
   "execution_count": null
  },
  {
   "cell_type": "code",
   "metadata": {
    "cell_id": "6e5b8584-1621-4253-91b1-a3de1f7bd6e8",
    "tags": [],
    "deepnote_to_be_reexecuted": false,
    "source_hash": "4c8aa5e4",
    "execution_start": 1646968587993,
    "execution_millis": 29,
    "deepnote_cell_type": "code",
    "deepnote_cell_height": 616
   },
   "source": "station_num = pd.DataFrame(res.T)\nstation_num",
   "outputs": [
    {
     "output_type": "execute_result",
     "execution_count": 19,
     "data": {
      "application/vnd.deepnote.dataframe.v3+json": {
       "column_count": 1,
       "row_count": 16167,
       "columns": [
        {
         "name": 0,
         "dtype": "float64",
         "stats": {
          "unique_count": 38,
          "nan_count": 0,
          "min": "0.0",
          "max": "39.0",
          "histogram": [
           {
            "bin_start": 0,
            "bin_end": 3.9,
            "count": 1483
           },
           {
            "bin_start": 3.9,
            "bin_end": 7.8,
            "count": 3277
           },
           {
            "bin_start": 7.8,
            "bin_end": 11.7,
            "count": 4934
           },
           {
            "bin_start": 11.7,
            "bin_end": 15.6,
            "count": 3730
           },
           {
            "bin_start": 15.6,
            "bin_end": 19.5,
            "count": 1772
           },
           {
            "bin_start": 19.5,
            "bin_end": 23.4,
            "count": 672
           },
           {
            "bin_start": 23.4,
            "bin_end": 27.3,
            "count": 233
           },
           {
            "bin_start": 27.3,
            "bin_end": 31.2,
            "count": 49
           },
           {
            "bin_start": 31.2,
            "bin_end": 35.1,
            "count": 15
           },
           {
            "bin_start": 35.1,
            "bin_end": 39,
            "count": 2
           }
          ]
         }
        },
        {
         "name": "_deepnote_index_column",
         "dtype": "int64"
        }
       ],
       "rows": [
        {
         "0": 1,
         "_deepnote_index_column": 0
        },
        {
         "0": 9,
         "_deepnote_index_column": 1
        },
        {
         "0": 6,
         "_deepnote_index_column": 2
        },
        {
         "0": 15,
         "_deepnote_index_column": 3
        },
        {
         "0": 16,
         "_deepnote_index_column": 4
        },
        {
         "0": 9,
         "_deepnote_index_column": 5
        },
        {
         "0": 9,
         "_deepnote_index_column": 6
        },
        {
         "0": 21,
         "_deepnote_index_column": 7
        },
        {
         "0": 6,
         "_deepnote_index_column": 8
        },
        {
         "0": 13,
         "_deepnote_index_column": 9
        }
       ]
      },
      "text/plain": "          0\n0       1.0\n1       9.0\n2       6.0\n3      15.0\n4      16.0\n...     ...\n16162  13.0\n16163  20.0\n16164  16.0\n16165   7.0\n16166   2.0\n\n[16167 rows x 1 columns]",
      "text/html": "<div>\n<style scoped>\n    .dataframe tbody tr th:only-of-type {\n        vertical-align: middle;\n    }\n\n    .dataframe tbody tr th {\n        vertical-align: top;\n    }\n\n    .dataframe thead th {\n        text-align: right;\n    }\n</style>\n<table border=\"1\" class=\"dataframe\">\n  <thead>\n    <tr style=\"text-align: right;\">\n      <th></th>\n      <th>0</th>\n    </tr>\n  </thead>\n  <tbody>\n    <tr>\n      <th>0</th>\n      <td>1.0</td>\n    </tr>\n    <tr>\n      <th>1</th>\n      <td>9.0</td>\n    </tr>\n    <tr>\n      <th>2</th>\n      <td>6.0</td>\n    </tr>\n    <tr>\n      <th>3</th>\n      <td>15.0</td>\n    </tr>\n    <tr>\n      <th>4</th>\n      <td>16.0</td>\n    </tr>\n    <tr>\n      <th>...</th>\n      <td>...</td>\n    </tr>\n    <tr>\n      <th>16162</th>\n      <td>13.0</td>\n    </tr>\n    <tr>\n      <th>16163</th>\n      <td>20.0</td>\n    </tr>\n    <tr>\n      <th>16164</th>\n      <td>16.0</td>\n    </tr>\n    <tr>\n      <th>16165</th>\n      <td>7.0</td>\n    </tr>\n    <tr>\n      <th>16166</th>\n      <td>2.0</td>\n    </tr>\n  </tbody>\n</table>\n<p>16167 rows × 1 columns</p>\n</div>"
     },
     "metadata": {}
    }
   ],
   "execution_count": null
  },
  {
   "cell_type": "code",
   "metadata": {
    "cell_id": "8ff78c02-0bd7-4f9a-b99a-180d6d722c3b",
    "tags": [],
    "deepnote_to_be_reexecuted": false,
    "source_hash": "e9d0883d",
    "execution_start": 1646968588028,
    "execution_millis": 33,
    "deepnote_cell_type": "code",
    "deepnote_cell_height": 634
   },
   "source": "# add number of stations columns in the cut_perth data\nstation_num.columns = ['station_num']\nstation_num",
   "outputs": [
    {
     "output_type": "execute_result",
     "execution_count": 20,
     "data": {
      "application/vnd.deepnote.dataframe.v3+json": {
       "column_count": 1,
       "row_count": 16167,
       "columns": [
        {
         "name": "station_num",
         "dtype": "float64",
         "stats": {
          "unique_count": 38,
          "nan_count": 0,
          "min": "0.0",
          "max": "39.0",
          "histogram": [
           {
            "bin_start": 0,
            "bin_end": 3.9,
            "count": 1483
           },
           {
            "bin_start": 3.9,
            "bin_end": 7.8,
            "count": 3277
           },
           {
            "bin_start": 7.8,
            "bin_end": 11.7,
            "count": 4934
           },
           {
            "bin_start": 11.7,
            "bin_end": 15.6,
            "count": 3730
           },
           {
            "bin_start": 15.6,
            "bin_end": 19.5,
            "count": 1772
           },
           {
            "bin_start": 19.5,
            "bin_end": 23.4,
            "count": 672
           },
           {
            "bin_start": 23.4,
            "bin_end": 27.3,
            "count": 233
           },
           {
            "bin_start": 27.3,
            "bin_end": 31.2,
            "count": 49
           },
           {
            "bin_start": 31.2,
            "bin_end": 35.1,
            "count": 15
           },
           {
            "bin_start": 35.1,
            "bin_end": 39,
            "count": 2
           }
          ]
         }
        },
        {
         "name": "_deepnote_index_column",
         "dtype": "int64"
        }
       ],
       "rows": [
        {
         "station_num": 1,
         "_deepnote_index_column": 0
        },
        {
         "station_num": 9,
         "_deepnote_index_column": 1
        },
        {
         "station_num": 6,
         "_deepnote_index_column": 2
        },
        {
         "station_num": 15,
         "_deepnote_index_column": 3
        },
        {
         "station_num": 16,
         "_deepnote_index_column": 4
        },
        {
         "station_num": 9,
         "_deepnote_index_column": 5
        },
        {
         "station_num": 9,
         "_deepnote_index_column": 6
        },
        {
         "station_num": 21,
         "_deepnote_index_column": 7
        },
        {
         "station_num": 6,
         "_deepnote_index_column": 8
        },
        {
         "station_num": 13,
         "_deepnote_index_column": 9
        }
       ]
      },
      "text/plain": "       station_num\n0              1.0\n1              9.0\n2              6.0\n3             15.0\n4             16.0\n...            ...\n16162         13.0\n16163         20.0\n16164         16.0\n16165          7.0\n16166          2.0\n\n[16167 rows x 1 columns]",
      "text/html": "<div>\n<style scoped>\n    .dataframe tbody tr th:only-of-type {\n        vertical-align: middle;\n    }\n\n    .dataframe tbody tr th {\n        vertical-align: top;\n    }\n\n    .dataframe thead th {\n        text-align: right;\n    }\n</style>\n<table border=\"1\" class=\"dataframe\">\n  <thead>\n    <tr style=\"text-align: right;\">\n      <th></th>\n      <th>station_num</th>\n    </tr>\n  </thead>\n  <tbody>\n    <tr>\n      <th>0</th>\n      <td>1.0</td>\n    </tr>\n    <tr>\n      <th>1</th>\n      <td>9.0</td>\n    </tr>\n    <tr>\n      <th>2</th>\n      <td>6.0</td>\n    </tr>\n    <tr>\n      <th>3</th>\n      <td>15.0</td>\n    </tr>\n    <tr>\n      <th>4</th>\n      <td>16.0</td>\n    </tr>\n    <tr>\n      <th>...</th>\n      <td>...</td>\n    </tr>\n    <tr>\n      <th>16162</th>\n      <td>13.0</td>\n    </tr>\n    <tr>\n      <th>16163</th>\n      <td>20.0</td>\n    </tr>\n    <tr>\n      <th>16164</th>\n      <td>16.0</td>\n    </tr>\n    <tr>\n      <th>16165</th>\n      <td>7.0</td>\n    </tr>\n    <tr>\n      <th>16166</th>\n      <td>2.0</td>\n    </tr>\n  </tbody>\n</table>\n<p>16167 rows × 1 columns</p>\n</div>"
     },
     "metadata": {}
    }
   ],
   "execution_count": null
  },
  {
   "cell_type": "code",
   "metadata": {
    "cell_id": "30efd789-a4de-4521-ad97-0aadfdea6f2e",
    "tags": [],
    "deepnote_to_be_reexecuted": false,
    "source_hash": "966bcf26",
    "execution_start": 1646968588070,
    "execution_millis": 0,
    "deepnote_cell_type": "code",
    "deepnote_cell_height": 81
   },
   "source": "perth_add_station_num = pd.concat([orin,station_num],axis=1)",
   "outputs": [],
   "execution_count": null
  },
  {
   "cell_type": "code",
   "metadata": {
    "cell_id": "7651707c-c5d4-48af-9b85-932be690e62f",
    "tags": [],
    "deepnote_to_be_reexecuted": false,
    "source_hash": "a19b8a2e",
    "execution_start": 1646968588085,
    "execution_millis": 7031,
    "deepnote_cell_type": "code",
    "deepnote_cell_height": 567
   },
   "source": "#calculate the distance to the nearest cemetery\ncem = pd.read_csv(\"cemetery.csv\")\n#https://blog.csdn.net/vernice/article/details/46581361?spm=1001.2101.3001.6650.1&utm_medium=distribute.pc_relevant.none-task-blog-2%7Edefault%7ECTRLIST%7Edefault-1.pc_relevant_default&depth_1-utm_source=distribute.pc_relevant.none-task-blog-2%7Edefault%7ECTRLIST%7Edefault-1.pc_relevant_default&utm_relevant_index=2\nfrom math import radians, cos, sin, asin, sqrt\n \ndef haversine(lon1, lat1, lon2, lat2): # 经度1，纬度1，经度2，纬度2 （十进制度数）\n    \"\"\"\n    Calculate the great circle distance between two points \n    on the earth (specified in decimal degrees)\n    \"\"\"\n    # 将十进制度数转化为弧度 Convert decimal to radian\n    lon1, lat1, lon2, lat2 = map(radians, [lon1, lat1, lon2, lat2])\n \n    # haversine formula\n    dlon = lon2 - lon1 \n    dlat = lat2 - lat1 \n    a = sin(dlat/2)**2 + cos(lat1) * cos(lat2) * sin(dlon/2)**2\n    c = 2 * asin(sqrt(a)) \n    r = 6371 # 地球平均半径，单位为公里 average radius (km)\n    return c * r * 1000\n\nmin_d = []\nfor i in range(len(perth_add_station_num)):\n    d = []\n    for j in range(len(cem)):\n        d.append(haversine(perth_add_station_num['LONGITUDE'][i],perth_add_station_num['LATITUDE'][i],cem['经度'][j],cem['纬度'][j]))\n    min_d.append(min(d))\nperth_add_station_num['NEAREST_CEM_DIST'] = min_d",
   "outputs": [],
   "execution_count": null
  },
  {
   "cell_type": "code",
   "metadata": {
    "cell_id": "a0502113-f966-418e-9fb0-83b0b0623fbb",
    "tags": [],
    "deepnote_to_be_reexecuted": false,
    "source_hash": "aa1d9219",
    "execution_start": 1646968595124,
    "execution_millis": 142,
    "deepnote_cell_type": "code",
    "deepnote_cell_height": 614.65625
   },
   "source": "perth_add_station_num",
   "outputs": [
    {
     "output_type": "execute_result",
     "execution_count": 23,
     "data": {
      "application/vnd.deepnote.dataframe.v3+json": {
       "column_count": 21,
       "row_count": 16167,
       "columns": [
        {
         "name": "ADDRESS",
         "dtype": "object",
         "stats": {
          "unique_count": 16150,
          "nan_count": 0,
          "categories": [
           {
            "name": "123 Fairway",
            "count": 3
           },
           {
            "name": "20 Bernard Street",
            "count": 2
           },
           {
            "name": "16148 others",
            "count": 16162
           }
          ]
         }
        },
        {
         "name": "SUBURB",
         "dtype": "object",
         "stats": {
          "unique_count": 307,
          "nan_count": 0,
          "categories": [
           {
            "name": "Butler",
            "count": 207
           },
           {
            "name": "Mindarie",
            "count": 198
           },
           {
            "name": "305 others",
            "count": 15762
           }
          ]
         }
        },
        {
         "name": "PRICE",
         "dtype": "int64",
         "stats": {
          "unique_count": 1560,
          "nan_count": 0,
          "min": "53000",
          "max": "2440000",
          "histogram": [
           {
            "bin_start": 53000,
            "bin_end": 291700,
            "count": 1069
           },
           {
            "bin_start": 291700,
            "bin_end": 530400,
            "count": 6910
           },
           {
            "bin_start": 530400,
            "bin_end": 769100,
            "count": 4430
           },
           {
            "bin_start": 769100,
            "bin_end": 1007800,
            "count": 1910
           },
           {
            "bin_start": 1007800,
            "bin_end": 1246500,
            "count": 753
           },
           {
            "bin_start": 1246500,
            "bin_end": 1485200,
            "count": 506
           },
           {
            "bin_start": 1485200,
            "bin_end": 1723900,
            "count": 270
           },
           {
            "bin_start": 1723900,
            "bin_end": 1962600,
            "count": 172
           },
           {
            "bin_start": 1962600,
            "bin_end": 2201300,
            "count": 95
           },
           {
            "bin_start": 2201300,
            "bin_end": 2440000,
            "count": 52
           }
          ]
         }
        },
        {
         "name": "BEDROOMS",
         "dtype": "int64",
         "stats": {
          "unique_count": 9,
          "nan_count": 0,
          "min": "1",
          "max": "9",
          "histogram": [
           {
            "bin_start": 1,
            "bin_end": 1.8,
            "count": 42
           },
           {
            "bin_start": 1.8,
            "bin_end": 2.6,
            "count": 654
           },
           {
            "bin_start": 2.6,
            "bin_end": 3.4000000000000004,
            "count": 5425
           },
           {
            "bin_start": 3.4000000000000004,
            "bin_end": 4.2,
            "count": 8825
           },
           {
            "bin_start": 4.2,
            "bin_end": 5,
            "count": 0
           },
           {
            "bin_start": 5,
            "bin_end": 5.800000000000001,
            "count": 1085
           },
           {
            "bin_start": 5.800000000000001,
            "bin_end": 6.6000000000000005,
            "count": 114
           },
           {
            "bin_start": 6.6000000000000005,
            "bin_end": 7.4,
            "count": 16
           },
           {
            "bin_start": 7.4,
            "bin_end": 8.2,
            "count": 4
           },
           {
            "bin_start": 8.2,
            "bin_end": 9,
            "count": 2
           }
          ]
         }
        },
        {
         "name": "BATHROOMS",
         "dtype": "int64",
         "stats": {
          "unique_count": 7,
          "nan_count": 0,
          "min": "1",
          "max": "7",
          "histogram": [
           {
            "bin_start": 1,
            "bin_end": 1.6,
            "count": 3715
           },
           {
            "bin_start": 1.6,
            "bin_end": 2.2,
            "count": 11332
           },
           {
            "bin_start": 2.2,
            "bin_end": 2.8,
            "count": 0
           },
           {
            "bin_start": 2.8,
            "bin_end": 3.4,
            "count": 1022
           },
           {
            "bin_start": 3.4,
            "bin_end": 4,
            "count": 0
           },
           {
            "bin_start": 4,
            "bin_end": 4.6,
            "count": 90
           },
           {
            "bin_start": 4.6,
            "bin_end": 5.2,
            "count": 4
           },
           {
            "bin_start": 5.2,
            "bin_end": 5.8,
            "count": 0
           },
           {
            "bin_start": 5.8,
            "bin_end": 6.3999999999999995,
            "count": 3
           },
           {
            "bin_start": 6.3999999999999995,
            "bin_end": 7,
            "count": 1
           }
          ]
         }
        },
        {
         "name": "GARAGE",
         "dtype": "float64",
         "stats": {
          "unique_count": 19,
          "nan_count": 1272,
          "min": "1.0",
          "max": "50.0",
          "histogram": [
           {
            "bin_start": 1,
            "bin_end": 5.9,
            "count": 14568
           },
           {
            "bin_start": 5.9,
            "bin_end": 10.8,
            "count": 304
           },
           {
            "bin_start": 10.8,
            "bin_end": 15.700000000000001,
            "count": 16
           },
           {
            "bin_start": 15.700000000000001,
            "bin_end": 20.6,
            "count": 5
           },
           {
            "bin_start": 20.6,
            "bin_end": 25.5,
            "count": 1
           },
           {
            "bin_start": 25.5,
            "bin_end": 30.400000000000002,
            "count": 0
           },
           {
            "bin_start": 30.400000000000002,
            "bin_end": 35.300000000000004,
            "count": 0
           },
           {
            "bin_start": 35.300000000000004,
            "bin_end": 40.2,
            "count": 0
           },
           {
            "bin_start": 40.2,
            "bin_end": 45.1,
            "count": 0
           },
           {
            "bin_start": 45.1,
            "bin_end": 50,
            "count": 1
           }
          ]
         }
        },
        {
         "name": "LAND_AREA",
         "dtype": "int64"
        },
        {
         "name": "FLOOR_AREA",
         "dtype": "int64"
        },
        {
         "name": "BUILD_YEAR",
         "dtype": "float64"
        },
        {
         "name": "CBD_DIST",
         "dtype": "int64"
        },
        {
         "name": "NEAREST_STN",
         "dtype": "object"
        },
        {
         "name": "NEAREST_STN_DIST",
         "dtype": "int64"
        },
        {
         "name": "DATE_SOLD",
         "dtype": "datetime64[ns]"
        },
        {
         "name": "POSTCODE",
         "dtype": "int64"
        },
        {
         "name": "LATITUDE",
         "dtype": "float64"
        },
        {
         "name": "LONGITUDE",
         "dtype": "float64"
        },
        {
         "name": "NEAREST_SCH",
         "dtype": "object"
        },
        {
         "name": "NEAREST_SCH_DIST",
         "dtype": "float64"
        },
        {
         "name": "NEAREST_SCH_RANK",
         "dtype": "float64"
        },
        {
         "name": "station_num",
         "dtype": "float64"
        },
        {
         "name": "NEAREST_CEM_DIST",
         "dtype": "float64"
        },
        {
         "name": "_deepnote_index_column",
         "dtype": "int64"
        }
       ],
       "rows": [
        {
         "ADDRESS": "52 Graham Road",
         "SUBURB": "Gooseberry Hill",
         "PRICE": 855000,
         "BEDROOMS": 3,
         "BATHROOMS": 2,
         "GARAGE": 2,
         "LAND_AREA": 2148,
         "FLOOR_AREA": 192,
         "BUILD_YEAR": 1976,
         "CBD_DIST": 18300,
         "NEAREST_STN": "Midland Station",
         "NEAREST_STN_DIST": 7400,
         "DATE_SOLD": "2018-01-01T00:00:00.000000",
         "POSTCODE": 6076,
         "LATITUDE": -31.9420119,
         "LONGITUDE": 116.0518514,
         "NEAREST_SCH": "TREETOPS MONTESSORI SCHOOL",
         "NEAREST_SCH_DIST": 3.2318402154123724,
         "NEAREST_SCH_RANK": 200,
         "station_num": 1,
         "NEAREST_CEM_DIST": 6650.1147547886685,
         "_deepnote_index_column": 0
        },
        {
         "ADDRESS": "111 Willmott Drive",
         "SUBURB": "Cooloongup",
         "PRICE": 270000,
         "BEDROOMS": 3,
         "BATHROOMS": 1,
         "GARAGE": 1,
         "LAND_AREA": 681,
         "FLOOR_AREA": 90,
         "BUILD_YEAR": 1988,
         "CBD_DIST": 40100,
         "NEAREST_STN": "Rockingham Station",
         "NEAREST_STN_DIST": 1300,
         "DATE_SOLD": "2018-01-01T00:00:00.000000",
         "POSTCODE": 6168,
         "LATITUDE": -32.3019,
         "LONGITUDE": 115.75776,
         "NEAREST_SCH": "SOUTH COAST BAPTIST COLLEGE",
         "NEAREST_SCH_DIST": 1.4973082247652618,
         "NEAREST_SCH_RANK": 54,
         "station_num": 9,
         "NEAREST_CEM_DIST": 3395.069163796835,
         "_deepnote_index_column": 1
        },
        {
         "ADDRESS": "12 Moreto Turn",
         "SUBURB": "Caversham",
         "PRICE": 502500,
         "BEDROOMS": 4,
         "BATHROOMS": 2,
         "GARAGE": 2,
         "LAND_AREA": 474,
         "FLOOR_AREA": 189,
         "BUILD_YEAR": "nan",
         "CBD_DIST": 14300,
         "NEAREST_STN": "Guildford Station",
         "NEAREST_STN_DIST": 3800,
         "DATE_SOLD": "2018-01-01T00:00:00.000000",
         "POSTCODE": 6055,
         "LATITUDE": -31.86401386,
         "LONGITUDE": 115.9697493,
         "NEAREST_SCH": "GOVERNOR STIRLING SENIOR HIGH SCHOOL",
         "NEAREST_SCH_DIST": 3.3054094426960896,
         "NEAREST_SCH_RANK": 130,
         "station_num": 6,
         "NEAREST_CEM_DIST": 3937.0346111835893,
         "_deepnote_index_column": 2
        },
        {
         "ADDRESS": "6 Finchley Rise",
         "SUBURB": "Mount Claremont",
         "PRICE": 1780000,
         "BEDROOMS": 4,
         "BATHROOMS": 2,
         "GARAGE": 2,
         "LAND_AREA": 916,
         "FLOOR_AREA": 263,
         "BUILD_YEAR": 1991,
         "CBD_DIST": 7500,
         "NEAREST_STN": "Claremont Station",
         "NEAREST_STN_DIST": 1900,
         "DATE_SOLD": "2018-01-01T00:00:00.000000",
         "POSTCODE": 6010,
         "LATITUDE": -31.96374,
         "LONGITUDE": 115.78073,
         "NEAREST_SCH": "JOHN XXIII COLLEGE",
         "NEAREST_SCH_DIST": 0.5727734654777153,
         "NEAREST_SCH_RANK": 8,
         "station_num": 15,
         "NEAREST_CEM_DIST": 1898.1575284468015,
         "_deepnote_index_column": 3
        },
        {
         "ADDRESS": "32a Talbot Road",
         "SUBURB": "Swan View",
         "PRICE": 428000,
         "BEDROOMS": 3,
         "BATHROOMS": 2,
         "GARAGE": "nan",
         "LAND_AREA": 850,
         "FLOOR_AREA": 152,
         "BUILD_YEAR": 2010,
         "CBD_DIST": 19900,
         "NEAREST_STN": "Midland Station",
         "NEAREST_STN_DIST": 5000,
         "DATE_SOLD": "2018-01-01T00:00:00.000000",
         "POSTCODE": 6056,
         "LATITUDE": -31.88291153,
         "LONGITUDE": 116.0530543,
         "NEAREST_SCH": "SWAN VIEW SENIOR HIGH SCHOOL",
         "NEAREST_SCH_DIST": 0.9677361932259728,
         "NEAREST_SCH_RANK": 149,
         "station_num": 16,
         "NEAREST_CEM_DIST": 3867.178161692481,
         "_deepnote_index_column": 4
        },
        {
         "ADDRESS": "5 Raby Court",
         "SUBURB": "Cooloongup",
         "PRICE": 240000,
         "BEDROOMS": 3,
         "BATHROOMS": 1,
         "GARAGE": 1,
         "LAND_AREA": 688,
         "FLOOR_AREA": 127,
         "BUILD_YEAR": 1980,
         "CBD_DIST": 40300,
         "NEAREST_STN": "Rockingham Station",
         "NEAREST_STN_DIST": 1600,
         "DATE_SOLD": "2018-01-01T00:00:00.000000",
         "POSTCODE": 6168,
         "LATITUDE": -32.30278,
         "LONGITUDE": 115.75244,
         "NEAREST_SCH": "SAFETY BAY SENIOR HIGH SCHOOL",
         "NEAREST_SCH_DIST": 1.080376409281136,
         "NEAREST_SCH_RANK": 136,
         "station_num": 9,
         "NEAREST_CEM_DIST": 3190.22101385919,
         "_deepnote_index_column": 5
        },
        {
         "ADDRESS": "1 Elvire Street",
         "SUBURB": "Midland",
         "PRICE": 349000,
         "BEDROOMS": 2,
         "BATHROOMS": 1,
         "GARAGE": "nan",
         "LAND_AREA": 927,
         "FLOOR_AREA": 106,
         "BUILD_YEAR": 1930,
         "CBD_DIST": 15300,
         "NEAREST_STN": "Midland Station",
         "NEAREST_STN_DIST": 633,
         "DATE_SOLD": "2018-01-01T00:00:00.000000",
         "POSTCODE": 6056,
         "LATITUDE": -31.88588,
         "LONGITUDE": 116.00078,
         "NEAREST_SCH": "LA SALLE COLLEGE",
         "NEAREST_SCH_DIST": 0.8824765111293752,
         "NEAREST_SCH_RANK": 53,
         "station_num": 9,
         "NEAREST_CEM_DIST": 1370.307963425033,
         "_deepnote_index_column": 6
        },
        {
         "ADDRESS": "31 Ellesmere Road",
         "SUBURB": "Swan View",
         "PRICE": 347000,
         "BEDROOMS": 3,
         "BATHROOMS": 1,
         "GARAGE": 1,
         "LAND_AREA": 696,
         "FLOOR_AREA": 110,
         "BUILD_YEAR": 1975,
         "CBD_DIST": 19200,
         "NEAREST_STN": "Midland Station",
         "NEAREST_STN_DIST": 4300,
         "DATE_SOLD": "2018-01-01T00:00:00.000000",
         "POSTCODE": 6056,
         "LATITUDE": -31.88456,
         "LONGITUDE": 116.04559,
         "NEAREST_SCH": "SWAN VIEW SENIOR HIGH SCHOOL",
         "NEAREST_SCH_DIST": 0.3457474874680662,
         "NEAREST_SCH_RANK": 149,
         "station_num": 21,
         "NEAREST_CEM_DIST": 3138.981672272722,
         "_deepnote_index_column": 7
        },
        {
         "ADDRESS": "479b Bickley Road",
         "SUBURB": "Kenwick",
         "PRICE": 340000,
         "BEDROOMS": 4,
         "BATHROOMS": 2,
         "GARAGE": 2,
         "LAND_AREA": 367,
         "FLOOR_AREA": 132,
         "BUILD_YEAR": 2011,
         "CBD_DIST": 15400,
         "NEAREST_STN": "Madding",
         "NEAREST_STN_DIST": 2200,
         "DATE_SOLD": "2018-01-01T00:00:00.000000",
         "POSTCODE": 6107,
         "LATITUDE": -32.03181886,
         "LONGITUDE": 115.9927158,
         "NEAREST_SCH": "REHOBOTH CHRISTIAN COLLEGE",
         "NEAREST_SCH_DIST": 1.3949786484338875,
         "NEAREST_SCH_RANK": 112,
         "station_num": 6,
         "NEAREST_CEM_DIST": 13591.104613392785,
         "_deepnote_index_column": 8
        },
        {
         "ADDRESS": "151 Harpenden Street",
         "SUBURB": "Huntingdale",
         "PRICE": 490000,
         "BEDROOMS": 4,
         "BATHROOMS": 2,
         "GARAGE": 2,
         "LAND_AREA": 590,
         "FLOOR_AREA": 250,
         "BUILD_YEAR": 2006,
         "CBD_DIST": 17400,
         "NEAREST_STN": "Thornlie Station",
         "NEAREST_STN_DIST": 4100,
         "DATE_SOLD": "2018-01-01T00:00:00.000000",
         "POSTCODE": 6110,
         "LATITUDE": -32.083909,
         "LONGITUDE": 115.957877,
         "NEAREST_SCH": "THORNLIE SENIOR HIGH SCHOOL",
         "NEAREST_SCH_DIST": 1.968325274956543,
         "NEAREST_SCH_RANK": 125,
         "station_num": 13,
         "NEAREST_CEM_DIST": 15994.423199362225,
         "_deepnote_index_column": 9
        }
       ]
      },
      "text/plain": "                   ADDRESS           SUBURB    PRICE  BEDROOMS  BATHROOMS  \\\n0           52 Graham Road  Gooseberry Hill   855000         3          2   \n1       111 Willmott Drive       Cooloongup   270000         3          1   \n2           12 Moreto Turn        Caversham   502500         4          2   \n3          6 Finchley Rise  Mount Claremont  1780000         4          2   \n4          32a Talbot Road        Swan View   428000         3          2   \n...                    ...              ...      ...       ...        ...   \n16162     17 Hawkes Street       Coolbellup   500000         3          1   \n16163    11 Eddington Road          Warwick   695000         4          2   \n16164   14/314 Wright Road     Piara Waters   360000         3          2   \n16165      17 Kalli Street       Golden Bay   315000         3          2   \n16166  15 Pine Valley Pass         Connolly   995000         4          1   \n\n       GARAGE  LAND_AREA  FLOOR_AREA  BUILD_YEAR  CBD_DIST  ...  \\\n0         2.0       2148         192      1976.0     18300  ...   \n1         1.0        681          90      1988.0     40100  ...   \n2         2.0        474         189         NaN     14300  ...   \n3         2.0        916         263      1991.0      7500  ...   \n4         NaN        850         152      2010.0     19900  ...   \n...       ...        ...         ...         ...       ...  ...   \n16162     NaN        728         112      1964.0     15200  ...   \n16163     2.0        509         174      2000.0     13300  ...   \n16164     2.0        161         113      2013.0     19900  ...   \n16165     2.0        299         132      2012.0     53100  ...   \n16166     NaN        630         264         NaN     25300  ...   \n\n      NEAREST_STN_DIST  DATE_SOLD POSTCODE   LATITUDE   LONGITUDE  \\\n0                 7400 2018-01-01     6076 -31.942012  116.051851   \n1                 1300 2018-01-01     6168 -32.301900  115.757760   \n2                 3800 2018-01-01     6055 -31.864014  115.969749   \n3                 1900 2018-01-01     6010 -31.963740  115.780730   \n4                 5000 2018-01-01     6056 -31.882912  116.053054   \n...                ...        ...      ...        ...         ...   \n16162             5100 2020-12-01     6163 -32.078860  115.798370   \n16163             1400 2020-12-01     6024 -31.839880  115.810180   \n16164             6400 2020-12-01     6112 -32.123387  115.924370   \n16165            10600 2020-12-01     6174 -32.421870  115.759530   \n16166             1800 2020-12-01     6027 -31.745540  115.748710   \n\n                                NEAREST_SCH NEAREST_SCH_DIST  \\\n0                TREETOPS MONTESSORI SCHOOL         3.231840   \n1               SOUTH COAST BAPTIST COLLEGE         1.497308   \n2      GOVERNOR STIRLING SENIOR HIGH SCHOOL         3.305409   \n3                        JOHN XXIII COLLEGE         0.572773   \n4              SWAN VIEW SENIOR HIGH SCHOOL         0.967736   \n...                                     ...              ...   \n16162                SETON CATHOLIC COLLEGE         0.831985   \n16163            WARWICK SENIOR HIGH SCHOOL         0.513788   \n16164                 CAREY BAPTIST COLLEGE         1.681970   \n16165                     COMET BAY COLLEGE         0.749121   \n16166          PRENDIVILLE CATHOLIC COLLEGE         1.327831   \n\n       NEAREST_SCH_RANK  station_num  NEAREST_CEM_DIST  \n0                 200.0          1.0       6650.114755  \n1                  54.0          9.0       3395.069164  \n2                 130.0          6.0       3937.034611  \n3                   8.0         15.0       1898.157528  \n4                 149.0         16.0       3867.178162  \n...                 ...          ...               ...  \n16162              91.0         13.0       5068.384259  \n16163             138.0         20.0       5360.521404  \n16164              62.0         16.0      17823.811710  \n16165              35.0          7.0      16150.172397  \n16166              60.0          2.0       6709.099298  \n\n[16167 rows x 21 columns]",
      "text/html": "<div>\n<style scoped>\n    .dataframe tbody tr th:only-of-type {\n        vertical-align: middle;\n    }\n\n    .dataframe tbody tr th {\n        vertical-align: top;\n    }\n\n    .dataframe thead th {\n        text-align: right;\n    }\n</style>\n<table border=\"1\" class=\"dataframe\">\n  <thead>\n    <tr style=\"text-align: right;\">\n      <th></th>\n      <th>ADDRESS</th>\n      <th>SUBURB</th>\n      <th>PRICE</th>\n      <th>BEDROOMS</th>\n      <th>BATHROOMS</th>\n      <th>GARAGE</th>\n      <th>LAND_AREA</th>\n      <th>FLOOR_AREA</th>\n      <th>BUILD_YEAR</th>\n      <th>CBD_DIST</th>\n      <th>...</th>\n      <th>NEAREST_STN_DIST</th>\n      <th>DATE_SOLD</th>\n      <th>POSTCODE</th>\n      <th>LATITUDE</th>\n      <th>LONGITUDE</th>\n      <th>NEAREST_SCH</th>\n      <th>NEAREST_SCH_DIST</th>\n      <th>NEAREST_SCH_RANK</th>\n      <th>station_num</th>\n      <th>NEAREST_CEM_DIST</th>\n    </tr>\n  </thead>\n  <tbody>\n    <tr>\n      <th>0</th>\n      <td>52 Graham Road</td>\n      <td>Gooseberry Hill</td>\n      <td>855000</td>\n      <td>3</td>\n      <td>2</td>\n      <td>2.0</td>\n      <td>2148</td>\n      <td>192</td>\n      <td>1976.0</td>\n      <td>18300</td>\n      <td>...</td>\n      <td>7400</td>\n      <td>2018-01-01</td>\n      <td>6076</td>\n      <td>-31.942012</td>\n      <td>116.051851</td>\n      <td>TREETOPS MONTESSORI SCHOOL</td>\n      <td>3.231840</td>\n      <td>200.0</td>\n      <td>1.0</td>\n      <td>6650.114755</td>\n    </tr>\n    <tr>\n      <th>1</th>\n      <td>111 Willmott Drive</td>\n      <td>Cooloongup</td>\n      <td>270000</td>\n      <td>3</td>\n      <td>1</td>\n      <td>1.0</td>\n      <td>681</td>\n      <td>90</td>\n      <td>1988.0</td>\n      <td>40100</td>\n      <td>...</td>\n      <td>1300</td>\n      <td>2018-01-01</td>\n      <td>6168</td>\n      <td>-32.301900</td>\n      <td>115.757760</td>\n      <td>SOUTH COAST BAPTIST COLLEGE</td>\n      <td>1.497308</td>\n      <td>54.0</td>\n      <td>9.0</td>\n      <td>3395.069164</td>\n    </tr>\n    <tr>\n      <th>2</th>\n      <td>12 Moreto Turn</td>\n      <td>Caversham</td>\n      <td>502500</td>\n      <td>4</td>\n      <td>2</td>\n      <td>2.0</td>\n      <td>474</td>\n      <td>189</td>\n      <td>NaN</td>\n      <td>14300</td>\n      <td>...</td>\n      <td>3800</td>\n      <td>2018-01-01</td>\n      <td>6055</td>\n      <td>-31.864014</td>\n      <td>115.969749</td>\n      <td>GOVERNOR STIRLING SENIOR HIGH SCHOOL</td>\n      <td>3.305409</td>\n      <td>130.0</td>\n      <td>6.0</td>\n      <td>3937.034611</td>\n    </tr>\n    <tr>\n      <th>3</th>\n      <td>6 Finchley Rise</td>\n      <td>Mount Claremont</td>\n      <td>1780000</td>\n      <td>4</td>\n      <td>2</td>\n      <td>2.0</td>\n      <td>916</td>\n      <td>263</td>\n      <td>1991.0</td>\n      <td>7500</td>\n      <td>...</td>\n      <td>1900</td>\n      <td>2018-01-01</td>\n      <td>6010</td>\n      <td>-31.963740</td>\n      <td>115.780730</td>\n      <td>JOHN XXIII COLLEGE</td>\n      <td>0.572773</td>\n      <td>8.0</td>\n      <td>15.0</td>\n      <td>1898.157528</td>\n    </tr>\n    <tr>\n      <th>4</th>\n      <td>32a Talbot Road</td>\n      <td>Swan View</td>\n      <td>428000</td>\n      <td>3</td>\n      <td>2</td>\n      <td>NaN</td>\n      <td>850</td>\n      <td>152</td>\n      <td>2010.0</td>\n      <td>19900</td>\n      <td>...</td>\n      <td>5000</td>\n      <td>2018-01-01</td>\n      <td>6056</td>\n      <td>-31.882912</td>\n      <td>116.053054</td>\n      <td>SWAN VIEW SENIOR HIGH SCHOOL</td>\n      <td>0.967736</td>\n      <td>149.0</td>\n      <td>16.0</td>\n      <td>3867.178162</td>\n    </tr>\n    <tr>\n      <th>...</th>\n      <td>...</td>\n      <td>...</td>\n      <td>...</td>\n      <td>...</td>\n      <td>...</td>\n      <td>...</td>\n      <td>...</td>\n      <td>...</td>\n      <td>...</td>\n      <td>...</td>\n      <td>...</td>\n      <td>...</td>\n      <td>...</td>\n      <td>...</td>\n      <td>...</td>\n      <td>...</td>\n      <td>...</td>\n      <td>...</td>\n      <td>...</td>\n      <td>...</td>\n      <td>...</td>\n    </tr>\n    <tr>\n      <th>16162</th>\n      <td>17 Hawkes Street</td>\n      <td>Coolbellup</td>\n      <td>500000</td>\n      <td>3</td>\n      <td>1</td>\n      <td>NaN</td>\n      <td>728</td>\n      <td>112</td>\n      <td>1964.0</td>\n      <td>15200</td>\n      <td>...</td>\n      <td>5100</td>\n      <td>2020-12-01</td>\n      <td>6163</td>\n      <td>-32.078860</td>\n      <td>115.798370</td>\n      <td>SETON CATHOLIC COLLEGE</td>\n      <td>0.831985</td>\n      <td>91.0</td>\n      <td>13.0</td>\n      <td>5068.384259</td>\n    </tr>\n    <tr>\n      <th>16163</th>\n      <td>11 Eddington Road</td>\n      <td>Warwick</td>\n      <td>695000</td>\n      <td>4</td>\n      <td>2</td>\n      <td>2.0</td>\n      <td>509</td>\n      <td>174</td>\n      <td>2000.0</td>\n      <td>13300</td>\n      <td>...</td>\n      <td>1400</td>\n      <td>2020-12-01</td>\n      <td>6024</td>\n      <td>-31.839880</td>\n      <td>115.810180</td>\n      <td>WARWICK SENIOR HIGH SCHOOL</td>\n      <td>0.513788</td>\n      <td>138.0</td>\n      <td>20.0</td>\n      <td>5360.521404</td>\n    </tr>\n    <tr>\n      <th>16164</th>\n      <td>14/314 Wright Road</td>\n      <td>Piara Waters</td>\n      <td>360000</td>\n      <td>3</td>\n      <td>2</td>\n      <td>2.0</td>\n      <td>161</td>\n      <td>113</td>\n      <td>2013.0</td>\n      <td>19900</td>\n      <td>...</td>\n      <td>6400</td>\n      <td>2020-12-01</td>\n      <td>6112</td>\n      <td>-32.123387</td>\n      <td>115.924370</td>\n      <td>CAREY BAPTIST COLLEGE</td>\n      <td>1.681970</td>\n      <td>62.0</td>\n      <td>16.0</td>\n      <td>17823.811710</td>\n    </tr>\n    <tr>\n      <th>16165</th>\n      <td>17 Kalli Street</td>\n      <td>Golden Bay</td>\n      <td>315000</td>\n      <td>3</td>\n      <td>2</td>\n      <td>2.0</td>\n      <td>299</td>\n      <td>132</td>\n      <td>2012.0</td>\n      <td>53100</td>\n      <td>...</td>\n      <td>10600</td>\n      <td>2020-12-01</td>\n      <td>6174</td>\n      <td>-32.421870</td>\n      <td>115.759530</td>\n      <td>COMET BAY COLLEGE</td>\n      <td>0.749121</td>\n      <td>35.0</td>\n      <td>7.0</td>\n      <td>16150.172397</td>\n    </tr>\n    <tr>\n      <th>16166</th>\n      <td>15 Pine Valley Pass</td>\n      <td>Connolly</td>\n      <td>995000</td>\n      <td>4</td>\n      <td>1</td>\n      <td>NaN</td>\n      <td>630</td>\n      <td>264</td>\n      <td>NaN</td>\n      <td>25300</td>\n      <td>...</td>\n      <td>1800</td>\n      <td>2020-12-01</td>\n      <td>6027</td>\n      <td>-31.745540</td>\n      <td>115.748710</td>\n      <td>PRENDIVILLE CATHOLIC COLLEGE</td>\n      <td>1.327831</td>\n      <td>60.0</td>\n      <td>2.0</td>\n      <td>6709.099298</td>\n    </tr>\n  </tbody>\n</table>\n<p>16167 rows × 21 columns</p>\n</div>"
     },
     "metadata": {}
    }
   ],
   "execution_count": null
  },
  {
   "cell_type": "code",
   "metadata": {
    "cell_id": "0cd7f2a8-668e-491b-96d7-96d6b8990ac1",
    "tags": [],
    "deepnote_to_be_reexecuted": false,
    "source_hash": "17468a10",
    "execution_start": 1646968595269,
    "execution_millis": 20459104,
    "deepnote_cell_type": "code",
    "deepnote_cell_height": 81
   },
   "source": "perth_pro = perth_add_station_num",
   "outputs": [],
   "execution_count": null
  },
  {
   "cell_type": "code",
   "metadata": {
    "cell_id": "01ff9712-4c39-40df-917f-4cb9bc9b9371",
    "tags": [],
    "deepnote_to_be_reexecuted": false,
    "source_hash": "e0972c3a",
    "execution_start": 1646968595277,
    "execution_millis": 373,
    "deepnote_cell_type": "code",
    "deepnote_cell_height": 99
   },
   "source": "# output the final data cleaning result as perth_pro\nperth_pro.to_csv('perth_pro.csv')",
   "outputs": [],
   "execution_count": null
  },
  {
   "cell_type": "code",
   "metadata": {
    "cell_id": "2e5b67f9-0df5-43ec-933c-e1a2d2e8349b",
    "tags": [],
    "deepnote_to_be_reexecuted": false,
    "source_hash": "b623e53d",
    "execution_start": 1646968595661,
    "execution_millis": 1,
    "deepnote_cell_type": "code",
    "deepnote_cell_height": 81
   },
   "source": "",
   "outputs": [],
   "execution_count": null
  },
  {
   "cell_type": "markdown",
   "source": "<a style='text-decoration:none;line-height:16px;display:flex;color:#5B5B62;padding:10px;justify-content:end;' href='https://deepnote.com?utm_source=created-in-deepnote-cell&projectId=7622d86f-bc43-4970-be08-1eec18806f26' target=\"_blank\">\n<img alt='Created in deepnote.com' style='display:inline;max-height:16px;margin:0px;margin-right:7.5px;' src='data:image/svg+xml;base64,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' > </img>\nCreated in <span style='font-weight:600;margin-left:4px;'>Deepnote</span></a>",
   "metadata": {
    "tags": [],
    "created_in_deepnote_cell": true,
    "deepnote_cell_type": "markdown"
   }
  }
 ],
 "nbformat": 4,
 "nbformat_minor": 2,
 "metadata": {
  "orig_nbformat": 2,
  "deepnote": {
   "is_reactive": false
  },
  "deepnote_notebook_id": "16ad76fe-44e6-4617-b618-14eb416520a3",
  "deepnote_execution_queue": []
 }
}