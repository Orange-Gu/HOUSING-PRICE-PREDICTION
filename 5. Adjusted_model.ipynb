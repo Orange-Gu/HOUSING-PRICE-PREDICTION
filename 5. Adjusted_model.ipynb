{
 "cells": [
  {
   "cell_type": "code",
   "metadata": {
    "tags": [],
    "cell_id": "9ee02187-39d9-4831-8c50-a2ef87661016",
    "deepnote_to_be_reexecuted": false,
    "source_hash": "c3fc13c0",
    "execution_start": 1646972876110,
    "execution_millis": 2494,
    "deepnote_cell_type": "code",
    "deepnote_cell_height": 261
   },
   "source": "import numpy as np\nimport pandas as pd\nfrom sklearn.preprocessing import StandardScaler\nimport matplotlib.pyplot as plt\nimport matplotlib.dates as mdate\nfrom sklearn import datasets,ensemble\nfrom sklearn.model_selection import train_test_split\nfrom sklearn.metrics import r2_score\nfrom sklearn.metrics import mean_squared_error\nfrom sklearn.metrics import mean_absolute_error\nfrom sklearn.metrics import mean_absolute_percentage_error",
   "execution_count": 1,
   "outputs": []
  },
  {
   "cell_type": "code",
   "metadata": {
    "cell_id": "89630fae-e683-4537-92a7-a9bd05de552a",
    "tags": [],
    "deepnote_to_be_reexecuted": false,
    "source_hash": "37220386",
    "execution_start": 1646972878612,
    "execution_millis": 199,
    "deepnote_table_state": {
     "pageSize": 10,
     "pageIndex": 41,
     "filters": [],
     "sortBy": []
    },
    "deepnote_table_loading": false,
    "deepnote_table_invalid": false,
    "deepnote_cell_type": "code",
    "deepnote_cell_height": 634
   },
   "source": "df = pd.read_csv(\"perth_with_mean.csv\")\ndf.set_index([\"DATE_SOLD\"], inplace=True)\ndf",
   "execution_count": 2,
   "outputs": [
    {
     "output_type": "execute_result",
     "execution_count": 2,
     "data": {
      "application/vnd.deepnote.dataframe.v3+json": {
       "column_count": 23,
       "row_count": 16167,
       "columns": [
        {
         "name": "Unnamed: 0",
         "dtype": "int64",
         "stats": {
          "unique_count": 16167,
          "nan_count": 0,
          "min": "0",
          "max": "16166",
          "histogram": [
           {
            "bin_start": 0,
            "bin_end": 1616.6,
            "count": 1617
           },
           {
            "bin_start": 1616.6,
            "bin_end": 3233.2,
            "count": 1617
           },
           {
            "bin_start": 3233.2,
            "bin_end": 4849.799999999999,
            "count": 1616
           },
           {
            "bin_start": 4849.799999999999,
            "bin_end": 6466.4,
            "count": 1617
           },
           {
            "bin_start": 6466.4,
            "bin_end": 8083,
            "count": 1616
           },
           {
            "bin_start": 8083,
            "bin_end": 9699.599999999999,
            "count": 1617
           },
           {
            "bin_start": 9699.599999999999,
            "bin_end": 11316.199999999999,
            "count": 1617
           },
           {
            "bin_start": 11316.199999999999,
            "bin_end": 12932.8,
            "count": 1616
           },
           {
            "bin_start": 12932.8,
            "bin_end": 14549.4,
            "count": 1617
           },
           {
            "bin_start": 14549.4,
            "bin_end": 16166,
            "count": 1617
           }
          ]
         }
        },
        {
         "name": "ADDRESS",
         "dtype": "object",
         "stats": {
          "unique_count": 16150,
          "nan_count": 0,
          "categories": [
           {
            "name": "123 Fairway",
            "count": 3
           },
           {
            "name": "20 Bernard Street",
            "count": 2
           },
           {
            "name": "16148 others",
            "count": 16162
           }
          ]
         }
        },
        {
         "name": "SUBURB",
         "dtype": "object",
         "stats": {
          "unique_count": 307,
          "nan_count": 0,
          "categories": [
           {
            "name": "Butler",
            "count": 207
           },
           {
            "name": "Mindarie",
            "count": 198
           },
           {
            "name": "305 others",
            "count": 15762
           }
          ]
         }
        },
        {
         "name": "PRICE",
         "dtype": "int64",
         "stats": {
          "unique_count": 1560,
          "nan_count": 0,
          "min": "53000",
          "max": "2440000",
          "histogram": [
           {
            "bin_start": 53000,
            "bin_end": 291700,
            "count": 1069
           },
           {
            "bin_start": 291700,
            "bin_end": 530400,
            "count": 6910
           },
           {
            "bin_start": 530400,
            "bin_end": 769100,
            "count": 4430
           },
           {
            "bin_start": 769100,
            "bin_end": 1007800,
            "count": 1910
           },
           {
            "bin_start": 1007800,
            "bin_end": 1246500,
            "count": 753
           },
           {
            "bin_start": 1246500,
            "bin_end": 1485200,
            "count": 506
           },
           {
            "bin_start": 1485200,
            "bin_end": 1723900,
            "count": 270
           },
           {
            "bin_start": 1723900,
            "bin_end": 1962600,
            "count": 172
           },
           {
            "bin_start": 1962600,
            "bin_end": 2201300,
            "count": 95
           },
           {
            "bin_start": 2201300,
            "bin_end": 2440000,
            "count": 52
           }
          ]
         }
        },
        {
         "name": "BEDROOMS",
         "dtype": "int64",
         "stats": {
          "unique_count": 9,
          "nan_count": 0,
          "min": "1",
          "max": "9",
          "histogram": [
           {
            "bin_start": 1,
            "bin_end": 1.8,
            "count": 42
           },
           {
            "bin_start": 1.8,
            "bin_end": 2.6,
            "count": 654
           },
           {
            "bin_start": 2.6,
            "bin_end": 3.4000000000000004,
            "count": 5425
           },
           {
            "bin_start": 3.4000000000000004,
            "bin_end": 4.2,
            "count": 8825
           },
           {
            "bin_start": 4.2,
            "bin_end": 5,
            "count": 0
           },
           {
            "bin_start": 5,
            "bin_end": 5.800000000000001,
            "count": 1085
           },
           {
            "bin_start": 5.800000000000001,
            "bin_end": 6.6000000000000005,
            "count": 114
           },
           {
            "bin_start": 6.6000000000000005,
            "bin_end": 7.4,
            "count": 16
           },
           {
            "bin_start": 7.4,
            "bin_end": 8.2,
            "count": 4
           },
           {
            "bin_start": 8.2,
            "bin_end": 9,
            "count": 2
           }
          ]
         }
        },
        {
         "name": "BATHROOMS",
         "dtype": "int64",
         "stats": {
          "unique_count": 7,
          "nan_count": 0,
          "min": "1",
          "max": "7",
          "histogram": [
           {
            "bin_start": 1,
            "bin_end": 1.6,
            "count": 3715
           },
           {
            "bin_start": 1.6,
            "bin_end": 2.2,
            "count": 11332
           },
           {
            "bin_start": 2.2,
            "bin_end": 2.8,
            "count": 0
           },
           {
            "bin_start": 2.8,
            "bin_end": 3.4,
            "count": 1022
           },
           {
            "bin_start": 3.4,
            "bin_end": 4,
            "count": 0
           },
           {
            "bin_start": 4,
            "bin_end": 4.6,
            "count": 90
           },
           {
            "bin_start": 4.6,
            "bin_end": 5.2,
            "count": 4
           },
           {
            "bin_start": 5.2,
            "bin_end": 5.8,
            "count": 0
           },
           {
            "bin_start": 5.8,
            "bin_end": 6.3999999999999995,
            "count": 3
           },
           {
            "bin_start": 6.3999999999999995,
            "bin_end": 7,
            "count": 1
           }
          ]
         }
        },
        {
         "name": "GARAGE",
         "dtype": "float64"
        },
        {
         "name": "LAND_AREA",
         "dtype": "int64"
        },
        {
         "name": "FLOOR_AREA",
         "dtype": "int64"
        },
        {
         "name": "BUILD_YEAR",
         "dtype": "float64"
        },
        {
         "name": "CBD_DIST",
         "dtype": "int64"
        },
        {
         "name": "NEAREST_STN",
         "dtype": "object"
        },
        {
         "name": "NEAREST_STN_DIST",
         "dtype": "int64"
        },
        {
         "name": "POSTCODE",
         "dtype": "int64"
        },
        {
         "name": "LATITUDE",
         "dtype": "float64"
        },
        {
         "name": "LONGITUDE",
         "dtype": "float64"
        },
        {
         "name": "NEAREST_SCH",
         "dtype": "object"
        },
        {
         "name": "NEAREST_SCH_DIST",
         "dtype": "float64"
        },
        {
         "name": "NEAREST_SCH_RANK",
         "dtype": "float64"
        },
        {
         "name": "STATION_NUM",
         "dtype": "float64"
        },
        {
         "name": "NEAREST_CEM_DIST",
         "dtype": "float64"
        },
        {
         "name": "MEAN_PRICE",
         "dtype": "float64"
        },
        {
         "name": "DIFFERENCE",
         "dtype": "float64"
        },
        {
         "name": "_deepnote_index_column",
         "dtype": "object"
        }
       ],
       "rows": [
        {
         "Unnamed: 0": 410,
         "ADDRESS": "5 Monticello Meander",
         "SUBURB": "Landsdale",
         "PRICE": 828000,
         "BEDROOMS": 5,
         "BATHROOMS": 3,
         "GARAGE": 2,
         "LAND_AREA": 480,
         "FLOOR_AREA": 405,
         "BUILD_YEAR": 2011,
         "CBD_DIST": 15800,
         "NEAREST_STN": "Greenwood Station",
         "NEAREST_STN_DIST": 8300,
         "POSTCODE": 6065,
         "LATITUDE": -31.81139395,
         "LONGITUDE": 115.8701248,
         "NEAREST_SCH": "LANDSDALE CHRISTIAN SCHOOL",
         "NEAREST_SCH_DIST": 0.5831853993234191,
         "NEAREST_SCH_RANK": 200,
         "STATION_NUM": 8,
         "NEAREST_CEM_DIST": 8912.751939722199,
         "MEAN_PRICE": 692248.8019093078,
         "DIFFERENCE": 135751.19809069217,
         "_deepnote_index_column": "2018-02-01"
        },
        {
         "Unnamed: 0": 411,
         "ADDRESS": "19 Elemi Bend",
         "SUBURB": "Atwell",
         "PRICE": 620000,
         "BEDROOMS": 4,
         "BATHROOMS": 3,
         "GARAGE": 2,
         "LAND_AREA": 544,
         "FLOOR_AREA": 208,
         "BUILD_YEAR": 2008,
         "CBD_DIST": 22800,
         "NEAREST_STN": "Cockburn Central Station",
         "NEAREST_STN_DIST": 3600,
         "POSTCODE": 6164,
         "LATITUDE": -32.15683635,
         "LONGITUDE": 115.8640329,
         "NEAREST_SCH": "ATWELL COLLEGE",
         "NEAREST_SCH_DIST": 1.432627735568301,
         "NEAREST_SCH_RANK": 129,
         "STATION_NUM": 10,
         "NEAREST_CEM_DIST": 15547.43123010729,
         "MEAN_PRICE": 692248.8019093078,
         "DIFFERENCE": -72248.80190930783,
         "_deepnote_index_column": "2018-02-01"
        },
        {
         "Unnamed: 0": 412,
         "ADDRESS": "11 Josbury Corner",
         "SUBURB": "Carramar",
         "PRICE": 555400,
         "BEDROOMS": 4,
         "BATHROOMS": 2,
         "GARAGE": 2,
         "LAND_AREA": 603,
         "FLOOR_AREA": 261,
         "BUILD_YEAR": "nan",
         "CBD_DIST": 27900,
         "NEAREST_STN": "Currambine Station",
         "NEAREST_STN_DIST": 4600,
         "POSTCODE": 6031,
         "LATITUDE": -31.70743,
         "LONGITUDE": 115.79492,
         "NEAREST_SCH": "JOSEPH BANKS SECONDARY COLLEGE",
         "NEAREST_SCH_DIST": 0.9866700200497897,
         "NEAREST_SCH_RANK": 92,
         "STATION_NUM": 8,
         "NEAREST_CEM_DIST": 10550.152484387028,
         "MEAN_PRICE": 692248.8019093078,
         "DIFFERENCE": -136848.80190930783,
         "_deepnote_index_column": "2018-02-01"
        },
        {
         "Unnamed: 0": 413,
         "ADDRESS": "12 Wickens Street",
         "SUBURB": "Beckenham",
         "PRICE": 360000,
         "BEDROOMS": 3,
         "BATHROOMS": 1,
         "GARAGE": 2,
         "LAND_AREA": 684,
         "FLOOR_AREA": 110,
         "BUILD_YEAR": 1970,
         "CBD_DIST": 12400,
         "NEAREST_STN": "Beckenham Station",
         "NEAREST_STN_DIST": 1500,
         "POSTCODE": 6107,
         "LATITUDE": -32.01556,
         "LONGITUDE": 115.96753,
         "NEAREST_SCH": "REHOBOTH CHRISTIAN COLLEGE",
         "NEAREST_SCH_DIST": 2.037518061028147,
         "NEAREST_SCH_RANK": 112,
         "STATION_NUM": 10,
         "NEAREST_CEM_DIST": 10607.126371854703,
         "MEAN_PRICE": 692248.8019093078,
         "DIFFERENCE": -332248.80190930783,
         "_deepnote_index_column": "2018-02-01"
        },
        {
         "Unnamed: 0": 414,
         "ADDRESS": "11 Godwin Avenue",
         "SUBURB": "Manning",
         "PRICE": 1282000,
         "BEDROOMS": 5,
         "BATHROOMS": 2,
         "GARAGE": 2,
         "LAND_AREA": 818,
         "FLOOR_AREA": 280,
         "BUILD_YEAR": 2007,
         "CBD_DIST": 6400,
         "NEAREST_STN": "Canning Bridge Station",
         "NEAREST_STN_DIST": 1100,
         "POSTCODE": 6152,
         "LATITUDE": -32.00903923,
         "LONGITUDE": 115.8679704,
         "NEAREST_SCH": "COMO SECONDARY COLLEGE",
         "NEAREST_SCH_DIST": 0.6690626688651632,
         "NEAREST_SCH_RANK": 87,
         "STATION_NUM": 15,
         "NEAREST_CEM_DIST": 5944.711131562587,
         "MEAN_PRICE": 692248.8019093078,
         "DIFFERENCE": 589751.1980906922,
         "_deepnote_index_column": "2018-02-01"
        },
        {
         "Unnamed: 0": 415,
         "ADDRESS": "37 Bathurst Gardens",
         "SUBURB": "Darch",
         "PRICE": 567000,
         "BEDROOMS": 4,
         "BATHROOMS": 2,
         "GARAGE": 2,
         "LAND_AREA": 440,
         "FLOOR_AREA": 208,
         "BUILD_YEAR": 2014,
         "CBD_DIST": 15000,
         "NEAREST_STN": "Greenwood Station",
         "NEAREST_STN_DIST": 6600,
         "POSTCODE": 6065,
         "LATITUDE": -31.81725171,
         "LONGITUDE": 115.8530473,
         "NEAREST_SCH": "ASHDALE SECONDARY COLLEGE",
         "NEAREST_SCH_DIST": 1.25866397909606,
         "NEAREST_SCH_RANK": 75,
         "STATION_NUM": 5,
         "NEAREST_CEM_DIST": 7445.815661652118,
         "MEAN_PRICE": 692248.8019093078,
         "DIFFERENCE": -125248.80190930783,
         "_deepnote_index_column": "2018-02-01"
        },
        {
         "Unnamed: 0": 416,
         "ADDRESS": "46 Talus Drive",
         "SUBURB": "Mount Richon",
         "PRICE": 510000,
         "BEDROOMS": 6,
         "BATHROOMS": 3,
         "GARAGE": 4,
         "LAND_AREA": 2090,
         "FLOOR_AREA": 157,
         "BUILD_YEAR": 1995,
         "CBD_DIST": 27700,
         "NEAREST_STN": "Armadale Station",
         "NEAREST_STN_DIST": 996,
         "POSTCODE": 6112,
         "LATITUDE": -32.16078197,
         "LONGITUDE": 116.0196797,
         "NEAREST_SCH": "ARMADALE SENIOR HIGH SCHOOL",
         "NEAREST_SCH_DIST": 0.5084185313656487,
         "NEAREST_SCH_RANK": 166,
         "STATION_NUM": 6,
         "NEAREST_CEM_DIST": 26293.85484350524,
         "MEAN_PRICE": 692248.8019093078,
         "DIFFERENCE": -182248.80190930783,
         "_deepnote_index_column": "2018-02-01"
        },
        {
         "Unnamed: 0": 417,
         "ADDRESS": "46 Trailwood Drive",
         "SUBURB": "Woodvale",
         "PRICE": 900000,
         "BEDROOMS": 5,
         "BATHROOMS": 3,
         "GARAGE": 8,
         "LAND_AREA": 751,
         "FLOOR_AREA": 312,
         "BUILD_YEAR": 1979,
         "CBD_DIST": 18500,
         "NEAREST_STN": "Whitfords Station",
         "NEAREST_STN_DIST": 514,
         "POSTCODE": 6026,
         "LATITUDE": -31.79759,
         "LONGITUDE": 115.78737,
         "NEAREST_SCH": "WOODVALE SECONDARY COLLEGE",
         "NEAREST_SCH_DIST": 1.326734465379452,
         "NEAREST_SCH_RANK": 77,
         "STATION_NUM": 15,
         "NEAREST_CEM_DIST": 1086.9893348642784,
         "MEAN_PRICE": 692248.8019093078,
         "DIFFERENCE": 207751.19809069217,
         "_deepnote_index_column": "2018-02-01"
        },
        {
         "Unnamed: 0": 418,
         "ADDRESS": "2/16 Miller Place",
         "SUBURB": "Booragoon",
         "PRICE": 665000,
         "BEDROOMS": 3,
         "BATHROOMS": 2,
         "GARAGE": 2,
         "LAND_AREA": 380,
         "FLOOR_AREA": 172,
         "BUILD_YEAR": 1980,
         "CBD_DIST": 9900,
         "NEAREST_STN": "Bull Creek Station",
         "NEAREST_STN_DIST": 2100,
         "POSTCODE": 6154,
         "LATITUDE": -32.0387,
         "LONGITUDE": 115.8344,
         "NEAREST_SCH": "APPLECROSS SENIOR HIGH SCHOOL",
         "NEAREST_SCH_DIST": 1.039145784856317,
         "NEAREST_SCH_RANK": 34,
         "STATION_NUM": 21,
         "NEAREST_CEM_DIST": 7614.971315635599,
         "MEAN_PRICE": 692248.8019093078,
         "DIFFERENCE": -27248.801909307836,
         "_deepnote_index_column": "2018-02-01"
        },
        {
         "Unnamed: 0": 419,
         "ADDRESS": "14 Namoi Turn",
         "SUBURB": "Merriwa",
         "PRICE": 350000,
         "BEDROOMS": 4,
         "BATHROOMS": 2,
         "GARAGE": 2,
         "LAND_AREA": 621,
         "FLOOR_AREA": 177,
         "BUILD_YEAR": 1999,
         "CBD_DIST": 35100,
         "NEAREST_STN": "Butler Station",
         "NEAREST_STN_DIST": 3200,
         "POSTCODE": 6030,
         "LATITUDE": -31.66288,
         "LONGITUDE": 115.71086,
         "NEAREST_SCH": "ALKIMOS BAPTIST COLLEGE",
         "NEAREST_SCH_DIST": 0.2910789814019274,
         "NEAREST_SCH_RANK": 200,
         "STATION_NUM": 13,
         "NEAREST_CEM_DIST": 16571.24877602772,
         "MEAN_PRICE": 692248.8019093078,
         "DIFFERENCE": -342248.80190930783,
         "_deepnote_index_column": "2018-02-01"
        }
       ]
      },
      "text/plain": "            Unnamed: 0              ADDRESS           SUBURB    PRICE  \\\nDATE_SOLD                                                               \n2018-01-01           0       52 Graham Road  Gooseberry Hill   855000   \n2018-01-01           1   111 Willmott Drive       Cooloongup   270000   \n2018-01-01           2       12 Moreto Turn        Caversham   502500   \n2018-01-01           3      6 Finchley Rise  Mount Claremont  1780000   \n2018-01-01           4      32a Talbot Road        Swan View   428000   \n...                ...                  ...              ...      ...   \n2020-12-01       16162     17 Hawkes Street       Coolbellup   500000   \n2020-12-01       16163    11 Eddington Road          Warwick   695000   \n2020-12-01       16164   14/314 Wright Road     Piara Waters   360000   \n2020-12-01       16165      17 Kalli Street       Golden Bay   315000   \n2020-12-01       16166  15 Pine Valley Pass         Connolly   995000   \n\n            BEDROOMS  BATHROOMS  GARAGE  LAND_AREA  FLOOR_AREA  BUILD_YEAR  \\\nDATE_SOLD                                                                    \n2018-01-01         3          2     2.0       2148         192      1976.0   \n2018-01-01         3          1     1.0        681          90      1988.0   \n2018-01-01         4          2     2.0        474         189         NaN   \n2018-01-01         4          2     2.0        916         263      1991.0   \n2018-01-01         3          2     NaN        850         152      2010.0   \n...              ...        ...     ...        ...         ...         ...   \n2020-12-01         3          1     NaN        728         112      1964.0   \n2020-12-01         4          2     2.0        509         174      2000.0   \n2020-12-01         3          2     2.0        161         113      2013.0   \n2020-12-01         3          2     2.0        299         132      2012.0   \n2020-12-01         4          1     NaN        630         264         NaN   \n\n            ...  POSTCODE   LATITUDE   LONGITUDE  \\\nDATE_SOLD   ...                                    \n2018-01-01  ...      6076 -31.942012  116.051851   \n2018-01-01  ...      6168 -32.301900  115.757760   \n2018-01-01  ...      6055 -31.864014  115.969749   \n2018-01-01  ...      6010 -31.963740  115.780730   \n2018-01-01  ...      6056 -31.882912  116.053054   \n...         ...       ...        ...         ...   \n2020-12-01  ...      6163 -32.078860  115.798370   \n2020-12-01  ...      6024 -31.839880  115.810180   \n2020-12-01  ...      6112 -32.123387  115.924370   \n2020-12-01  ...      6174 -32.421870  115.759530   \n2020-12-01  ...      6027 -31.745540  115.748710   \n\n                                     NEAREST_SCH  NEAREST_SCH_DIST  \\\nDATE_SOLD                                                            \n2018-01-01            TREETOPS MONTESSORI SCHOOL          3.231840   \n2018-01-01           SOUTH COAST BAPTIST COLLEGE          1.497308   \n2018-01-01  GOVERNOR STIRLING SENIOR HIGH SCHOOL          3.305409   \n2018-01-01                    JOHN XXIII COLLEGE          0.572773   \n2018-01-01          SWAN VIEW SENIOR HIGH SCHOOL          0.967736   \n...                                          ...               ...   \n2020-12-01                SETON CATHOLIC COLLEGE          0.831985   \n2020-12-01            WARWICK SENIOR HIGH SCHOOL          0.513788   \n2020-12-01                 CAREY BAPTIST COLLEGE          1.681970   \n2020-12-01                     COMET BAY COLLEGE          0.749121   \n2020-12-01          PRENDIVILLE CATHOLIC COLLEGE          1.327831   \n\n            NEAREST_SCH_RANK STATION_NUM  NEAREST_CEM_DIST    MEAN_PRICE  \\\nDATE_SOLD                                                                  \n2018-01-01             200.0         1.0       6650.114755  700941.98731   \n2018-01-01              54.0         9.0       3395.069164  700941.98731   \n2018-01-01             130.0         6.0       3937.034611  700941.98731   \n2018-01-01               8.0        15.0       1898.157528  700941.98731   \n2018-01-01             149.0        16.0       3867.178162  700941.98731   \n...                      ...         ...               ...           ...   \n2020-12-01              91.0        13.0       5068.384259  623672.87500   \n2020-12-01             138.0        20.0       5360.521404  623672.87500   \n2020-12-01              62.0        16.0      17823.811710  623672.87500   \n2020-12-01              35.0         7.0      16150.172397  623672.87500   \n2020-12-01              60.0         2.0       6709.099298  623672.87500   \n\n              DIFFERENCE  \nDATE_SOLD                 \n2018-01-01  1.540580e+05  \n2018-01-01 -4.309420e+05  \n2018-01-01 -1.984420e+05  \n2018-01-01  1.079058e+06  \n2018-01-01 -2.729420e+05  \n...                  ...  \n2020-12-01 -1.236729e+05  \n2020-12-01  7.132712e+04  \n2020-12-01 -2.636729e+05  \n2020-12-01 -3.086729e+05  \n2020-12-01  3.713271e+05  \n\n[16167 rows x 23 columns]",
      "text/html": "<div>\n<style scoped>\n    .dataframe tbody tr th:only-of-type {\n        vertical-align: middle;\n    }\n\n    .dataframe tbody tr th {\n        vertical-align: top;\n    }\n\n    .dataframe thead th {\n        text-align: right;\n    }\n</style>\n<table border=\"1\" class=\"dataframe\">\n  <thead>\n    <tr style=\"text-align: right;\">\n      <th></th>\n      <th>Unnamed: 0</th>\n      <th>ADDRESS</th>\n      <th>SUBURB</th>\n      <th>PRICE</th>\n      <th>BEDROOMS</th>\n      <th>BATHROOMS</th>\n      <th>GARAGE</th>\n      <th>LAND_AREA</th>\n      <th>FLOOR_AREA</th>\n      <th>BUILD_YEAR</th>\n      <th>...</th>\n      <th>POSTCODE</th>\n      <th>LATITUDE</th>\n      <th>LONGITUDE</th>\n      <th>NEAREST_SCH</th>\n      <th>NEAREST_SCH_DIST</th>\n      <th>NEAREST_SCH_RANK</th>\n      <th>STATION_NUM</th>\n      <th>NEAREST_CEM_DIST</th>\n      <th>MEAN_PRICE</th>\n      <th>DIFFERENCE</th>\n    </tr>\n    <tr>\n      <th>DATE_SOLD</th>\n      <th></th>\n      <th></th>\n      <th></th>\n      <th></th>\n      <th></th>\n      <th></th>\n      <th></th>\n      <th></th>\n      <th></th>\n      <th></th>\n      <th></th>\n      <th></th>\n      <th></th>\n      <th></th>\n      <th></th>\n      <th></th>\n      <th></th>\n      <th></th>\n      <th></th>\n      <th></th>\n      <th></th>\n    </tr>\n  </thead>\n  <tbody>\n    <tr>\n      <th>2018-01-01</th>\n      <td>0</td>\n      <td>52 Graham Road</td>\n      <td>Gooseberry Hill</td>\n      <td>855000</td>\n      <td>3</td>\n      <td>2</td>\n      <td>2.0</td>\n      <td>2148</td>\n      <td>192</td>\n      <td>1976.0</td>\n      <td>...</td>\n      <td>6076</td>\n      <td>-31.942012</td>\n      <td>116.051851</td>\n      <td>TREETOPS MONTESSORI SCHOOL</td>\n      <td>3.231840</td>\n      <td>200.0</td>\n      <td>1.0</td>\n      <td>6650.114755</td>\n      <td>700941.98731</td>\n      <td>1.540580e+05</td>\n    </tr>\n    <tr>\n      <th>2018-01-01</th>\n      <td>1</td>\n      <td>111 Willmott Drive</td>\n      <td>Cooloongup</td>\n      <td>270000</td>\n      <td>3</td>\n      <td>1</td>\n      <td>1.0</td>\n      <td>681</td>\n      <td>90</td>\n      <td>1988.0</td>\n      <td>...</td>\n      <td>6168</td>\n      <td>-32.301900</td>\n      <td>115.757760</td>\n      <td>SOUTH COAST BAPTIST COLLEGE</td>\n      <td>1.497308</td>\n      <td>54.0</td>\n      <td>9.0</td>\n      <td>3395.069164</td>\n      <td>700941.98731</td>\n      <td>-4.309420e+05</td>\n    </tr>\n    <tr>\n      <th>2018-01-01</th>\n      <td>2</td>\n      <td>12 Moreto Turn</td>\n      <td>Caversham</td>\n      <td>502500</td>\n      <td>4</td>\n      <td>2</td>\n      <td>2.0</td>\n      <td>474</td>\n      <td>189</td>\n      <td>NaN</td>\n      <td>...</td>\n      <td>6055</td>\n      <td>-31.864014</td>\n      <td>115.969749</td>\n      <td>GOVERNOR STIRLING SENIOR HIGH SCHOOL</td>\n      <td>3.305409</td>\n      <td>130.0</td>\n      <td>6.0</td>\n      <td>3937.034611</td>\n      <td>700941.98731</td>\n      <td>-1.984420e+05</td>\n    </tr>\n    <tr>\n      <th>2018-01-01</th>\n      <td>3</td>\n      <td>6 Finchley Rise</td>\n      <td>Mount Claremont</td>\n      <td>1780000</td>\n      <td>4</td>\n      <td>2</td>\n      <td>2.0</td>\n      <td>916</td>\n      <td>263</td>\n      <td>1991.0</td>\n      <td>...</td>\n      <td>6010</td>\n      <td>-31.963740</td>\n      <td>115.780730</td>\n      <td>JOHN XXIII COLLEGE</td>\n      <td>0.572773</td>\n      <td>8.0</td>\n      <td>15.0</td>\n      <td>1898.157528</td>\n      <td>700941.98731</td>\n      <td>1.079058e+06</td>\n    </tr>\n    <tr>\n      <th>2018-01-01</th>\n      <td>4</td>\n      <td>32a Talbot Road</td>\n      <td>Swan View</td>\n      <td>428000</td>\n      <td>3</td>\n      <td>2</td>\n      <td>NaN</td>\n      <td>850</td>\n      <td>152</td>\n      <td>2010.0</td>\n      <td>...</td>\n      <td>6056</td>\n      <td>-31.882912</td>\n      <td>116.053054</td>\n      <td>SWAN VIEW SENIOR HIGH SCHOOL</td>\n      <td>0.967736</td>\n      <td>149.0</td>\n      <td>16.0</td>\n      <td>3867.178162</td>\n      <td>700941.98731</td>\n      <td>-2.729420e+05</td>\n    </tr>\n    <tr>\n      <th>...</th>\n      <td>...</td>\n      <td>...</td>\n      <td>...</td>\n      <td>...</td>\n      <td>...</td>\n      <td>...</td>\n      <td>...</td>\n      <td>...</td>\n      <td>...</td>\n      <td>...</td>\n      <td>...</td>\n      <td>...</td>\n      <td>...</td>\n      <td>...</td>\n      <td>...</td>\n      <td>...</td>\n      <td>...</td>\n      <td>...</td>\n      <td>...</td>\n      <td>...</td>\n      <td>...</td>\n    </tr>\n    <tr>\n      <th>2020-12-01</th>\n      <td>16162</td>\n      <td>17 Hawkes Street</td>\n      <td>Coolbellup</td>\n      <td>500000</td>\n      <td>3</td>\n      <td>1</td>\n      <td>NaN</td>\n      <td>728</td>\n      <td>112</td>\n      <td>1964.0</td>\n      <td>...</td>\n      <td>6163</td>\n      <td>-32.078860</td>\n      <td>115.798370</td>\n      <td>SETON CATHOLIC COLLEGE</td>\n      <td>0.831985</td>\n      <td>91.0</td>\n      <td>13.0</td>\n      <td>5068.384259</td>\n      <td>623672.87500</td>\n      <td>-1.236729e+05</td>\n    </tr>\n    <tr>\n      <th>2020-12-01</th>\n      <td>16163</td>\n      <td>11 Eddington Road</td>\n      <td>Warwick</td>\n      <td>695000</td>\n      <td>4</td>\n      <td>2</td>\n      <td>2.0</td>\n      <td>509</td>\n      <td>174</td>\n      <td>2000.0</td>\n      <td>...</td>\n      <td>6024</td>\n      <td>-31.839880</td>\n      <td>115.810180</td>\n      <td>WARWICK SENIOR HIGH SCHOOL</td>\n      <td>0.513788</td>\n      <td>138.0</td>\n      <td>20.0</td>\n      <td>5360.521404</td>\n      <td>623672.87500</td>\n      <td>7.132712e+04</td>\n    </tr>\n    <tr>\n      <th>2020-12-01</th>\n      <td>16164</td>\n      <td>14/314 Wright Road</td>\n      <td>Piara Waters</td>\n      <td>360000</td>\n      <td>3</td>\n      <td>2</td>\n      <td>2.0</td>\n      <td>161</td>\n      <td>113</td>\n      <td>2013.0</td>\n      <td>...</td>\n      <td>6112</td>\n      <td>-32.123387</td>\n      <td>115.924370</td>\n      <td>CAREY BAPTIST COLLEGE</td>\n      <td>1.681970</td>\n      <td>62.0</td>\n      <td>16.0</td>\n      <td>17823.811710</td>\n      <td>623672.87500</td>\n      <td>-2.636729e+05</td>\n    </tr>\n    <tr>\n      <th>2020-12-01</th>\n      <td>16165</td>\n      <td>17 Kalli Street</td>\n      <td>Golden Bay</td>\n      <td>315000</td>\n      <td>3</td>\n      <td>2</td>\n      <td>2.0</td>\n      <td>299</td>\n      <td>132</td>\n      <td>2012.0</td>\n      <td>...</td>\n      <td>6174</td>\n      <td>-32.421870</td>\n      <td>115.759530</td>\n      <td>COMET BAY COLLEGE</td>\n      <td>0.749121</td>\n      <td>35.0</td>\n      <td>7.0</td>\n      <td>16150.172397</td>\n      <td>623672.87500</td>\n      <td>-3.086729e+05</td>\n    </tr>\n    <tr>\n      <th>2020-12-01</th>\n      <td>16166</td>\n      <td>15 Pine Valley Pass</td>\n      <td>Connolly</td>\n      <td>995000</td>\n      <td>4</td>\n      <td>1</td>\n      <td>NaN</td>\n      <td>630</td>\n      <td>264</td>\n      <td>NaN</td>\n      <td>...</td>\n      <td>6027</td>\n      <td>-31.745540</td>\n      <td>115.748710</td>\n      <td>PRENDIVILLE CATHOLIC COLLEGE</td>\n      <td>1.327831</td>\n      <td>60.0</td>\n      <td>2.0</td>\n      <td>6709.099298</td>\n      <td>623672.87500</td>\n      <td>3.713271e+05</td>\n    </tr>\n  </tbody>\n</table>\n<p>16167 rows × 23 columns</p>\n</div>"
     },
     "metadata": {}
    }
   ]
  },
  {
   "cell_type": "code",
   "metadata": {
    "cell_id": "a5eab93d-2065-4065-8fc3-cc94f7a447c2",
    "tags": [],
    "deepnote_to_be_reexecuted": false,
    "source_hash": "1f185e3f",
    "execution_start": 1646972878860,
    "execution_millis": 40,
    "deepnote_cell_type": "code",
    "deepnote_cell_height": 616
   },
   "source": "df = pd.DataFrame(df,columns = [ \"PRICE\",\"BATHROOMS\",\"FLOOR_AREA\",\"CBD_DIST\",\"NEAREST_SCH_RANK\",\"NEAREST_STN_DIST\",\"NEAREST_CEM_DIST\",\"MEAN_PRICE\",'DIFFERENCE'])\ndf",
   "execution_count": 3,
   "outputs": [
    {
     "output_type": "execute_result",
     "execution_count": 3,
     "data": {
      "application/vnd.deepnote.dataframe.v3+json": {
       "column_count": 9,
       "row_count": 16167,
       "columns": [
        {
         "name": "PRICE",
         "dtype": "int64",
         "stats": {
          "unique_count": 1560,
          "nan_count": 0,
          "min": "53000",
          "max": "2440000",
          "histogram": [
           {
            "bin_start": 53000,
            "bin_end": 291700,
            "count": 1069
           },
           {
            "bin_start": 291700,
            "bin_end": 530400,
            "count": 6910
           },
           {
            "bin_start": 530400,
            "bin_end": 769100,
            "count": 4430
           },
           {
            "bin_start": 769100,
            "bin_end": 1007800,
            "count": 1910
           },
           {
            "bin_start": 1007800,
            "bin_end": 1246500,
            "count": 753
           },
           {
            "bin_start": 1246500,
            "bin_end": 1485200,
            "count": 506
           },
           {
            "bin_start": 1485200,
            "bin_end": 1723900,
            "count": 270
           },
           {
            "bin_start": 1723900,
            "bin_end": 1962600,
            "count": 172
           },
           {
            "bin_start": 1962600,
            "bin_end": 2201300,
            "count": 95
           },
           {
            "bin_start": 2201300,
            "bin_end": 2440000,
            "count": 52
           }
          ]
         }
        },
        {
         "name": "BATHROOMS",
         "dtype": "int64",
         "stats": {
          "unique_count": 7,
          "nan_count": 0,
          "min": "1",
          "max": "7",
          "histogram": [
           {
            "bin_start": 1,
            "bin_end": 1.6,
            "count": 3715
           },
           {
            "bin_start": 1.6,
            "bin_end": 2.2,
            "count": 11332
           },
           {
            "bin_start": 2.2,
            "bin_end": 2.8,
            "count": 0
           },
           {
            "bin_start": 2.8,
            "bin_end": 3.4,
            "count": 1022
           },
           {
            "bin_start": 3.4,
            "bin_end": 4,
            "count": 0
           },
           {
            "bin_start": 4,
            "bin_end": 4.6,
            "count": 90
           },
           {
            "bin_start": 4.6,
            "bin_end": 5.2,
            "count": 4
           },
           {
            "bin_start": 5.2,
            "bin_end": 5.8,
            "count": 0
           },
           {
            "bin_start": 5.8,
            "bin_end": 6.3999999999999995,
            "count": 3
           },
           {
            "bin_start": 6.3999999999999995,
            "bin_end": 7,
            "count": 1
           }
          ]
         }
        },
        {
         "name": "FLOOR_AREA",
         "dtype": "int64",
         "stats": {
          "unique_count": 442,
          "nan_count": 0,
          "min": "1",
          "max": "870",
          "histogram": [
           {
            "bin_start": 1,
            "bin_end": 87.9,
            "count": 429
           },
           {
            "bin_start": 87.9,
            "bin_end": 174.8,
            "count": 7600
           },
           {
            "bin_start": 174.8,
            "bin_end": 261.70000000000005,
            "count": 6331
           },
           {
            "bin_start": 261.70000000000005,
            "bin_end": 348.6,
            "count": 1446
           },
           {
            "bin_start": 348.6,
            "bin_end": 435.5,
            "count": 259
           },
           {
            "bin_start": 435.5,
            "bin_end": 522.4000000000001,
            "count": 78
           },
           {
            "bin_start": 522.4000000000001,
            "bin_end": 609.3000000000001,
            "count": 18
           },
           {
            "bin_start": 609.3000000000001,
            "bin_end": 696.2,
            "count": 1
           },
           {
            "bin_start": 696.2,
            "bin_end": 783.1,
            "count": 3
           },
           {
            "bin_start": 783.1,
            "bin_end": 870,
            "count": 2
           }
          ]
         }
        },
        {
         "name": "CBD_DIST",
         "dtype": "int64",
         "stats": {
          "unique_count": 573,
          "nan_count": 0,
          "min": "1100",
          "max": "59200",
          "histogram": [
           {
            "bin_start": 1100,
            "bin_end": 6910,
            "count": 1765
           },
           {
            "bin_start": 6910,
            "bin_end": 12720,
            "count": 3455
           },
           {
            "bin_start": 12720,
            "bin_end": 18530,
            "count": 3331
           },
           {
            "bin_start": 18530,
            "bin_end": 24340,
            "count": 2866
           },
           {
            "bin_start": 24340,
            "bin_end": 30150,
            "count": 1606
           },
           {
            "bin_start": 30150,
            "bin_end": 35960,
            "count": 1205
           },
           {
            "bin_start": 35960,
            "bin_end": 41770,
            "count": 868
           },
           {
            "bin_start": 41770,
            "bin_end": 47580,
            "count": 554
           },
           {
            "bin_start": 47580,
            "bin_end": 53390,
            "count": 387
           },
           {
            "bin_start": 53390,
            "bin_end": 59200,
            "count": 130
           }
          ]
         }
        },
        {
         "name": "NEAREST_SCH_RANK",
         "dtype": "float64",
         "stats": {
          "unique_count": 113,
          "nan_count": 0,
          "min": "1.0",
          "max": "200.0",
          "histogram": [
           {
            "bin_start": 1,
            "bin_end": 20.9,
            "count": 1464
           },
           {
            "bin_start": 20.9,
            "bin_end": 40.8,
            "count": 1916
           },
           {
            "bin_start": 40.8,
            "bin_end": 60.699999999999996,
            "count": 1893
           },
           {
            "bin_start": 60.699999999999996,
            "bin_end": 80.6,
            "count": 1543
           },
           {
            "bin_start": 80.6,
            "bin_end": 100.5,
            "count": 1613
           },
           {
            "bin_start": 100.5,
            "bin_end": 120.39999999999999,
            "count": 1251
           },
           {
            "bin_start": 120.39999999999999,
            "bin_end": 140.29999999999998,
            "count": 2562
           },
           {
            "bin_start": 140.29999999999998,
            "bin_end": 160.2,
            "count": 598
           },
           {
            "bin_start": 160.2,
            "bin_end": 180.1,
            "count": 46
           },
           {
            "bin_start": 180.1,
            "bin_end": 200,
            "count": 3281
           }
          ]
         }
        },
        {
         "name": "NEAREST_STN_DIST",
         "dtype": "int64",
         "stats": {
          "unique_count": 980,
          "nan_count": 0,
          "min": "46",
          "max": "34900",
          "histogram": [
           {
            "bin_start": 46,
            "bin_end": 3531.4,
            "count": 9225
           },
           {
            "bin_start": 3531.4,
            "bin_end": 7016.8,
            "count": 4727
           },
           {
            "bin_start": 7016.8,
            "bin_end": 10502.2,
            "count": 1276
           },
           {
            "bin_start": 10502.2,
            "bin_end": 13987.6,
            "count": 461
           },
           {
            "bin_start": 13987.6,
            "bin_end": 17473,
            "count": 298
           },
           {
            "bin_start": 17473,
            "bin_end": 20958.4,
            "count": 91
           },
           {
            "bin_start": 20958.4,
            "bin_end": 24443.8,
            "count": 32
           },
           {
            "bin_start": 24443.8,
            "bin_end": 27929.2,
            "count": 48
           },
           {
            "bin_start": 27929.2,
            "bin_end": 31414.600000000002,
            "count": 8
           },
           {
            "bin_start": 31414.600000000002,
            "bin_end": 34900,
            "count": 1
           }
          ]
         }
        },
        {
         "name": "NEAREST_CEM_DIST",
         "dtype": "float64"
        },
        {
         "name": "MEAN_PRICE",
         "dtype": "float64"
        },
        {
         "name": "DIFFERENCE",
         "dtype": "float64"
        },
        {
         "name": "_deepnote_index_column",
         "dtype": "object"
        }
       ],
       "rows": [
        {
         "PRICE": 855000,
         "BATHROOMS": 2,
         "FLOOR_AREA": 192,
         "CBD_DIST": 18300,
         "NEAREST_SCH_RANK": 200,
         "NEAREST_STN_DIST": 7400,
         "NEAREST_CEM_DIST": 6650.1147547886685,
         "MEAN_PRICE": 700941.9873096447,
         "DIFFERENCE": 154058.0126903553,
         "_deepnote_index_column": "2018-01-01"
        },
        {
         "PRICE": 270000,
         "BATHROOMS": 1,
         "FLOOR_AREA": 90,
         "CBD_DIST": 40100,
         "NEAREST_SCH_RANK": 54,
         "NEAREST_STN_DIST": 1300,
         "NEAREST_CEM_DIST": 3395.069163796835,
         "MEAN_PRICE": 700941.9873096447,
         "DIFFERENCE": -430941.9873096447,
         "_deepnote_index_column": "2018-01-01"
        },
        {
         "PRICE": 502500,
         "BATHROOMS": 2,
         "FLOOR_AREA": 189,
         "CBD_DIST": 14300,
         "NEAREST_SCH_RANK": 130,
         "NEAREST_STN_DIST": 3800,
         "NEAREST_CEM_DIST": 3937.034611183589,
         "MEAN_PRICE": 700941.9873096447,
         "DIFFERENCE": -198441.9873096447,
         "_deepnote_index_column": "2018-01-01"
        },
        {
         "PRICE": 1780000,
         "BATHROOMS": 2,
         "FLOOR_AREA": 263,
         "CBD_DIST": 7500,
         "NEAREST_SCH_RANK": 8,
         "NEAREST_STN_DIST": 1900,
         "NEAREST_CEM_DIST": 1898.1575284468013,
         "MEAN_PRICE": 700941.9873096447,
         "DIFFERENCE": 1079058.0126903553,
         "_deepnote_index_column": "2018-01-01"
        },
        {
         "PRICE": 428000,
         "BATHROOMS": 2,
         "FLOOR_AREA": 152,
         "CBD_DIST": 19900,
         "NEAREST_SCH_RANK": 149,
         "NEAREST_STN_DIST": 5000,
         "NEAREST_CEM_DIST": 3867.178161692481,
         "MEAN_PRICE": 700941.9873096447,
         "DIFFERENCE": -272941.9873096447,
         "_deepnote_index_column": "2018-01-01"
        },
        {
         "PRICE": 240000,
         "BATHROOMS": 1,
         "FLOOR_AREA": 127,
         "CBD_DIST": 40300,
         "NEAREST_SCH_RANK": 136,
         "NEAREST_STN_DIST": 1600,
         "NEAREST_CEM_DIST": 3190.22101385919,
         "MEAN_PRICE": 700941.9873096447,
         "DIFFERENCE": -460941.9873096447,
         "_deepnote_index_column": "2018-01-01"
        },
        {
         "PRICE": 349000,
         "BATHROOMS": 1,
         "FLOOR_AREA": 106,
         "CBD_DIST": 15300,
         "NEAREST_SCH_RANK": 53,
         "NEAREST_STN_DIST": 633,
         "NEAREST_CEM_DIST": 1370.307963425033,
         "MEAN_PRICE": 700941.9873096447,
         "DIFFERENCE": -351941.9873096447,
         "_deepnote_index_column": "2018-01-01"
        },
        {
         "PRICE": 347000,
         "BATHROOMS": 1,
         "FLOOR_AREA": 110,
         "CBD_DIST": 19200,
         "NEAREST_SCH_RANK": 149,
         "NEAREST_STN_DIST": 4300,
         "NEAREST_CEM_DIST": 3138.981672272722,
         "MEAN_PRICE": 700941.9873096447,
         "DIFFERENCE": -353941.9873096447,
         "_deepnote_index_column": "2018-01-01"
        },
        {
         "PRICE": 340000,
         "BATHROOMS": 2,
         "FLOOR_AREA": 132,
         "CBD_DIST": 15400,
         "NEAREST_SCH_RANK": 112,
         "NEAREST_STN_DIST": 2200,
         "NEAREST_CEM_DIST": 13591.104613392785,
         "MEAN_PRICE": 700941.9873096447,
         "DIFFERENCE": -360941.9873096447,
         "_deepnote_index_column": "2018-01-01"
        },
        {
         "PRICE": 490000,
         "BATHROOMS": 2,
         "FLOOR_AREA": 250,
         "CBD_DIST": 17400,
         "NEAREST_SCH_RANK": 125,
         "NEAREST_STN_DIST": 4100,
         "NEAREST_CEM_DIST": 15994.423199362223,
         "MEAN_PRICE": 700941.9873096447,
         "DIFFERENCE": -210941.9873096447,
         "_deepnote_index_column": "2018-01-01"
        }
       ]
      },
      "text/plain": "              PRICE  BATHROOMS  FLOOR_AREA  CBD_DIST  NEAREST_SCH_RANK  \\\nDATE_SOLD                                                                \n2018-01-01   855000          2         192     18300             200.0   \n2018-01-01   270000          1          90     40100              54.0   \n2018-01-01   502500          2         189     14300             130.0   \n2018-01-01  1780000          2         263      7500               8.0   \n2018-01-01   428000          2         152     19900             149.0   \n...             ...        ...         ...       ...               ...   \n2020-12-01   500000          1         112     15200              91.0   \n2020-12-01   695000          2         174     13300             138.0   \n2020-12-01   360000          2         113     19900              62.0   \n2020-12-01   315000          2         132     53100              35.0   \n2020-12-01   995000          1         264     25300              60.0   \n\n            NEAREST_STN_DIST  NEAREST_CEM_DIST    MEAN_PRICE    DIFFERENCE  \nDATE_SOLD                                                                   \n2018-01-01              7400       6650.114755  700941.98731  1.540580e+05  \n2018-01-01              1300       3395.069164  700941.98731 -4.309420e+05  \n2018-01-01              3800       3937.034611  700941.98731 -1.984420e+05  \n2018-01-01              1900       1898.157528  700941.98731  1.079058e+06  \n2018-01-01              5000       3867.178162  700941.98731 -2.729420e+05  \n...                      ...               ...           ...           ...  \n2020-12-01              5100       5068.384259  623672.87500 -1.236729e+05  \n2020-12-01              1400       5360.521404  623672.87500  7.132712e+04  \n2020-12-01              6400      17823.811710  623672.87500 -2.636729e+05  \n2020-12-01             10600      16150.172397  623672.87500 -3.086729e+05  \n2020-12-01              1800       6709.099298  623672.87500  3.713271e+05  \n\n[16167 rows x 9 columns]",
      "text/html": "<div>\n<style scoped>\n    .dataframe tbody tr th:only-of-type {\n        vertical-align: middle;\n    }\n\n    .dataframe tbody tr th {\n        vertical-align: top;\n    }\n\n    .dataframe thead th {\n        text-align: right;\n    }\n</style>\n<table border=\"1\" class=\"dataframe\">\n  <thead>\n    <tr style=\"text-align: right;\">\n      <th></th>\n      <th>PRICE</th>\n      <th>BATHROOMS</th>\n      <th>FLOOR_AREA</th>\n      <th>CBD_DIST</th>\n      <th>NEAREST_SCH_RANK</th>\n      <th>NEAREST_STN_DIST</th>\n      <th>NEAREST_CEM_DIST</th>\n      <th>MEAN_PRICE</th>\n      <th>DIFFERENCE</th>\n    </tr>\n    <tr>\n      <th>DATE_SOLD</th>\n      <th></th>\n      <th></th>\n      <th></th>\n      <th></th>\n      <th></th>\n      <th></th>\n      <th></th>\n      <th></th>\n      <th></th>\n    </tr>\n  </thead>\n  <tbody>\n    <tr>\n      <th>2018-01-01</th>\n      <td>855000</td>\n      <td>2</td>\n      <td>192</td>\n      <td>18300</td>\n      <td>200.0</td>\n      <td>7400</td>\n      <td>6650.114755</td>\n      <td>700941.98731</td>\n      <td>1.540580e+05</td>\n    </tr>\n    <tr>\n      <th>2018-01-01</th>\n      <td>270000</td>\n      <td>1</td>\n      <td>90</td>\n      <td>40100</td>\n      <td>54.0</td>\n      <td>1300</td>\n      <td>3395.069164</td>\n      <td>700941.98731</td>\n      <td>-4.309420e+05</td>\n    </tr>\n    <tr>\n      <th>2018-01-01</th>\n      <td>502500</td>\n      <td>2</td>\n      <td>189</td>\n      <td>14300</td>\n      <td>130.0</td>\n      <td>3800</td>\n      <td>3937.034611</td>\n      <td>700941.98731</td>\n      <td>-1.984420e+05</td>\n    </tr>\n    <tr>\n      <th>2018-01-01</th>\n      <td>1780000</td>\n      <td>2</td>\n      <td>263</td>\n      <td>7500</td>\n      <td>8.0</td>\n      <td>1900</td>\n      <td>1898.157528</td>\n      <td>700941.98731</td>\n      <td>1.079058e+06</td>\n    </tr>\n    <tr>\n      <th>2018-01-01</th>\n      <td>428000</td>\n      <td>2</td>\n      <td>152</td>\n      <td>19900</td>\n      <td>149.0</td>\n      <td>5000</td>\n      <td>3867.178162</td>\n      <td>700941.98731</td>\n      <td>-2.729420e+05</td>\n    </tr>\n    <tr>\n      <th>...</th>\n      <td>...</td>\n      <td>...</td>\n      <td>...</td>\n      <td>...</td>\n      <td>...</td>\n      <td>...</td>\n      <td>...</td>\n      <td>...</td>\n      <td>...</td>\n    </tr>\n    <tr>\n      <th>2020-12-01</th>\n      <td>500000</td>\n      <td>1</td>\n      <td>112</td>\n      <td>15200</td>\n      <td>91.0</td>\n      <td>5100</td>\n      <td>5068.384259</td>\n      <td>623672.87500</td>\n      <td>-1.236729e+05</td>\n    </tr>\n    <tr>\n      <th>2020-12-01</th>\n      <td>695000</td>\n      <td>2</td>\n      <td>174</td>\n      <td>13300</td>\n      <td>138.0</td>\n      <td>1400</td>\n      <td>5360.521404</td>\n      <td>623672.87500</td>\n      <td>7.132712e+04</td>\n    </tr>\n    <tr>\n      <th>2020-12-01</th>\n      <td>360000</td>\n      <td>2</td>\n      <td>113</td>\n      <td>19900</td>\n      <td>62.0</td>\n      <td>6400</td>\n      <td>17823.811710</td>\n      <td>623672.87500</td>\n      <td>-2.636729e+05</td>\n    </tr>\n    <tr>\n      <th>2020-12-01</th>\n      <td>315000</td>\n      <td>2</td>\n      <td>132</td>\n      <td>53100</td>\n      <td>35.0</td>\n      <td>10600</td>\n      <td>16150.172397</td>\n      <td>623672.87500</td>\n      <td>-3.086729e+05</td>\n    </tr>\n    <tr>\n      <th>2020-12-01</th>\n      <td>995000</td>\n      <td>1</td>\n      <td>264</td>\n      <td>25300</td>\n      <td>60.0</td>\n      <td>1800</td>\n      <td>6709.099298</td>\n      <td>623672.87500</td>\n      <td>3.713271e+05</td>\n    </tr>\n  </tbody>\n</table>\n<p>16167 rows × 9 columns</p>\n</div>"
     },
     "metadata": {}
    }
   ]
  },
  {
   "cell_type": "code",
   "metadata": {
    "cell_id": "4412bf1d-e610-49a5-ae6e-bca17a9110b5",
    "tags": [],
    "deepnote_to_be_reexecuted": false,
    "source_hash": "e9696357",
    "execution_start": 1646972878949,
    "execution_millis": 5,
    "deepnote_cell_type": "code",
    "deepnote_cell_height": 315.890625
   },
   "source": "#split the train and test data\ndata = df.truncate(after = '2020-12')\nAppli_data = df.truncate(before = '2020-12')\nX = data.drop([\"PRICE\",'DIFFERENCE'],1)\nY = data[\"PRICE\"]\nx_train, x_test, y_train, y_test = train_test_split(X,Y, random_state=0)\n\n# Standardization\nsc = StandardScaler()\nx_train = sc.fit_transform(x_train)\nx_test = sc.transform(x_test)",
   "execution_count": 4,
   "outputs": [
    {
     "name": "stderr",
     "text": "/shared-libs/python3.7/py-core/lib/python3.7/site-packages/ipykernel_launcher.py:4: FutureWarning: In a future version of pandas all arguments of DataFrame.drop except for the argument 'labels' will be keyword-only\n  after removing the cwd from sys.path.\n",
     "output_type": "stream"
    }
   ]
  },
  {
   "cell_type": "markdown",
   "source": "### Model Training",
   "metadata": {
    "cell_id": "862d41d0-0df7-4ae9-91f3-53fe3f368ebe",
    "tags": [],
    "is_collapsed": false,
    "deepnote_cell_type": "text-cell-h3",
    "deepnote_cell_height": 62
   }
  },
  {
   "cell_type": "code",
   "metadata": {
    "cell_id": "18427a48-7daa-4531-bfb0-5d0d22476d40",
    "tags": [],
    "deepnote_to_be_reexecuted": false,
    "source_hash": "4a68ab8b",
    "execution_start": 1646972878993,
    "execution_millis": 4239,
    "deepnote_cell_type": "code",
    "deepnote_cell_height": 189
   },
   "source": "#Method 1\n#Random Forest\nfrom sklearn.ensemble import RandomForestRegressor\nrf = RandomForestRegressor(n_estimators=150, max_depth=7, random_state=0)\nrf.fit(x_train, y_train)\ny_pred = rf.predict(x_test)\ny_train_pred = rf.predict(x_train)",
   "execution_count": 5,
   "outputs": []
  },
  {
   "cell_type": "code",
   "metadata": {
    "cell_id": "6ee79ffb-40ce-4790-9d20-c591bb0d1917",
    "tags": [],
    "deepnote_to_be_reexecuted": false,
    "source_hash": "2190c77e",
    "execution_start": 1646972883241,
    "execution_millis": 17,
    "deepnote_cell_type": "code",
    "deepnote_cell_height": 591.5625
   },
   "source": "from sklearn.metrics import r2_score\nfrom sklearn.metrics import mean_squared_error\nfrom sklearn.metrics import mean_absolute_error\nfrom sklearn.metrics import mean_absolute_percentage_error\ntrain_r2_score = r2_score(y_train, y_train_pred)\ntest_r2_score = r2_score(y_test,y_pred)\ntrain_mse=mean_squared_error(y_train, y_train_pred)\ntest_mse=mean_squared_error(y_test,y_pred)\ntrain_mae=mean_absolute_error(y_train, y_train_pred)\ntest_mae=mean_absolute_error(y_test,y_pred)\ntrain_mape=mean_absolute_percentage_error(y_train, y_train_pred)\ntest_mape=mean_absolute_percentage_error(y_test,y_pred)\nprint('train r2:', train_r2_score)\nprint('test r2:', test_r2_score)\nprint('train_mse:',train_mse)\nprint('test_mse:',test_mse)\nprint('train_mae:',train_mae)\nprint('test_mae:',test_mae)\nprint('train_mape:',train_mape)\nprint('test_mape:',test_mape)",
   "execution_count": 6,
   "outputs": [
    {
     "name": "stdout",
     "text": "train r2: 0.7841928903926527\ntest r2: 0.7307427850878103\ntrain_mse: 25845932433.031178\ntest_mse: 32618917052.84228\ntrain_mae: 110491.45697579326\ntest_mae: 119338.12700322398\ntrain_mape: 0.18834071094146182\ntest_mape: 0.2007819242376244\n",
     "output_type": "stream"
    }
   ]
  },
  {
   "cell_type": "code",
   "metadata": {
    "cell_id": "15f7eb8b-ecf5-4a92-87e7-860a933a1052",
    "tags": [],
    "deepnote_to_be_reexecuted": false,
    "source_hash": "f47d3270",
    "execution_start": 1646972883279,
    "execution_millis": 1001,
    "deepnote_cell_type": "code",
    "deepnote_cell_height": 207
   },
   "source": "#KNN\nfrom sklearn.neighbors import KNeighborsRegressor\n# neigh = KNeighborsRegressor(n_neighbors=20,weights='distance',p=1)\nneigh=KNeighborsRegressor(n_neighbors=13,p=1)\nneigh.fit(x_train, y_train)\ny_pred = neigh.predict(x_test)\ny_train_pred = neigh.predict(x_train)\n",
   "execution_count": 7,
   "outputs": []
  },
  {
   "cell_type": "code",
   "metadata": {
    "cell_id": "68dba4db-80b0-4c7e-b2b8-50096d9c7725",
    "tags": [],
    "deepnote_to_be_reexecuted": false,
    "source_hash": "41d5fe99",
    "execution_start": 1646972884291,
    "execution_millis": 11,
    "deepnote_cell_type": "code",
    "deepnote_cell_height": 519.5625
   },
   "source": "train_r2_score = r2_score(y_train, y_train_pred)\ntest_r2_score = r2_score(y_test,y_pred)\ntrain_mse=mean_squared_error(y_train, y_train_pred)\ntest_mse=mean_squared_error(y_test,y_pred)\ntrain_mae=mean_absolute_error(y_train, y_train_pred)\ntest_mae=mean_absolute_error(y_test,y_pred)\ntrain_mape=mean_absolute_percentage_error(y_train, y_train_pred)\ntest_mape=mean_absolute_percentage_error(y_test,y_pred)\nprint('train r2:', train_r2_score)\nprint('test r2:', test_r2_score)\nprint('train_mse:',train_mse)\nprint('test_mse:',test_mse)\nprint('train_mae:',train_mae)\nprint('test_mae:',test_mae)\nprint('train_mape:',train_mape)\nprint('test_mape:',test_mape)",
   "execution_count": 8,
   "outputs": [
    {
     "name": "stdout",
     "text": "train r2: 0.7658858755426172\ntest r2: 0.7262993742732566\ntrain_mse: 28038454587.30781\ntest_mse: 33157209959.269684\ntrain_mae: 105027.81124681006\ntest_mae: 113590.99781279903\ntrain_mape: 0.165987830038052\ntest_mape: 0.18092350276108507\n",
     "output_type": "stream"
    }
   ]
  },
  {
   "cell_type": "code",
   "metadata": {
    "cell_id": "7d5fa97f-0f60-497b-8b9a-bd30fac191a6",
    "tags": [],
    "deepnote_to_be_reexecuted": false,
    "source_hash": "5ae586b7",
    "execution_start": 1646972884313,
    "execution_millis": 111892,
    "deepnote_cell_type": "code",
    "deepnote_cell_height": 297
   },
   "source": "best_p = -1\nbest_score = 0.0\nbest_k = -1\nfor k in range(5, 21):\n    for p in range(1, 6):\n        neigh = KNeighborsRegressor(n_neighbors = k, p = p)\n        neigh.fit(x_train, y_train)\n        knn_score = neigh.score(x_test, y_test)\n        if knn_score > best_score:\n            best_score = knn_score\n            best_k = k\n            best_p = p\n",
   "execution_count": 9,
   "outputs": []
  },
  {
   "cell_type": "code",
   "metadata": {
    "cell_id": "56c4a273-c464-461b-b1cc-727f48bcb96d",
    "tags": [],
    "deepnote_to_be_reexecuted": false,
    "source_hash": "54041004",
    "execution_start": 1646972996250,
    "execution_millis": 0,
    "deepnote_cell_type": "code",
    "deepnote_cell_height": 187.078125
   },
   "source": "print(best_score)\nprint(best_k)          \nprint(best_p)",
   "execution_count": 10,
   "outputs": [
    {
     "name": "stdout",
     "text": "0.7286112328681212\n10\n1\n",
     "output_type": "stream"
    }
   ]
  },
  {
   "cell_type": "code",
   "metadata": {
    "cell_id": "a4b8e7d6-a8c8-4ae8-81b8-2fc0c4012d95",
    "tags": [],
    "deepnote_to_be_reexecuted": false,
    "source_hash": "c228b1ad",
    "execution_start": 1646972996251,
    "execution_millis": 4437,
    "deepnote_cell_type": "code",
    "deepnote_cell_height": 189
   },
   "source": "#Gradien Boosting\nfrom sklearn import ensemble\nreg = ensemble.GradientBoostingRegressor(n_estimators=550,max_depth=4,max_features='log2',learning_rate=0.15)\nreg.fit(x_train, y_train)\ny_pred = reg.predict(x_test)\ny_train_pred = reg.predict(x_train)\n    ",
   "execution_count": 11,
   "outputs": []
  },
  {
   "cell_type": "code",
   "metadata": {
    "cell_id": "058c9742-289d-456b-a775-a276f5438be7",
    "tags": [],
    "deepnote_to_be_reexecuted": false,
    "source_hash": "41d5fe99",
    "execution_start": 1646973000702,
    "execution_millis": 13,
    "deepnote_cell_type": "code",
    "deepnote_cell_height": 519.5625
   },
   "source": "train_r2_score = r2_score(y_train, y_train_pred)\ntest_r2_score = r2_score(y_test,y_pred)\ntrain_mse=mean_squared_error(y_train, y_train_pred)\ntest_mse=mean_squared_error(y_test,y_pred)\ntrain_mae=mean_absolute_error(y_train, y_train_pred)\ntest_mae=mean_absolute_error(y_test,y_pred)\ntrain_mape=mean_absolute_percentage_error(y_train, y_train_pred)\ntest_mape=mean_absolute_percentage_error(y_test,y_pred)\nprint('train r2:', train_r2_score)\nprint('test r2:', test_r2_score)\nprint('train_mse:',train_mse)\nprint('test_mse:',test_mse)\nprint('train_mae:',train_mae)\nprint('test_mae:',test_mae)\nprint('train_mape:',train_mape)\nprint('test_mape:',test_mape)",
   "execution_count": 12,
   "outputs": [
    {
     "name": "stdout",
     "text": "train r2: 0.9056645379753725\ntest r2: 0.8062887860796923\ntrain_mse: 11297996539.425827\ntest_mse: 23466966414.001373\ntrain_mae: 72022.37601150972\ntest_mae: 97138.42947559217\ntrain_mape: 0.12233951086665049\ntest_mape: 0.15749891773945698\n",
     "output_type": "stream"
    }
   ]
  },
  {
   "cell_type": "code",
   "metadata": {
    "cell_id": "71180e3f-094b-4fc2-8101-4148f07d0d22",
    "tags": [],
    "deepnote_to_be_reexecuted": false,
    "source_hash": "cee6aaa9",
    "execution_start": 1646973000720,
    "execution_millis": 8550,
    "deepnote_cell_type": "code",
    "deepnote_cell_height": 171
   },
   "source": "#XGBoost\nfrom xgboost import XGBRegressor\nregr_m1=XGBRegressor(n_estimators=500,max_depth=5,learning_rate=0.06,subsample=0.6,min_child_weight=6)\nregr_m1.fit(x_train, y_train)\ny_pred = regr_m1.predict(x_test)\ny_train_pred = regr_m1.predict(x_train)",
   "execution_count": 13,
   "outputs": []
  },
  {
   "cell_type": "code",
   "metadata": {
    "cell_id": "14b9ed2c-4e87-4788-9198-4e90135aaae6",
    "tags": [],
    "deepnote_to_be_reexecuted": false,
    "source_hash": "41d5fe99",
    "execution_start": 1646973009278,
    "execution_millis": 615,
    "deepnote_cell_type": "code",
    "deepnote_cell_height": 519.5625
   },
   "source": "train_r2_score = r2_score(y_train, y_train_pred)\ntest_r2_score = r2_score(y_test,y_pred)\ntrain_mse=mean_squared_error(y_train, y_train_pred)\ntest_mse=mean_squared_error(y_test,y_pred)\ntrain_mae=mean_absolute_error(y_train, y_train_pred)\ntest_mae=mean_absolute_error(y_test,y_pred)\ntrain_mape=mean_absolute_percentage_error(y_train, y_train_pred)\ntest_mape=mean_absolute_percentage_error(y_test,y_pred)\nprint('train r2:', train_r2_score)\nprint('test r2:', test_r2_score)\nprint('train_mse:',train_mse)\nprint('test_mse:',test_mse)\nprint('train_mae:',train_mae)\nprint('test_mae:',test_mae)\nprint('train_mape:',train_mape)\nprint('test_mape:',test_mape)",
   "execution_count": 14,
   "outputs": [
    {
     "name": "stdout",
     "text": "train r2: 0.8934761043218078\ntest r2: 0.8060257464162018\ntrain_mse: 12757732658.628235\ntest_mse: 23498832111.519638\ntrain_mae: 75987.15314774458\ntest_mae: 96236.02053186088\ntrain_mape: 0.1299181982832818\ntest_mape: 0.1566152804999442\n",
     "output_type": "stream"
    }
   ]
  },
  {
   "cell_type": "code",
   "metadata": {
    "cell_id": "ee2d2918-7ed2-489e-9d66-33d596516681",
    "tags": [],
    "deepnote_to_be_reexecuted": false,
    "source_hash": "1e2045a",
    "execution_start": 1646973009297,
    "execution_millis": 5,
    "deepnote_cell_type": "code",
    "deepnote_cell_height": 81
   },
   "source": "# method 2",
   "execution_count": 15,
   "outputs": []
  },
  {
   "cell_type": "code",
   "metadata": {
    "cell_id": "521604a6-9689-4efb-8de8-e48f106f4c81",
    "tags": [],
    "deepnote_to_be_reexecuted": false,
    "source_hash": "52ec1b45",
    "execution_start": 1646973009306,
    "execution_millis": 590,
    "deepnote_cell_type": "code",
    "deepnote_cell_height": 304.671875
   },
   "source": "#train_test_split\nX = data.drop(['DIFFERENCE'],1)\nY = data[\"DIFFERENCE\"]\nx_train1, x_test1, y_train, y_test = train_test_split(X,Y, random_state=0)\nx_train=x_train1.drop([\"PRICE\",\"MEAN_PRICE\"],1)\nx_test=x_test1.drop([\"PRICE\",\"MEAN_PRICE\"],1)",
   "execution_count": 16,
   "outputs": [
    {
     "name": "stderr",
     "text": "/shared-libs/python3.7/py-core/lib/python3.7/site-packages/ipykernel_launcher.py:2: FutureWarning: In a future version of pandas all arguments of DataFrame.drop except for the argument 'labels' will be keyword-only\n  \n/shared-libs/python3.7/py-core/lib/python3.7/site-packages/ipykernel_launcher.py:5: FutureWarning: In a future version of pandas all arguments of DataFrame.drop except for the argument 'labels' will be keyword-only\n  \"\"\"\n/shared-libs/python3.7/py-core/lib/python3.7/site-packages/ipykernel_launcher.py:6: FutureWarning: In a future version of pandas all arguments of DataFrame.drop except for the argument 'labels' will be keyword-only\n  \n",
     "output_type": "stream"
    }
   ]
  },
  {
   "cell_type": "code",
   "metadata": {
    "cell_id": "342ddbfc-191a-4c21-aae8-60fecf3b461b",
    "tags": [],
    "deepnote_to_be_reexecuted": false,
    "source_hash": "75ea55ae",
    "execution_start": 1646973009324,
    "execution_millis": 9,
    "deepnote_cell_type": "code",
    "deepnote_cell_height": 135
   },
   "source": "# Standardization\nsc = StandardScaler()\nx_train = sc.fit_transform(x_train)\nx_test = sc.transform(x_test)",
   "execution_count": 17,
   "outputs": []
  },
  {
   "cell_type": "code",
   "metadata": {
    "cell_id": "4a383c58-cbad-40a0-ab21-1ec2639ed766",
    "tags": [],
    "deepnote_to_be_reexecuted": false,
    "source_hash": "21474d2e",
    "execution_start": 1646973009394,
    "execution_millis": 1259,
    "deepnote_cell_type": "code",
    "deepnote_cell_height": 171
   },
   "source": "#Random Forest\nfrom sklearn.ensemble import RandomForestRegressor\nrf = RandomForestRegressor(n_estimators=80, max_depth=10, max_features='log2',oob_score=True)\nrf.fit(x_train, y_train)\ny_pred = rf.predict(x_test)\ny_train_pred = rf.predict(x_train)",
   "execution_count": 18,
   "outputs": []
  },
  {
   "cell_type": "code",
   "metadata": {
    "cell_id": "48a2f3b7-5abe-4b57-8d63-bf8ea6db0bc0",
    "tags": [],
    "deepnote_to_be_reexecuted": false,
    "source_hash": "bece2fb2",
    "execution_start": 1646973010664,
    "execution_millis": 430,
    "deepnote_cell_type": "code",
    "deepnote_cell_height": 591.5625
   },
   "source": "train_pred_price=x_train1['MEAN_PRICE']+y_train_pred\ntest_pred_price=x_test1['MEAN_PRICE']+y_pred\ntrain_real_price=x_train1['PRICE']\ntest_real_price=x_test1['PRICE']\ntrain_r2_score = r2_score(train_real_price, train_pred_price)\ntest_r2_score = r2_score(test_real_price,test_pred_price)\ntrain_mse=mean_squared_error(train_real_price, train_pred_price)\ntest_mse=mean_squared_error(test_real_price,test_pred_price)\ntrain_mae=mean_absolute_error(train_real_price, train_pred_price)\ntest_mae=mean_absolute_error(test_real_price,test_pred_price)\ntrain_mape=mean_absolute_percentage_error(train_real_price, train_pred_price)\ntest_mape=mean_absolute_percentage_error(test_real_price,test_pred_price)\nprint('train r2:', train_r2_score)\nprint('test r2:', test_r2_score)\nprint('train_mse:',train_mse)\nprint('test_mse:',test_mse)\nprint('train_mae:',train_mae)\nprint('test_mae:',test_mae)\nprint('train_mape:',train_mape)\nprint('test_mape:',test_mape)",
   "execution_count": 19,
   "outputs": [
    {
     "name": "stdout",
     "text": "train r2: 0.8546219351181419\ntest r2: 0.7696806485579686\ntrain_mse: 17411065135.98106\ntest_mse: 27901825482.38168\ntrain_mae: 91927.34712326036\ntest_mae: 109267.50363682791\ntrain_mape: 0.15882913145074262\ntest_mape: 0.18302443283204498\n",
     "output_type": "stream"
    }
   ]
  },
  {
   "cell_type": "code",
   "metadata": {
    "cell_id": "c79e2bdb-6aa6-418e-a45e-499ae537f566",
    "tags": [],
    "deepnote_to_be_reexecuted": false,
    "source_hash": "5b1d6751",
    "execution_start": 1646973010683,
    "execution_millis": 531,
    "deepnote_cell_type": "code",
    "deepnote_cell_height": 207
   },
   "source": "#KNN\nfrom sklearn.neighbors import KNeighborsRegressor\n# neigh = KNeighborsRegressor(n_neighbors=20,weights='distance',p=1)\nneigh=KNeighborsRegressor(n_neighbors=10,p=1)\nneigh.fit(x_train, y_train)\ny_pred = neigh.predict(x_test)\ny_train_pred = neigh.predict(x_train)\n",
   "execution_count": 20,
   "outputs": []
  },
  {
   "cell_type": "code",
   "metadata": {
    "cell_id": "e2844d30-6259-4f5b-a0d4-4c280b4b3af6",
    "tags": [],
    "deepnote_to_be_reexecuted": false,
    "source_hash": "bece2fb2",
    "execution_start": 1646973011226,
    "execution_millis": 59,
    "deepnote_cell_type": "code",
    "deepnote_cell_height": 591.5625
   },
   "source": "train_pred_price=x_train1['MEAN_PRICE']+y_train_pred\ntest_pred_price=x_test1['MEAN_PRICE']+y_pred\ntrain_real_price=x_train1['PRICE']\ntest_real_price=x_test1['PRICE']\ntrain_r2_score = r2_score(train_real_price, train_pred_price)\ntest_r2_score = r2_score(test_real_price,test_pred_price)\ntrain_mse=mean_squared_error(train_real_price, train_pred_price)\ntest_mse=mean_squared_error(test_real_price,test_pred_price)\ntrain_mae=mean_absolute_error(train_real_price, train_pred_price)\ntest_mae=mean_absolute_error(test_real_price,test_pred_price)\ntrain_mape=mean_absolute_percentage_error(train_real_price, train_pred_price)\ntest_mape=mean_absolute_percentage_error(test_real_price,test_pred_price)\nprint('train r2:', train_r2_score)\nprint('test r2:', test_r2_score)\nprint('train_mse:',train_mse)\nprint('test_mse:',test_mse)\nprint('train_mae:',train_mae)\nprint('test_mae:',test_mae)\nprint('train_mape:',train_mape)\nprint('test_mape:',test_mape)",
   "execution_count": 21,
   "outputs": [
    {
     "name": "stdout",
     "text": "train r2: 0.7984870284824936\ntest r2: 0.7577743116436509\ntrain_mse: 24134008632.51026\ntest_mse: 29344207690.55381\ntrain_mae: 97092.24370007584\ntest_mae: 106122.31555870913\ntrain_mape: 0.1540946987785341\ntest_mape: 0.1700070630975228\n",
     "output_type": "stream"
    }
   ]
  },
  {
   "cell_type": "code",
   "metadata": {
    "cell_id": "47b1f62f-d95b-4446-bcb6-8a8e3a500c85",
    "tags": [],
    "deepnote_to_be_reexecuted": false,
    "source_hash": "ce90e006",
    "execution_start": 1646973011247,
    "execution_millis": 10596,
    "deepnote_cell_type": "code",
    "deepnote_cell_height": 189
   },
   "source": "#Gradient Boosting\nfrom sklearn import ensemble\nreg = ensemble.GradientBoostingRegressor(n_estimators=600,max_depth=4,subsample=0.7)\nreg.fit(x_train, y_train)\ny_pred = reg.predict(x_test)\ny_train_pred = reg.predict(x_train)\n    ",
   "execution_count": 22,
   "outputs": []
  },
  {
   "cell_type": "code",
   "metadata": {
    "cell_id": "5b4eef5a-302e-4c53-9d36-8866f8f0fc8b",
    "tags": [],
    "deepnote_to_be_reexecuted": false,
    "source_hash": "bece2fb2",
    "execution_start": 1646973021847,
    "execution_millis": 400,
    "deepnote_cell_type": "code",
    "deepnote_cell_height": 591.5625
   },
   "source": "train_pred_price=x_train1['MEAN_PRICE']+y_train_pred\ntest_pred_price=x_test1['MEAN_PRICE']+y_pred\ntrain_real_price=x_train1['PRICE']\ntest_real_price=x_test1['PRICE']\ntrain_r2_score = r2_score(train_real_price, train_pred_price)\ntest_r2_score = r2_score(test_real_price,test_pred_price)\ntrain_mse=mean_squared_error(train_real_price, train_pred_price)\ntest_mse=mean_squared_error(test_real_price,test_pred_price)\ntrain_mae=mean_absolute_error(train_real_price, train_pred_price)\ntest_mae=mean_absolute_error(test_real_price,test_pred_price)\ntrain_mape=mean_absolute_percentage_error(train_real_price, train_pred_price)\ntest_mape=mean_absolute_percentage_error(test_real_price,test_pred_price)\nprint('train r2:', train_r2_score)\nprint('test r2:', test_r2_score)\nprint('train_mse:',train_mse)\nprint('test_mse:',test_mse)\nprint('train_mae:',train_mae)\nprint('test_mae:',test_mae)\nprint('train_mape:',train_mape)\nprint('test_mape:',test_mape)",
   "execution_count": 23,
   "outputs": [
    {
     "name": "stdout",
     "text": "train r2: 0.9070459529973127\ntest r2: 0.805202778243993\ntrain_mse: 11132552688.275587\ntest_mse: 23598529831.98803\ntrain_mae: 74946.5282729964\ntest_mae: 98168.20649270501\ntrain_mape: 0.13074203408629756\ntest_mape: 0.1613553126151748\n",
     "output_type": "stream"
    }
   ]
  },
  {
   "cell_type": "code",
   "metadata": {
    "cell_id": "63b48ac2-cbf9-4c82-94ac-0faa0dd10400",
    "tags": [],
    "deepnote_to_be_reexecuted": false,
    "source_hash": "ce41e7ad",
    "execution_start": 1646973021880,
    "execution_millis": 6205,
    "deepnote_cell_type": "code",
    "deepnote_cell_height": 171
   },
   "source": "#XGBoost\nfrom xgboost import XGBRegressor\nregr=XGBRegressor(n_estimators=450,max_depth=4,learning_rate=0.08,subsample=0.6,min_child_weight=5)\nregr.fit(x_train, y_train)\ny_pred = regr.predict(x_test)\ny_train_pred = regr.predict(x_train)",
   "execution_count": 24,
   "outputs": []
  },
  {
   "cell_type": "code",
   "metadata": {
    "cell_id": "9a9dddb0-c2b6-407d-b79b-e27da64918ef",
    "tags": [],
    "deepnote_to_be_reexecuted": false,
    "source_hash": "bece2fb2",
    "execution_start": 1646973028096,
    "execution_millis": 19,
    "deepnote_cell_type": "code",
    "deepnote_cell_height": 592
   },
   "source": "train_pred_price=x_train1['MEAN_PRICE']+y_train_pred\ntest_pred_price=x_test1['MEAN_PRICE']+y_pred\ntrain_real_price=x_train1['PRICE']\ntest_real_price=x_test1['PRICE']\ntrain_r2_score = r2_score(train_real_price, train_pred_price)\ntest_r2_score = r2_score(test_real_price,test_pred_price)\ntrain_mse=mean_squared_error(train_real_price, train_pred_price)\ntest_mse=mean_squared_error(test_real_price,test_pred_price)\ntrain_mae=mean_absolute_error(train_real_price, train_pred_price)\ntest_mae=mean_absolute_error(test_real_price,test_pred_price)\ntrain_mape=mean_absolute_percentage_error(train_real_price, train_pred_price)\ntest_mape=mean_absolute_percentage_error(test_real_price,test_pred_price)\nprint('train r2:', train_r2_score)\nprint('test r2:', test_r2_score)\nprint('train_mse:',train_mse)\nprint('test_mse:',test_mse)\nprint('train_mae:',train_mae)\nprint('test_mae:',test_mae)\nprint('train_mape:',train_mape)\nprint('test_mape:',test_mape)",
   "execution_count": 25,
   "outputs": [
    {
     "name": "stdout",
     "text": "train r2: 0.8638537006871967\ntest r2: 0.8010821756137594\ntrain_mse: 16305431546.941734\ntest_mse: 24097716438.546165\ntrain_mae: 86344.96101276902\ntest_mae: 99673.03410309622\ntrain_mape: 0.14702427705678325\ntest_mape: 0.16507235357114047\n",
     "output_type": "stream"
    }
   ]
  },
  {
   "cell_type": "markdown",
   "source": "### Application",
   "metadata": {
    "cell_id": "80efd38a-c3e0-4b86-aa36-5d6eba441906",
    "tags": [],
    "is_collapsed": false,
    "deepnote_cell_type": "text-cell-h3",
    "deepnote_cell_height": 62
   }
  },
  {
   "cell_type": "code",
   "metadata": {
    "cell_id": "96f6bda3-5514-47b0-9f63-93d261364881",
    "tags": [],
    "deepnote_to_be_reexecuted": false,
    "source_hash": "a8a9e707",
    "execution_start": 1646973028121,
    "execution_millis": 15,
    "deepnote_cell_type": "code",
    "deepnote_cell_height": 154
   },
   "source": "X = Appli_data.drop([\"PRICE\",'DIFFERENCE','MEAN_PRICE'],1)\nY = Appli_data[\"DIFFERENCE\"]",
   "execution_count": 26,
   "outputs": [
    {
     "name": "stderr",
     "text": "/shared-libs/python3.7/py-core/lib/python3.7/site-packages/ipykernel_launcher.py:1: FutureWarning: In a future version of pandas all arguments of DataFrame.drop except for the argument 'labels' will be keyword-only\n  \"\"\"Entry point for launching an IPython kernel.\n",
     "output_type": "stream"
    }
   ]
  },
  {
   "cell_type": "code",
   "metadata": {
    "cell_id": "1415635c-4804-4d7e-bdf0-25d43a3bdb97",
    "tags": [],
    "deepnote_to_be_reexecuted": false,
    "source_hash": "1190953e",
    "execution_start": 1646973028148,
    "execution_millis": 15,
    "deepnote_cell_type": "code",
    "deepnote_cell_height": 117
   },
   "source": "sc = StandardScaler()\nX_demo = sc.fit_transform(X)\nY_pred = regr.predict(X_demo)",
   "execution_count": 27,
   "outputs": []
  },
  {
   "cell_type": "code",
   "metadata": {
    "cell_id": "34446a0b-c3fc-4398-aea7-bfd833999fff",
    "tags": [],
    "deepnote_to_be_reexecuted": false,
    "source_hash": "4c47658a",
    "execution_start": 1646973028171,
    "execution_millis": 46,
    "deepnote_cell_type": "code",
    "deepnote_cell_height": 333
   },
   "source": "Y_pred_price=Y_pred+Appli_data['MEAN_PRICE']\nY_real_price=Appli_data['PRICE']\nr2_score_demo = r2_score(Y_real_price,Y_pred_price)\nmse=mean_squared_error(Y_real_price,Y_pred_price)\nmae=mean_absolute_error(Y_real_price,Y_pred_price)\nmape=mean_absolute_percentage_error(Y_real_price,Y_pred_price)\nprint('r2:',r2_score_demo)\nprint('mse:',mse)\nprint('mae:',mae)\nprint('mape:',mape)",
   "execution_count": 28,
   "outputs": [
    {
     "name": "stdout",
     "text": "r2: 0.6123253258809545\nmse: 34048686771.265804\nmae: 125367.07099559007\nmape: 0.24188009875334837\n",
     "output_type": "stream"
    }
   ]
  },
  {
   "cell_type": "code",
   "metadata": {
    "cell_id": "4f54a680-35c8-437f-bcdd-c8ba8bb5c796",
    "tags": [],
    "deepnote_to_be_reexecuted": false,
    "source_hash": "7f6f81f8",
    "execution_start": 1646973028214,
    "execution_millis": 1,
    "deepnote_cell_type": "code",
    "deepnote_cell_height": 99
   },
   "source": "df = {'real':Y_real_price,'predicted':Y_pred_price,'mean':Appli_data['MEAN_PRICE']}\na = pd.DataFrame(df)",
   "execution_count": 29,
   "outputs": []
  },
  {
   "cell_type": "code",
   "metadata": {
    "cell_id": "93082e47-b20c-4b9f-aeb3-a03da5216990",
    "tags": [],
    "deepnote_to_be_reexecuted": false,
    "source_hash": "b4968d04",
    "execution_start": 1646973028215,
    "execution_millis": 1,
    "deepnote_cell_type": "code",
    "deepnote_cell_height": 99
   },
   "source": "a.reset_index(drop=True,inplace=True)\n#a.to_csv('application.csv')",
   "execution_count": 30,
   "outputs": []
  },
  {
   "cell_type": "code",
   "metadata": {
    "cell_id": "83051d40-77da-49da-a282-32184e8f9186",
    "tags": [],
    "deepnote_to_be_reexecuted": false,
    "source_hash": "fceb789",
    "execution_start": 1646973028216,
    "execution_millis": 36,
    "deepnote_cell_type": "code",
    "deepnote_cell_height": 616
   },
   "source": "#a=pd.read_csv('application.csv',index_col=0)\na",
   "execution_count": 31,
   "outputs": [
    {
     "output_type": "execute_result",
     "execution_count": 31,
     "data": {
      "application/vnd.deepnote.dataframe.v3+json": {
       "column_count": 3,
       "row_count": 412,
       "columns": [
        {
         "name": "real",
         "dtype": "int64",
         "stats": {
          "unique_count": 226,
          "nan_count": 0,
          "min": "55000",
          "max": "2300000",
          "histogram": [
           {
            "bin_start": 55000,
            "bin_end": 279500,
            "count": 12
           },
           {
            "bin_start": 279500,
            "bin_end": 504000,
            "count": 190
           },
           {
            "bin_start": 504000,
            "bin_end": 728500,
            "count": 129
           },
           {
            "bin_start": 728500,
            "bin_end": 953000,
            "count": 42
           },
           {
            "bin_start": 953000,
            "bin_end": 1177500,
            "count": 15
           },
           {
            "bin_start": 1177500,
            "bin_end": 1402000,
            "count": 16
           },
           {
            "bin_start": 1402000,
            "bin_end": 1626500,
            "count": 3
           },
           {
            "bin_start": 1626500,
            "bin_end": 1851000,
            "count": 2
           },
           {
            "bin_start": 1851000,
            "bin_end": 2075500,
            "count": 1
           },
           {
            "bin_start": 2075500,
            "bin_end": 2300000,
            "count": 2
           }
          ]
         }
        },
        {
         "name": "predicted",
         "dtype": "float64",
         "stats": {
          "unique_count": 410,
          "nan_count": 0,
          "min": "187985.21875",
          "max": "1729080.625",
          "histogram": [
           {
            "bin_start": 187985.21875,
            "bin_end": 342094.759375,
            "count": 29
           },
           {
            "bin_start": 342094.759375,
            "bin_end": 496204.3,
            "count": 133
           },
           {
            "bin_start": 496204.3,
            "bin_end": 650313.840625,
            "count": 113
           },
           {
            "bin_start": 650313.840625,
            "bin_end": 804423.38125,
            "count": 68
           },
           {
            "bin_start": 804423.38125,
            "bin_end": 958532.921875,
            "count": 31
           },
           {
            "bin_start": 958532.921875,
            "bin_end": 1112642.4625,
            "count": 11
           },
           {
            "bin_start": 1112642.4625,
            "bin_end": 1266752.003125,
            "count": 12
           },
           {
            "bin_start": 1266752.003125,
            "bin_end": 1420861.54375,
            "count": 7
           },
           {
            "bin_start": 1420861.54375,
            "bin_end": 1574971.0843749999,
            "count": 4
           },
           {
            "bin_start": 1574971.0843749999,
            "bin_end": 1729080.625,
            "count": 4
           }
          ]
         }
        },
        {
         "name": "mean",
         "dtype": "float64",
         "stats": {
          "unique_count": 1,
          "nan_count": 0,
          "min": "623672.875",
          "max": "623672.875",
          "histogram": [
           {
            "bin_start": 623672.375,
            "bin_end": 623672.475,
            "count": 0
           },
           {
            "bin_start": 623672.475,
            "bin_end": 623672.575,
            "count": 0
           },
           {
            "bin_start": 623672.575,
            "bin_end": 623672.675,
            "count": 0
           },
           {
            "bin_start": 623672.675,
            "bin_end": 623672.775,
            "count": 0
           },
           {
            "bin_start": 623672.775,
            "bin_end": 623672.875,
            "count": 0
           },
           {
            "bin_start": 623672.875,
            "bin_end": 623672.975,
            "count": 412
           },
           {
            "bin_start": 623672.975,
            "bin_end": 623673.075,
            "count": 0
           },
           {
            "bin_start": 623673.075,
            "bin_end": 623673.175,
            "count": 0
           },
           {
            "bin_start": 623673.175,
            "bin_end": 623673.275,
            "count": 0
           },
           {
            "bin_start": 623673.275,
            "bin_end": 623673.375,
            "count": 0
           }
          ]
         }
        },
        {
         "name": "_deepnote_index_column",
         "dtype": "int64"
        }
       ],
       "rows": [
        {
         "real": 325000,
         "predicted": 425767.109375,
         "mean": 623672.875,
         "_deepnote_index_column": 0
        },
        {
         "real": 290000,
         "predicted": 441616.140625,
         "mean": 623672.875,
         "_deepnote_index_column": 1
        },
        {
         "real": 300000,
         "predicted": 371399.625,
         "mean": 623672.875,
         "_deepnote_index_column": 2
        },
        {
         "real": 630000,
         "predicted": 621064.6550292969,
         "mean": 623672.875,
         "_deepnote_index_column": 3
        },
        {
         "real": 720000,
         "predicted": 625247.8854980469,
         "mean": 623672.875,
         "_deepnote_index_column": 4
        },
        {
         "real": 715000,
         "predicted": 929152.125,
         "mean": 623672.875,
         "_deepnote_index_column": 5
        },
        {
         "real": 645000,
         "predicted": 748603.09375,
         "mean": 623672.875,
         "_deepnote_index_column": 6
        },
        {
         "real": 370000,
         "predicted": 519165.453125,
         "mean": 623672.875,
         "_deepnote_index_column": 7
        },
        {
         "real": 480000,
         "predicted": 465155.84375,
         "mean": 623672.875,
         "_deepnote_index_column": 8
        },
        {
         "real": 730000,
         "predicted": 652201.13671875,
         "mean": 623672.875,
         "_deepnote_index_column": 9
        }
       ]
      },
      "text/plain": "       real      predicted        mean\n0    325000  425767.109375  623672.875\n1    290000  441616.140625  623672.875\n2    300000  371399.625000  623672.875\n3    630000  621064.655029  623672.875\n4    720000  625247.885498  623672.875\n..      ...            ...         ...\n407  500000  508578.320312  623672.875\n408  695000  645976.767578  623672.875\n409  360000  312727.062500  623672.875\n410  315000  652247.939453  623672.875\n411  995000  752968.890625  623672.875\n\n[412 rows x 3 columns]",
      "text/html": "<div>\n<style scoped>\n    .dataframe tbody tr th:only-of-type {\n        vertical-align: middle;\n    }\n\n    .dataframe tbody tr th {\n        vertical-align: top;\n    }\n\n    .dataframe thead th {\n        text-align: right;\n    }\n</style>\n<table border=\"1\" class=\"dataframe\">\n  <thead>\n    <tr style=\"text-align: right;\">\n      <th></th>\n      <th>real</th>\n      <th>predicted</th>\n      <th>mean</th>\n    </tr>\n  </thead>\n  <tbody>\n    <tr>\n      <th>0</th>\n      <td>325000</td>\n      <td>425767.109375</td>\n      <td>623672.875</td>\n    </tr>\n    <tr>\n      <th>1</th>\n      <td>290000</td>\n      <td>441616.140625</td>\n      <td>623672.875</td>\n    </tr>\n    <tr>\n      <th>2</th>\n      <td>300000</td>\n      <td>371399.625000</td>\n      <td>623672.875</td>\n    </tr>\n    <tr>\n      <th>3</th>\n      <td>630000</td>\n      <td>621064.655029</td>\n      <td>623672.875</td>\n    </tr>\n    <tr>\n      <th>4</th>\n      <td>720000</td>\n      <td>625247.885498</td>\n      <td>623672.875</td>\n    </tr>\n    <tr>\n      <th>...</th>\n      <td>...</td>\n      <td>...</td>\n      <td>...</td>\n    </tr>\n    <tr>\n      <th>407</th>\n      <td>500000</td>\n      <td>508578.320312</td>\n      <td>623672.875</td>\n    </tr>\n    <tr>\n      <th>408</th>\n      <td>695000</td>\n      <td>645976.767578</td>\n      <td>623672.875</td>\n    </tr>\n    <tr>\n      <th>409</th>\n      <td>360000</td>\n      <td>312727.062500</td>\n      <td>623672.875</td>\n    </tr>\n    <tr>\n      <th>410</th>\n      <td>315000</td>\n      <td>652247.939453</td>\n      <td>623672.875</td>\n    </tr>\n    <tr>\n      <th>411</th>\n      <td>995000</td>\n      <td>752968.890625</td>\n      <td>623672.875</td>\n    </tr>\n  </tbody>\n</table>\n<p>412 rows × 3 columns</p>\n</div>"
     },
     "metadata": {}
    }
   ]
  },
  {
   "cell_type": "code",
   "metadata": {
    "cell_id": "6d310a72-805b-4a7e-b538-69ed0b40abc0",
    "tags": [],
    "deepnote_to_be_reexecuted": false,
    "source_hash": "96260000",
    "execution_start": 1646973028247,
    "execution_millis": 3,
    "deepnote_cell_type": "code",
    "deepnote_cell_height": 99
   },
   "source": "x=np.linspace(1,412,412)\ny = x * 0",
   "execution_count": 32,
   "outputs": []
  },
  {
   "cell_type": "code",
   "metadata": {
    "cell_id": "a9a7a537-bbe9-4623-b5dc-7e7ce1311bd9",
    "tags": [],
    "deepnote_to_be_reexecuted": false,
    "source_hash": "965b858b",
    "execution_start": 1646973028301,
    "execution_millis": 0,
    "deepnote_cell_type": "code",
    "deepnote_cell_height": 81
   },
   "source": "a['difference']=a['predicted']-a['real']",
   "execution_count": 33,
   "outputs": []
  },
  {
   "cell_type": "code",
   "metadata": {
    "cell_id": "98af278c-177f-40e6-8235-d163a557e8e0",
    "tags": [],
    "deepnote_to_be_reexecuted": false,
    "source_hash": "74926b22",
    "execution_start": 1646973028302,
    "execution_millis": 2,
    "deepnote_cell_type": "code",
    "deepnote_cell_height": 154.1875,
    "deepnote_output_heights": [
     21.1875
    ]
   },
   "source": "index1=np.where(a['difference']>=0)[0]\nlen(index1)/412\n#预测偏高",
   "execution_count": 34,
   "outputs": [
    {
     "output_type": "execute_result",
     "execution_count": 34,
     "data": {
      "text/plain": "0.6286407766990292"
     },
     "metadata": {}
    }
   ]
  },
  {
   "cell_type": "code",
   "metadata": {
    "cell_id": "93e71a2d-2bb5-4f28-ba78-d7786c4042e6",
    "tags": [],
    "deepnote_to_be_reexecuted": false,
    "source_hash": "4211a76a",
    "execution_start": 1646973028303,
    "execution_millis": 313,
    "deepnote_cell_type": "code",
    "deepnote_cell_height": 536.1875,
    "deepnote_output_heights": [
     21.1875,
     333
    ]
   },
   "source": "fig2 = plt.figure(num='fig111111', figsize=(10, 5), dpi=75, facecolor='#FFFFFF', edgecolor='#0000FF')\nplt.scatter(x,a['difference'],marker='.')\nplt.plot(x,y,color = 'r')\nplt.title('Difference between True Prices and Predicted Prices')",
   "execution_count": 35,
   "outputs": [
    {
     "output_type": "execute_result",
     "execution_count": 35,
     "data": {
      "text/plain": "Text(0.5, 1.0, 'Difference between True Prices and Predicted Prices')"
     },
     "metadata": {}
    },
    {
     "data": {
      "text/plain": "<Figure size 750x375 with 1 Axes>",
      "image/png": "[encoded data removed]"
     },
     "metadata": {
      "image/png": {
       "width": 635,
       "height": 331
      }
     },
     "output_type": "display_data"
    }
   ]
  },
  {
   "cell_type": "markdown",
   "source": "<a style='text-decoration:none;line-height:16px;display:flex;color:#5B5B62;padding:10px;justify-content:end;' href='https://deepnote.com?utm_source=created-in-deepnote-cell&projectId=7622d86f-bc43-4970-be08-1eec18806f26' target=\"_blank\">\n<img alt='Created in deepnote.com' style='display:inline;max-height:16px;margin:0px;margin-right:7.5px;' src='data:image/svg+xml;base64,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' > </img>\nCreated in <span style='font-weight:600;margin-left:4px;'>Deepnote</span></a>",
   "metadata": {
    "tags": [],
    "created_in_deepnote_cell": true,
    "deepnote_cell_type": "markdown"
   }
  }
 ],
 "nbformat": 4,
 "nbformat_minor": 2,
 "metadata": {
  "orig_nbformat": 2,
  "deepnote": {
   "is_reactive": false
  },
  "deepnote_notebook_id": "1a868ba1-12d2-4aae-896f-95c73c65312d",
  "deepnote_execution_queue": []
 }
}