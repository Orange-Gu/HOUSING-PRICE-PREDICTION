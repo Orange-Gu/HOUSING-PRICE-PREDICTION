{
 "cells": [
  {
   "cell_type": "code",
   "metadata": {
    "tags": [],
    "cell_id": "c813ee64-95f6-4ac8-8d04-663a28887e3b",
    "deepnote_to_be_reexecuted": false,
    "source_hash": "34ad2d5b",
    "execution_start": 1646967931178,
    "execution_millis": 2925,
    "deepnote_cell_type": "code",
    "deepnote_cell_height": 135
   },
   "source": "import numpy as np\nimport pandas as pd\nimport seaborn as sns\nimport matplotlib.pyplot as plt",
   "outputs": [],
   "execution_count": null
  },
  {
   "cell_type": "code",
   "metadata": {
    "cell_id": "2cd34ffb-d138-45b7-9b4f-8c734b2fb8c6",
    "tags": [],
    "deepnote_to_be_reexecuted": false,
    "source_hash": "afd02f74",
    "execution_start": 1646967934127,
    "execution_millis": 307,
    "deepnote_table_state": {
     "pageSize": 10,
     "pageIndex": 0,
     "filters": [],
     "sortBy": []
    },
    "deepnote_table_loading": false,
    "deepnote_cell_type": "code",
    "deepnote_cell_height": 153
   },
   "source": "perth = pd.read_csv(\"all_perth_310121.csv\",parse_dates=['DATE_SOLD'])\ncut_perth = perth.copy()\n# create 2018-2020 data set\ncut_perth.sort_values(by='DATE_SOLD', inplace=True)\ncut_perth = cut_perth[17489:]",
   "outputs": [],
   "execution_count": null
  },
  {
   "cell_type": "code",
   "metadata": {
    "cell_id": "64f86b18-8f3e-407a-a344-8eaf459c323b",
    "tags": [],
    "deepnote_to_be_reexecuted": false,
    "source_hash": "30f14966",
    "execution_start": 1646967934443,
    "execution_millis": 183,
    "deepnote_cell_type": "code",
    "deepnote_cell_height": 598
   },
   "source": "cut_perth",
   "outputs": [
    {
     "output_type": "execute_result",
     "execution_count": 3,
     "data": {
      "application/vnd.deepnote.dataframe.v3+json": {
       "column_count": 19,
       "row_count": 16167,
       "columns": [
        {
         "name": "ADDRESS",
         "dtype": "object",
         "stats": {
          "unique_count": 16150,
          "nan_count": 0,
          "categories": [
           {
            "name": "123 Fairway",
            "count": 3
           },
           {
            "name": "20 Bernard Street",
            "count": 2
           },
           {
            "name": "16148 others",
            "count": 16162
           }
          ]
         }
        },
        {
         "name": "SUBURB",
         "dtype": "object",
         "stats": {
          "unique_count": 307,
          "nan_count": 0,
          "categories": [
           {
            "name": "Butler",
            "count": 207
           },
           {
            "name": "Mindarie",
            "count": 198
           },
           {
            "name": "305 others",
            "count": 15762
           }
          ]
         }
        },
        {
         "name": "PRICE",
         "dtype": "int64",
         "stats": {
          "unique_count": 1560,
          "nan_count": 0,
          "min": "53000",
          "max": "2440000",
          "histogram": [
           {
            "bin_start": 53000,
            "bin_end": 291700,
            "count": 1069
           },
           {
            "bin_start": 291700,
            "bin_end": 530400,
            "count": 6910
           },
           {
            "bin_start": 530400,
            "bin_end": 769100,
            "count": 4430
           },
           {
            "bin_start": 769100,
            "bin_end": 1007800,
            "count": 1910
           },
           {
            "bin_start": 1007800,
            "bin_end": 1246500,
            "count": 753
           },
           {
            "bin_start": 1246500,
            "bin_end": 1485200,
            "count": 506
           },
           {
            "bin_start": 1485200,
            "bin_end": 1723900,
            "count": 270
           },
           {
            "bin_start": 1723900,
            "bin_end": 1962600,
            "count": 172
           },
           {
            "bin_start": 1962600,
            "bin_end": 2201300,
            "count": 95
           },
           {
            "bin_start": 2201300,
            "bin_end": 2440000,
            "count": 52
           }
          ]
         }
        },
        {
         "name": "BEDROOMS",
         "dtype": "int64",
         "stats": {
          "unique_count": 9,
          "nan_count": 0,
          "min": "1",
          "max": "9",
          "histogram": [
           {
            "bin_start": 1,
            "bin_end": 1.8,
            "count": 42
           },
           {
            "bin_start": 1.8,
            "bin_end": 2.6,
            "count": 654
           },
           {
            "bin_start": 2.6,
            "bin_end": 3.4000000000000004,
            "count": 5425
           },
           {
            "bin_start": 3.4000000000000004,
            "bin_end": 4.2,
            "count": 8825
           },
           {
            "bin_start": 4.2,
            "bin_end": 5,
            "count": 0
           },
           {
            "bin_start": 5,
            "bin_end": 5.800000000000001,
            "count": 1085
           },
           {
            "bin_start": 5.800000000000001,
            "bin_end": 6.6000000000000005,
            "count": 114
           },
           {
            "bin_start": 6.6000000000000005,
            "bin_end": 7.4,
            "count": 16
           },
           {
            "bin_start": 7.4,
            "bin_end": 8.2,
            "count": 4
           },
           {
            "bin_start": 8.2,
            "bin_end": 9,
            "count": 2
           }
          ]
         }
        },
        {
         "name": "BATHROOMS",
         "dtype": "int64",
         "stats": {
          "unique_count": 7,
          "nan_count": 0,
          "min": "1",
          "max": "7",
          "histogram": [
           {
            "bin_start": 1,
            "bin_end": 1.6,
            "count": 3715
           },
           {
            "bin_start": 1.6,
            "bin_end": 2.2,
            "count": 11332
           },
           {
            "bin_start": 2.2,
            "bin_end": 2.8,
            "count": 0
           },
           {
            "bin_start": 2.8,
            "bin_end": 3.4,
            "count": 1022
           },
           {
            "bin_start": 3.4,
            "bin_end": 4,
            "count": 0
           },
           {
            "bin_start": 4,
            "bin_end": 4.6,
            "count": 90
           },
           {
            "bin_start": 4.6,
            "bin_end": 5.2,
            "count": 4
           },
           {
            "bin_start": 5.2,
            "bin_end": 5.8,
            "count": 0
           },
           {
            "bin_start": 5.8,
            "bin_end": 6.3999999999999995,
            "count": 3
           },
           {
            "bin_start": 6.3999999999999995,
            "bin_end": 7,
            "count": 1
           }
          ]
         }
        },
        {
         "name": "GARAGE",
         "dtype": "float64",
         "stats": {
          "unique_count": 19,
          "nan_count": 1272,
          "min": "1.0",
          "max": "50.0",
          "histogram": [
           {
            "bin_start": 1,
            "bin_end": 5.9,
            "count": 14568
           },
           {
            "bin_start": 5.9,
            "bin_end": 10.8,
            "count": 304
           },
           {
            "bin_start": 10.8,
            "bin_end": 15.700000000000001,
            "count": 16
           },
           {
            "bin_start": 15.700000000000001,
            "bin_end": 20.6,
            "count": 5
           },
           {
            "bin_start": 20.6,
            "bin_end": 25.5,
            "count": 1
           },
           {
            "bin_start": 25.5,
            "bin_end": 30.400000000000002,
            "count": 0
           },
           {
            "bin_start": 30.400000000000002,
            "bin_end": 35.300000000000004,
            "count": 0
           },
           {
            "bin_start": 35.300000000000004,
            "bin_end": 40.2,
            "count": 0
           },
           {
            "bin_start": 40.2,
            "bin_end": 45.1,
            "count": 0
           },
           {
            "bin_start": 45.1,
            "bin_end": 50,
            "count": 1
           }
          ]
         }
        },
        {
         "name": "LAND_AREA",
         "dtype": "int64"
        },
        {
         "name": "FLOOR_AREA",
         "dtype": "int64"
        },
        {
         "name": "BUILD_YEAR",
         "dtype": "float64"
        },
        {
         "name": "CBD_DIST",
         "dtype": "int64"
        },
        {
         "name": "NEAREST_STN",
         "dtype": "object"
        },
        {
         "name": "NEAREST_STN_DIST",
         "dtype": "int64"
        },
        {
         "name": "DATE_SOLD",
         "dtype": "datetime64[ns]"
        },
        {
         "name": "POSTCODE",
         "dtype": "int64"
        },
        {
         "name": "LATITUDE",
         "dtype": "float64"
        },
        {
         "name": "LONGITUDE",
         "dtype": "float64"
        },
        {
         "name": "NEAREST_SCH",
         "dtype": "object"
        },
        {
         "name": "NEAREST_SCH_DIST",
         "dtype": "float64"
        },
        {
         "name": "NEAREST_SCH_RANK",
         "dtype": "float64"
        },
        {
         "name": "_deepnote_index_column",
         "dtype": "int64"
        }
       ],
       "rows": [
        {
         "ADDRESS": "52 Graham Road",
         "SUBURB": "Gooseberry Hill",
         "PRICE": 855000,
         "BEDROOMS": 3,
         "BATHROOMS": 2,
         "GARAGE": 2,
         "LAND_AREA": 2148,
         "FLOOR_AREA": 192,
         "BUILD_YEAR": 1976,
         "CBD_DIST": 18300,
         "NEAREST_STN": "Midland Station",
         "NEAREST_STN_DIST": 7400,
         "DATE_SOLD": "2018-01-01T00:00:00.000000",
         "POSTCODE": 6076,
         "LATITUDE": -31.9420119,
         "LONGITUDE": 116.0518514,
         "NEAREST_SCH": "TREETOPS MONTESSORI SCHOOL",
         "NEAREST_SCH_DIST": 3.2318402154123724,
         "NEAREST_SCH_RANK": "nan",
         "_deepnote_index_column": 25278
        },
        {
         "ADDRESS": "111 Willmott Drive",
         "SUBURB": "Cooloongup",
         "PRICE": 270000,
         "BEDROOMS": 3,
         "BATHROOMS": 1,
         "GARAGE": 1,
         "LAND_AREA": 681,
         "FLOOR_AREA": 90,
         "BUILD_YEAR": 1988,
         "CBD_DIST": 40100,
         "NEAREST_STN": "Rockingham Station",
         "NEAREST_STN_DIST": 1300,
         "DATE_SOLD": "2018-01-01T00:00:00.000000",
         "POSTCODE": 6168,
         "LATITUDE": -32.3019,
         "LONGITUDE": 115.75776,
         "NEAREST_SCH": "SOUTH COAST BAPTIST COLLEGE",
         "NEAREST_SCH_DIST": 1.4973082247652618,
         "NEAREST_SCH_RANK": "nan",
         "_deepnote_index_column": 2958
        },
        {
         "ADDRESS": "12 Moreto Turn",
         "SUBURB": "Caversham",
         "PRICE": 502500,
         "BEDROOMS": 4,
         "BATHROOMS": 2,
         "GARAGE": 2,
         "LAND_AREA": 474,
         "FLOOR_AREA": 189,
         "BUILD_YEAR": "nan",
         "CBD_DIST": 14300,
         "NEAREST_STN": "Guildford Station",
         "NEAREST_STN_DIST": 3800,
         "DATE_SOLD": "2018-01-01T00:00:00.000000",
         "POSTCODE": 6055,
         "LATITUDE": -31.86401386,
         "LONGITUDE": 115.9697493,
         "NEAREST_SCH": "GOVERNOR STIRLING SENIOR HIGH SCHOOL",
         "NEAREST_SCH_DIST": 3.3054094426960896,
         "NEAREST_SCH_RANK": 130,
         "_deepnote_index_column": 3799
        },
        {
         "ADDRESS": "6 Finchley Rise",
         "SUBURB": "Mount Claremont",
         "PRICE": 1780000,
         "BEDROOMS": 4,
         "BATHROOMS": 2,
         "GARAGE": 2,
         "LAND_AREA": 916,
         "FLOOR_AREA": 263,
         "BUILD_YEAR": 1991,
         "CBD_DIST": 7500,
         "NEAREST_STN": "Claremont Station",
         "NEAREST_STN_DIST": 1900,
         "DATE_SOLD": "2018-01-01T00:00:00.000000",
         "POSTCODE": 6010,
         "LATITUDE": -31.96374,
         "LONGITUDE": 115.78073,
         "NEAREST_SCH": "JOHN XXIII COLLEGE",
         "NEAREST_SCH_DIST": 0.5727734654777153,
         "NEAREST_SCH_RANK": 8,
         "_deepnote_index_column": 26804
        },
        {
         "ADDRESS": "32a Talbot Road",
         "SUBURB": "Swan View",
         "PRICE": 428000,
         "BEDROOMS": 3,
         "BATHROOMS": 2,
         "GARAGE": "nan",
         "LAND_AREA": 850,
         "FLOOR_AREA": 152,
         "BUILD_YEAR": 2010,
         "CBD_DIST": 19900,
         "NEAREST_STN": "Midland Station",
         "NEAREST_STN_DIST": 5000,
         "DATE_SOLD": "2018-01-01T00:00:00.000000",
         "POSTCODE": 6056,
         "LATITUDE": -31.88291153,
         "LONGITUDE": 116.0530543,
         "NEAREST_SCH": "SWAN VIEW SENIOR HIGH SCHOOL",
         "NEAREST_SCH_DIST": 0.9677361932259728,
         "NEAREST_SCH_RANK": "nan",
         "_deepnote_index_column": 18415
        },
        {
         "ADDRESS": "5 Raby Court",
         "SUBURB": "Cooloongup",
         "PRICE": 240000,
         "BEDROOMS": 3,
         "BATHROOMS": 1,
         "GARAGE": 1,
         "LAND_AREA": 688,
         "FLOOR_AREA": 127,
         "BUILD_YEAR": 1980,
         "CBD_DIST": 40300,
         "NEAREST_STN": "Rockingham Station",
         "NEAREST_STN_DIST": 1600,
         "DATE_SOLD": "2018-01-01T00:00:00.000000",
         "POSTCODE": 6168,
         "LATITUDE": -32.30278,
         "LONGITUDE": 115.75244,
         "NEAREST_SCH": "SAFETY BAY SENIOR HIGH SCHOOL",
         "NEAREST_SCH_DIST": 1.080376409281136,
         "NEAREST_SCH_RANK": 136,
         "_deepnote_index_column": 24541
        },
        {
         "ADDRESS": "1 Elvire Street",
         "SUBURB": "Midland",
         "PRICE": 349000,
         "BEDROOMS": 2,
         "BATHROOMS": 1,
         "GARAGE": "nan",
         "LAND_AREA": 927,
         "FLOOR_AREA": 106,
         "BUILD_YEAR": 1930,
         "CBD_DIST": 15300,
         "NEAREST_STN": "Midland Station",
         "NEAREST_STN_DIST": 633,
         "DATE_SOLD": "2018-01-01T00:00:00.000000",
         "POSTCODE": 6056,
         "LATITUDE": -31.88588,
         "LONGITUDE": 116.00078,
         "NEAREST_SCH": "LA SALLE COLLEGE",
         "NEAREST_SCH_DIST": 0.8824765111293752,
         "NEAREST_SCH_RANK": 53,
         "_deepnote_index_column": 151
        },
        {
         "ADDRESS": "31 Ellesmere Road",
         "SUBURB": "Swan View",
         "PRICE": 347000,
         "BEDROOMS": 3,
         "BATHROOMS": 1,
         "GARAGE": 1,
         "LAND_AREA": 696,
         "FLOOR_AREA": 110,
         "BUILD_YEAR": 1975,
         "CBD_DIST": 19200,
         "NEAREST_STN": "Midland Station",
         "NEAREST_STN_DIST": 4300,
         "DATE_SOLD": "2018-01-01T00:00:00.000000",
         "POSTCODE": 6056,
         "LATITUDE": -31.88456,
         "LONGITUDE": 116.04559,
         "NEAREST_SCH": "SWAN VIEW SENIOR HIGH SCHOOL",
         "NEAREST_SCH_DIST": 0.3457474874680662,
         "NEAREST_SCH_RANK": "nan",
         "_deepnote_index_column": 17797
        },
        {
         "ADDRESS": "479b Bickley Road",
         "SUBURB": "Kenwick",
         "PRICE": 340000,
         "BEDROOMS": 4,
         "BATHROOMS": 2,
         "GARAGE": 2,
         "LAND_AREA": 367,
         "FLOOR_AREA": 132,
         "BUILD_YEAR": 2011,
         "CBD_DIST": 15400,
         "NEAREST_STN": "Madding",
         "NEAREST_STN_DIST": 2200,
         "DATE_SOLD": "2018-01-01T00:00:00.000000",
         "POSTCODE": 6107,
         "LATITUDE": -32.03181886,
         "LONGITUDE": 115.9927158,
         "NEAREST_SCH": "REHOBOTH CHRISTIAN COLLEGE",
         "NEAREST_SCH_DIST": 1.3949786484338875,
         "NEAREST_SCH_RANK": "nan",
         "_deepnote_index_column": 23391
        },
        {
         "ADDRESS": "151 Harpenden Street",
         "SUBURB": "Huntingdale",
         "PRICE": 490000,
         "BEDROOMS": 4,
         "BATHROOMS": 2,
         "GARAGE": 2,
         "LAND_AREA": 590,
         "FLOOR_AREA": 250,
         "BUILD_YEAR": 2006,
         "CBD_DIST": 17400,
         "NEAREST_STN": "Thornlie Station",
         "NEAREST_STN_DIST": 4100,
         "DATE_SOLD": "2018-01-01T00:00:00.000000",
         "POSTCODE": 6110,
         "LATITUDE": -32.083909,
         "LONGITUDE": 115.957877,
         "NEAREST_SCH": "THORNLIE SENIOR HIGH SCHOOL",
         "NEAREST_SCH_DIST": 1.968325274956543,
         "NEAREST_SCH_RANK": 125,
         "_deepnote_index_column": 6773
        }
       ]
      },
      "text/plain": "                   ADDRESS           SUBURB    PRICE  BEDROOMS  BATHROOMS  \\\n25278       52 Graham Road  Gooseberry Hill   855000         3          2   \n2958    111 Willmott Drive       Cooloongup   270000         3          1   \n3799        12 Moreto Turn        Caversham   502500         4          2   \n26804      6 Finchley Rise  Mount Claremont  1780000         4          2   \n18415      32a Talbot Road        Swan View   428000         3          2   \n...                    ...              ...      ...       ...        ...   \n8077      17 Hawkes Street       Coolbellup   500000         3          1   \n2274     11 Eddington Road          Warwick   695000         4          2   \n5789    14/314 Wright Road     Piara Waters   360000         3          2   \n8127       17 Kalli Street       Golden Bay   315000         3          2   \n6558   15 Pine Valley Pass         Connolly   995000         4          1   \n\n       GARAGE  LAND_AREA  FLOOR_AREA  BUILD_YEAR  CBD_DIST  \\\n25278     2.0       2148         192      1976.0     18300   \n2958      1.0        681          90      1988.0     40100   \n3799      2.0        474         189         NaN     14300   \n26804     2.0        916         263      1991.0      7500   \n18415     NaN        850         152      2010.0     19900   \n...       ...        ...         ...         ...       ...   \n8077      NaN        728         112      1964.0     15200   \n2274      2.0        509         174      2000.0     13300   \n5789      2.0        161         113      2013.0     19900   \n8127      2.0        299         132      2012.0     53100   \n6558      NaN        630         264         NaN     25300   \n\n                    NEAREST_STN  NEAREST_STN_DIST  DATE_SOLD  POSTCODE  \\\n25278           Midland Station              7400 2018-01-01      6076   \n2958         Rockingham Station              1300 2018-01-01      6168   \n3799          Guildford Station              3800 2018-01-01      6055   \n26804         Claremont Station              1900 2018-01-01      6010   \n18415           Midland Station              5000 2018-01-01      6056   \n...                         ...               ...        ...       ...   \n8077            Murdoch Station              5100 2020-12-01      6163   \n2274            Warwick Station              1400 2020-12-01      6024   \n5789   Cockburn Central Station              6400 2020-12-01      6112   \n8127            Warnbro Station             10600 2020-12-01      6174   \n6558          Joondalup Station              1800 2020-12-01      6027   \n\n        LATITUDE   LONGITUDE                           NEAREST_SCH  \\\n25278 -31.942012  116.051851            TREETOPS MONTESSORI SCHOOL   \n2958  -32.301900  115.757760           SOUTH COAST BAPTIST COLLEGE   \n3799  -31.864014  115.969749  GOVERNOR STIRLING SENIOR HIGH SCHOOL   \n26804 -31.963740  115.780730                    JOHN XXIII COLLEGE   \n18415 -31.882912  116.053054          SWAN VIEW SENIOR HIGH SCHOOL   \n...          ...         ...                                   ...   \n8077  -32.078860  115.798370                SETON CATHOLIC COLLEGE   \n2274  -31.839880  115.810180            WARWICK SENIOR HIGH SCHOOL   \n5789  -32.123387  115.924370                 CAREY BAPTIST COLLEGE   \n8127  -32.421870  115.759530                     COMET BAY COLLEGE   \n6558  -31.745540  115.748710          PRENDIVILLE CATHOLIC COLLEGE   \n\n       NEAREST_SCH_DIST  NEAREST_SCH_RANK  \n25278          3.231840               NaN  \n2958           1.497308               NaN  \n3799           3.305409             130.0  \n26804          0.572773               8.0  \n18415          0.967736               NaN  \n...                 ...               ...  \n8077           0.831985              91.0  \n2274           0.513788               NaN  \n5789           1.681970              62.0  \n8127           0.749121              35.0  \n6558           1.327831              60.0  \n\n[16167 rows x 19 columns]",
      "text/html": "<div>\n<style scoped>\n    .dataframe tbody tr th:only-of-type {\n        vertical-align: middle;\n    }\n\n    .dataframe tbody tr th {\n        vertical-align: top;\n    }\n\n    .dataframe thead th {\n        text-align: right;\n    }\n</style>\n<table border=\"1\" class=\"dataframe\">\n  <thead>\n    <tr style=\"text-align: right;\">\n      <th></th>\n      <th>ADDRESS</th>\n      <th>SUBURB</th>\n      <th>PRICE</th>\n      <th>BEDROOMS</th>\n      <th>BATHROOMS</th>\n      <th>GARAGE</th>\n      <th>LAND_AREA</th>\n      <th>FLOOR_AREA</th>\n      <th>BUILD_YEAR</th>\n      <th>CBD_DIST</th>\n      <th>NEAREST_STN</th>\n      <th>NEAREST_STN_DIST</th>\n      <th>DATE_SOLD</th>\n      <th>POSTCODE</th>\n      <th>LATITUDE</th>\n      <th>LONGITUDE</th>\n      <th>NEAREST_SCH</th>\n      <th>NEAREST_SCH_DIST</th>\n      <th>NEAREST_SCH_RANK</th>\n    </tr>\n  </thead>\n  <tbody>\n    <tr>\n      <th>25278</th>\n      <td>52 Graham Road</td>\n      <td>Gooseberry Hill</td>\n      <td>855000</td>\n      <td>3</td>\n      <td>2</td>\n      <td>2.0</td>\n      <td>2148</td>\n      <td>192</td>\n      <td>1976.0</td>\n      <td>18300</td>\n      <td>Midland Station</td>\n      <td>7400</td>\n      <td>2018-01-01</td>\n      <td>6076</td>\n      <td>-31.942012</td>\n      <td>116.051851</td>\n      <td>TREETOPS MONTESSORI SCHOOL</td>\n      <td>3.231840</td>\n      <td>NaN</td>\n    </tr>\n    <tr>\n      <th>2958</th>\n      <td>111 Willmott Drive</td>\n      <td>Cooloongup</td>\n      <td>270000</td>\n      <td>3</td>\n      <td>1</td>\n      <td>1.0</td>\n      <td>681</td>\n      <td>90</td>\n      <td>1988.0</td>\n      <td>40100</td>\n      <td>Rockingham Station</td>\n      <td>1300</td>\n      <td>2018-01-01</td>\n      <td>6168</td>\n      <td>-32.301900</td>\n      <td>115.757760</td>\n      <td>SOUTH COAST BAPTIST COLLEGE</td>\n      <td>1.497308</td>\n      <td>NaN</td>\n    </tr>\n    <tr>\n      <th>3799</th>\n      <td>12 Moreto Turn</td>\n      <td>Caversham</td>\n      <td>502500</td>\n      <td>4</td>\n      <td>2</td>\n      <td>2.0</td>\n      <td>474</td>\n      <td>189</td>\n      <td>NaN</td>\n      <td>14300</td>\n      <td>Guildford Station</td>\n      <td>3800</td>\n      <td>2018-01-01</td>\n      <td>6055</td>\n      <td>-31.864014</td>\n      <td>115.969749</td>\n      <td>GOVERNOR STIRLING SENIOR HIGH SCHOOL</td>\n      <td>3.305409</td>\n      <td>130.0</td>\n    </tr>\n    <tr>\n      <th>26804</th>\n      <td>6 Finchley Rise</td>\n      <td>Mount Claremont</td>\n      <td>1780000</td>\n      <td>4</td>\n      <td>2</td>\n      <td>2.0</td>\n      <td>916</td>\n      <td>263</td>\n      <td>1991.0</td>\n      <td>7500</td>\n      <td>Claremont Station</td>\n      <td>1900</td>\n      <td>2018-01-01</td>\n      <td>6010</td>\n      <td>-31.963740</td>\n      <td>115.780730</td>\n      <td>JOHN XXIII COLLEGE</td>\n      <td>0.572773</td>\n      <td>8.0</td>\n    </tr>\n    <tr>\n      <th>18415</th>\n      <td>32a Talbot Road</td>\n      <td>Swan View</td>\n      <td>428000</td>\n      <td>3</td>\n      <td>2</td>\n      <td>NaN</td>\n      <td>850</td>\n      <td>152</td>\n      <td>2010.0</td>\n      <td>19900</td>\n      <td>Midland Station</td>\n      <td>5000</td>\n      <td>2018-01-01</td>\n      <td>6056</td>\n      <td>-31.882912</td>\n      <td>116.053054</td>\n      <td>SWAN VIEW SENIOR HIGH SCHOOL</td>\n      <td>0.967736</td>\n      <td>NaN</td>\n    </tr>\n    <tr>\n      <th>...</th>\n      <td>...</td>\n      <td>...</td>\n      <td>...</td>\n      <td>...</td>\n      <td>...</td>\n      <td>...</td>\n      <td>...</td>\n      <td>...</td>\n      <td>...</td>\n      <td>...</td>\n      <td>...</td>\n      <td>...</td>\n      <td>...</td>\n      <td>...</td>\n      <td>...</td>\n      <td>...</td>\n      <td>...</td>\n      <td>...</td>\n      <td>...</td>\n    </tr>\n    <tr>\n      <th>8077</th>\n      <td>17 Hawkes Street</td>\n      <td>Coolbellup</td>\n      <td>500000</td>\n      <td>3</td>\n      <td>1</td>\n      <td>NaN</td>\n      <td>728</td>\n      <td>112</td>\n      <td>1964.0</td>\n      <td>15200</td>\n      <td>Murdoch Station</td>\n      <td>5100</td>\n      <td>2020-12-01</td>\n      <td>6163</td>\n      <td>-32.078860</td>\n      <td>115.798370</td>\n      <td>SETON CATHOLIC COLLEGE</td>\n      <td>0.831985</td>\n      <td>91.0</td>\n    </tr>\n    <tr>\n      <th>2274</th>\n      <td>11 Eddington Road</td>\n      <td>Warwick</td>\n      <td>695000</td>\n      <td>4</td>\n      <td>2</td>\n      <td>2.0</td>\n      <td>509</td>\n      <td>174</td>\n      <td>2000.0</td>\n      <td>13300</td>\n      <td>Warwick Station</td>\n      <td>1400</td>\n      <td>2020-12-01</td>\n      <td>6024</td>\n      <td>-31.839880</td>\n      <td>115.810180</td>\n      <td>WARWICK SENIOR HIGH SCHOOL</td>\n      <td>0.513788</td>\n      <td>NaN</td>\n    </tr>\n    <tr>\n      <th>5789</th>\n      <td>14/314 Wright Road</td>\n      <td>Piara Waters</td>\n      <td>360000</td>\n      <td>3</td>\n      <td>2</td>\n      <td>2.0</td>\n      <td>161</td>\n      <td>113</td>\n      <td>2013.0</td>\n      <td>19900</td>\n      <td>Cockburn Central Station</td>\n      <td>6400</td>\n      <td>2020-12-01</td>\n      <td>6112</td>\n      <td>-32.123387</td>\n      <td>115.924370</td>\n      <td>CAREY BAPTIST COLLEGE</td>\n      <td>1.681970</td>\n      <td>62.0</td>\n    </tr>\n    <tr>\n      <th>8127</th>\n      <td>17 Kalli Street</td>\n      <td>Golden Bay</td>\n      <td>315000</td>\n      <td>3</td>\n      <td>2</td>\n      <td>2.0</td>\n      <td>299</td>\n      <td>132</td>\n      <td>2012.0</td>\n      <td>53100</td>\n      <td>Warnbro Station</td>\n      <td>10600</td>\n      <td>2020-12-01</td>\n      <td>6174</td>\n      <td>-32.421870</td>\n      <td>115.759530</td>\n      <td>COMET BAY COLLEGE</td>\n      <td>0.749121</td>\n      <td>35.0</td>\n    </tr>\n    <tr>\n      <th>6558</th>\n      <td>15 Pine Valley Pass</td>\n      <td>Connolly</td>\n      <td>995000</td>\n      <td>4</td>\n      <td>1</td>\n      <td>NaN</td>\n      <td>630</td>\n      <td>264</td>\n      <td>NaN</td>\n      <td>25300</td>\n      <td>Joondalup Station</td>\n      <td>1800</td>\n      <td>2020-12-01</td>\n      <td>6027</td>\n      <td>-31.745540</td>\n      <td>115.748710</td>\n      <td>PRENDIVILLE CATHOLIC COLLEGE</td>\n      <td>1.327831</td>\n      <td>60.0</td>\n    </tr>\n  </tbody>\n</table>\n<p>16167 rows × 19 columns</p>\n</div>"
     },
     "metadata": {}
    }
   ],
   "execution_count": null
  },
  {
   "cell_type": "code",
   "metadata": {
    "cell_id": "7d317080-7619-47cc-b5d9-ce316ee8c8ce",
    "tags": [],
    "deepnote_to_be_reexecuted": false,
    "source_hash": "de635d4d",
    "execution_start": 1646967934639,
    "execution_millis": 302,
    "deepnote_cell_type": "code",
    "deepnote_cell_height": 598
   },
   "source": "perth",
   "outputs": [
    {
     "output_type": "execute_result",
     "execution_count": 4,
     "data": {
      "application/vnd.deepnote.dataframe.v3+json": {
       "column_count": 19,
       "row_count": 33656,
       "columns": [
        {
         "name": "ADDRESS",
         "dtype": "object",
         "stats": {
          "unique_count": 33566,
          "nan_count": 0,
          "categories": [
           {
            "name": "123 Fairway",
            "count": 3
           },
           {
            "name": "1 Gray Road",
            "count": 2
           },
           {
            "name": "33564 others",
            "count": 33651
           }
          ]
         }
        },
        {
         "name": "SUBURB",
         "dtype": "object",
         "stats": {
          "unique_count": 321,
          "nan_count": 0,
          "categories": [
           {
            "name": "Bertram",
            "count": 231
           },
           {
            "name": "Iluka",
            "count": 212
           },
           {
            "name": "319 others",
            "count": 33213
           }
          ]
         }
        },
        {
         "name": "PRICE",
         "dtype": "int64"
        },
        {
         "name": "BEDROOMS",
         "dtype": "int64"
        },
        {
         "name": "BATHROOMS",
         "dtype": "int64"
        },
        {
         "name": "GARAGE",
         "dtype": "float64"
        },
        {
         "name": "LAND_AREA",
         "dtype": "int64"
        },
        {
         "name": "FLOOR_AREA",
         "dtype": "int64"
        },
        {
         "name": "BUILD_YEAR",
         "dtype": "float64"
        },
        {
         "name": "CBD_DIST",
         "dtype": "int64"
        },
        {
         "name": "NEAREST_STN",
         "dtype": "object"
        },
        {
         "name": "NEAREST_STN_DIST",
         "dtype": "int64"
        },
        {
         "name": "DATE_SOLD",
         "dtype": "datetime64[ns]"
        },
        {
         "name": "POSTCODE",
         "dtype": "int64"
        },
        {
         "name": "LATITUDE",
         "dtype": "float64"
        },
        {
         "name": "LONGITUDE",
         "dtype": "float64"
        },
        {
         "name": "NEAREST_SCH",
         "dtype": "object"
        },
        {
         "name": "NEAREST_SCH_DIST",
         "dtype": "float64"
        },
        {
         "name": "NEAREST_SCH_RANK",
         "dtype": "float64"
        },
        {
         "name": "_deepnote_index_column",
         "dtype": "int64"
        }
       ],
       "rows": [
        {
         "ADDRESS": "1 Acorn Place",
         "SUBURB": "South Lake",
         "PRICE": 565000,
         "BEDROOMS": 4,
         "BATHROOMS": 2,
         "GARAGE": 2,
         "LAND_AREA": 600,
         "FLOOR_AREA": 160,
         "BUILD_YEAR": 2003,
         "CBD_DIST": 18300,
         "NEAREST_STN": "Cockburn Central Station",
         "NEAREST_STN_DIST": 1800,
         "DATE_SOLD": "2018-09-01T00:00:00.000000",
         "POSTCODE": 6164,
         "LATITUDE": -32.1159,
         "LONGITUDE": 115.84245,
         "NEAREST_SCH": "LAKELAND SENIOR HIGH SCHOOL",
         "NEAREST_SCH_DIST": 0.8283385518162787,
         "NEAREST_SCH_RANK": "nan",
         "_deepnote_index_column": 0
        },
        {
         "ADDRESS": "1 Addis Way",
         "SUBURB": "Wandi",
         "PRICE": 365000,
         "BEDROOMS": 3,
         "BATHROOMS": 2,
         "GARAGE": 2,
         "LAND_AREA": 351,
         "FLOOR_AREA": 139,
         "BUILD_YEAR": 2013,
         "CBD_DIST": 26900,
         "NEAREST_STN": "Kwinana Station",
         "NEAREST_STN_DIST": 4900,
         "DATE_SOLD": "2019-02-01T00:00:00.000000",
         "POSTCODE": 6167,
         "LATITUDE": -32.19347028,
         "LONGITUDE": 115.8595535,
         "NEAREST_SCH": "ATWELL COLLEGE",
         "NEAREST_SCH_DIST": 5.524324354371822,
         "NEAREST_SCH_RANK": 129,
         "_deepnote_index_column": 1
        },
        {
         "ADDRESS": "1 Ainsley Court",
         "SUBURB": "Camillo",
         "PRICE": 287000,
         "BEDROOMS": 3,
         "BATHROOMS": 1,
         "GARAGE": 1,
         "LAND_AREA": 719,
         "FLOOR_AREA": 86,
         "BUILD_YEAR": 1979,
         "CBD_DIST": 22600,
         "NEAREST_STN": "Challis Station",
         "NEAREST_STN_DIST": 1900,
         "DATE_SOLD": "2015-06-01T00:00:00.000000",
         "POSTCODE": 6111,
         "LATITUDE": -32.12057813,
         "LONGITUDE": 115.993579,
         "NEAREST_SCH": "KELMSCOTT SENIOR HIGH SCHOOL",
         "NEAREST_SCH_DIST": 1.649178183366986,
         "NEAREST_SCH_RANK": 113,
         "_deepnote_index_column": 2
        },
        {
         "ADDRESS": "1 Albert Street",
         "SUBURB": "Bellevue",
         "PRICE": 255000,
         "BEDROOMS": 2,
         "BATHROOMS": 1,
         "GARAGE": 2,
         "LAND_AREA": 651,
         "FLOOR_AREA": 59,
         "BUILD_YEAR": 1953,
         "CBD_DIST": 17900,
         "NEAREST_STN": "Midland Station",
         "NEAREST_STN_DIST": 3600,
         "DATE_SOLD": "2018-07-01T00:00:00.000000",
         "POSTCODE": 6056,
         "LATITUDE": -31.90054675,
         "LONGITUDE": 116.0380088,
         "NEAREST_SCH": "SWAN VIEW SENIOR HIGH SCHOOL",
         "NEAREST_SCH_DIST": 1.5714009366124688,
         "NEAREST_SCH_RANK": "nan",
         "_deepnote_index_column": 3
        },
        {
         "ADDRESS": "1 Aman Place",
         "SUBURB": "Lockridge",
         "PRICE": 325000,
         "BEDROOMS": 4,
         "BATHROOMS": 1,
         "GARAGE": 2,
         "LAND_AREA": 466,
         "FLOOR_AREA": 131,
         "BUILD_YEAR": 1998,
         "CBD_DIST": 11200,
         "NEAREST_STN": "Bassendean Station",
         "NEAREST_STN_DIST": 2000,
         "DATE_SOLD": "2016-11-01T00:00:00.000000",
         "POSTCODE": 6054,
         "LATITUDE": -31.88579,
         "LONGITUDE": 115.94778,
         "NEAREST_SCH": "KIARA COLLEGE",
         "NEAREST_SCH_DIST": 1.5149216294528034,
         "NEAREST_SCH_RANK": "nan",
         "_deepnote_index_column": 4
        },
        {
         "ADDRESS": "1 Amethyst Crescent",
         "SUBURB": "Mount Richon",
         "PRICE": 409000,
         "BEDROOMS": 4,
         "BATHROOMS": 2,
         "GARAGE": 1,
         "LAND_AREA": 759,
         "FLOOR_AREA": 118,
         "BUILD_YEAR": 1991,
         "CBD_DIST": 27300,
         "NEAREST_STN": "Armadale Station",
         "NEAREST_STN_DIST": 1000,
         "DATE_SOLD": "2013-03-01T00:00:00.000000",
         "POSTCODE": 6112,
         "LATITUDE": -32.1538014,
         "LONGITUDE": 116.0236578,
         "NEAREST_SCH": "ARMADALE SENIOR HIGH SCHOOL",
         "NEAREST_SCH_DIST": 1.227219194399204,
         "NEAREST_SCH_RANK": "nan",
         "_deepnote_index_column": 5
        },
        {
         "ADDRESS": "1 Ardara Lane",
         "SUBURB": "Hilbert",
         "PRICE": 400000,
         "BEDROOMS": 3,
         "BATHROOMS": 2,
         "GARAGE": 2,
         "LAND_AREA": 386,
         "FLOOR_AREA": 132,
         "BUILD_YEAR": 2014,
         "CBD_DIST": 28200,
         "NEAREST_STN": "Armadale Station",
         "NEAREST_STN_DIST": 3700,
         "DATE_SOLD": "2016-05-01T00:00:00.000000",
         "POSTCODE": 6112,
         "LATITUDE": -32.17997786,
         "LONGITUDE": 115.9886473,
         "NEAREST_SCH": "DALE CHRISTIAN SCHOOL",
         "NEAREST_SCH_DIST": 2.485730857063224,
         "NEAREST_SCH_RANK": "nan",
         "_deepnote_index_column": 6
        },
        {
         "ADDRESS": "1 Arnside Bend",
         "SUBURB": "Waikiki",
         "PRICE": 370000,
         "BEDROOMS": 4,
         "BATHROOMS": 2,
         "GARAGE": 2,
         "LAND_AREA": 468,
         "FLOOR_AREA": 158,
         "BUILD_YEAR": 2013,
         "CBD_DIST": 41700,
         "NEAREST_STN": "Warnbro Station",
         "NEAREST_STN_DIST": 1100,
         "DATE_SOLD": "2019-03-01T00:00:00.000000",
         "POSTCODE": 6169,
         "LATITUDE": -32.31766224,
         "LONGITUDE": 115.7619682,
         "NEAREST_SCH": "SOUTH COAST BAPTIST COLLEGE",
         "NEAREST_SCH_DIST": 0.4915731383363828,
         "NEAREST_SCH_RANK": "nan",
         "_deepnote_index_column": 7
        },
        {
         "ADDRESS": "1 Arrochar Court",
         "SUBURB": "Hamersley",
         "PRICE": 565000,
         "BEDROOMS": 4,
         "BATHROOMS": 2,
         "GARAGE": 3,
         "LAND_AREA": 875,
         "FLOOR_AREA": 168,
         "BUILD_YEAR": 1983,
         "CBD_DIST": 12100,
         "NEAREST_STN": "Warwick Station",
         "NEAREST_STN_DIST": 2500,
         "DATE_SOLD": "2020-06-01T00:00:00.000000",
         "POSTCODE": 6022,
         "LATITUDE": -31.84775987,
         "LONGITUDE": 115.8227005,
         "NEAREST_SCH": "WARWICK SENIOR HIGH SCHOOL",
         "NEAREST_SCH_DIST": 1.2219275931111655,
         "NEAREST_SCH_RANK": "nan",
         "_deepnote_index_column": 8
        },
        {
         "ADDRESS": "1 Arundel Street",
         "SUBURB": "Bayswater",
         "PRICE": 685000,
         "BEDROOMS": 3,
         "BATHROOMS": 2,
         "GARAGE": 8,
         "LAND_AREA": 552,
         "FLOOR_AREA": 126,
         "BUILD_YEAR": 1999,
         "CBD_DIST": 5900,
         "NEAREST_STN": "Bayswater Station",
         "NEAREST_STN_DIST": 508,
         "DATE_SOLD": "2019-10-01T00:00:00.000000",
         "POSTCODE": 6053,
         "LATITUDE": -31.91788,
         "LONGITUDE": 115.90705,
         "NEAREST_SCH": "CHISHOLM CATHOLIC COLLEGE",
         "NEAREST_SCH_DIST": 0.936243264888652,
         "NEAREST_SCH_RANK": 29,
         "_deepnote_index_column": 9
        }
       ]
      },
      "text/plain": "                  ADDRESS           SUBURB    PRICE  BEDROOMS  BATHROOMS  \\\n0           1 Acorn Place       South Lake   565000         4          2   \n1             1 Addis Way            Wandi   365000         3          2   \n2         1 Ainsley Court          Camillo   287000         3          1   \n3         1 Albert Street         Bellevue   255000         2          1   \n4            1 Aman Place        Lockridge   325000         4          1   \n...                   ...              ...      ...       ...        ...   \n33651      9C Gold Street  South Fremantle  1040000         4          3   \n33652      9C Pycombe Way      Westminster   410000         3          2   \n33653      9D Pycombe Way      Westminster   427000         3          2   \n33654     9D Shalford Way       Girrawheen   295000         3          1   \n33655  9E Margaret Street          Midland   295000         3          1   \n\n       GARAGE  LAND_AREA  FLOOR_AREA  BUILD_YEAR  CBD_DIST  \\\n0         2.0        600         160      2003.0     18300   \n1         2.0        351         139      2013.0     26900   \n2         1.0        719          86      1979.0     22600   \n3         2.0        651          59      1953.0     17900   \n4         2.0        466         131      1998.0     11200   \n...       ...        ...         ...         ...       ...   \n33651     2.0        292         245      2013.0     16100   \n33652     2.0        228         114         NaN      9600   \n33653     2.0        261         112         NaN      9600   \n33654     2.0        457          85      1974.0     12600   \n33655     2.0        296          95         NaN     16700   \n\n                    NEAREST_STN  NEAREST_STN_DIST  DATE_SOLD  POSTCODE  \\\n0      Cockburn Central Station              1800 2018-09-01      6164   \n1               Kwinana Station              4900 2019-02-01      6167   \n2               Challis Station              1900 2015-06-01      6111   \n3               Midland Station              3600 2018-07-01      6056   \n4            Bassendean Station              2000 2016-11-01      6054   \n...                         ...               ...        ...       ...   \n33651         Fremantle Station              1500 2016-03-01      6162   \n33652          Stirling Station              4600 2017-02-01      6061   \n33653          Stirling Station              4600 2017-02-01      6061   \n33654           Warwick Station              4400 2016-10-01      6064   \n33655           Midland Station              1700 2016-05-01      6056   \n\n        LATITUDE   LONGITUDE                                  NEAREST_SCH  \\\n0     -32.115900  115.842450                  LAKELAND SENIOR HIGH SCHOOL   \n1     -32.193470  115.859554                               ATWELL COLLEGE   \n2     -32.120578  115.993579                 KELMSCOTT SENIOR HIGH SCHOOL   \n3     -31.900547  116.038009                 SWAN VIEW SENIOR HIGH SCHOOL   \n4     -31.885790  115.947780                                KIARA COLLEGE   \n...          ...         ...                                          ...   \n33651 -32.064580  115.751820                  CHRISTIAN BROTHERS' COLLEGE   \n33652 -31.867055  115.841403  JOHN SEPTIMUS ROE ANGLICAN COMMUNITY SCHOOL   \n33653 -31.866890  115.841418  JOHN SEPTIMUS ROE ANGLICAN COMMUNITY SCHOOL   \n33654 -31.839680  115.842410                GIRRAWHEEN SENIOR HIGH SCHOOL   \n33655 -31.882163  116.014755                             LA SALLE COLLEGE   \n\n       NEAREST_SCH_DIST  NEAREST_SCH_RANK  \n0              0.828339               NaN  \n1              5.524324             129.0  \n2              1.649178             113.0  \n3              1.571401               NaN  \n4              1.514922               NaN  \n...                 ...               ...  \n33651          1.430350              49.0  \n33652          1.679644              35.0  \n33653          1.669159              35.0  \n33654          0.358494               NaN  \n33655          1.055564              53.0  \n\n[33656 rows x 19 columns]",
      "text/html": "<div>\n<style scoped>\n    .dataframe tbody tr th:only-of-type {\n        vertical-align: middle;\n    }\n\n    .dataframe tbody tr th {\n        vertical-align: top;\n    }\n\n    .dataframe thead th {\n        text-align: right;\n    }\n</style>\n<table border=\"1\" class=\"dataframe\">\n  <thead>\n    <tr style=\"text-align: right;\">\n      <th></th>\n      <th>ADDRESS</th>\n      <th>SUBURB</th>\n      <th>PRICE</th>\n      <th>BEDROOMS</th>\n      <th>BATHROOMS</th>\n      <th>GARAGE</th>\n      <th>LAND_AREA</th>\n      <th>FLOOR_AREA</th>\n      <th>BUILD_YEAR</th>\n      <th>CBD_DIST</th>\n      <th>NEAREST_STN</th>\n      <th>NEAREST_STN_DIST</th>\n      <th>DATE_SOLD</th>\n      <th>POSTCODE</th>\n      <th>LATITUDE</th>\n      <th>LONGITUDE</th>\n      <th>NEAREST_SCH</th>\n      <th>NEAREST_SCH_DIST</th>\n      <th>NEAREST_SCH_RANK</th>\n    </tr>\n  </thead>\n  <tbody>\n    <tr>\n      <th>0</th>\n      <td>1 Acorn Place</td>\n      <td>South Lake</td>\n      <td>565000</td>\n      <td>4</td>\n      <td>2</td>\n      <td>2.0</td>\n      <td>600</td>\n      <td>160</td>\n      <td>2003.0</td>\n      <td>18300</td>\n      <td>Cockburn Central Station</td>\n      <td>1800</td>\n      <td>2018-09-01</td>\n      <td>6164</td>\n      <td>-32.115900</td>\n      <td>115.842450</td>\n      <td>LAKELAND SENIOR HIGH SCHOOL</td>\n      <td>0.828339</td>\n      <td>NaN</td>\n    </tr>\n    <tr>\n      <th>1</th>\n      <td>1 Addis Way</td>\n      <td>Wandi</td>\n      <td>365000</td>\n      <td>3</td>\n      <td>2</td>\n      <td>2.0</td>\n      <td>351</td>\n      <td>139</td>\n      <td>2013.0</td>\n      <td>26900</td>\n      <td>Kwinana Station</td>\n      <td>4900</td>\n      <td>2019-02-01</td>\n      <td>6167</td>\n      <td>-32.193470</td>\n      <td>115.859554</td>\n      <td>ATWELL COLLEGE</td>\n      <td>5.524324</td>\n      <td>129.0</td>\n    </tr>\n    <tr>\n      <th>2</th>\n      <td>1 Ainsley Court</td>\n      <td>Camillo</td>\n      <td>287000</td>\n      <td>3</td>\n      <td>1</td>\n      <td>1.0</td>\n      <td>719</td>\n      <td>86</td>\n      <td>1979.0</td>\n      <td>22600</td>\n      <td>Challis Station</td>\n      <td>1900</td>\n      <td>2015-06-01</td>\n      <td>6111</td>\n      <td>-32.120578</td>\n      <td>115.993579</td>\n      <td>KELMSCOTT SENIOR HIGH SCHOOL</td>\n      <td>1.649178</td>\n      <td>113.0</td>\n    </tr>\n    <tr>\n      <th>3</th>\n      <td>1 Albert Street</td>\n      <td>Bellevue</td>\n      <td>255000</td>\n      <td>2</td>\n      <td>1</td>\n      <td>2.0</td>\n      <td>651</td>\n      <td>59</td>\n      <td>1953.0</td>\n      <td>17900</td>\n      <td>Midland Station</td>\n      <td>3600</td>\n      <td>2018-07-01</td>\n      <td>6056</td>\n      <td>-31.900547</td>\n      <td>116.038009</td>\n      <td>SWAN VIEW SENIOR HIGH SCHOOL</td>\n      <td>1.571401</td>\n      <td>NaN</td>\n    </tr>\n    <tr>\n      <th>4</th>\n      <td>1 Aman Place</td>\n      <td>Lockridge</td>\n      <td>325000</td>\n      <td>4</td>\n      <td>1</td>\n      <td>2.0</td>\n      <td>466</td>\n      <td>131</td>\n      <td>1998.0</td>\n      <td>11200</td>\n      <td>Bassendean Station</td>\n      <td>2000</td>\n      <td>2016-11-01</td>\n      <td>6054</td>\n      <td>-31.885790</td>\n      <td>115.947780</td>\n      <td>KIARA COLLEGE</td>\n      <td>1.514922</td>\n      <td>NaN</td>\n    </tr>\n    <tr>\n      <th>...</th>\n      <td>...</td>\n      <td>...</td>\n      <td>...</td>\n      <td>...</td>\n      <td>...</td>\n      <td>...</td>\n      <td>...</td>\n      <td>...</td>\n      <td>...</td>\n      <td>...</td>\n      <td>...</td>\n      <td>...</td>\n      <td>...</td>\n      <td>...</td>\n      <td>...</td>\n      <td>...</td>\n      <td>...</td>\n      <td>...</td>\n      <td>...</td>\n    </tr>\n    <tr>\n      <th>33651</th>\n      <td>9C Gold Street</td>\n      <td>South Fremantle</td>\n      <td>1040000</td>\n      <td>4</td>\n      <td>3</td>\n      <td>2.0</td>\n      <td>292</td>\n      <td>245</td>\n      <td>2013.0</td>\n      <td>16100</td>\n      <td>Fremantle Station</td>\n      <td>1500</td>\n      <td>2016-03-01</td>\n      <td>6162</td>\n      <td>-32.064580</td>\n      <td>115.751820</td>\n      <td>CHRISTIAN BROTHERS' COLLEGE</td>\n      <td>1.430350</td>\n      <td>49.0</td>\n    </tr>\n    <tr>\n      <th>33652</th>\n      <td>9C Pycombe Way</td>\n      <td>Westminster</td>\n      <td>410000</td>\n      <td>3</td>\n      <td>2</td>\n      <td>2.0</td>\n      <td>228</td>\n      <td>114</td>\n      <td>NaN</td>\n      <td>9600</td>\n      <td>Stirling Station</td>\n      <td>4600</td>\n      <td>2017-02-01</td>\n      <td>6061</td>\n      <td>-31.867055</td>\n      <td>115.841403</td>\n      <td>JOHN SEPTIMUS ROE ANGLICAN COMMUNITY SCHOOL</td>\n      <td>1.679644</td>\n      <td>35.0</td>\n    </tr>\n    <tr>\n      <th>33653</th>\n      <td>9D Pycombe Way</td>\n      <td>Westminster</td>\n      <td>427000</td>\n      <td>3</td>\n      <td>2</td>\n      <td>2.0</td>\n      <td>261</td>\n      <td>112</td>\n      <td>NaN</td>\n      <td>9600</td>\n      <td>Stirling Station</td>\n      <td>4600</td>\n      <td>2017-02-01</td>\n      <td>6061</td>\n      <td>-31.866890</td>\n      <td>115.841418</td>\n      <td>JOHN SEPTIMUS ROE ANGLICAN COMMUNITY SCHOOL</td>\n      <td>1.669159</td>\n      <td>35.0</td>\n    </tr>\n    <tr>\n      <th>33654</th>\n      <td>9D Shalford Way</td>\n      <td>Girrawheen</td>\n      <td>295000</td>\n      <td>3</td>\n      <td>1</td>\n      <td>2.0</td>\n      <td>457</td>\n      <td>85</td>\n      <td>1974.0</td>\n      <td>12600</td>\n      <td>Warwick Station</td>\n      <td>4400</td>\n      <td>2016-10-01</td>\n      <td>6064</td>\n      <td>-31.839680</td>\n      <td>115.842410</td>\n      <td>GIRRAWHEEN SENIOR HIGH SCHOOL</td>\n      <td>0.358494</td>\n      <td>NaN</td>\n    </tr>\n    <tr>\n      <th>33655</th>\n      <td>9E Margaret Street</td>\n      <td>Midland</td>\n      <td>295000</td>\n      <td>3</td>\n      <td>1</td>\n      <td>2.0</td>\n      <td>296</td>\n      <td>95</td>\n      <td>NaN</td>\n      <td>16700</td>\n      <td>Midland Station</td>\n      <td>1700</td>\n      <td>2016-05-01</td>\n      <td>6056</td>\n      <td>-31.882163</td>\n      <td>116.014755</td>\n      <td>LA SALLE COLLEGE</td>\n      <td>1.055564</td>\n      <td>53.0</td>\n    </tr>\n  </tbody>\n</table>\n<p>33656 rows × 19 columns</p>\n</div>"
     },
     "metadata": {}
    }
   ],
   "execution_count": null
  },
  {
   "cell_type": "code",
   "metadata": {
    "cell_id": "e7d9d8ed-a7c9-4ee7-b516-179e96ba3024",
    "tags": [],
    "deepnote_to_be_reexecuted": false,
    "source_hash": "2aec2bb2",
    "execution_start": 1646967934948,
    "execution_millis": 529,
    "deepnote_cell_type": "code",
    "deepnote_cell_height": 393
   },
   "source": "perth.head()",
   "outputs": [
    {
     "output_type": "execute_result",
     "execution_count": 5,
     "data": {
      "application/vnd.deepnote.dataframe.v3+json": {
       "column_count": 19,
       "row_count": 5,
       "columns": [
        {
         "name": "ADDRESS",
         "dtype": "object",
         "stats": {
          "unique_count": 5,
          "nan_count": 0,
          "categories": [
           {
            "name": "1 Acorn Place",
            "count": 1
           },
           {
            "name": "1 Addis Way",
            "count": 1
           },
           {
            "name": "3 others",
            "count": 3
           }
          ]
         }
        },
        {
         "name": "SUBURB",
         "dtype": "object",
         "stats": {
          "unique_count": 5,
          "nan_count": 0,
          "categories": [
           {
            "name": "South Lake",
            "count": 1
           },
           {
            "name": "Wandi",
            "count": 1
           },
           {
            "name": "3 others",
            "count": 3
           }
          ]
         }
        },
        {
         "name": "PRICE",
         "dtype": "int64",
         "stats": {
          "unique_count": 5,
          "nan_count": 0,
          "min": "255000",
          "max": "565000",
          "histogram": [
           {
            "bin_start": 255000,
            "bin_end": 286000,
            "count": 1
           },
           {
            "bin_start": 286000,
            "bin_end": 317000,
            "count": 1
           },
           {
            "bin_start": 317000,
            "bin_end": 348000,
            "count": 1
           },
           {
            "bin_start": 348000,
            "bin_end": 379000,
            "count": 1
           },
           {
            "bin_start": 379000,
            "bin_end": 410000,
            "count": 0
           },
           {
            "bin_start": 410000,
            "bin_end": 441000,
            "count": 0
           },
           {
            "bin_start": 441000,
            "bin_end": 472000,
            "count": 0
           },
           {
            "bin_start": 472000,
            "bin_end": 503000,
            "count": 0
           },
           {
            "bin_start": 503000,
            "bin_end": 534000,
            "count": 0
           },
           {
            "bin_start": 534000,
            "bin_end": 565000,
            "count": 1
           }
          ]
         }
        },
        {
         "name": "BEDROOMS",
         "dtype": "int64",
         "stats": {
          "unique_count": 3,
          "nan_count": 0,
          "min": "2",
          "max": "4",
          "histogram": [
           {
            "bin_start": 2,
            "bin_end": 2.2,
            "count": 1
           },
           {
            "bin_start": 2.2,
            "bin_end": 2.4,
            "count": 0
           },
           {
            "bin_start": 2.4,
            "bin_end": 2.6,
            "count": 0
           },
           {
            "bin_start": 2.6,
            "bin_end": 2.8,
            "count": 0
           },
           {
            "bin_start": 2.8,
            "bin_end": 3,
            "count": 0
           },
           {
            "bin_start": 3,
            "bin_end": 3.2,
            "count": 2
           },
           {
            "bin_start": 3.2,
            "bin_end": 3.4000000000000004,
            "count": 0
           },
           {
            "bin_start": 3.4000000000000004,
            "bin_end": 3.6,
            "count": 0
           },
           {
            "bin_start": 3.6,
            "bin_end": 3.8,
            "count": 0
           },
           {
            "bin_start": 3.8,
            "bin_end": 4,
            "count": 2
           }
          ]
         }
        },
        {
         "name": "BATHROOMS",
         "dtype": "int64",
         "stats": {
          "unique_count": 2,
          "nan_count": 0,
          "min": "1",
          "max": "2",
          "histogram": [
           {
            "bin_start": 1,
            "bin_end": 1.1,
            "count": 3
           },
           {
            "bin_start": 1.1,
            "bin_end": 1.2,
            "count": 0
           },
           {
            "bin_start": 1.2,
            "bin_end": 1.3,
            "count": 0
           },
           {
            "bin_start": 1.3,
            "bin_end": 1.4,
            "count": 0
           },
           {
            "bin_start": 1.4,
            "bin_end": 1.5,
            "count": 0
           },
           {
            "bin_start": 1.5,
            "bin_end": 1.6,
            "count": 0
           },
           {
            "bin_start": 1.6,
            "bin_end": 1.7000000000000002,
            "count": 0
           },
           {
            "bin_start": 1.7000000000000002,
            "bin_end": 1.8,
            "count": 0
           },
           {
            "bin_start": 1.8,
            "bin_end": 1.9,
            "count": 0
           },
           {
            "bin_start": 1.9,
            "bin_end": 2,
            "count": 2
           }
          ]
         }
        },
        {
         "name": "GARAGE",
         "dtype": "float64",
         "stats": {
          "unique_count": 2,
          "nan_count": 0,
          "min": "1.0",
          "max": "2.0",
          "histogram": [
           {
            "bin_start": 1,
            "bin_end": 1.1,
            "count": 1
           },
           {
            "bin_start": 1.1,
            "bin_end": 1.2,
            "count": 0
           },
           {
            "bin_start": 1.2,
            "bin_end": 1.3,
            "count": 0
           },
           {
            "bin_start": 1.3,
            "bin_end": 1.4,
            "count": 0
           },
           {
            "bin_start": 1.4,
            "bin_end": 1.5,
            "count": 0
           },
           {
            "bin_start": 1.5,
            "bin_end": 1.6,
            "count": 0
           },
           {
            "bin_start": 1.6,
            "bin_end": 1.7000000000000002,
            "count": 0
           },
           {
            "bin_start": 1.7000000000000002,
            "bin_end": 1.8,
            "count": 0
           },
           {
            "bin_start": 1.8,
            "bin_end": 1.9,
            "count": 0
           },
           {
            "bin_start": 1.9,
            "bin_end": 2,
            "count": 4
           }
          ]
         }
        },
        {
         "name": "LAND_AREA",
         "dtype": "int64",
         "stats": {
          "unique_count": 5,
          "nan_count": 0,
          "min": "351",
          "max": "719",
          "histogram": [
           {
            "bin_start": 351,
            "bin_end": 387.8,
            "count": 1
           },
           {
            "bin_start": 387.8,
            "bin_end": 424.6,
            "count": 0
           },
           {
            "bin_start": 424.6,
            "bin_end": 461.4,
            "count": 0
           },
           {
            "bin_start": 461.4,
            "bin_end": 498.2,
            "count": 1
           },
           {
            "bin_start": 498.2,
            "bin_end": 535,
            "count": 0
           },
           {
            "bin_start": 535,
            "bin_end": 571.8,
            "count": 0
           },
           {
            "bin_start": 571.8,
            "bin_end": 608.5999999999999,
            "count": 1
           },
           {
            "bin_start": 608.5999999999999,
            "bin_end": 645.4,
            "count": 0
           },
           {
            "bin_start": 645.4,
            "bin_end": 682.2,
            "count": 1
           },
           {
            "bin_start": 682.2,
            "bin_end": 719,
            "count": 1
           }
          ]
         }
        },
        {
         "name": "FLOOR_AREA",
         "dtype": "int64",
         "stats": {
          "unique_count": 5,
          "nan_count": 0,
          "min": "59",
          "max": "160",
          "histogram": [
           {
            "bin_start": 59,
            "bin_end": 69.1,
            "count": 1
           },
           {
            "bin_start": 69.1,
            "bin_end": 79.2,
            "count": 0
           },
           {
            "bin_start": 79.2,
            "bin_end": 89.3,
            "count": 1
           },
           {
            "bin_start": 89.3,
            "bin_end": 99.4,
            "count": 0
           },
           {
            "bin_start": 99.4,
            "bin_end": 109.5,
            "count": 0
           },
           {
            "bin_start": 109.5,
            "bin_end": 119.6,
            "count": 0
           },
           {
            "bin_start": 119.6,
            "bin_end": 129.7,
            "count": 0
           },
           {
            "bin_start": 129.7,
            "bin_end": 139.8,
            "count": 2
           },
           {
            "bin_start": 139.8,
            "bin_end": 149.89999999999998,
            "count": 0
           },
           {
            "bin_start": 149.89999999999998,
            "bin_end": 160,
            "count": 1
           }
          ]
         }
        },
        {
         "name": "BUILD_YEAR",
         "dtype": "float64",
         "stats": {
          "unique_count": 5,
          "nan_count": 0,
          "min": "1953.0",
          "max": "2013.0",
          "histogram": [
           {
            "bin_start": 1953,
            "bin_end": 1959,
            "count": 1
           },
           {
            "bin_start": 1959,
            "bin_end": 1965,
            "count": 0
           },
           {
            "bin_start": 1965,
            "bin_end": 1971,
            "count": 0
           },
           {
            "bin_start": 1971,
            "bin_end": 1977,
            "count": 0
           },
           {
            "bin_start": 1977,
            "bin_end": 1983,
            "count": 1
           },
           {
            "bin_start": 1983,
            "bin_end": 1989,
            "count": 0
           },
           {
            "bin_start": 1989,
            "bin_end": 1995,
            "count": 0
           },
           {
            "bin_start": 1995,
            "bin_end": 2001,
            "count": 1
           },
           {
            "bin_start": 2001,
            "bin_end": 2007,
            "count": 1
           },
           {
            "bin_start": 2007,
            "bin_end": 2013,
            "count": 1
           }
          ]
         }
        },
        {
         "name": "CBD_DIST",
         "dtype": "int64",
         "stats": {
          "unique_count": 5,
          "nan_count": 0,
          "min": "11200",
          "max": "26900",
          "histogram": [
           {
            "bin_start": 11200,
            "bin_end": 12770,
            "count": 1
           },
           {
            "bin_start": 12770,
            "bin_end": 14340,
            "count": 0
           },
           {
            "bin_start": 14340,
            "bin_end": 15910,
            "count": 0
           },
           {
            "bin_start": 15910,
            "bin_end": 17480,
            "count": 0
           },
           {
            "bin_start": 17480,
            "bin_end": 19050,
            "count": 2
           },
           {
            "bin_start": 19050,
            "bin_end": 20620,
            "count": 0
           },
           {
            "bin_start": 20620,
            "bin_end": 22190,
            "count": 0
           },
           {
            "bin_start": 22190,
            "bin_end": 23760,
            "count": 1
           },
           {
            "bin_start": 23760,
            "bin_end": 25330,
            "count": 0
           },
           {
            "bin_start": 25330,
            "bin_end": 26900,
            "count": 1
           }
          ]
         }
        },
        {
         "name": "NEAREST_STN",
         "dtype": "object",
         "stats": {
          "unique_count": 5,
          "nan_count": 0,
          "categories": [
           {
            "name": "Cockburn Central Station",
            "count": 1
           },
           {
            "name": "Kwinana Station",
            "count": 1
           },
           {
            "name": "3 others",
            "count": 3
           }
          ]
         }
        },
        {
         "name": "NEAREST_STN_DIST",
         "dtype": "int64",
         "stats": {
          "unique_count": 5,
          "nan_count": 0,
          "min": "1800",
          "max": "4900",
          "histogram": [
           {
            "bin_start": 1800,
            "bin_end": 2110,
            "count": 3
           },
           {
            "bin_start": 2110,
            "bin_end": 2420,
            "count": 0
           },
           {
            "bin_start": 2420,
            "bin_end": 2730,
            "count": 0
           },
           {
            "bin_start": 2730,
            "bin_end": 3040,
            "count": 0
           },
           {
            "bin_start": 3040,
            "bin_end": 3350,
            "count": 0
           },
           {
            "bin_start": 3350,
            "bin_end": 3660,
            "count": 1
           },
           {
            "bin_start": 3660,
            "bin_end": 3970,
            "count": 0
           },
           {
            "bin_start": 3970,
            "bin_end": 4280,
            "count": 0
           },
           {
            "bin_start": 4280,
            "bin_end": 4590,
            "count": 0
           },
           {
            "bin_start": 4590,
            "bin_end": 4900,
            "count": 1
           }
          ]
         }
        },
        {
         "name": "DATE_SOLD",
         "dtype": "datetime64[ns]",
         "stats": {
          "unique_count": 5,
          "nan_count": 0,
          "min": "2015-06-01 00:00:00",
          "max": "2019-02-01 00:00:00",
          "histogram": [
           {
            "bin_start": 1433116800000000000,
            "bin_end": 1444703040000000000,
            "count": 1
           },
           {
            "bin_start": 1444703040000000000,
            "bin_end": 1456289280000000000,
            "count": 0
           },
           {
            "bin_start": 1456289280000000000,
            "bin_end": 1467875520000000000,
            "count": 0
           },
           {
            "bin_start": 1467875520000000000,
            "bin_end": 1479461760000000000,
            "count": 1
           },
           {
            "bin_start": 1479461760000000000,
            "bin_end": 1491048000000000000,
            "count": 0
           },
           {
            "bin_start": 1491048000000000000,
            "bin_end": 1502634240000000000,
            "count": 0
           },
           {
            "bin_start": 1502634240000000000,
            "bin_end": 1514220480000000000,
            "count": 0
           },
           {
            "bin_start": 1514220480000000000,
            "bin_end": 1525806720000000000,
            "count": 0
           },
           {
            "bin_start": 1525806720000000000,
            "bin_end": 1537392960000000000,
            "count": 2
           },
           {
            "bin_start": 1537392960000000000,
            "bin_end": 1548979200000000000,
            "count": 1
           }
          ]
         }
        },
        {
         "name": "POSTCODE",
         "dtype": "int64",
         "stats": {
          "unique_count": 5,
          "nan_count": 0,
          "min": "6054",
          "max": "6167",
          "histogram": [
           {
            "bin_start": 6054,
            "bin_end": 6065.3,
            "count": 2
           },
           {
            "bin_start": 6065.3,
            "bin_end": 6076.6,
            "count": 0
           },
           {
            "bin_start": 6076.6,
            "bin_end": 6087.9,
            "count": 0
           },
           {
            "bin_start": 6087.9,
            "bin_end": 6099.2,
            "count": 0
           },
           {
            "bin_start": 6099.2,
            "bin_end": 6110.5,
            "count": 0
           },
           {
            "bin_start": 6110.5,
            "bin_end": 6121.8,
            "count": 1
           },
           {
            "bin_start": 6121.8,
            "bin_end": 6133.1,
            "count": 0
           },
           {
            "bin_start": 6133.1,
            "bin_end": 6144.4,
            "count": 0
           },
           {
            "bin_start": 6144.4,
            "bin_end": 6155.7,
            "count": 0
           },
           {
            "bin_start": 6155.7,
            "bin_end": 6167,
            "count": 2
           }
          ]
         }
        },
        {
         "name": "LATITUDE",
         "dtype": "float64",
         "stats": {
          "unique_count": 5,
          "nan_count": 0,
          "min": "-32.19347028",
          "max": "-31.88579",
          "histogram": [
           {
            "bin_start": -32.19347028,
            "bin_end": -32.162702252,
            "count": 1
           },
           {
            "bin_start": -32.162702252,
            "bin_end": -32.131934224,
            "count": 0
           },
           {
            "bin_start": -32.131934224,
            "bin_end": -32.101166196,
            "count": 2
           },
           {
            "bin_start": -32.101166196,
            "bin_end": -32.070398168,
            "count": 0
           },
           {
            "bin_start": -32.070398168,
            "bin_end": -32.03963014,
            "count": 0
           },
           {
            "bin_start": -32.03963014,
            "bin_end": -32.008862112,
            "count": 0
           },
           {
            "bin_start": -32.008862112,
            "bin_end": -31.978094084,
            "count": 0
           },
           {
            "bin_start": -31.978094084,
            "bin_end": -31.947326056,
            "count": 0
           },
           {
            "bin_start": -31.947326056,
            "bin_end": -31.916558028,
            "count": 0
           },
           {
            "bin_start": -31.916558028,
            "bin_end": -31.88579,
            "count": 2
           }
          ]
         }
        },
        {
         "name": "LONGITUDE",
         "dtype": "float64",
         "stats": {
          "unique_count": 5,
          "nan_count": 0,
          "min": "115.84245",
          "max": "116.0380088",
          "histogram": [
           {
            "bin_start": 115.84245,
            "bin_end": 115.86200588,
            "count": 2
           },
           {
            "bin_start": 115.86200588,
            "bin_end": 115.88156176,
            "count": 0
           },
           {
            "bin_start": 115.88156176,
            "bin_end": 115.90111764,
            "count": 0
           },
           {
            "bin_start": 115.90111764,
            "bin_end": 115.92067352,
            "count": 0
           },
           {
            "bin_start": 115.92067352,
            "bin_end": 115.94022939999999,
            "count": 0
           },
           {
            "bin_start": 115.94022939999999,
            "bin_end": 115.95978528,
            "count": 1
           },
           {
            "bin_start": 115.95978528,
            "bin_end": 115.97934116,
            "count": 0
           },
           {
            "bin_start": 115.97934116,
            "bin_end": 115.99889704,
            "count": 1
           },
           {
            "bin_start": 115.99889704,
            "bin_end": 116.01845292,
            "count": 0
           },
           {
            "bin_start": 116.01845292,
            "bin_end": 116.0380088,
            "count": 1
           }
          ]
         }
        },
        {
         "name": "NEAREST_SCH",
         "dtype": "object",
         "stats": {
          "unique_count": 5,
          "nan_count": 0,
          "categories": [
           {
            "name": "LAKELAND SENIOR HIGH SCHOOL",
            "count": 1
           },
           {
            "name": "ATWELL COLLEGE",
            "count": 1
           },
           {
            "name": "3 others",
            "count": 3
           }
          ]
         }
        },
        {
         "name": "NEAREST_SCH_DIST",
         "dtype": "float64",
         "stats": {
          "unique_count": 5,
          "nan_count": 0,
          "min": "0.8283385518162787",
          "max": "5.524324354371822",
          "histogram": [
           {
            "bin_start": 0.8283385518162787,
            "bin_end": 1.2979371320718331,
            "count": 1
           },
           {
            "bin_start": 1.2979371320718331,
            "bin_end": 1.7675357123273874,
            "count": 3
           },
           {
            "bin_start": 1.7675357123273874,
            "bin_end": 2.237134292582942,
            "count": 0
           },
           {
            "bin_start": 2.237134292582942,
            "bin_end": 2.7067328728384963,
            "count": 0
           },
           {
            "bin_start": 2.7067328728384963,
            "bin_end": 3.1763314530940505,
            "count": 0
           },
           {
            "bin_start": 3.1763314530940505,
            "bin_end": 3.6459300333496047,
            "count": 0
           },
           {
            "bin_start": 3.6459300333496047,
            "bin_end": 4.115528613605159,
            "count": 0
           },
           {
            "bin_start": 4.115528613605159,
            "bin_end": 4.585127193860713,
            "count": 0
           },
           {
            "bin_start": 4.585127193860713,
            "bin_end": 5.0547257741162674,
            "count": 0
           },
           {
            "bin_start": 5.0547257741162674,
            "bin_end": 5.524324354371822,
            "count": 1
           }
          ]
         }
        },
        {
         "name": "NEAREST_SCH_RANK",
         "dtype": "float64",
         "stats": {
          "unique_count": 2,
          "nan_count": 3,
          "min": "113.0",
          "max": "129.0",
          "histogram": [
           {
            "bin_start": 113,
            "bin_end": 114.6,
            "count": 1
           },
           {
            "bin_start": 114.6,
            "bin_end": 116.2,
            "count": 0
           },
           {
            "bin_start": 116.2,
            "bin_end": 117.8,
            "count": 0
           },
           {
            "bin_start": 117.8,
            "bin_end": 119.4,
            "count": 0
           },
           {
            "bin_start": 119.4,
            "bin_end": 121,
            "count": 0
           },
           {
            "bin_start": 121,
            "bin_end": 122.6,
            "count": 0
           },
           {
            "bin_start": 122.6,
            "bin_end": 124.2,
            "count": 0
           },
           {
            "bin_start": 124.2,
            "bin_end": 125.8,
            "count": 0
           },
           {
            "bin_start": 125.8,
            "bin_end": 127.4,
            "count": 0
           },
           {
            "bin_start": 127.4,
            "bin_end": 129,
            "count": 1
           }
          ]
         }
        },
        {
         "name": "_deepnote_index_column",
         "dtype": "int64"
        }
       ],
       "rows": [
        {
         "ADDRESS": "1 Acorn Place",
         "SUBURB": "South Lake",
         "PRICE": 565000,
         "BEDROOMS": 4,
         "BATHROOMS": 2,
         "GARAGE": 2,
         "LAND_AREA": 600,
         "FLOOR_AREA": 160,
         "BUILD_YEAR": 2003,
         "CBD_DIST": 18300,
         "NEAREST_STN": "Cockburn Central Station",
         "NEAREST_STN_DIST": 1800,
         "DATE_SOLD": "2018-09-01T00:00:00.000000",
         "POSTCODE": 6164,
         "LATITUDE": -32.1159,
         "LONGITUDE": 115.84245,
         "NEAREST_SCH": "LAKELAND SENIOR HIGH SCHOOL",
         "NEAREST_SCH_DIST": 0.8283385518162787,
         "NEAREST_SCH_RANK": "nan",
         "_deepnote_index_column": 0
        },
        {
         "ADDRESS": "1 Addis Way",
         "SUBURB": "Wandi",
         "PRICE": 365000,
         "BEDROOMS": 3,
         "BATHROOMS": 2,
         "GARAGE": 2,
         "LAND_AREA": 351,
         "FLOOR_AREA": 139,
         "BUILD_YEAR": 2013,
         "CBD_DIST": 26900,
         "NEAREST_STN": "Kwinana Station",
         "NEAREST_STN_DIST": 4900,
         "DATE_SOLD": "2019-02-01T00:00:00.000000",
         "POSTCODE": 6167,
         "LATITUDE": -32.19347028,
         "LONGITUDE": 115.8595535,
         "NEAREST_SCH": "ATWELL COLLEGE",
         "NEAREST_SCH_DIST": 5.524324354371822,
         "NEAREST_SCH_RANK": 129,
         "_deepnote_index_column": 1
        },
        {
         "ADDRESS": "1 Ainsley Court",
         "SUBURB": "Camillo",
         "PRICE": 287000,
         "BEDROOMS": 3,
         "BATHROOMS": 1,
         "GARAGE": 1,
         "LAND_AREA": 719,
         "FLOOR_AREA": 86,
         "BUILD_YEAR": 1979,
         "CBD_DIST": 22600,
         "NEAREST_STN": "Challis Station",
         "NEAREST_STN_DIST": 1900,
         "DATE_SOLD": "2015-06-01T00:00:00.000000",
         "POSTCODE": 6111,
         "LATITUDE": -32.12057813,
         "LONGITUDE": 115.993579,
         "NEAREST_SCH": "KELMSCOTT SENIOR HIGH SCHOOL",
         "NEAREST_SCH_DIST": 1.649178183366986,
         "NEAREST_SCH_RANK": 113,
         "_deepnote_index_column": 2
        },
        {
         "ADDRESS": "1 Albert Street",
         "SUBURB": "Bellevue",
         "PRICE": 255000,
         "BEDROOMS": 2,
         "BATHROOMS": 1,
         "GARAGE": 2,
         "LAND_AREA": 651,
         "FLOOR_AREA": 59,
         "BUILD_YEAR": 1953,
         "CBD_DIST": 17900,
         "NEAREST_STN": "Midland Station",
         "NEAREST_STN_DIST": 3600,
         "DATE_SOLD": "2018-07-01T00:00:00.000000",
         "POSTCODE": 6056,
         "LATITUDE": -31.90054675,
         "LONGITUDE": 116.0380088,
         "NEAREST_SCH": "SWAN VIEW SENIOR HIGH SCHOOL",
         "NEAREST_SCH_DIST": 1.5714009366124688,
         "NEAREST_SCH_RANK": "nan",
         "_deepnote_index_column": 3
        },
        {
         "ADDRESS": "1 Aman Place",
         "SUBURB": "Lockridge",
         "PRICE": 325000,
         "BEDROOMS": 4,
         "BATHROOMS": 1,
         "GARAGE": 2,
         "LAND_AREA": 466,
         "FLOOR_AREA": 131,
         "BUILD_YEAR": 1998,
         "CBD_DIST": 11200,
         "NEAREST_STN": "Bassendean Station",
         "NEAREST_STN_DIST": 2000,
         "DATE_SOLD": "2016-11-01T00:00:00.000000",
         "POSTCODE": 6054,
         "LATITUDE": -31.88579,
         "LONGITUDE": 115.94778,
         "NEAREST_SCH": "KIARA COLLEGE",
         "NEAREST_SCH_DIST": 1.5149216294528034,
         "NEAREST_SCH_RANK": "nan",
         "_deepnote_index_column": 4
        }
       ]
      },
      "text/plain": "           ADDRESS      SUBURB   PRICE  BEDROOMS  BATHROOMS  GARAGE  \\\n0    1 Acorn Place  South Lake  565000         4          2     2.0   \n1      1 Addis Way       Wandi  365000         3          2     2.0   \n2  1 Ainsley Court     Camillo  287000         3          1     1.0   \n3  1 Albert Street    Bellevue  255000         2          1     2.0   \n4     1 Aman Place   Lockridge  325000         4          1     2.0   \n\n   LAND_AREA  FLOOR_AREA  BUILD_YEAR  CBD_DIST               NEAREST_STN  \\\n0        600         160      2003.0     18300  Cockburn Central Station   \n1        351         139      2013.0     26900           Kwinana Station   \n2        719          86      1979.0     22600           Challis Station   \n3        651          59      1953.0     17900           Midland Station   \n4        466         131      1998.0     11200        Bassendean Station   \n\n   NEAREST_STN_DIST  DATE_SOLD  POSTCODE   LATITUDE   LONGITUDE  \\\n0              1800 2018-09-01      6164 -32.115900  115.842450   \n1              4900 2019-02-01      6167 -32.193470  115.859554   \n2              1900 2015-06-01      6111 -32.120578  115.993579   \n3              3600 2018-07-01      6056 -31.900547  116.038009   \n4              2000 2016-11-01      6054 -31.885790  115.947780   \n\n                    NEAREST_SCH  NEAREST_SCH_DIST  NEAREST_SCH_RANK  \n0   LAKELAND SENIOR HIGH SCHOOL          0.828339               NaN  \n1                ATWELL COLLEGE          5.524324             129.0  \n2  KELMSCOTT SENIOR HIGH SCHOOL          1.649178             113.0  \n3  SWAN VIEW SENIOR HIGH SCHOOL          1.571401               NaN  \n4                 KIARA COLLEGE          1.514922               NaN  ",
      "text/html": "<div>\n<style scoped>\n    .dataframe tbody tr th:only-of-type {\n        vertical-align: middle;\n    }\n\n    .dataframe tbody tr th {\n        vertical-align: top;\n    }\n\n    .dataframe thead th {\n        text-align: right;\n    }\n</style>\n<table border=\"1\" class=\"dataframe\">\n  <thead>\n    <tr style=\"text-align: right;\">\n      <th></th>\n      <th>ADDRESS</th>\n      <th>SUBURB</th>\n      <th>PRICE</th>\n      <th>BEDROOMS</th>\n      <th>BATHROOMS</th>\n      <th>GARAGE</th>\n      <th>LAND_AREA</th>\n      <th>FLOOR_AREA</th>\n      <th>BUILD_YEAR</th>\n      <th>CBD_DIST</th>\n      <th>NEAREST_STN</th>\n      <th>NEAREST_STN_DIST</th>\n      <th>DATE_SOLD</th>\n      <th>POSTCODE</th>\n      <th>LATITUDE</th>\n      <th>LONGITUDE</th>\n      <th>NEAREST_SCH</th>\n      <th>NEAREST_SCH_DIST</th>\n      <th>NEAREST_SCH_RANK</th>\n    </tr>\n  </thead>\n  <tbody>\n    <tr>\n      <th>0</th>\n      <td>1 Acorn Place</td>\n      <td>South Lake</td>\n      <td>565000</td>\n      <td>4</td>\n      <td>2</td>\n      <td>2.0</td>\n      <td>600</td>\n      <td>160</td>\n      <td>2003.0</td>\n      <td>18300</td>\n      <td>Cockburn Central Station</td>\n      <td>1800</td>\n      <td>2018-09-01</td>\n      <td>6164</td>\n      <td>-32.115900</td>\n      <td>115.842450</td>\n      <td>LAKELAND SENIOR HIGH SCHOOL</td>\n      <td>0.828339</td>\n      <td>NaN</td>\n    </tr>\n    <tr>\n      <th>1</th>\n      <td>1 Addis Way</td>\n      <td>Wandi</td>\n      <td>365000</td>\n      <td>3</td>\n      <td>2</td>\n      <td>2.0</td>\n      <td>351</td>\n      <td>139</td>\n      <td>2013.0</td>\n      <td>26900</td>\n      <td>Kwinana Station</td>\n      <td>4900</td>\n      <td>2019-02-01</td>\n      <td>6167</td>\n      <td>-32.193470</td>\n      <td>115.859554</td>\n      <td>ATWELL COLLEGE</td>\n      <td>5.524324</td>\n      <td>129.0</td>\n    </tr>\n    <tr>\n      <th>2</th>\n      <td>1 Ainsley Court</td>\n      <td>Camillo</td>\n      <td>287000</td>\n      <td>3</td>\n      <td>1</td>\n      <td>1.0</td>\n      <td>719</td>\n      <td>86</td>\n      <td>1979.0</td>\n      <td>22600</td>\n      <td>Challis Station</td>\n      <td>1900</td>\n      <td>2015-06-01</td>\n      <td>6111</td>\n      <td>-32.120578</td>\n      <td>115.993579</td>\n      <td>KELMSCOTT SENIOR HIGH SCHOOL</td>\n      <td>1.649178</td>\n      <td>113.0</td>\n    </tr>\n    <tr>\n      <th>3</th>\n      <td>1 Albert Street</td>\n      <td>Bellevue</td>\n      <td>255000</td>\n      <td>2</td>\n      <td>1</td>\n      <td>2.0</td>\n      <td>651</td>\n      <td>59</td>\n      <td>1953.0</td>\n      <td>17900</td>\n      <td>Midland Station</td>\n      <td>3600</td>\n      <td>2018-07-01</td>\n      <td>6056</td>\n      <td>-31.900547</td>\n      <td>116.038009</td>\n      <td>SWAN VIEW SENIOR HIGH SCHOOL</td>\n      <td>1.571401</td>\n      <td>NaN</td>\n    </tr>\n    <tr>\n      <th>4</th>\n      <td>1 Aman Place</td>\n      <td>Lockridge</td>\n      <td>325000</td>\n      <td>4</td>\n      <td>1</td>\n      <td>2.0</td>\n      <td>466</td>\n      <td>131</td>\n      <td>1998.0</td>\n      <td>11200</td>\n      <td>Bassendean Station</td>\n      <td>2000</td>\n      <td>2016-11-01</td>\n      <td>6054</td>\n      <td>-31.885790</td>\n      <td>115.947780</td>\n      <td>KIARA COLLEGE</td>\n      <td>1.514922</td>\n      <td>NaN</td>\n    </tr>\n  </tbody>\n</table>\n</div>"
     },
     "metadata": {}
    }
   ],
   "execution_count": null
  },
  {
   "cell_type": "code",
   "metadata": {
    "cell_id": "b9a6412e-24f7-4139-80a3-9721d7c956ef",
    "tags": [],
    "deepnote_to_be_reexecuted": false,
    "source_hash": "b0141018",
    "execution_start": 1646967935484,
    "execution_millis": 13,
    "deepnote_cell_type": "code",
    "deepnote_cell_height": 387
   },
   "source": "# creata a function to see the trend of the dataset\ndef draw_trend(perth):\n    df = pd.concat([perth['PRICE'],perth['DATE_SOLD']],axis=1)\n    df.set_index([\"DATE_SOLD\"], inplace=True)\n    plt.figure(figsize=(20,7))\n    plt.hist(perth['PRICE'])\n    df_m = df.resample('m').mean()\n    df_y = df.resample('y').mean()\n    plt.figure(figsize=(20,7))\n    plt.title('count as month')\n    df_m_c = df.resample('m').count()\n    plt.plot(df_m_c)\n    plt.figure(figsize=(20,7))\n    plt.title('monthly mean')\n    plt.plot(df_m)\n    plt.figure(figsize=(20,7))\n    plt.title('yearly mean')\n    plt.plot(df_y)",
   "outputs": [],
   "execution_count": null
  },
  {
   "cell_type": "code",
   "metadata": {
    "cell_id": "a7758e67-9c08-41c9-9b21-b7b794606d66",
    "tags": [],
    "deepnote_to_be_reexecuted": false,
    "source_hash": "bf795739",
    "execution_start": 1646967935512,
    "execution_millis": 1922,
    "deepnote_cell_type": "code",
    "deepnote_cell_height": 1451.921875,
    "deepnote_output_heights": [
     308.015625,
     313.375,
     314.1875,
     308.34375
    ]
   },
   "source": "# trend of the whole data\ndraw_trend(perth)",
   "outputs": [
    {
     "data": {
      "text/plain": "<Figure size 1440x504 with 1 Axes>",
      "image/png": "[encoded data removed]"
     },
     "metadata": {
      "needs_background": "light",
      "image/png": {
       "width": 1168,
       "height": 424
      }
     },
     "output_type": "display_data"
    },
    {
     "data": {
      "text/plain": "<Figure size 1440x504 with 1 Axes>",
      "image/png": "[encoded data removed]"
     },
     "metadata": {
      "needs_background": "light",
      "image/png": {
       "width": 1156,
       "height": 427
      }
     },
     "output_type": "display_data"
    },
    {
     "data": {
      "text/plain": "<Figure size 1440x504 with 1 Axes>",
      "image/png": "[encoded data removed]"
     },
     "metadata": {
      "needs_background": "light",
      "image/png": {
       "width": 1153,
       "height": 427
      }
     },
     "output_type": "display_data"
    },
    {
     "data": {
      "text/plain": "<Figure size 1440x504 with 1 Axes>",
      "image/png": "[encoded data removed]"
     },
     "metadata": {
      "needs_background": "light",
      "image/png": {
       "width": 1175,
       "height": 427
      }
     },
     "output_type": "display_data"
    }
   ],
   "execution_count": null
  },
  {
   "cell_type": "code",
   "metadata": {
    "cell_id": "690aa08e-749e-4e0f-8857-f3bb1b3f7c54",
    "tags": [],
    "deepnote_to_be_reexecuted": false,
    "source_hash": "b623e53d",
    "execution_start": 1646967937435,
    "execution_millis": 6,
    "deepnote_cell_type": "code",
    "deepnote_cell_height": 81
   },
   "source": "",
   "outputs": [],
   "execution_count": null
  },
  {
   "cell_type": "code",
   "metadata": {
    "cell_id": "cbc9572a-045c-4d1d-8553-40aaac6c0ab8",
    "tags": [],
    "deepnote_to_be_reexecuted": false,
    "source_hash": "b623e53d",
    "execution_start": 1646967937445,
    "execution_millis": 2,
    "deepnote_cell_type": "code",
    "deepnote_cell_height": 81
   },
   "source": "",
   "outputs": [],
   "execution_count": null
  },
  {
   "cell_type": "code",
   "metadata": {
    "cell_id": "4afa8ae4-5073-4b3e-a473-8ff7c5c50938",
    "tags": [],
    "deepnote_to_be_reexecuted": false,
    "source_hash": "b6f506bb",
    "execution_start": 1646967937487,
    "execution_millis": 1347,
    "deepnote_cell_type": "code",
    "deepnote_cell_height": 1447.65625,
    "deepnote_output_heights": [
     309.59375,
     313.375,
     308.34375,
     308.34375
    ]
   },
   "source": "# trend of the 2018-2020 data set\ndraw_trend(cut_perth)",
   "outputs": [
    {
     "data": {
      "text/plain": "<Figure size 1440x504 with 1 Axes>",
      "image/png": "[encoded data removed]"
     },
     "metadata": {
      "needs_background": "light",
      "image/png": {
       "width": 1162,
       "height": 424
      }
     },
     "output_type": "display_data"
    },
    {
     "data": {
      "text/plain": "<Figure size 1440x504 with 1 Axes>",
      "image/png": "[encoded data removed]"
     },
     "metadata": {
      "needs_background": "light",
      "image/png": {
       "width": 1156,
       "height": 427
      }
     },
     "output_type": "display_data"
    },
    {
     "data": {
      "text/plain": "<Figure size 1440x504 with 1 Axes>",
      "image/png": "[encoded data removed]"
     },
     "metadata": {
      "needs_background": "light",
      "image/png": {
       "width": 1175,
       "height": 427
      }
     },
     "output_type": "display_data"
    },
    {
     "data": {
      "text/plain": "<Figure size 1440x504 with 1 Axes>",
      "image/png": "[encoded data removed]"
     },
     "metadata": {
      "needs_background": "light",
      "image/png": {
       "width": 1175,
       "height": 427
      }
     },
     "output_type": "display_data"
    }
   ],
   "execution_count": null
  },
  {
   "cell_type": "code",
   "metadata": {
    "cell_id": "884bec5d-f19c-403a-9dee-b38b25d03ecd",
    "tags": [],
    "deepnote_to_be_reexecuted": false,
    "source_hash": "8c232514",
    "execution_start": 1646967938846,
    "execution_millis": 63,
    "deepnote_cell_type": "code",
    "deepnote_cell_height": 483
   },
   "source": "# calculate the monthly mean\ndf = pd.concat([cut_perth['PRICE'],cut_perth['DATE_SOLD']],axis=1)\ndf.set_index([\"DATE_SOLD\"], inplace=True)\ndf_m = df.resample('m').mean()\ndf_m = df_m.reset_index()\ndf_m.head()",
   "outputs": [
    {
     "output_type": "execute_result",
     "execution_count": 9,
     "data": {
      "application/vnd.deepnote.dataframe.v3+json": {
       "column_count": 2,
       "row_count": 5,
       "columns": [
        {
         "name": "DATE_SOLD",
         "dtype": "datetime64[ns]",
         "stats": {
          "unique_count": 5,
          "nan_count": 0,
          "min": "2018-01-31 00:00:00",
          "max": "2018-05-31 00:00:00",
          "histogram": [
           {
            "bin_start": 1517356800000000000,
            "bin_end": 1518393600000000000,
            "count": 1
           },
           {
            "bin_start": 1518393600000000000,
            "bin_end": 1519430400000000000,
            "count": 0
           },
           {
            "bin_start": 1519430400000000000,
            "bin_end": 1520467200000000000,
            "count": 1
           },
           {
            "bin_start": 1520467200000000000,
            "bin_end": 1521504000000000000,
            "count": 0
           },
           {
            "bin_start": 1521504000000000000,
            "bin_end": 1522540800000000000,
            "count": 1
           },
           {
            "bin_start": 1522540800000000000,
            "bin_end": 1523577600000000000,
            "count": 0
           },
           {
            "bin_start": 1523577600000000000,
            "bin_end": 1524614400000000000,
            "count": 0
           },
           {
            "bin_start": 1524614400000000000,
            "bin_end": 1525651200000000000,
            "count": 1
           },
           {
            "bin_start": 1525651200000000000,
            "bin_end": 1526688000000000000,
            "count": 0
           },
           {
            "bin_start": 1526688000000000000,
            "bin_end": 1527724800000000000,
            "count": 1
           }
          ]
         }
        },
        {
         "name": "PRICE",
         "dtype": "float64",
         "stats": {
          "unique_count": 5,
          "nan_count": 0,
          "min": "637053.0504385965",
          "max": "700941.9873096447",
          "histogram": [
           {
            "bin_start": 637053.0504385965,
            "bin_end": 643441.9441257013,
            "count": 1
           },
           {
            "bin_start": 643441.9441257013,
            "bin_end": 649830.8378128061,
            "count": 0
           },
           {
            "bin_start": 649830.8378128061,
            "bin_end": 656219.7314999109,
            "count": 0
           },
           {
            "bin_start": 656219.7314999109,
            "bin_end": 662608.6251870157,
            "count": 1
           },
           {
            "bin_start": 662608.6251870157,
            "bin_end": 668997.5188741207,
            "count": 1
           },
           {
            "bin_start": 668997.5188741207,
            "bin_end": 675386.4125612255,
            "count": 0
           },
           {
            "bin_start": 675386.4125612255,
            "bin_end": 681775.3062483303,
            "count": 0
           },
           {
            "bin_start": 681775.3062483303,
            "bin_end": 688164.1999354351,
            "count": 0
           },
           {
            "bin_start": 688164.1999354351,
            "bin_end": 694553.0936225399,
            "count": 1
           },
           {
            "bin_start": 694553.0936225399,
            "bin_end": 700941.9873096447,
            "count": 1
           }
          ]
         }
        },
        {
         "name": "_deepnote_index_column",
         "dtype": "int64"
        }
       ],
       "rows": [
        {
         "DATE_SOLD": "2018-01-31T00:00:00.000000",
         "PRICE": 700941.9873096447,
         "_deepnote_index_column": 0
        },
        {
         "DATE_SOLD": "2018-02-28T00:00:00.000000",
         "PRICE": 692248.8019093078,
         "_deepnote_index_column": 1
        },
        {
         "DATE_SOLD": "2018-03-31T00:00:00.000000",
         "PRICE": 664642.7089108911,
         "_deepnote_index_column": 2
        },
        {
         "DATE_SOLD": "2018-04-30T00:00:00.000000",
         "PRICE": 637053.0504385965,
         "_deepnote_index_column": 3
        },
        {
         "DATE_SOLD": "2018-05-31T00:00:00.000000",
         "PRICE": 656900.253384913,
         "_deepnote_index_column": 4
        }
       ]
      },
      "text/plain": "   DATE_SOLD          PRICE\n0 2018-01-31  700941.987310\n1 2018-02-28  692248.801909\n2 2018-03-31  664642.708911\n3 2018-04-30  637053.050439\n4 2018-05-31  656900.253385",
      "text/html": "<div>\n<style scoped>\n    .dataframe tbody tr th:only-of-type {\n        vertical-align: middle;\n    }\n\n    .dataframe tbody tr th {\n        vertical-align: top;\n    }\n\n    .dataframe thead th {\n        text-align: right;\n    }\n</style>\n<table border=\"1\" class=\"dataframe\">\n  <thead>\n    <tr style=\"text-align: right;\">\n      <th></th>\n      <th>DATE_SOLD</th>\n      <th>PRICE</th>\n    </tr>\n  </thead>\n  <tbody>\n    <tr>\n      <th>0</th>\n      <td>2018-01-31</td>\n      <td>700941.987310</td>\n    </tr>\n    <tr>\n      <th>1</th>\n      <td>2018-02-28</td>\n      <td>692248.801909</td>\n    </tr>\n    <tr>\n      <th>2</th>\n      <td>2018-03-31</td>\n      <td>664642.708911</td>\n    </tr>\n    <tr>\n      <th>3</th>\n      <td>2018-04-30</td>\n      <td>637053.050439</td>\n    </tr>\n    <tr>\n      <th>4</th>\n      <td>2018-05-31</td>\n      <td>656900.253385</td>\n    </tr>\n  </tbody>\n</table>\n</div>"
     },
     "metadata": {}
    }
   ],
   "execution_count": null
  },
  {
   "cell_type": "code",
   "metadata": {
    "cell_id": "eb8fc9dd-b8fa-48be-84f6-53105c1dbc9c",
    "tags": [],
    "deepnote_to_be_reexecuted": false,
    "source_hash": "b623e53d",
    "execution_start": 1646967938896,
    "execution_millis": 1,
    "deepnote_cell_type": "code",
    "deepnote_cell_height": 81
   },
   "source": "",
   "outputs": [],
   "execution_count": null
  },
  {
   "cell_type": "code",
   "metadata": {
    "cell_id": "1b71f68d-71e3-4234-9eb5-ad293116239d",
    "tags": [],
    "deepnote_to_be_reexecuted": false,
    "source_hash": "449d17d0",
    "execution_start": 1646967938919,
    "execution_millis": 656,
    "deepnote_cell_type": "code",
    "deepnote_cell_height": 1118.671875,
    "deepnote_output_heights": [
     null,
     297
    ]
   },
   "source": "# Using linear regression to predict the trend of montyly mean price\nfrom sklearn.linear_model import LinearRegression\ndatas = df_m\ndatas = datas.reset_index()\ndatas['days_since'] = (datas.DATE_SOLD - datas.DATE_SOLD[0]).astype('timedelta64[D]')\ndatas.head()\ny = datas.iloc[:, 2] \nx = datas.iloc[:, 3] \nx = x[:, np.newaxis]\ny = y[:, np.newaxis]\n\nmodel = LinearRegression() \nmodel.fit(x, y) \npredicts = model.predict(x) \nR2 = model.score(x, y)\n#print r2\nprint('R2 = %.2f' % R2) \ncoef = model.coef_ \nintercept = model.intercept_ \n# print coefficient and intercept\nprint(model.coef_, model.intercept_) \n\n# draw the scatter picture\ny = datas.iloc[:, 2] \nx = datas.iloc[:, 3] \nplt.figure(figsize=(20,7))\nplt.scatter(x, y, label='true value') \n\nplt.plot(x, predicts, color = 'red', label='predicted value')\nplt.legend() \n\nplt.show() \n",
   "outputs": [
    {
     "name": "stderr",
     "text": "/shared-libs/python3.7/py-core/lib/python3.7/site-packages/ipykernel_launcher.py:9: FutureWarning: Support for multi-dimensional indexing (e.g. `obj[:, None]`) is deprecated and will be removed in a future version.  Convert to a numpy array before indexing instead.\n  if __name__ == '__main__':\n/shared-libs/python3.7/py-core/lib/python3.7/site-packages/ipykernel_launcher.py:10: FutureWarning: Support for multi-dimensional indexing (e.g. `obj[:, None]`) is deprecated and will be removed in a future version.  Convert to a numpy array before indexing instead.\n  # Remove the CWD from sys.path while we load stuff.\nR2 = 0.36\n[[-52.90630293]] [659961.15660645]\n",
     "output_type": "stream"
    },
    {
     "data": {
      "text/plain": "<Figure size 1440x504 with 1 Axes>",
      "image/png": "[encoded data removed]"
     },
     "metadata": {
      "needs_background": "light",
      "image/png": {
       "width": 1175,
       "height": 411
      }
     },
     "output_type": "display_data"
    }
   ],
   "execution_count": null
  },
  {
   "cell_type": "code",
   "metadata": {
    "cell_id": "212d834a-dfa2-4242-9ee8-e3e6b7dd8ce9",
    "tags": [],
    "deepnote_to_be_reexecuted": false,
    "source_hash": "f3af4836",
    "execution_start": 1646967939438,
    "execution_millis": 138,
    "deepnote_cell_type": "code",
    "deepnote_cell_height": 393
   },
   "source": "df_m.head()",
   "outputs": [
    {
     "output_type": "execute_result",
     "execution_count": 11,
     "data": {
      "application/vnd.deepnote.dataframe.v3+json": {
       "column_count": 2,
       "row_count": 5,
       "columns": [
        {
         "name": "DATE_SOLD",
         "dtype": "datetime64[ns]",
         "stats": {
          "unique_count": 5,
          "nan_count": 0,
          "min": "2018-01-31 00:00:00",
          "max": "2018-05-31 00:00:00",
          "histogram": [
           {
            "bin_start": 1517356800000000000,
            "bin_end": 1518393600000000000,
            "count": 1
           },
           {
            "bin_start": 1518393600000000000,
            "bin_end": 1519430400000000000,
            "count": 0
           },
           {
            "bin_start": 1519430400000000000,
            "bin_end": 1520467200000000000,
            "count": 1
           },
           {
            "bin_start": 1520467200000000000,
            "bin_end": 1521504000000000000,
            "count": 0
           },
           {
            "bin_start": 1521504000000000000,
            "bin_end": 1522540800000000000,
            "count": 1
           },
           {
            "bin_start": 1522540800000000000,
            "bin_end": 1523577600000000000,
            "count": 0
           },
           {
            "bin_start": 1523577600000000000,
            "bin_end": 1524614400000000000,
            "count": 0
           },
           {
            "bin_start": 1524614400000000000,
            "bin_end": 1525651200000000000,
            "count": 1
           },
           {
            "bin_start": 1525651200000000000,
            "bin_end": 1526688000000000000,
            "count": 0
           },
           {
            "bin_start": 1526688000000000000,
            "bin_end": 1527724800000000000,
            "count": 1
           }
          ]
         }
        },
        {
         "name": "PRICE",
         "dtype": "float64",
         "stats": {
          "unique_count": 5,
          "nan_count": 0,
          "min": "637053.0504385965",
          "max": "700941.9873096447",
          "histogram": [
           {
            "bin_start": 637053.0504385965,
            "bin_end": 643441.9441257013,
            "count": 1
           },
           {
            "bin_start": 643441.9441257013,
            "bin_end": 649830.8378128061,
            "count": 0
           },
           {
            "bin_start": 649830.8378128061,
            "bin_end": 656219.7314999109,
            "count": 0
           },
           {
            "bin_start": 656219.7314999109,
            "bin_end": 662608.6251870157,
            "count": 1
           },
           {
            "bin_start": 662608.6251870157,
            "bin_end": 668997.5188741207,
            "count": 1
           },
           {
            "bin_start": 668997.5188741207,
            "bin_end": 675386.4125612255,
            "count": 0
           },
           {
            "bin_start": 675386.4125612255,
            "bin_end": 681775.3062483303,
            "count": 0
           },
           {
            "bin_start": 681775.3062483303,
            "bin_end": 688164.1999354351,
            "count": 0
           },
           {
            "bin_start": 688164.1999354351,
            "bin_end": 694553.0936225399,
            "count": 1
           },
           {
            "bin_start": 694553.0936225399,
            "bin_end": 700941.9873096447,
            "count": 1
           }
          ]
         }
        },
        {
         "name": "_deepnote_index_column",
         "dtype": "int64"
        }
       ],
       "rows": [
        {
         "DATE_SOLD": "2018-01-31T00:00:00.000000",
         "PRICE": 700941.9873096447,
         "_deepnote_index_column": 0
        },
        {
         "DATE_SOLD": "2018-02-28T00:00:00.000000",
         "PRICE": 692248.8019093078,
         "_deepnote_index_column": 1
        },
        {
         "DATE_SOLD": "2018-03-31T00:00:00.000000",
         "PRICE": 664642.7089108911,
         "_deepnote_index_column": 2
        },
        {
         "DATE_SOLD": "2018-04-30T00:00:00.000000",
         "PRICE": 637053.0504385965,
         "_deepnote_index_column": 3
        },
        {
         "DATE_SOLD": "2018-05-31T00:00:00.000000",
         "PRICE": 656900.253384913,
         "_deepnote_index_column": 4
        }
       ]
      },
      "text/plain": "   DATE_SOLD          PRICE\n0 2018-01-31  700941.987310\n1 2018-02-28  692248.801909\n2 2018-03-31  664642.708911\n3 2018-04-30  637053.050439\n4 2018-05-31  656900.253385",
      "text/html": "<div>\n<style scoped>\n    .dataframe tbody tr th:only-of-type {\n        vertical-align: middle;\n    }\n\n    .dataframe tbody tr th {\n        vertical-align: top;\n    }\n\n    .dataframe thead th {\n        text-align: right;\n    }\n</style>\n<table border=\"1\" class=\"dataframe\">\n  <thead>\n    <tr style=\"text-align: right;\">\n      <th></th>\n      <th>DATE_SOLD</th>\n      <th>PRICE</th>\n    </tr>\n  </thead>\n  <tbody>\n    <tr>\n      <th>0</th>\n      <td>2018-01-31</td>\n      <td>700941.987310</td>\n    </tr>\n    <tr>\n      <th>1</th>\n      <td>2018-02-28</td>\n      <td>692248.801909</td>\n    </tr>\n    <tr>\n      <th>2</th>\n      <td>2018-03-31</td>\n      <td>664642.708911</td>\n    </tr>\n    <tr>\n      <th>3</th>\n      <td>2018-04-30</td>\n      <td>637053.050439</td>\n    </tr>\n    <tr>\n      <th>4</th>\n      <td>2018-05-31</td>\n      <td>656900.253385</td>\n    </tr>\n  </tbody>\n</table>\n</div>"
     },
     "metadata": {}
    }
   ],
   "execution_count": null
  },
  {
   "cell_type": "markdown",
   "source": "<a style='text-decoration:none;line-height:16px;display:flex;color:#5B5B62;padding:10px;justify-content:end;' href='https://deepnote.com?utm_source=created-in-deepnote-cell&projectId=7622d86f-bc43-4970-be08-1eec18806f26' target=\"_blank\">\n<img alt='Created in deepnote.com' style='display:inline;max-height:16px;margin:0px;margin-right:7.5px;' src='data:image/svg+xml;base64,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' > </img>\nCreated in <span style='font-weight:600;margin-left:4px;'>Deepnote</span></a>",
   "metadata": {
    "tags": [],
    "created_in_deepnote_cell": true,
    "deepnote_cell_type": "markdown"
   }
  }
 ],
 "nbformat": 4,
 "nbformat_minor": 2,
 "metadata": {
  "orig_nbformat": 2,
  "deepnote": {
   "is_reactive": false
  },
  "deepnote_notebook_id": "c4873b24-b628-4c4f-9547-7da66e92d50a",
  "deepnote_execution_queue": []
 }
}