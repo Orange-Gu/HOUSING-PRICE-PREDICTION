{
 "cells": [
  {
   "cell_type": "code",
   "execution_count": null,
   "metadata": {
    "cell_id": "d6c91c94-1b8c-40bd-8993-ddbb4cf5b316",
    "deepnote_cell_height": 207,
    "deepnote_cell_type": "code",
    "deepnote_to_be_reexecuted": false,
    "execution_millis": 2105,
    "execution_start": 1646968618396,
    "source_hash": "1c9c7811",
    "tags": []
   },
   "outputs": [],
   "source": [
    "import numpy as np\n",
    "from numpy import random\n",
    "import pandas as pd\n",
    "\n",
    "import matplotlib.pyplot as plt\n",
    "\n",
    "import seaborn as sns\n",
    "sns.set()"
   ]
  },
  {
   "cell_type": "code",
   "execution_count": null,
   "metadata": {
    "cell_id": "3a53fce7-a2dd-4a16-8c57-8733b617e6de",
    "deepnote_cell_height": 81,
    "deepnote_cell_type": "code",
    "deepnote_to_be_reexecuted": false,
    "execution_millis": 71,
    "execution_start": 1646968620509,
    "source_hash": "ec2cbcb1",
    "tags": []
   },
   "outputs": [],
   "source": [
    "df = pd.read_csv(\"perth_pro.csv\")"
   ]
  },
  {
   "cell_type": "code",
   "execution_count": null,
   "metadata": {
    "cell_id": "291548d4-7351-4291-b39b-59f3d9985acf",
    "deepnote_cell_height": 393,
    "deepnote_cell_type": "code",
    "deepnote_to_be_reexecuted": false,
    "execution_millis": 292,
    "execution_start": 1646968620662,
    "source_hash": "c085b6ba",
    "tags": []
   },
   "outputs": [
    {
     "data": {
      "application/vnd.deepnote.dataframe.v3+json": {
       "column_count": 22,
       "columns": [
        {
         "dtype": "int64",
         "name": "Unnamed: 0",
         "stats": {
          "histogram": [
           {
            "bin_end": 0.4,
            "bin_start": 0,
            "count": 1
           },
           {
            "bin_end": 0.8,
            "bin_start": 0.4,
            "count": 0
           },
           {
            "bin_end": 1.2000000000000002,
            "bin_start": 0.8,
            "count": 1
           },
           {
            "bin_end": 1.6,
            "bin_start": 1.2000000000000002,
            "count": 0
           },
           {
            "bin_end": 2,
            "bin_start": 1.6,
            "count": 0
           },
           {
            "bin_end": 2.4000000000000004,
            "bin_start": 2,
            "count": 1
           },
           {
            "bin_end": 2.8000000000000003,
            "bin_start": 2.4000000000000004,
            "count": 0
           },
           {
            "bin_end": 3.2,
            "bin_start": 2.8000000000000003,
            "count": 1
           },
           {
            "bin_end": 3.6,
            "bin_start": 3.2,
            "count": 0
           },
           {
            "bin_end": 4,
            "bin_start": 3.6,
            "count": 1
           }
          ],
          "max": "4",
          "min": "0",
          "nan_count": 0,
          "unique_count": 5
         }
        },
        {
         "dtype": "object",
         "name": "ADDRESS",
         "stats": {
          "categories": [
           {
            "count": 1,
            "name": "52 Graham Road"
           },
           {
            "count": 1,
            "name": "111 Willmott Drive"
           },
           {
            "count": 3,
            "name": "3 others"
           }
          ],
          "nan_count": 0,
          "unique_count": 5
         }
        },
        {
         "dtype": "object",
         "name": "SUBURB",
         "stats": {
          "categories": [
           {
            "count": 1,
            "name": "Gooseberry Hill"
           },
           {
            "count": 1,
            "name": "Cooloongup"
           },
           {
            "count": 3,
            "name": "3 others"
           }
          ],
          "nan_count": 0,
          "unique_count": 5
         }
        },
        {
         "dtype": "int64",
         "name": "PRICE",
         "stats": {
          "histogram": [
           {
            "bin_end": 421000,
            "bin_start": 270000,
            "count": 1
           },
           {
            "bin_end": 572000,
            "bin_start": 421000,
            "count": 2
           },
           {
            "bin_end": 723000,
            "bin_start": 572000,
            "count": 0
           },
           {
            "bin_end": 874000,
            "bin_start": 723000,
            "count": 1
           },
           {
            "bin_end": 1025000,
            "bin_start": 874000,
            "count": 0
           },
           {
            "bin_end": 1176000,
            "bin_start": 1025000,
            "count": 0
           },
           {
            "bin_end": 1327000,
            "bin_start": 1176000,
            "count": 0
           },
           {
            "bin_end": 1478000,
            "bin_start": 1327000,
            "count": 0
           },
           {
            "bin_end": 1629000,
            "bin_start": 1478000,
            "count": 0
           },
           {
            "bin_end": 1780000,
            "bin_start": 1629000,
            "count": 1
           }
          ],
          "max": "1780000",
          "min": "270000",
          "nan_count": 0,
          "unique_count": 5
         }
        },
        {
         "dtype": "int64",
         "name": "BEDROOMS",
         "stats": {
          "histogram": [
           {
            "bin_end": 3.1,
            "bin_start": 3,
            "count": 3
           },
           {
            "bin_end": 3.2,
            "bin_start": 3.1,
            "count": 0
           },
           {
            "bin_end": 3.3,
            "bin_start": 3.2,
            "count": 0
           },
           {
            "bin_end": 3.4,
            "bin_start": 3.3,
            "count": 0
           },
           {
            "bin_end": 3.5,
            "bin_start": 3.4,
            "count": 0
           },
           {
            "bin_end": 3.6,
            "bin_start": 3.5,
            "count": 0
           },
           {
            "bin_end": 3.7,
            "bin_start": 3.6,
            "count": 0
           },
           {
            "bin_end": 3.8,
            "bin_start": 3.7,
            "count": 0
           },
           {
            "bin_end": 3.9,
            "bin_start": 3.8,
            "count": 0
           },
           {
            "bin_end": 4,
            "bin_start": 3.9,
            "count": 2
           }
          ],
          "max": "4",
          "min": "3",
          "nan_count": 0,
          "unique_count": 2
         }
        },
        {
         "dtype": "int64",
         "name": "BATHROOMS",
         "stats": {
          "histogram": [
           {
            "bin_end": 1.1,
            "bin_start": 1,
            "count": 1
           },
           {
            "bin_end": 1.2,
            "bin_start": 1.1,
            "count": 0
           },
           {
            "bin_end": 1.3,
            "bin_start": 1.2,
            "count": 0
           },
           {
            "bin_end": 1.4,
            "bin_start": 1.3,
            "count": 0
           },
           {
            "bin_end": 1.5,
            "bin_start": 1.4,
            "count": 0
           },
           {
            "bin_end": 1.6,
            "bin_start": 1.5,
            "count": 0
           },
           {
            "bin_end": 1.7000000000000002,
            "bin_start": 1.6,
            "count": 0
           },
           {
            "bin_end": 1.8,
            "bin_start": 1.7000000000000002,
            "count": 0
           },
           {
            "bin_end": 1.9,
            "bin_start": 1.8,
            "count": 0
           },
           {
            "bin_end": 2,
            "bin_start": 1.9,
            "count": 4
           }
          ],
          "max": "2",
          "min": "1",
          "nan_count": 0,
          "unique_count": 2
         }
        },
        {
         "dtype": "float64",
         "name": "GARAGE",
         "stats": {
          "histogram": [
           {
            "bin_end": 1.1,
            "bin_start": 1,
            "count": 1
           },
           {
            "bin_end": 1.2,
            "bin_start": 1.1,
            "count": 0
           },
           {
            "bin_end": 1.3,
            "bin_start": 1.2,
            "count": 0
           },
           {
            "bin_end": 1.4,
            "bin_start": 1.3,
            "count": 0
           },
           {
            "bin_end": 1.5,
            "bin_start": 1.4,
            "count": 0
           },
           {
            "bin_end": 1.6,
            "bin_start": 1.5,
            "count": 0
           },
           {
            "bin_end": 1.7000000000000002,
            "bin_start": 1.6,
            "count": 0
           },
           {
            "bin_end": 1.8,
            "bin_start": 1.7000000000000002,
            "count": 0
           },
           {
            "bin_end": 1.9,
            "bin_start": 1.8,
            "count": 0
           },
           {
            "bin_end": 2,
            "bin_start": 1.9,
            "count": 3
           }
          ],
          "max": "2.0",
          "min": "1.0",
          "nan_count": 1,
          "unique_count": 2
         }
        },
        {
         "dtype": "int64",
         "name": "LAND_AREA",
         "stats": {
          "histogram": [
           {
            "bin_end": 641.4,
            "bin_start": 474,
            "count": 1
           },
           {
            "bin_end": 808.8,
            "bin_start": 641.4,
            "count": 1
           },
           {
            "bin_end": 976.2,
            "bin_start": 808.8,
            "count": 2
           },
           {
            "bin_end": 1143.6,
            "bin_start": 976.2,
            "count": 0
           },
           {
            "bin_end": 1311,
            "bin_start": 1143.6,
            "count": 0
           },
           {
            "bin_end": 1478.4,
            "bin_start": 1311,
            "count": 0
           },
           {
            "bin_end": 1645.8,
            "bin_start": 1478.4,
            "count": 0
           },
           {
            "bin_end": 1813.2,
            "bin_start": 1645.8,
            "count": 0
           },
           {
            "bin_end": 1980.6000000000001,
            "bin_start": 1813.2,
            "count": 0
           },
           {
            "bin_end": 2148,
            "bin_start": 1980.6000000000001,
            "count": 1
           }
          ],
          "max": "2148",
          "min": "474",
          "nan_count": 0,
          "unique_count": 5
         }
        },
        {
         "dtype": "int64",
         "name": "FLOOR_AREA",
         "stats": {
          "histogram": [
           {
            "bin_end": 107.3,
            "bin_start": 90,
            "count": 1
           },
           {
            "bin_end": 124.6,
            "bin_start": 107.3,
            "count": 0
           },
           {
            "bin_end": 141.9,
            "bin_start": 124.6,
            "count": 0
           },
           {
            "bin_end": 159.2,
            "bin_start": 141.9,
            "count": 1
           },
           {
            "bin_end": 176.5,
            "bin_start": 159.2,
            "count": 0
           },
           {
            "bin_end": 193.8,
            "bin_start": 176.5,
            "count": 2
           },
           {
            "bin_end": 211.10000000000002,
            "bin_start": 193.8,
            "count": 0
           },
           {
            "bin_end": 228.4,
            "bin_start": 211.10000000000002,
            "count": 0
           },
           {
            "bin_end": 245.70000000000002,
            "bin_start": 228.4,
            "count": 0
           },
           {
            "bin_end": 263,
            "bin_start": 245.70000000000002,
            "count": 1
           }
          ],
          "max": "263",
          "min": "90",
          "nan_count": 0,
          "unique_count": 5
         }
        },
        {
         "dtype": "float64",
         "name": "BUILD_YEAR",
         "stats": {
          "histogram": [
           {
            "bin_end": 1979.4,
            "bin_start": 1976,
            "count": 1
           },
           {
            "bin_end": 1982.8,
            "bin_start": 1979.4,
            "count": 0
           },
           {
            "bin_end": 1986.2,
            "bin_start": 1982.8,
            "count": 0
           },
           {
            "bin_end": 1989.6,
            "bin_start": 1986.2,
            "count": 1
           },
           {
            "bin_end": 1993,
            "bin_start": 1989.6,
            "count": 1
           },
           {
            "bin_end": 1996.4,
            "bin_start": 1993,
            "count": 0
           },
           {
            "bin_end": 1999.8,
            "bin_start": 1996.4,
            "count": 0
           },
           {
            "bin_end": 2003.2,
            "bin_start": 1999.8,
            "count": 0
           },
           {
            "bin_end": 2006.6,
            "bin_start": 2003.2,
            "count": 0
           },
           {
            "bin_end": 2010,
            "bin_start": 2006.6,
            "count": 1
           }
          ],
          "max": "2010.0",
          "min": "1976.0",
          "nan_count": 1,
          "unique_count": 4
         }
        },
        {
         "dtype": "int64",
         "name": "CBD_DIST",
         "stats": {
          "histogram": [
           {
            "bin_end": 10760,
            "bin_start": 7500,
            "count": 1
           },
           {
            "bin_end": 14020,
            "bin_start": 10760,
            "count": 0
           },
           {
            "bin_end": 17280,
            "bin_start": 14020,
            "count": 1
           },
           {
            "bin_end": 20540,
            "bin_start": 17280,
            "count": 2
           },
           {
            "bin_end": 23800,
            "bin_start": 20540,
            "count": 0
           },
           {
            "bin_end": 27060,
            "bin_start": 23800,
            "count": 0
           },
           {
            "bin_end": 30320,
            "bin_start": 27060,
            "count": 0
           },
           {
            "bin_end": 33580,
            "bin_start": 30320,
            "count": 0
           },
           {
            "bin_end": 36840,
            "bin_start": 33580,
            "count": 0
           },
           {
            "bin_end": 40100,
            "bin_start": 36840,
            "count": 1
           }
          ],
          "max": "40100",
          "min": "7500",
          "nan_count": 0,
          "unique_count": 5
         }
        },
        {
         "dtype": "object",
         "name": "NEAREST_STN",
         "stats": {
          "categories": [
           {
            "count": 2,
            "name": "Midland Station"
           },
           {
            "count": 1,
            "name": "Rockingham Station"
           },
           {
            "count": 2,
            "name": "2 others"
           }
          ],
          "nan_count": 0,
          "unique_count": 4
         }
        },
        {
         "dtype": "int64",
         "name": "NEAREST_STN_DIST",
         "stats": {
          "histogram": [
           {
            "bin_end": 1910,
            "bin_start": 1300,
            "count": 2
           },
           {
            "bin_end": 2520,
            "bin_start": 1910,
            "count": 0
           },
           {
            "bin_end": 3130,
            "bin_start": 2520,
            "count": 0
           },
           {
            "bin_end": 3740,
            "bin_start": 3130,
            "count": 0
           },
           {
            "bin_end": 4350,
            "bin_start": 3740,
            "count": 1
           },
           {
            "bin_end": 4960,
            "bin_start": 4350,
            "count": 0
           },
           {
            "bin_end": 5570,
            "bin_start": 4960,
            "count": 1
           },
           {
            "bin_end": 6180,
            "bin_start": 5570,
            "count": 0
           },
           {
            "bin_end": 6790,
            "bin_start": 6180,
            "count": 0
           },
           {
            "bin_end": 7400,
            "bin_start": 6790,
            "count": 1
           }
          ],
          "max": "7400",
          "min": "1300",
          "nan_count": 0,
          "unique_count": 5
         }
        },
        {
         "dtype": "object",
         "name": "DATE_SOLD",
         "stats": {
          "categories": [
           {
            "count": 5,
            "name": "2018-01-01"
           }
          ],
          "nan_count": 0,
          "unique_count": 1
         }
        },
        {
         "dtype": "int64",
         "name": "POSTCODE",
         "stats": {
          "histogram": [
           {
            "bin_end": 6025.8,
            "bin_start": 6010,
            "count": 1
           },
           {
            "bin_end": 6041.6,
            "bin_start": 6025.8,
            "count": 0
           },
           {
            "bin_end": 6057.4,
            "bin_start": 6041.6,
            "count": 2
           },
           {
            "bin_end": 6073.2,
            "bin_start": 6057.4,
            "count": 0
           },
           {
            "bin_end": 6089,
            "bin_start": 6073.2,
            "count": 1
           },
           {
            "bin_end": 6104.8,
            "bin_start": 6089,
            "count": 0
           },
           {
            "bin_end": 6120.6,
            "bin_start": 6104.8,
            "count": 0
           },
           {
            "bin_end": 6136.4,
            "bin_start": 6120.6,
            "count": 0
           },
           {
            "bin_end": 6152.2,
            "bin_start": 6136.4,
            "count": 0
           },
           {
            "bin_end": 6168,
            "bin_start": 6152.2,
            "count": 1
           }
          ],
          "max": "6168",
          "min": "6010",
          "nan_count": 0,
          "unique_count": 5
         }
        },
        {
         "dtype": "float64",
         "name": "LATITUDE",
         "stats": {
          "histogram": [
           {
            "bin_end": -32.258111386,
            "bin_start": -32.3019,
            "count": 1
           },
           {
            "bin_end": -32.214322772,
            "bin_start": -32.258111386,
            "count": 0
           },
           {
            "bin_end": -32.170534158,
            "bin_start": -32.214322772,
            "count": 0
           },
           {
            "bin_end": -32.126745544,
            "bin_start": -32.170534158,
            "count": 0
           },
           {
            "bin_end": -32.08295693,
            "bin_start": -32.126745544,
            "count": 0
           },
           {
            "bin_end": -32.039168316,
            "bin_start": -32.08295693,
            "count": 0
           },
           {
            "bin_end": -31.995379702,
            "bin_start": -32.039168316,
            "count": 0
           },
           {
            "bin_end": -31.951591088,
            "bin_start": -31.995379702,
            "count": 1
           },
           {
            "bin_end": -31.907802474,
            "bin_start": -31.951591088,
            "count": 1
           },
           {
            "bin_end": -31.86401386,
            "bin_start": -31.907802474,
            "count": 2
           }
          ],
          "max": "-31.86401386",
          "min": "-32.3019",
          "nan_count": 0,
          "unique_count": 5
         }
        },
        {
         "dtype": "float64",
         "name": "LONGITUDE",
         "stats": {
          "histogram": [
           {
            "bin_end": 115.78728943,
            "bin_start": 115.75776,
            "count": 2
           },
           {
            "bin_end": 115.81681886,
            "bin_start": 115.78728943,
            "count": 0
           },
           {
            "bin_end": 115.84634829000001,
            "bin_start": 115.81681886,
            "count": 0
           },
           {
            "bin_end": 115.87587772,
            "bin_start": 115.84634829000001,
            "count": 0
           },
           {
            "bin_end": 115.90540715,
            "bin_start": 115.87587772,
            "count": 0
           },
           {
            "bin_end": 115.93493658,
            "bin_start": 115.90540715,
            "count": 0
           },
           {
            "bin_end": 115.96446601,
            "bin_start": 115.93493658,
            "count": 0
           },
           {
            "bin_end": 115.99399544,
            "bin_start": 115.96446601,
            "count": 1
           },
           {
            "bin_end": 116.02352487,
            "bin_start": 115.99399544,
            "count": 0
           },
           {
            "bin_end": 116.0530543,
            "bin_start": 116.02352487,
            "count": 2
           }
          ],
          "max": "116.0530543",
          "min": "115.75776",
          "nan_count": 0,
          "unique_count": 5
         }
        },
        {
         "dtype": "object",
         "name": "NEAREST_SCH",
         "stats": {
          "categories": [
           {
            "count": 1,
            "name": "TREETOPS MONTESSORI SCHOOL"
           },
           {
            "count": 1,
            "name": "SOUTH COAST BAPTIST COLLEGE"
           },
           {
            "count": 3,
            "name": "3 others"
           }
          ],
          "nan_count": 0,
          "unique_count": 5
         }
        },
        {
         "dtype": "float64",
         "name": "NEAREST_SCH_DIST",
         "stats": {
          "histogram": [
           {
            "bin_end": 0.8460370631995529,
            "bin_start": 0.5727734654777153,
            "count": 1
           },
           {
            "bin_end": 1.1193006609213902,
            "bin_start": 0.8460370631995529,
            "count": 1
           },
           {
            "bin_end": 1.3925642586432279,
            "bin_start": 1.1193006609213902,
            "count": 0
           },
           {
            "bin_end": 1.6658278563650653,
            "bin_start": 1.3925642586432279,
            "count": 1
           },
           {
            "bin_end": 1.9390914540869026,
            "bin_start": 1.6658278563650653,
            "count": 0
           },
           {
            "bin_end": 2.21235505180874,
            "bin_start": 1.9390914540869026,
            "count": 0
           },
           {
            "bin_end": 2.4856186495305774,
            "bin_start": 2.21235505180874,
            "count": 0
           },
           {
            "bin_end": 2.758882247252415,
            "bin_start": 2.4856186495305774,
            "count": 0
           },
           {
            "bin_end": 3.032145844974252,
            "bin_start": 2.758882247252415,
            "count": 0
           },
           {
            "bin_end": 3.3054094426960896,
            "bin_start": 3.032145844974252,
            "count": 2
           }
          ],
          "max": "3.3054094426960896",
          "min": "0.5727734654777153",
          "nan_count": 0,
          "unique_count": 5
         }
        },
        {
         "dtype": "float64",
         "name": "NEAREST_SCH_RANK",
         "stats": {
          "histogram": [
           {
            "bin_end": 27.2,
            "bin_start": 8,
            "count": 1
           },
           {
            "bin_end": 46.4,
            "bin_start": 27.2,
            "count": 0
           },
           {
            "bin_end": 65.6,
            "bin_start": 46.4,
            "count": 1
           },
           {
            "bin_end": 84.8,
            "bin_start": 65.6,
            "count": 0
           },
           {
            "bin_end": 104,
            "bin_start": 84.8,
            "count": 0
           },
           {
            "bin_end": 123.19999999999999,
            "bin_start": 104,
            "count": 0
           },
           {
            "bin_end": 142.4,
            "bin_start": 123.19999999999999,
            "count": 1
           },
           {
            "bin_end": 161.6,
            "bin_start": 142.4,
            "count": 1
           },
           {
            "bin_end": 180.79999999999998,
            "bin_start": 161.6,
            "count": 0
           },
           {
            "bin_end": 200,
            "bin_start": 180.79999999999998,
            "count": 1
           }
          ],
          "max": "200.0",
          "min": "8.0",
          "nan_count": 0,
          "unique_count": 5
         }
        },
        {
         "dtype": "float64",
         "name": "station_num",
         "stats": {
          "histogram": [
           {
            "bin_end": 2.5,
            "bin_start": 1,
            "count": 1
           },
           {
            "bin_end": 4,
            "bin_start": 2.5,
            "count": 0
           },
           {
            "bin_end": 5.5,
            "bin_start": 4,
            "count": 0
           },
           {
            "bin_end": 7,
            "bin_start": 5.5,
            "count": 1
           },
           {
            "bin_end": 8.5,
            "bin_start": 7,
            "count": 0
           },
           {
            "bin_end": 10,
            "bin_start": 8.5,
            "count": 1
           },
           {
            "bin_end": 11.5,
            "bin_start": 10,
            "count": 0
           },
           {
            "bin_end": 13,
            "bin_start": 11.5,
            "count": 0
           },
           {
            "bin_end": 14.5,
            "bin_start": 13,
            "count": 0
           },
           {
            "bin_end": 16,
            "bin_start": 14.5,
            "count": 2
           }
          ],
          "max": "16.0",
          "min": "1.0",
          "nan_count": 0,
          "unique_count": 5
         }
        },
        {
         "dtype": "float64",
         "name": "NEAREST_CEM_DIST",
         "stats": {
          "histogram": [
           {
            "bin_end": 2373.353251080988,
            "bin_start": 1898.1575284468013,
            "count": 1
           },
           {
            "bin_end": 2848.5489737151747,
            "bin_start": 2373.353251080988,
            "count": 0
           },
           {
            "bin_end": 3323.744696349361,
            "bin_start": 2848.5489737151747,
            "count": 0
           },
           {
            "bin_end": 3798.9404189835477,
            "bin_start": 3323.744696349361,
            "count": 1
           },
           {
            "bin_end": 4274.136141617735,
            "bin_start": 3798.9404189835477,
            "count": 2
           },
           {
            "bin_end": 4749.331864251921,
            "bin_start": 4274.136141617735,
            "count": 0
           },
           {
            "bin_end": 5224.527586886108,
            "bin_start": 4749.331864251921,
            "count": 0
           },
           {
            "bin_end": 5699.723309520295,
            "bin_start": 5224.527586886108,
            "count": 0
           },
           {
            "bin_end": 6174.919032154481,
            "bin_start": 5699.723309520295,
            "count": 0
           },
           {
            "bin_end": 6650.1147547886685,
            "bin_start": 6174.919032154481,
            "count": 1
           }
          ],
          "max": "6650.1147547886685",
          "min": "1898.1575284468013",
          "nan_count": 0,
          "unique_count": 5
         }
        },
        {
         "dtype": "int64",
         "name": "_deepnote_index_column"
        }
       ],
       "row_count": 5,
       "rows": [
        {
         "ADDRESS": "52 Graham Road",
         "BATHROOMS": 2,
         "BEDROOMS": 3,
         "BUILD_YEAR": 1976,
         "CBD_DIST": 18300,
         "DATE_SOLD": "2018-01-01",
         "FLOOR_AREA": 192,
         "GARAGE": 2,
         "LAND_AREA": 2148,
         "LATITUDE": -31.9420119,
         "LONGITUDE": 116.0518514,
         "NEAREST_CEM_DIST": 6650.1147547886685,
         "NEAREST_SCH": "TREETOPS MONTESSORI SCHOOL",
         "NEAREST_SCH_DIST": 3.2318402154123724,
         "NEAREST_SCH_RANK": 200,
         "NEAREST_STN": "Midland Station",
         "NEAREST_STN_DIST": 7400,
         "POSTCODE": 6076,
         "PRICE": 855000,
         "SUBURB": "Gooseberry Hill",
         "Unnamed: 0": 0,
         "_deepnote_index_column": 0,
         "station_num": 1
        },
        {
         "ADDRESS": "111 Willmott Drive",
         "BATHROOMS": 1,
         "BEDROOMS": 3,
         "BUILD_YEAR": 1988,
         "CBD_DIST": 40100,
         "DATE_SOLD": "2018-01-01",
         "FLOOR_AREA": 90,
         "GARAGE": 1,
         "LAND_AREA": 681,
         "LATITUDE": -32.3019,
         "LONGITUDE": 115.75776,
         "NEAREST_CEM_DIST": 3395.069163796835,
         "NEAREST_SCH": "SOUTH COAST BAPTIST COLLEGE",
         "NEAREST_SCH_DIST": 1.4973082247652618,
         "NEAREST_SCH_RANK": 54,
         "NEAREST_STN": "Rockingham Station",
         "NEAREST_STN_DIST": 1300,
         "POSTCODE": 6168,
         "PRICE": 270000,
         "SUBURB": "Cooloongup",
         "Unnamed: 0": 1,
         "_deepnote_index_column": 1,
         "station_num": 9
        },
        {
         "ADDRESS": "12 Moreto Turn",
         "BATHROOMS": 2,
         "BEDROOMS": 4,
         "BUILD_YEAR": "nan",
         "CBD_DIST": 14300,
         "DATE_SOLD": "2018-01-01",
         "FLOOR_AREA": 189,
         "GARAGE": 2,
         "LAND_AREA": 474,
         "LATITUDE": -31.86401386,
         "LONGITUDE": 115.9697493,
         "NEAREST_CEM_DIST": 3937.034611183589,
         "NEAREST_SCH": "GOVERNOR STIRLING SENIOR HIGH SCHOOL",
         "NEAREST_SCH_DIST": 3.3054094426960896,
         "NEAREST_SCH_RANK": 130,
         "NEAREST_STN": "Guildford Station",
         "NEAREST_STN_DIST": 3800,
         "POSTCODE": 6055,
         "PRICE": 502500,
         "SUBURB": "Caversham",
         "Unnamed: 0": 2,
         "_deepnote_index_column": 2,
         "station_num": 6
        },
        {
         "ADDRESS": "6 Finchley Rise",
         "BATHROOMS": 2,
         "BEDROOMS": 4,
         "BUILD_YEAR": 1991,
         "CBD_DIST": 7500,
         "DATE_SOLD": "2018-01-01",
         "FLOOR_AREA": 263,
         "GARAGE": 2,
         "LAND_AREA": 916,
         "LATITUDE": -31.96374,
         "LONGITUDE": 115.78073,
         "NEAREST_CEM_DIST": 1898.1575284468013,
         "NEAREST_SCH": "JOHN XXIII COLLEGE",
         "NEAREST_SCH_DIST": 0.5727734654777153,
         "NEAREST_SCH_RANK": 8,
         "NEAREST_STN": "Claremont Station",
         "NEAREST_STN_DIST": 1900,
         "POSTCODE": 6010,
         "PRICE": 1780000,
         "SUBURB": "Mount Claremont",
         "Unnamed: 0": 3,
         "_deepnote_index_column": 3,
         "station_num": 15
        },
        {
         "ADDRESS": "32a Talbot Road",
         "BATHROOMS": 2,
         "BEDROOMS": 3,
         "BUILD_YEAR": 2010,
         "CBD_DIST": 19900,
         "DATE_SOLD": "2018-01-01",
         "FLOOR_AREA": 152,
         "GARAGE": "nan",
         "LAND_AREA": 850,
         "LATITUDE": -31.88291153,
         "LONGITUDE": 116.0530543,
         "NEAREST_CEM_DIST": 3867.178161692481,
         "NEAREST_SCH": "SWAN VIEW SENIOR HIGH SCHOOL",
         "NEAREST_SCH_DIST": 0.9677361932259728,
         "NEAREST_SCH_RANK": 149,
         "NEAREST_STN": "Midland Station",
         "NEAREST_STN_DIST": 5000,
         "POSTCODE": 6056,
         "PRICE": 428000,
         "SUBURB": "Swan View",
         "Unnamed: 0": 4,
         "_deepnote_index_column": 4,
         "station_num": 16
        }
       ]
      },
      "text/html": [
       "<div>\n",
       "<style scoped>\n",
       "    .dataframe tbody tr th:only-of-type {\n",
       "        vertical-align: middle;\n",
       "    }\n",
       "\n",
       "    .dataframe tbody tr th {\n",
       "        vertical-align: top;\n",
       "    }\n",
       "\n",
       "    .dataframe thead th {\n",
       "        text-align: right;\n",
       "    }\n",
       "</style>\n",
       "<table border=\"1\" class=\"dataframe\">\n",
       "  <thead>\n",
       "    <tr style=\"text-align: right;\">\n",
       "      <th></th>\n",
       "      <th>Unnamed: 0</th>\n",
       "      <th>ADDRESS</th>\n",
       "      <th>SUBURB</th>\n",
       "      <th>PRICE</th>\n",
       "      <th>BEDROOMS</th>\n",
       "      <th>BATHROOMS</th>\n",
       "      <th>GARAGE</th>\n",
       "      <th>LAND_AREA</th>\n",
       "      <th>FLOOR_AREA</th>\n",
       "      <th>BUILD_YEAR</th>\n",
       "      <th>...</th>\n",
       "      <th>NEAREST_STN_DIST</th>\n",
       "      <th>DATE_SOLD</th>\n",
       "      <th>POSTCODE</th>\n",
       "      <th>LATITUDE</th>\n",
       "      <th>LONGITUDE</th>\n",
       "      <th>NEAREST_SCH</th>\n",
       "      <th>NEAREST_SCH_DIST</th>\n",
       "      <th>NEAREST_SCH_RANK</th>\n",
       "      <th>station_num</th>\n",
       "      <th>NEAREST_CEM_DIST</th>\n",
       "    </tr>\n",
       "  </thead>\n",
       "  <tbody>\n",
       "    <tr>\n",
       "      <th>0</th>\n",
       "      <td>0</td>\n",
       "      <td>52 Graham Road</td>\n",
       "      <td>Gooseberry Hill</td>\n",
       "      <td>855000</td>\n",
       "      <td>3</td>\n",
       "      <td>2</td>\n",
       "      <td>2.0</td>\n",
       "      <td>2148</td>\n",
       "      <td>192</td>\n",
       "      <td>1976.0</td>\n",
       "      <td>...</td>\n",
       "      <td>7400</td>\n",
       "      <td>2018-01-01</td>\n",
       "      <td>6076</td>\n",
       "      <td>-31.942012</td>\n",
       "      <td>116.051851</td>\n",
       "      <td>TREETOPS MONTESSORI SCHOOL</td>\n",
       "      <td>3.231840</td>\n",
       "      <td>200.0</td>\n",
       "      <td>1.0</td>\n",
       "      <td>6650.114755</td>\n",
       "    </tr>\n",
       "    <tr>\n",
       "      <th>1</th>\n",
       "      <td>1</td>\n",
       "      <td>111 Willmott Drive</td>\n",
       "      <td>Cooloongup</td>\n",
       "      <td>270000</td>\n",
       "      <td>3</td>\n",
       "      <td>1</td>\n",
       "      <td>1.0</td>\n",
       "      <td>681</td>\n",
       "      <td>90</td>\n",
       "      <td>1988.0</td>\n",
       "      <td>...</td>\n",
       "      <td>1300</td>\n",
       "      <td>2018-01-01</td>\n",
       "      <td>6168</td>\n",
       "      <td>-32.301900</td>\n",
       "      <td>115.757760</td>\n",
       "      <td>SOUTH COAST BAPTIST COLLEGE</td>\n",
       "      <td>1.497308</td>\n",
       "      <td>54.0</td>\n",
       "      <td>9.0</td>\n",
       "      <td>3395.069164</td>\n",
       "    </tr>\n",
       "    <tr>\n",
       "      <th>2</th>\n",
       "      <td>2</td>\n",
       "      <td>12 Moreto Turn</td>\n",
       "      <td>Caversham</td>\n",
       "      <td>502500</td>\n",
       "      <td>4</td>\n",
       "      <td>2</td>\n",
       "      <td>2.0</td>\n",
       "      <td>474</td>\n",
       "      <td>189</td>\n",
       "      <td>NaN</td>\n",
       "      <td>...</td>\n",
       "      <td>3800</td>\n",
       "      <td>2018-01-01</td>\n",
       "      <td>6055</td>\n",
       "      <td>-31.864014</td>\n",
       "      <td>115.969749</td>\n",
       "      <td>GOVERNOR STIRLING SENIOR HIGH SCHOOL</td>\n",
       "      <td>3.305409</td>\n",
       "      <td>130.0</td>\n",
       "      <td>6.0</td>\n",
       "      <td>3937.034611</td>\n",
       "    </tr>\n",
       "    <tr>\n",
       "      <th>3</th>\n",
       "      <td>3</td>\n",
       "      <td>6 Finchley Rise</td>\n",
       "      <td>Mount Claremont</td>\n",
       "      <td>1780000</td>\n",
       "      <td>4</td>\n",
       "      <td>2</td>\n",
       "      <td>2.0</td>\n",
       "      <td>916</td>\n",
       "      <td>263</td>\n",
       "      <td>1991.0</td>\n",
       "      <td>...</td>\n",
       "      <td>1900</td>\n",
       "      <td>2018-01-01</td>\n",
       "      <td>6010</td>\n",
       "      <td>-31.963740</td>\n",
       "      <td>115.780730</td>\n",
       "      <td>JOHN XXIII COLLEGE</td>\n",
       "      <td>0.572773</td>\n",
       "      <td>8.0</td>\n",
       "      <td>15.0</td>\n",
       "      <td>1898.157528</td>\n",
       "    </tr>\n",
       "    <tr>\n",
       "      <th>4</th>\n",
       "      <td>4</td>\n",
       "      <td>32a Talbot Road</td>\n",
       "      <td>Swan View</td>\n",
       "      <td>428000</td>\n",
       "      <td>3</td>\n",
       "      <td>2</td>\n",
       "      <td>NaN</td>\n",
       "      <td>850</td>\n",
       "      <td>152</td>\n",
       "      <td>2010.0</td>\n",
       "      <td>...</td>\n",
       "      <td>5000</td>\n",
       "      <td>2018-01-01</td>\n",
       "      <td>6056</td>\n",
       "      <td>-31.882912</td>\n",
       "      <td>116.053054</td>\n",
       "      <td>SWAN VIEW SENIOR HIGH SCHOOL</td>\n",
       "      <td>0.967736</td>\n",
       "      <td>149.0</td>\n",
       "      <td>16.0</td>\n",
       "      <td>3867.178162</td>\n",
       "    </tr>\n",
       "  </tbody>\n",
       "</table>\n",
       "<p>5 rows × 22 columns</p>\n",
       "</div>"
      ],
      "text/plain": [
       "   Unnamed: 0             ADDRESS           SUBURB    PRICE  BEDROOMS  \\\n",
       "0           0      52 Graham Road  Gooseberry Hill   855000         3   \n",
       "1           1  111 Willmott Drive       Cooloongup   270000         3   \n",
       "2           2      12 Moreto Turn        Caversham   502500         4   \n",
       "3           3     6 Finchley Rise  Mount Claremont  1780000         4   \n",
       "4           4     32a Talbot Road        Swan View   428000         3   \n",
       "\n",
       "   BATHROOMS  GARAGE  LAND_AREA  FLOOR_AREA  BUILD_YEAR  ...  \\\n",
       "0          2     2.0       2148         192      1976.0  ...   \n",
       "1          1     1.0        681          90      1988.0  ...   \n",
       "2          2     2.0        474         189         NaN  ...   \n",
       "3          2     2.0        916         263      1991.0  ...   \n",
       "4          2     NaN        850         152      2010.0  ...   \n",
       "\n",
       "   NEAREST_STN_DIST   DATE_SOLD  POSTCODE   LATITUDE   LONGITUDE  \\\n",
       "0              7400  2018-01-01      6076 -31.942012  116.051851   \n",
       "1              1300  2018-01-01      6168 -32.301900  115.757760   \n",
       "2              3800  2018-01-01      6055 -31.864014  115.969749   \n",
       "3              1900  2018-01-01      6010 -31.963740  115.780730   \n",
       "4              5000  2018-01-01      6056 -31.882912  116.053054   \n",
       "\n",
       "                            NEAREST_SCH  NEAREST_SCH_DIST NEAREST_SCH_RANK  \\\n",
       "0            TREETOPS MONTESSORI SCHOOL          3.231840            200.0   \n",
       "1           SOUTH COAST BAPTIST COLLEGE          1.497308             54.0   \n",
       "2  GOVERNOR STIRLING SENIOR HIGH SCHOOL          3.305409            130.0   \n",
       "3                    JOHN XXIII COLLEGE          0.572773              8.0   \n",
       "4          SWAN VIEW SENIOR HIGH SCHOOL          0.967736            149.0   \n",
       "\n",
       "   station_num  NEAREST_CEM_DIST  \n",
       "0          1.0       6650.114755  \n",
       "1          9.0       3395.069164  \n",
       "2          6.0       3937.034611  \n",
       "3         15.0       1898.157528  \n",
       "4         16.0       3867.178162  \n",
       "\n",
       "[5 rows x 22 columns]"
      ]
     },
     "execution_count": 3,
     "metadata": {},
     "output_type": "execute_result"
    }
   ],
   "source": [
    "df.head()"
   ]
  },
  {
   "cell_type": "code",
   "execution_count": null,
   "metadata": {
    "cell_id": "55a484fd-9bf3-4e5d-9742-7773fcae0e66",
    "deepnote_cell_height": 99,
    "deepnote_cell_type": "code",
    "deepnote_to_be_reexecuted": false,
    "execution_millis": 0,
    "execution_start": 1646968620785,
    "source_hash": "e72ba229",
    "tags": []
   },
   "outputs": [],
   "source": [
    "df = df.fillna(0)\n",
    "df = pd.DataFrame(df,columns = [\"PRICE\",\"BEDROOMS\",\"BATHROOMS\",\"GARAGE\",\"LAND_AREA\",\"BUILD_YEAR\",\"FLOOR_AREA\",\"CBD_DIST\",\"NEAREST_SCH_RANK\",\"NEAREST_STN_DIST\",\"NEAREST_SCH_DIST\",\"station_num\",\"NEAREST_CEM_DIST\"])"
   ]
  },
  {
   "cell_type": "code",
   "execution_count": null,
   "metadata": {
    "cell_id": "9d44f12e-7cc0-401a-93af-24926252c90a",
    "deepnote_cell_height": 411,
    "deepnote_cell_type": "code",
    "deepnote_to_be_reexecuted": false,
    "execution_millis": 170,
    "execution_start": 1646968620786,
    "source_hash": "309620fd",
    "tags": []
   },
   "outputs": [
    {
     "data": {
      "application/vnd.deepnote.dataframe.v3+json": {
       "column_count": 13,
       "columns": [
        {
         "dtype": "float64",
         "name": "PRICE",
         "stats": {
          "histogram": [
           {
            "bin_end": 0.117884877145248,
            "bin_start": 0.019872085716942215,
            "count": 2
           },
           {
            "bin_end": 0.21589766857355377,
            "bin_start": 0.117884877145248,
            "count": 1
           },
           {
            "bin_end": 0.31391046000185957,
            "bin_start": 0.21589766857355377,
            "count": 0
           },
           {
            "bin_end": 0.41192325143016534,
            "bin_start": 0.31391046000185957,
            "count": 1
           },
           {
            "bin_end": 0.5099360428584712,
            "bin_start": 0.41192325143016534,
            "count": 0
           },
           {
            "bin_end": 0.6079488342867769,
            "bin_start": 0.5099360428584712,
            "count": 0
           },
           {
            "bin_end": 0.7059616257150827,
            "bin_start": 0.6079488342867769,
            "count": 0
           },
           {
            "bin_end": 0.8039744171433885,
            "bin_start": 0.7059616257150827,
            "count": 0
           },
           {
            "bin_end": 0.9019872085716942,
            "bin_start": 0.8039744171433885,
            "count": 0
           },
           {
            "bin_end": 1,
            "bin_start": 0.9019872085716942,
            "count": 1
           }
          ],
          "max": "1.0",
          "min": "0.019872085716942215",
          "nan_count": 0,
          "unique_count": 5
         }
        },
        {
         "dtype": "float64",
         "name": "BEDROOMS",
         "stats": {
          "histogram": [
           {
            "bin_end": 0.11750474381565766,
            "bin_start": 0.019449715350730725,
            "count": 1
           },
           {
            "bin_end": 0.2155597722805846,
            "bin_start": 0.11750474381565766,
            "count": 2
           },
           {
            "bin_end": 0.3136148007455115,
            "bin_start": 0.2155597722805846,
            "count": 0
           },
           {
            "bin_end": 0.41166982921043843,
            "bin_start": 0.3136148007455115,
            "count": 0
           },
           {
            "bin_end": 0.5097248576753654,
            "bin_start": 0.41166982921043843,
            "count": 0
           },
           {
            "bin_end": 0.6077798861402923,
            "bin_start": 0.5097248576753654,
            "count": 1
           },
           {
            "bin_end": 0.7058349146052192,
            "bin_start": 0.6077798861402923,
            "count": 0
           },
           {
            "bin_end": 0.8038899430701462,
            "bin_start": 0.7058349146052192,
            "count": 0
           },
           {
            "bin_end": 0.9019449715350731,
            "bin_start": 0.8038899430701462,
            "count": 0
           },
           {
            "bin_end": 1,
            "bin_start": 0.9019449715350731,
            "count": 1
           }
          ],
          "max": "1.0",
          "min": "0.019449715350730725",
          "nan_count": 0,
          "unique_count": 5
         }
        },
        {
         "dtype": "float64",
         "name": "BATHROOMS",
         "stats": {
          "histogram": [
           {
            "bin_end": 0.1133325273607517,
            "bin_start": 0.014813919289724104,
            "count": 1
           },
           {
            "bin_end": 0.2118511354317793,
            "bin_start": 0.1133325273607517,
            "count": 0
           },
           {
            "bin_end": 0.3103697435028069,
            "bin_start": 0.2118511354317793,
            "count": 1
           },
           {
            "bin_end": 0.40888835157383446,
            "bin_start": 0.3103697435028069,
            "count": 1
           },
           {
            "bin_end": 0.507406959644862,
            "bin_start": 0.40888835157383446,
            "count": 0
           },
           {
            "bin_end": 0.6059255677158897,
            "bin_start": 0.507406959644862,
            "count": 1
           },
           {
            "bin_end": 0.7044441757869172,
            "bin_start": 0.6059255677158897,
            "count": 0
           },
           {
            "bin_end": 0.8029627838579448,
            "bin_start": 0.7044441757869172,
            "count": 0
           },
           {
            "bin_end": 0.9014813919289725,
            "bin_start": 0.8029627838579448,
            "count": 0
           },
           {
            "bin_end": 1,
            "bin_start": 0.9014813919289725,
            "count": 1
           }
          ],
          "max": "1.0",
          "min": "0.014813919289724104",
          "nan_count": 0,
          "unique_count": 5
         }
        },
        {
         "dtype": "float64",
         "name": "GARAGE",
         "stats": {
          "histogram": [
           {
            "bin_end": 0.11731490661634848,
            "bin_start": 0.0192387851292761,
            "count": 2
           },
           {
            "bin_end": 0.21539102810342087,
            "bin_start": 0.11731490661634848,
            "count": 1
           },
           {
            "bin_end": 0.31346714959049327,
            "bin_start": 0.21539102810342087,
            "count": 1
           },
           {
            "bin_end": 0.41154327107756566,
            "bin_start": 0.31346714959049327,
            "count": 0
           },
           {
            "bin_end": 0.5096193925646381,
            "bin_start": 0.41154327107756566,
            "count": 0
           },
           {
            "bin_end": 0.6076955140517104,
            "bin_start": 0.5096193925646381,
            "count": 0
           },
           {
            "bin_end": 0.7057716355387829,
            "bin_start": 0.6076955140517104,
            "count": 0
           },
           {
            "bin_end": 0.8038477570258552,
            "bin_start": 0.7057716355387829,
            "count": 0
           },
           {
            "bin_end": 0.9019238785129275,
            "bin_start": 0.8038477570258552,
            "count": 0
           },
           {
            "bin_end": 1,
            "bin_start": 0.9019238785129275,
            "count": 1
           }
          ],
          "max": "1.0",
          "min": "0.0192387851292761",
          "nan_count": 0,
          "unique_count": 5
         }
        },
        {
         "dtype": "float64",
         "name": "LAND_AREA",
         "stats": {
          "histogram": [
           {
            "bin_end": 0.1133325273607517,
            "bin_start": 0.014813919289724104,
            "count": 4
           },
           {
            "bin_end": 0.2118511354317793,
            "bin_start": 0.1133325273607517,
            "count": 0
           },
           {
            "bin_end": 0.3103697435028069,
            "bin_start": 0.2118511354317793,
            "count": 0
           },
           {
            "bin_end": 0.40888835157383446,
            "bin_start": 0.3103697435028069,
            "count": 0
           },
           {
            "bin_end": 0.507406959644862,
            "bin_start": 0.40888835157383446,
            "count": 0
           },
           {
            "bin_end": 0.6059255677158897,
            "bin_start": 0.507406959644862,
            "count": 0
           },
           {
            "bin_end": 0.7044441757869172,
            "bin_start": 0.6059255677158897,
            "count": 0
           },
           {
            "bin_end": 0.8029627838579448,
            "bin_start": 0.7044441757869172,
            "count": 0
           },
           {
            "bin_end": 0.9014813919289725,
            "bin_start": 0.8029627838579448,
            "count": 0
           },
           {
            "bin_end": 1,
            "bin_start": 0.9014813919289725,
            "count": 1
           }
          ],
          "max": "1.0",
          "min": "0.014813919289724104",
          "nan_count": 0,
          "unique_count": 5
         }
        },
        {
         "dtype": "float64",
         "name": "BUILD_YEAR",
         "stats": {
          "histogram": [
           {
            "bin_end": -0.008336010524727005,
            "bin_start": -0.011518269717171847,
            "count": 1
           },
           {
            "bin_end": -0.0051537513322821625,
            "bin_start": -0.008336010524727005,
            "count": 0
           },
           {
            "bin_end": -0.0019714921398373206,
            "bin_start": -0.0051537513322821625,
            "count": 0
           },
           {
            "bin_end": 0.0012107670526075223,
            "bin_start": -0.0019714921398373206,
            "count": 0
           },
           {
            "bin_end": 0.004393026245052365,
            "bin_start": 0.0012107670526075223,
            "count": 2
           },
           {
            "bin_end": 0.007575285437497206,
            "bin_start": 0.004393026245052365,
            "count": 0
           },
           {
            "bin_end": 0.01075754462994205,
            "bin_start": 0.007575285437497206,
            "count": 1
           },
           {
            "bin_end": 0.013939803822386892,
            "bin_start": 0.01075754462994205,
            "count": 0
           },
           {
            "bin_end": 0.017122063014831733,
            "bin_start": 0.013939803822386892,
            "count": 0
           },
           {
            "bin_end": 0.020304322207276577,
            "bin_start": 0.017122063014831733,
            "count": 1
           }
          ],
          "max": "0.020304322207276577",
          "min": "-0.011518269717171847",
          "nan_count": 0,
          "unique_count": 5
         }
        },
        {
         "dtype": "float64",
         "name": "FLOOR_AREA",
         "stats": {
          "histogram": [
           {
            "bin_end": 0.07959914158204379,
            "bin_start": 0.026593117751823443,
            "count": 1
           },
           {
            "bin_end": 0.13260516541226414,
            "bin_start": 0.07959914158204379,
            "count": 0
           },
           {
            "bin_end": 0.1856111892424845,
            "bin_start": 0.13260516541226414,
            "count": 0
           },
           {
            "bin_end": 0.23861721307270484,
            "bin_start": 0.1856111892424845,
            "count": 1
           },
           {
            "bin_end": 0.2916232369029252,
            "bin_start": 0.23861721307270484,
            "count": 0
           },
           {
            "bin_end": 0.34462926073314554,
            "bin_start": 0.2916232369029252,
            "count": 0
           },
           {
            "bin_end": 0.3976352845633659,
            "bin_start": 0.34462926073314554,
            "count": 0
           },
           {
            "bin_end": 0.45064130839358624,
            "bin_start": 0.3976352845633659,
            "count": 0
           },
           {
            "bin_end": 0.5036473322238066,
            "bin_start": 0.45064130839358624,
            "count": 0
           },
           {
            "bin_end": 0.556653356054027,
            "bin_start": 0.5036473322238066,
            "count": 3
           }
          ],
          "max": "0.556653356054027",
          "min": "0.026593117751823443",
          "nan_count": 0,
          "unique_count": 5
         }
        },
        {
         "dtype": "float64",
         "name": "CBD_DIST",
         "stats": {
          "histogram": [
           {
            "bin_end": -0.334559391873555,
            "bin_start": -0.39069296678662807,
            "count": 1
           },
           {
            "bin_end": -0.27842581696048196,
            "bin_start": -0.334559391873555,
            "count": 0
           },
           {
            "bin_end": -0.22229224204740888,
            "bin_start": -0.27842581696048196,
            "count": 0
           },
           {
            "bin_end": -0.1661586671343358,
            "bin_start": -0.22229224204740888,
            "count": 0
           },
           {
            "bin_end": -0.11002509222126272,
            "bin_start": -0.1661586671343358,
            "count": 0
           },
           {
            "bin_end": -0.053891517308189696,
            "bin_start": -0.11002509222126272,
            "count": 0
           },
           {
            "bin_end": 0.002242057604883385,
            "bin_start": -0.053891517308189696,
            "count": 0
           },
           {
            "bin_end": 0.058375632517956466,
            "bin_start": 0.002242057604883385,
            "count": 2
           },
           {
            "bin_end": 0.11450920743102949,
            "bin_start": 0.058375632517956466,
            "count": 1
           },
           {
            "bin_end": 0.17064278234410257,
            "bin_start": 0.11450920743102949,
            "count": 1
           }
          ],
          "max": "0.17064278234410257",
          "min": "-0.39069296678662807",
          "nan_count": 0,
          "unique_count": 5
         }
        },
        {
         "dtype": "float64",
         "name": "NEAREST_SCH_RANK",
         "stats": {
          "histogram": [
           {
            "bin_end": -0.33235804488025494,
            "bin_start": -0.3730950397384466,
            "count": 1
           },
           {
            "bin_end": -0.29162105002206323,
            "bin_start": -0.33235804488025494,
            "count": 0
           },
           {
            "bin_end": -0.2508840551638716,
            "bin_start": -0.29162105002206323,
            "count": 0
           },
           {
            "bin_end": -0.2101470603056799,
            "bin_start": -0.2508840551638716,
            "count": 0
           },
           {
            "bin_end": -0.1694100654474882,
            "bin_start": -0.2101470603056799,
            "count": 0
           },
           {
            "bin_end": -0.12867307058929656,
            "bin_start": -0.1694100654474882,
            "count": 0
           },
           {
            "bin_end": -0.08793607573110485,
            "bin_start": -0.12867307058929656,
            "count": 0
           },
           {
            "bin_end": -0.04719908087291319,
            "bin_start": -0.08793607573110485,
            "count": 1
           },
           {
            "bin_end": -0.006462086014721535,
            "bin_start": -0.04719908087291319,
            "count": 0
           },
           {
            "bin_end": 0.0342749088434702,
            "bin_start": -0.006462086014721535,
            "count": 3
           }
          ],
          "max": "0.0342749088434702",
          "min": "-0.3730950397384466",
          "nan_count": 0,
          "unique_count": 5
         }
        },
        {
         "dtype": "float64",
         "name": "NEAREST_STN_DIST",
         "stats": {
          "histogram": [
           {
            "bin_end": -0.09968894952566144,
            "bin_start": -0.1257711416108788,
            "count": 1
           },
           {
            "bin_end": -0.07360675744044409,
            "bin_start": -0.09968894952566144,
            "count": 0
           },
           {
            "bin_end": -0.047524565355226756,
            "bin_start": -0.07360675744044409,
            "count": 0
           },
           {
            "bin_end": -0.021442373270009404,
            "bin_start": -0.047524565355226756,
            "count": 0
           },
           {
            "bin_end": 0.004639818815207947,
            "bin_start": -0.021442373270009404,
            "count": 0
           },
           {
            "bin_end": 0.030722010900425284,
            "bin_start": 0.004639818815207947,
            "count": 0
           },
           {
            "bin_end": 0.05680420298564265,
            "bin_start": 0.030722010900425284,
            "count": 0
           },
           {
            "bin_end": 0.08288639507085999,
            "bin_start": 0.05680420298564265,
            "count": 2
           },
           {
            "bin_end": 0.10896858715607732,
            "bin_start": 0.08288639507085999,
            "count": 1
           },
           {
            "bin_end": 0.1350507792412947,
            "bin_start": 0.10896858715607732,
            "count": 1
           }
          ],
          "max": "0.1350507792412947",
          "min": "-0.1257711416108788",
          "nan_count": 0,
          "unique_count": 5
         }
        },
        {
         "dtype": "float64",
         "name": "NEAREST_SCH_DIST",
         "stats": {
          "histogram": [
           {
            "bin_end": -0.00982328003265483,
            "bin_start": -0.023294640411712093,
            "count": 1
           },
           {
            "bin_end": 0.0036480803464024325,
            "bin_start": -0.00982328003265483,
            "count": 0
           },
           {
            "bin_end": 0.0171194407254597,
            "bin_start": 0.0036480803464024325,
            "count": 0
           },
           {
            "bin_end": 0.03059080110451696,
            "bin_start": 0.0171194407254597,
            "count": 0
           },
           {
            "bin_end": 0.04406216148357422,
            "bin_start": 0.03059080110451696,
            "count": 0
           },
           {
            "bin_end": 0.05753352186263149,
            "bin_start": 0.04406216148357422,
            "count": 0
           },
           {
            "bin_end": 0.07100488224168874,
            "bin_start": 0.05753352186263149,
            "count": 2
           },
           {
            "bin_end": 0.08447624262074602,
            "bin_start": 0.07100488224168874,
            "count": 1
           },
           {
            "bin_end": 0.09794760299980326,
            "bin_start": 0.08447624262074602,
            "count": 0
           },
           {
            "bin_end": 0.11141896337886054,
            "bin_start": 0.09794760299980326,
            "count": 1
           }
          ],
          "max": "0.11141896337886054",
          "min": "-0.023294640411712093",
          "nan_count": 0,
          "unique_count": 5
         }
        },
        {
         "dtype": "float64",
         "name": "station_num",
         "stats": {
          "histogram": [
           {
            "bin_end": -0.1739614151567184,
            "bin_start": -0.20257422090866015,
            "count": 1
           },
           {
            "bin_end": -0.14534860940477665,
            "bin_start": -0.1739614151567184,
            "count": 1
           },
           {
            "bin_end": -0.1167358036528349,
            "bin_start": -0.14534860940477665,
            "count": 0
           },
           {
            "bin_end": -0.08812299790089315,
            "bin_start": -0.1167358036528349,
            "count": 1
           },
           {
            "bin_end": -0.059510192148951396,
            "bin_start": -0.08812299790089315,
            "count": 1
           },
           {
            "bin_end": -0.030897386397009646,
            "bin_start": -0.059510192148951396,
            "count": 0
           },
           {
            "bin_end": -0.0022845806450678963,
            "bin_start": -0.030897386397009646,
            "count": 0
           },
           {
            "bin_end": 0.026328225106873854,
            "bin_start": -0.0022845806450678963,
            "count": 0
           },
           {
            "bin_end": 0.054941030858815604,
            "bin_start": 0.026328225106873854,
            "count": 0
           },
           {
            "bin_end": 0.08355383661075738,
            "bin_start": 0.054941030858815604,
            "count": 1
           }
          ],
          "max": "0.08355383661075738",
          "min": "-0.20257422090866015",
          "nan_count": 0,
          "unique_count": 5
         }
        },
        {
         "dtype": "float64",
         "name": "NEAREST_CEM_DIST",
         "stats": {
          "histogram": [
           {
            "bin_end": -0.25773792851863064,
            "bin_start": -0.3012465173341748,
            "count": 1
           },
           {
            "bin_end": -0.21422933970308655,
            "bin_start": -0.25773792851863064,
            "count": 0
           },
           {
            "bin_end": -0.17072075088754243,
            "bin_start": -0.21422933970308655,
            "count": 0
           },
           {
            "bin_end": -0.1272121620719983,
            "bin_start": -0.17072075088754243,
            "count": 0
           },
           {
            "bin_end": -0.0837035732564542,
            "bin_start": -0.1272121620719983,
            "count": 0
           },
           {
            "bin_end": -0.040194984440910075,
            "bin_start": -0.0837035732564542,
            "count": 0
           },
           {
            "bin_end": 0.0033136043746340715,
            "bin_start": -0.040194984440910075,
            "count": 0
           },
           {
            "bin_end": 0.04682219319017816,
            "bin_start": 0.0033136043746340715,
            "count": 0
           },
           {
            "bin_end": 0.09033078200572225,
            "bin_start": 0.04682219319017816,
            "count": 3
           },
           {
            "bin_end": 0.1338393708212664,
            "bin_start": 0.09033078200572225,
            "count": 1
           }
          ],
          "max": "0.1338393708212664",
          "min": "-0.3012465173341748",
          "nan_count": 0,
          "unique_count": 5
         }
        },
        {
         "dtype": "object",
         "name": "_deepnote_index_column"
        }
       ],
       "row_count": 5,
       "rows": [
        {
         "BATHROOMS": 0.32823774722590965,
         "BEDROOMS": 0.20030228521925553,
         "BUILD_YEAR": 0.020304322207276577,
         "CBD_DIST": -0.39069296678662807,
         "FLOOR_AREA": 0.556653356054027,
         "GARAGE": 0.10904975985981288,
         "LAND_AREA": 0.019872085716942215,
         "NEAREST_CEM_DIST": -0.3012465173341748,
         "NEAREST_SCH_DIST": -0.023294640411712093,
         "NEAREST_SCH_RANK": -0.3730950397384466,
         "NEAREST_STN_DIST": -0.1257711416108788,
         "PRICE": 1,
         "_deepnote_index_column": "PRICE",
         "station_num": 0.08355383661075738
        },
        {
         "BATHROOMS": 0.5501768664141341,
         "BEDROOMS": 1,
         "BUILD_YEAR": 0.004391431039949234,
         "CBD_DIST": 0.17064278234410257,
         "FLOOR_AREA": 0.5390486447366528,
         "GARAGE": 0.20740012898179222,
         "LAND_AREA": 0.019449715350730725,
         "NEAREST_CEM_DIST": 0.1338393708212664,
         "NEAREST_SCH_DIST": 0.07996373829091707,
         "NEAREST_SCH_RANK": 0.0342749088434702,
         "NEAREST_STN_DIST": 0.1350507792412947,
         "PRICE": 0.20030228521925553,
         "_deepnote_index_column": "BEDROOMS",
         "station_num": -0.20257422090866015
        },
        {
         "BATHROOMS": 1,
         "BEDROOMS": 0.5501768664141341,
         "BUILD_YEAR": 0.008041432013294304,
         "CBD_DIST": 0.08392220631662921,
         "FLOOR_AREA": 0.5524250389671255,
         "GARAGE": 0.23956443811499098,
         "LAND_AREA": 0.014813919289724104,
         "NEAREST_CEM_DIST": 0.08348186987726706,
         "NEAREST_SCH_DIST": 0.06357598198711564,
         "NEAREST_SCH_RANK": -0.05724075359999332,
         "NEAREST_STN_DIST": 0.07983113098865983,
         "PRICE": 0.32823774722590965,
         "_deepnote_index_column": "BATHROOMS",
         "station_num": -0.16701954884121775
        },
        {
         "BATHROOMS": 0.23956443811499098,
         "BEDROOMS": 0.20740012898179222,
         "BUILD_YEAR": -0.011518269717171847,
         "CBD_DIST": 0.027684985670925272,
         "FLOOR_AREA": 0.18806242718866167,
         "GARAGE": 1,
         "LAND_AREA": 0.0192387851292761,
         "NEAREST_CEM_DIST": 0.0518211562371929,
         "NEAREST_SCH_DIST": 0.06735801079623503,
         "NEAREST_SCH_RANK": 0.020362010554673585,
         "NEAREST_STN_DIST": 0.07961789358404735,
         "PRICE": 0.10904975985981288,
         "_deepnote_index_column": "GARAGE",
         "station_num": -0.08909882255874936
        },
        {
         "BATHROOMS": 0.014813919289724104,
         "BEDROOMS": 0.019449715350730725,
         "BUILD_YEAR": 0.0020271777740263,
         "CBD_DIST": 0.04181687265779037,
         "FLOOR_AREA": 0.026593117751823443,
         "GARAGE": 0.0192387851292761,
         "LAND_AREA": 1,
         "NEAREST_CEM_DIST": 0.05968456199876386,
         "NEAREST_SCH_DIST": 0.11141896337886054,
         "NEAREST_SCH_RANK": 0.003300168360061728,
         "NEAREST_STN_DIST": 0.10215054210513924,
         "PRICE": 0.019872085716942215,
         "_deepnote_index_column": "LAND_AREA",
         "station_num": -0.06497035925235271
        }
       ]
      },
      "text/html": [
       "<div>\n",
       "<style scoped>\n",
       "    .dataframe tbody tr th:only-of-type {\n",
       "        vertical-align: middle;\n",
       "    }\n",
       "\n",
       "    .dataframe tbody tr th {\n",
       "        vertical-align: top;\n",
       "    }\n",
       "\n",
       "    .dataframe thead th {\n",
       "        text-align: right;\n",
       "    }\n",
       "</style>\n",
       "<table border=\"1\" class=\"dataframe\">\n",
       "  <thead>\n",
       "    <tr style=\"text-align: right;\">\n",
       "      <th></th>\n",
       "      <th>PRICE</th>\n",
       "      <th>BEDROOMS</th>\n",
       "      <th>BATHROOMS</th>\n",
       "      <th>GARAGE</th>\n",
       "      <th>LAND_AREA</th>\n",
       "      <th>BUILD_YEAR</th>\n",
       "      <th>FLOOR_AREA</th>\n",
       "      <th>CBD_DIST</th>\n",
       "      <th>NEAREST_SCH_RANK</th>\n",
       "      <th>NEAREST_STN_DIST</th>\n",
       "      <th>NEAREST_SCH_DIST</th>\n",
       "      <th>station_num</th>\n",
       "      <th>NEAREST_CEM_DIST</th>\n",
       "    </tr>\n",
       "  </thead>\n",
       "  <tbody>\n",
       "    <tr>\n",
       "      <th>PRICE</th>\n",
       "      <td>1.000000</td>\n",
       "      <td>0.200302</td>\n",
       "      <td>0.328238</td>\n",
       "      <td>0.109050</td>\n",
       "      <td>0.019872</td>\n",
       "      <td>0.020304</td>\n",
       "      <td>0.556653</td>\n",
       "      <td>-0.390693</td>\n",
       "      <td>-0.373095</td>\n",
       "      <td>-0.125771</td>\n",
       "      <td>-0.023295</td>\n",
       "      <td>0.083554</td>\n",
       "      <td>-0.301247</td>\n",
       "    </tr>\n",
       "    <tr>\n",
       "      <th>BEDROOMS</th>\n",
       "      <td>0.200302</td>\n",
       "      <td>1.000000</td>\n",
       "      <td>0.550177</td>\n",
       "      <td>0.207400</td>\n",
       "      <td>0.019450</td>\n",
       "      <td>0.004391</td>\n",
       "      <td>0.539049</td>\n",
       "      <td>0.170643</td>\n",
       "      <td>0.034275</td>\n",
       "      <td>0.135051</td>\n",
       "      <td>0.079964</td>\n",
       "      <td>-0.202574</td>\n",
       "      <td>0.133839</td>\n",
       "    </tr>\n",
       "    <tr>\n",
       "      <th>BATHROOMS</th>\n",
       "      <td>0.328238</td>\n",
       "      <td>0.550177</td>\n",
       "      <td>1.000000</td>\n",
       "      <td>0.239564</td>\n",
       "      <td>0.014814</td>\n",
       "      <td>0.008041</td>\n",
       "      <td>0.552425</td>\n",
       "      <td>0.083922</td>\n",
       "      <td>-0.057241</td>\n",
       "      <td>0.079831</td>\n",
       "      <td>0.063576</td>\n",
       "      <td>-0.167020</td>\n",
       "      <td>0.083482</td>\n",
       "    </tr>\n",
       "    <tr>\n",
       "      <th>GARAGE</th>\n",
       "      <td>0.109050</td>\n",
       "      <td>0.207400</td>\n",
       "      <td>0.239564</td>\n",
       "      <td>1.000000</td>\n",
       "      <td>0.019239</td>\n",
       "      <td>-0.011518</td>\n",
       "      <td>0.188062</td>\n",
       "      <td>0.027685</td>\n",
       "      <td>0.020362</td>\n",
       "      <td>0.079618</td>\n",
       "      <td>0.067358</td>\n",
       "      <td>-0.089099</td>\n",
       "      <td>0.051821</td>\n",
       "    </tr>\n",
       "    <tr>\n",
       "      <th>LAND_AREA</th>\n",
       "      <td>0.019872</td>\n",
       "      <td>0.019450</td>\n",
       "      <td>0.014814</td>\n",
       "      <td>0.019239</td>\n",
       "      <td>1.000000</td>\n",
       "      <td>0.002027</td>\n",
       "      <td>0.026593</td>\n",
       "      <td>0.041817</td>\n",
       "      <td>0.003300</td>\n",
       "      <td>0.102151</td>\n",
       "      <td>0.111419</td>\n",
       "      <td>-0.064970</td>\n",
       "      <td>0.059685</td>\n",
       "    </tr>\n",
       "  </tbody>\n",
       "</table>\n",
       "</div>"
      ],
      "text/plain": [
       "              PRICE  BEDROOMS  BATHROOMS    GARAGE  LAND_AREA  BUILD_YEAR  \\\n",
       "PRICE      1.000000  0.200302   0.328238  0.109050   0.019872    0.020304   \n",
       "BEDROOMS   0.200302  1.000000   0.550177  0.207400   0.019450    0.004391   \n",
       "BATHROOMS  0.328238  0.550177   1.000000  0.239564   0.014814    0.008041   \n",
       "GARAGE     0.109050  0.207400   0.239564  1.000000   0.019239   -0.011518   \n",
       "LAND_AREA  0.019872  0.019450   0.014814  0.019239   1.000000    0.002027   \n",
       "\n",
       "           FLOOR_AREA  CBD_DIST  NEAREST_SCH_RANK  NEAREST_STN_DIST  \\\n",
       "PRICE        0.556653 -0.390693         -0.373095         -0.125771   \n",
       "BEDROOMS     0.539049  0.170643          0.034275          0.135051   \n",
       "BATHROOMS    0.552425  0.083922         -0.057241          0.079831   \n",
       "GARAGE       0.188062  0.027685          0.020362          0.079618   \n",
       "LAND_AREA    0.026593  0.041817          0.003300          0.102151   \n",
       "\n",
       "           NEAREST_SCH_DIST  station_num  NEAREST_CEM_DIST  \n",
       "PRICE             -0.023295     0.083554         -0.301247  \n",
       "BEDROOMS           0.079964    -0.202574          0.133839  \n",
       "BATHROOMS          0.063576    -0.167020          0.083482  \n",
       "GARAGE             0.067358    -0.089099          0.051821  \n",
       "LAND_AREA          0.111419    -0.064970          0.059685  "
      ]
     },
     "execution_count": 5,
     "metadata": {},
     "output_type": "execute_result"
    }
   ],
   "source": [
    "df_coor=df.corr()\n",
    "df_coor.head()"
   ]
  },
  {
   "cell_type": "code",
   "execution_count": null,
   "metadata": {
    "cell_id": "994bdbf8-74ab-4585-b350-dc294aa4ae68",
    "deepnote_cell_height": 762,
    "deepnote_cell_type": "code",
    "deepnote_output_heights": [
     611
    ],
    "deepnote_to_be_reexecuted": false,
    "execution_millis": 3628,
    "execution_start": 1646968620830,
    "source_hash": "2b2eb0b6",
    "tags": []
   },
   "outputs": [
    {
     "data": {
      "image/png": "[encoded data removed]",
      "text/plain": [
       "<Figure size 720x720 with 2 Axes>"
      ]
     },
     "metadata": {
      "image/png": {
       "height": 638,
       "width": 676
      }
     },
     "output_type": "display_data"
    }
   ],
   "source": [
    "plt.subplots(figsize=(10, 10))\n",
    "p1 = sns.heatmap(df.corr(), annot=True, vmax=1, square=True, cmap=\"YlGnBu\",annot_kws={\"size\":8})\n",
    "s1 = p1.get_figure()\n",
    "s1.savefig('HeatMap.jpg',dpi=300,bbox_inches='tight')"
   ]
  },
  {
   "cell_type": "code",
   "execution_count": null,
   "metadata": {
    "cell_id": "9709a232-6324-4ebd-b42a-77363b8e92ed",
    "deepnote_cell_height": 118.1875,
    "deepnote_cell_type": "code",
    "deepnote_output_heights": [
     21.1875
    ],
    "deepnote_to_be_reexecuted": false,
    "execution_millis": 17,
    "execution_start": 1646968624463,
    "source_hash": "2b042a19",
    "tags": []
   },
   "outputs": [
    {
     "data": {
      "text/plain": [
       "<Figure size 432x288 with 0 Axes>"
      ]
     },
     "metadata": {},
     "output_type": "display_data"
    }
   ],
   "source": [
    "plt.savefig('heatmap.jpg')"
   ]
  },
  {
   "cell_type": "code",
   "execution_count": null,
   "metadata": {
    "cell_id": "58d1a264-e15e-497f-a771-b3cdb25f512d",
    "deepnote_cell_height": 81,
    "deepnote_cell_type": "code",
    "deepnote_to_be_reexecuted": false,
    "execution_millis": 6,
    "execution_start": 1646968624485,
    "source_hash": "9edaab1e",
    "tags": []
   },
   "outputs": [],
   "source": [
    "df1 = df.drop(columns=[\"LAND_AREA\",\"NEAREST_SCH_DIST\",\"GARAGE\",\"BUILD_YEAR\",\"PRICE\",\"station_num\"])"
   ]
  },
  {
   "cell_type": "code",
   "execution_count": null,
   "metadata": {
    "cell_id": "a355eae8-1d16-47d5-a692-24b66663e807",
    "deepnote_cell_height": 496.015625,
    "deepnote_cell_type": "code",
    "deepnote_to_be_reexecuted": false,
    "execution_millis": 9966,
    "execution_start": 1646968624509,
    "source_hash": "d5a2ae9d",
    "tags": []
   },
   "outputs": [
    {
     "name": "stdout",
     "output_type": "stream",
     "text": [
      "Collecting statsmodels==0.13.2\n",
      "  Downloading statsmodels-0.13.2-cp37-cp37m-manylinux_2_17_x86_64.manylinux2014_x86_64.whl (9.8 MB)\n",
      "\u001b[K     |████████████████████████████████| 9.8 MB 31.1 MB/s \n",
      "\u001b[?25hRequirement already satisfied: scipy>=1.3 in /shared-libs/python3.7/py/lib/python3.7/site-packages (from statsmodels==0.13.2) (1.7.3)\n",
      "Collecting patsy>=0.5.2\n",
      "  Downloading patsy-0.5.2-py2.py3-none-any.whl (233 kB)\n",
      "\u001b[K     |████████████████████████████████| 233 kB 47.3 MB/s \n",
      "\u001b[?25hRequirement already satisfied: pandas>=0.25 in /shared-libs/python3.7/py/lib/python3.7/site-packages (from statsmodels==0.13.2) (1.3.5)\n",
      "Requirement already satisfied: numpy>=1.17 in /shared-libs/python3.7/py-core/lib/python3.7/site-packages (from statsmodels==0.13.2) (1.21.5)\n",
      "Requirement already satisfied: packaging>=21.3 in /shared-libs/python3.7/py-core/lib/python3.7/site-packages (from statsmodels==0.13.2) (21.3)\n",
      "Requirement already satisfied: six in /shared-libs/python3.7/py-core/lib/python3.7/site-packages (from patsy>=0.5.2->statsmodels==0.13.2) (1.16.0)\n",
      "Requirement already satisfied: python-dateutil>=2.7.3 in /shared-libs/python3.7/py-core/lib/python3.7/site-packages (from pandas>=0.25->statsmodels==0.13.2) (2.8.2)\n",
      "Requirement already satisfied: pytz>=2017.3 in /shared-libs/python3.7/py-core/lib/python3.7/site-packages (from pandas>=0.25->statsmodels==0.13.2) (2021.3)\n",
      "Requirement already satisfied: pyparsing!=3.0.5,>=2.0.2 in /shared-libs/python3.7/py-core/lib/python3.7/site-packages (from packaging>=21.3->statsmodels==0.13.2) (3.0.7)\n",
      "Installing collected packages: patsy, statsmodels\n",
      "Successfully installed patsy-0.5.2 statsmodels-0.13.2\n",
      "\u001b[33mWARNING: You are using pip version 20.1.1; however, version 22.0.4 is available.\n",
      "You should consider upgrading via the '/root/venv/bin/python -m pip install --upgrade pip' command.\u001b[0m\n"
     ]
    }
   ],
   "source": [
    "!pip install statsmodels==0.13.2"
   ]
  },
  {
   "cell_type": "code",
   "execution_count": null,
   "metadata": {
    "cell_id": "f827f011-00a2-446b-9c78-8a755b93d34b",
    "deepnote_cell_height": 301.859375,
    "deepnote_cell_type": "code",
    "deepnote_to_be_reexecuted": false,
    "execution_millis": 97,
    "execution_start": 1646968634486,
    "source_hash": "fdb6f19b",
    "tags": []
   },
   "outputs": [
    {
     "name": "stdout",
     "output_type": "stream",
     "text": [
      "VIF of BEDROOMS: 27.6286707960787\n",
      "VIF of BATHROOMS: 20.145791525274362\n",
      "VIF of FLOOR_AREA: 13.862574216626719\n",
      "VIF of CBD_DIST: 5.693585657283655\n",
      "VIF of NEAREST_SCH_RANK: 3.7521915687098106\n",
      "VIF of NEAREST_STN_DIST: 2.887266305855234\n",
      "VIF of NEAREST_CEM_DIST: 5.103997586928939\n"
     ]
    }
   ],
   "source": [
    "# Compute VIF\n",
    "from statsmodels.stats.outliers_influence import variance_inflation_factor\n",
    "vif = [variance_inflation_factor(df1.to_numpy(), i) for i in range(df1.to_numpy().shape[1])]\n",
    "for i in range(len(df1.columns)):\n",
    "    print(\"VIF of \" + df1.columns[i] + \": \" + str(vif[i]))"
   ]
  },
  {
   "cell_type": "code",
   "execution_count": null,
   "metadata": {
    "cell_id": "54ca3d7a-7da5-4ee1-8363-acdd7dde4cf6",
    "deepnote_cell_height": 81,
    "deepnote_cell_type": "code",
    "deepnote_to_be_reexecuted": false,
    "execution_millis": 13,
    "execution_start": 1646968634596,
    "source_hash": "78fa8812",
    "tags": []
   },
   "outputs": [
    {
     "name": "stderr",
     "output_type": "stream",
     "text": [
      "/shared-libs/python3.7/py-core/lib/python3.7/site-packages/ipykernel_launcher.py:1: FutureWarning: In a future version of pandas all arguments of DataFrame.drop except for the argument 'labels' will be keyword-only\n",
      "  \"\"\"Entry point for launching an IPython kernel.\n"
     ]
    }
   ],
   "source": [
    "df1 = df1.drop('BEDROOMS',1)"
   ]
  },
  {
   "cell_type": "code",
   "execution_count": null,
   "metadata": {
    "cell_id": "5181edb3-29b0-4f37-9f8d-a98e6540a63f",
    "deepnote_cell_height": 246.171875,
    "deepnote_cell_type": "code",
    "deepnote_to_be_reexecuted": false,
    "execution_millis": 71,
    "execution_start": 1646968634615,
    "source_hash": "6816df52",
    "tags": []
   },
   "outputs": [
    {
     "name": "stdout",
     "output_type": "stream",
     "text": [
      "VIF of BATHROOMS: 13.474573030508905\n",
      "VIF of FLOOR_AREA: 11.292102294519639\n",
      "VIF of CBD_DIST: 5.487650181281182\n",
      "VIF of NEAREST_SCH_RANK: 3.3579396389850755\n",
      "VIF of NEAREST_STN_DIST: 2.8862231557954168\n",
      "VIF of NEAREST_CEM_DIST: 5.093892049230637\n"
     ]
    }
   ],
   "source": [
    "vif = [variance_inflation_factor(df1.to_numpy(), i) for i in range(df1.to_numpy().shape[1])]\n",
    "for i in range(len(df1.columns)):\n",
    "    print(\"VIF of \" + df1.columns[i] + \": \" + str(vif[i]))"
   ]
  },
  {
   "cell_type": "code",
   "execution_count": null,
   "metadata": {
    "cell_id": "9eebb1d2-beba-4c01-88c7-c6abc4c601f8",
    "deepnote_cell_height": 697.9375,
    "deepnote_cell_type": "code",
    "deepnote_output_heights": [
     564.9375
    ],
    "deepnote_to_be_reexecuted": false,
    "execution_millis": 2169,
    "execution_start": 1646968634694,
    "source_hash": "1bf4b714",
    "tags": []
   },
   "outputs": [
    {
     "data": {
      "image/png": "[encoded data removed]",
      "text/plain": [
       "<Figure size 1080x720 with 9 Axes>"
      ]
     },
     "metadata": {
      "image/png": {
       "height": 593,
       "width": 888
      }
     },
     "output_type": "display_data"
    }
   ],
   "source": [
    "df2 = pd.DataFrame(df,columns = [\"PRICE\",\"BATHROOMS\",\"FLOOR_AREA\",\"CBD_DIST\",\"NEAREST_SCH_RANK\",\"NEAREST_STN_DIST\",\"NEAREST_CEM_DIST\"])\n",
    "df2.hist(figsize=(15, 10), color = sns.color_palette(\"deep\", 1), layout=(3,3))\n",
    "plt.show()"
   ]
  },
  {
   "cell_type": "markdown",
   "metadata": {
    "created_in_deepnote_cell": true,
    "deepnote_cell_type": "markdown",
    "tags": []
   },
   "source": [
    "<a style='text-decoration:none;line-height:16px;display:flex;color:#5B5B62;padding:10px;justify-content:end;' href='https://deepnote.com?utm_source=created-in-deepnote-cell&projectId=7622d86f-bc43-4970-be08-1eec18806f26' target=\"_blank\">\n",
    "<img alt='Created in deepnote.com' style='display:inline;max-height:16px;margin:0px;margin-right:7.5px;' src='data:image/svg+xml;base64,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' > </img>\n",
    "Created in <span style='font-weight:600;margin-left:4px;'>Deepnote</span></a>"
   ]
  }
 ],
 "metadata": {
  "deepnote": {
   "is_reactive": false
  },
  "deepnote_execution_queue": [],
  "deepnote_notebook_id": "1a838999-3044-4327-9203-50aafc4e442d",
  "kernelspec": {
   "display_name": "Python 3 (ipykernel)",
   "language": "python",
   "name": "python3"
  },
  "language_info": {
   "codemirror_mode": {
    "name": "ipython",
    "version": 3
   },
   "file_extension": ".py",
   "mimetype": "text/x-python",
   "name": "python",
   "nbconvert_exporter": "python",
   "pygments_lexer": "ipython3",
   "version": "3.7.4"
  }
 },
 "nbformat": 4,
 "nbformat_minor": 2
}
